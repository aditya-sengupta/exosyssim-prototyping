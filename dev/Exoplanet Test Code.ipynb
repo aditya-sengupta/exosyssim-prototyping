{
 "cells": [
  {
   "cell_type": "code",
   "execution_count": null,
   "metadata": {},
   "outputs": [],
   "source": [
    "import numpy as np\n",
    "from matplotlib import pyplot as plt\n",
    "%matplotlib inline\n",
    "import pandas as pd\n",
    "import emcee\n",
    "from scipy import optimize\n",
    "import corner\n",
    "from utils import dfm\n",
    "import astroabc\n",
    "\n",
    "%load_ext autoreload\n",
    "%autoreload 2"
   ]
  },
  {
   "cell_type": "code",
   "execution_count": 7,
   "metadata": {},
   "outputs": [
    {
     "name": "stdout",
     "output_type": "stream",
     "text": [
      "69.3 ms ± 19.3 ms per loop (mean ± std. dev. of 7 runs, 10 loops each)\n",
      "626 ms ± 30 ms per loop (mean ± std. dev. of 7 runs, 1 loop each)\n"
     ]
    }
   ],
   "source": [
    "from multiprocessing import Pool\n",
    "p = Pool(2)\n",
    "def f(x):\n",
    "    return x * x\n",
    "\n",
    "%timeit map(f, list(range(int(1e6))))\n",
    "%timeit p.map(f, list(range(int(1e6))))"
   ]
  },
  {
   "cell_type": "code",
   "execution_count": null,
   "metadata": {},
   "outputs": [],
   "source": [
    "kois = dfm.get_kois()\n",
    "stellar = dfm.get_stellar()\n",
    "# stellar = dfm.stellar_cuts(stellar)\n",
    "kois = kois[kois[\"kepid\"].isin(stellar[\"kepid\"])]\n",
    "period_rng = (50, 300)\n",
    "rp_rng = (0.75, 2.5)\n",
    "period = np.linspace(period_rng[0], period_rng[1], 57)\n",
    "rp = np.linspace(rp_rng[0], rp_rng[1], 61)\n",
    "# kois = dfm.kois_cuts(kois, period_rng, rp_rng)"
   ]
  },
  {
   "cell_type": "code",
   "execution_count": null,
   "metadata": {},
   "outputs": [],
   "source": [
    "kois['']"
   ]
  },
  {
   "cell_type": "code",
   "execution_count": null,
   "metadata": {},
   "outputs": [],
   "source": [
    "def get_a(period, mstar, Go4pi=2945.4625385377644/(4 * np.pi ** 2)):\n",
    "    return (Go4pi * period ** 2 * mstar) ** (1./3)\n",
    "\n",
    "def get_pgeom(aor, e):\n",
    "    \"\"\"\n",
    "    The geometric transit probability.\n",
    "\n",
    "    See e.g. Kipping (2014) for the eccentricity factor\n",
    "    http://arxiv.org/abs/1408.1393\n",
    "\n",
    "    :param aor: the dimensionless semi-major axis (scaled\n",
    "                by the stellar radius)\n",
    "    :param e:   the orbital eccentricity\n",
    "\n",
    "    \"\"\"\n",
    "    return 1. / (aor * (1 - e*e)) * (aor > 1.0)"
   ]
  },
  {
   "cell_type": "code",
   "execution_count": null,
   "metadata": {},
   "outputs": [],
   "source": [
    "combined = kois.merge(stellar, on=\"kepid\")"
   ]
  },
  {
   "cell_type": "code",
   "execution_count": null,
   "metadata": {},
   "outputs": [],
   "source": [
    "mstars = stellar.mass\n",
    "aor = get_a(combined['koi_period'], combined['mass']) / combined['radius']"
   ]
  },
  {
   "cell_type": "code",
   "execution_count": null,
   "metadata": {},
   "outputs": [],
   "source": [
    "ecc = kois['koi_eccen']\n",
    "inc_rad = np.pi * kois['koi_incl'] / 180\n",
    "omega_rad = np.pi * kois['koi_longp'] / 180\n",
    "Re_Rs = 0.009168"
   ]
  },
  {
   "cell_type": "code",
   "execution_count": null,
   "metadata": {},
   "outputs": [],
   "source": [
    "pgeom = (1) / (aor * (1 - ecc ** 2)) * (aor > 1.0)"
   ]
  },
  {
   "cell_type": "code",
   "execution_count": null,
   "metadata": {},
   "outputs": [],
   "source": [
    "pgeom"
   ]
  },
  {
   "cell_type": "code",
   "execution_count": null,
   "metadata": {},
   "outputs": [],
   "source": [
    "kois['koi_longp']"
   ]
  },
  {
   "cell_type": "code",
   "execution_count": null,
   "metadata": {},
   "outputs": [],
   "source": [
    "np.cos(inc_rad)"
   ]
  },
  {
   "cell_type": "code",
   "execution_count": null,
   "metadata": {},
   "outputs": [],
   "source": []
  }
 ],
 "metadata": {
  "kernelspec": {
   "display_name": "Python 3",
   "language": "python",
   "name": "python3"
  },
  "language_info": {
   "codemirror_mode": {
    "name": "ipython",
    "version": 3
   },
   "file_extension": ".py",
   "mimetype": "text/x-python",
   "name": "python",
   "nbconvert_exporter": "python",
   "pygments_lexer": "ipython3",
   "version": "3.7.7"
  }
 },
 "nbformat": 4,
 "nbformat_minor": 2
}
