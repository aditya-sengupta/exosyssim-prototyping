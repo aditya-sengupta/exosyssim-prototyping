{
 "cells": [
  {
   "cell_type": "markdown",
   "metadata": {},
   "source": [
    "## Aim\n",
    "\n",
    "Write a general ABC sampler, to understand the technique and to apply it to exoplanet occurrence problems."
   ]
  },
  {
   "cell_type": "code",
   "execution_count": 2,
   "metadata": {},
   "outputs": [],
   "source": [
    "import numpy as np"
   ]
  },
  {
   "cell_type": "code",
   "execution_count": 46,
   "metadata": {},
   "outputs": [],
   "source": [
    "class ABCSampler:\n",
    "    def __init__(self, prior, candidate_getter):\n",
    "        '''\n",
    "        prior : function\n",
    "        Samples from the prior distribution over the parameters.\n",
    "        Takes in nothing.\n",
    "        Returns numpy.ndarray of parameters.\n",
    "\n",
    "        candidate_getter : function\n",
    "        Gets candidate samplers of the posterior distribution.\n",
    "        Takes in parameters, as returned by prior.\n",
    "        Returns function 'candidate' that samples from the candidate distribution, to be compared to true data, which\n",
    "            Takes in the number of sample points to return.\n",
    "            Returns numpy.ndarray of sample points of the desired shape.\n",
    "        '''\n",
    "        self.prior = prior\n",
    "        self.candidate_getter = candidate_getter\n",
    "        \n",
    "    def sample(self, data, statistic=np.mean, max_iters=1000, threshold=1e-1):\n",
    "        '''\n",
    "        data : numpy.ndarray\n",
    "        Data that we want to fit. \n",
    "        Arbitrary shape, but a row should match the return type of candidate.\n",
    "\n",
    "        statistic : function\n",
    "        The statistic on which to compare sampled data to true data.\n",
    "        Takes in data array/matrix matching 'data' and the return type of candidate.\n",
    "        Returns a scalar representing some measure of the data.\n",
    "\n",
    "        iters : scalar\n",
    "        The number of times to try and accept a candidate.\n",
    "\n",
    "        threshold : scalar\n",
    "        The maximum difference between the values of statistic(data) and statistic(candidate()) allowable to accept candidate.\n",
    "        '''\n",
    "        num_iters = 0\n",
    "        while True:\n",
    "            params = self.prior()\n",
    "            candidate = self.candidate_getter(params)\n",
    "            synthetic = candidate(data.shape[0])\n",
    "            distance = abs(statistic(synthetic) - statistic(data))\n",
    "            if distance <= threshold:\n",
    "                print(\"Accepted parameters: \", params)\n",
    "            num_iters += 1\n",
    "            if num_iters > max_iters:\n",
    "                return"
   ]
  },
  {
   "cell_type": "code",
   "execution_count": 47,
   "metadata": {},
   "outputs": [
    {
     "name": "stdout",
     "output_type": "stream",
     "text": [
      "Accepted parameters:  [49.56738937 12.69001288]\n",
      "Accepted parameters:  [49.84089257 12.33524337]\n",
      "Accepted parameters:  [49.8904846  11.17047454]\n",
      "Accepted parameters:  [50.16745596 11.28804709]\n",
      "Accepted parameters:  [50.50100194  8.63290075]\n",
      "Accepted parameters:  [48.97776997  8.05510468]\n",
      "Accepted parameters:  [52.0818549  14.50223798]\n",
      "Accepted parameters:  [49.05114373 12.33660459]\n"
     ]
    }
   ],
   "source": [
    "# First simple example: a Gaussian fit you can do with MLE.\n",
    "# Suppose we've sampled data from N(50, 10), but our best guess is it's N(N(40, 20), N(11, 2)).\n",
    "prior = lambda: np.array([np.random.normal(40, 20), np.random.normal(11, 2)])\n",
    "def candidate_getter(p):\n",
    "    def candidate(size):\n",
    "        return np.random.normal(*p, size)\n",
    "    return candidate\n",
    "\n",
    "gaussian_sampler = ABCSampler(prior, candidate_getter)\n",
    "gaussian_sampler.sample(np.random.normal(50, 10, (100,)))"
   ]
  },
  {
   "cell_type": "code",
   "execution_count": 49,
   "metadata": {},
   "outputs": [
    {
     "name": "stdout",
     "output_type": "stream",
     "text": [
      "Accepted parameters:  [21.76850258]\n"
     ]
    }
   ],
   "source": [
    "# Exp(22) but we estimate Exp(max(0, N(20, 2)))\n",
    "prior = lambda: np.array([max(0, np.random.normal(20, 2))])\n",
    "def candidate_getter(p):\n",
    "    def candidate(size):\n",
    "        return np.random.exponential(*p, size)\n",
    "    return candidate\n",
    "\n",
    "exp_sampler = ABCSampler(prior, candidate_getter)\n",
    "exp_sampler.sample(np.random.exponential(22, (100,)), statistic=np.median, threshold=0.01)"
   ]
  },
  {
   "cell_type": "code",
   "execution_count": null,
   "metadata": {},
   "outputs": [],
   "source": [
    "# now, getting closer to exoplanet parameter fitting: a power-law"
   ]
  },
  {
   "cell_type": "markdown",
   "metadata": {},
   "source": [
    "1. https://arxiv.org/pdf/1802.09720.pdf"
   ]
  }
 ],
 "metadata": {
  "kernelspec": {
   "display_name": "Python 3",
   "language": "python",
   "name": "python3"
  },
  "language_info": {
   "codemirror_mode": {
    "name": "ipython",
    "version": 3
   },
   "file_extension": ".py",
   "mimetype": "text/x-python",
   "name": "python",
   "nbconvert_exporter": "python",
   "pygments_lexer": "ipython3",
   "version": "3.6.9"
  }
 },
 "nbformat": 4,
 "nbformat_minor": 4
}
