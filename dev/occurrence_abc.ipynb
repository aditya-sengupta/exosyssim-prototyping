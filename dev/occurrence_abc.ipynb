{
 "cells": [
  {
   "cell_type": "markdown",
   "metadata": {},
   "source": [
    "## Aim\n",
    "\n",
    "Compute an ABC occurrence rate estimate, and compare results with ```occurrence_mcmc```."
   ]
  },
  {
   "cell_type": "code",
   "execution_count": 1,
   "metadata": {},
   "outputs": [],
   "source": [
    "#!/bin/env python  \n",
    "import numpy as np\n",
    "from matplotlib import pyplot as plt\n",
    "%matplotlib inline\n",
    "import pandas as pd\n",
    "from scipy import optimize, stats, linalg\n",
    "from utils import dfm\n",
    "from utils.abc import ABCSampler\n",
    "# import astroabc\n",
    "\n",
    "%load_ext autoreload\n",
    "%autoreload 2"
   ]
  },
  {
   "cell_type": "markdown",
   "metadata": {},
   "source": [
    "My ABC setup requires\n",
    "\n",
    "- a prior for the model parameters $\\theta$, i.e. a ```stats.continuous_rv/stats.discrete_rv``` object whose .rvs() method returns candidate parameters.\n",
    "- a sampler for $f(x \\mid \\theta)$\n",
    "- distance and statistic functions\n",
    "- data to fit\n",
    "\n",
    "I'm not 100% sure how any of these work."
   ]
  },
  {
   "cell_type": "code",
   "execution_count": 2,
   "metadata": {},
   "outputs": [],
   "source": [
    "kois = dfm.get_kois()\n",
    "stellar = dfm.get_stellar()\n",
    "kois = kois[kois[\"kepid\"].isin(stellar[\"kepid\"])]\n",
    "# kois = dfm.kois_cuts(kois) - don't do the cuts! Not enough data to work with otherwise\n",
    "\n",
    "# the only part of the cuts that is necessary is to get rid of NaN radii\n",
    "kois = kois[np.isfinite(kois[\"koi_prad\"])]"
   ]
  },
  {
   "cell_type": "code",
   "execution_count": 3,
   "metadata": {},
   "outputs": [
    {
     "name": "stdout",
     "output_type": "stream",
     "text": [
      "[192950   5222    508    153     59     21      2      2]\n"
     ]
    },
    {
     "data": {
      "text/plain": [
       "Text(0, 0.5, 'Counts')"
      ]
     },
     "execution_count": 3,
     "metadata": {},
     "output_type": "execute_result"
    },
    {
     "data": {
      "image/png": "[encoded data removed]",
      "text/plain": [
       "<Figure size 432x288 with 1 Axes>"
      ]
     },
     "metadata": {
      "needs_background": "light"
     },
     "output_type": "display_data"
    }
   ],
   "source": [
    "#starcounts = np.concatenate((np.array(pd.crosstab(index=kois['kepid'], columns=\"count\")).flatten(), np.zeros((len(stellar[~stellar[\"kepid\"].isin(kois[\"kepid\"])]),))))\n",
    "zerocounts = len(stellar[~stellar[\"kepid\"].isin(kois[\"kepid\"])])\n",
    "solarsyssizes = np.array(pd.crosstab(index=kois['kepid'], columns=\"count\")).flatten()\n",
    "bincounts = np.bincount(solarsyssizes)\n",
    "bincounts[0] = zerocounts\n",
    "print(bincounts)\n",
    "plt.hist(solarsyssizes)\n",
    "plt.xlabel(\"Planets per star\")\n",
    "plt.ylabel(\"Counts\")"
   ]
  },
  {
   "cell_type": "markdown",
   "metadata": {},
   "source": [
    "Now the dataset has sufficient complexity to fit a Poisson process."
   ]
  },
  {
   "cell_type": "code",
   "execution_count": 4,
   "metadata": {},
   "outputs": [],
   "source": [
    "assert np.all(np.isfinite(kois[\"koi_prad\"]))\n",
    "assert np.all(np.isfinite(kois[\"koi_period\"]))\n",
    "koi_radii = kois[\"koi_prad\"]\n",
    "koi_periods = kois[\"koi_period\"]"
   ]
  },
  {
   "cell_type": "code",
   "execution_count": 5,
   "metadata": {},
   "outputs": [],
   "source": [
    "lam = np.mean(solarsyssizes)\n",
    "# lam = sum([i * k for i, k in enumerate(bincounts)]) / sum(bincounts)\n",
    "planet_numbers = np.minimum(stats.poisson(lam).rvs(size=(len(stellar),)), 10)        "
   ]
  },
  {
   "cell_type": "code",
   "execution_count": 6,
   "metadata": {},
   "outputs": [
    {
     "data": {
      "text/plain": [
       "(array([6.0904e+04, 7.2332e+04, 4.2550e+04, 1.6786e+04, 4.8610e+03,\n",
       "        1.1980e+03, 2.4200e+02, 3.3000e+01, 1.0000e+01, 1.0000e+00]),\n",
       " array([0. , 0.9, 1.8, 2.7, 3.6, 4.5, 5.4, 6.3, 7.2, 8.1, 9. ]),\n",
       " <a list of 10 Patch objects>)"
      ]
     },
     "execution_count": 6,
     "metadata": {},
     "output_type": "execute_result"
    },
    {
     "data": {
      "image/png": "[encoded data removed]",
      "text/plain": [
       "<Figure size 432x288 with 1 Axes>"
      ]
     },
     "metadata": {
      "needs_background": "light"
     },
     "output_type": "display_data"
    }
   ],
   "source": [
    "plt.hist(planet_numbers)"
   ]
  },
  {
   "cell_type": "code",
   "execution_count": 7,
   "metadata": {},
   "outputs": [],
   "source": [
    "period = np.array([0.5, 1.25, 2.5, 5, 10, 20, 40, 80, 160, 320])\n",
    "rp = np.array([0.5, 0.75, 1, 1.25, 1.5, 1.75, 2, 2.5, 3, 4, 6, 8, 12, 16])\n",
    "log_p, log_r = np.log(period), np.log(rp)\n",
    "period_rng = (min(period), max(period))\n",
    "rp_rng = (min(rp), max(rp))\n",
    "\n",
    "f = np.histogram2d(koi_periods, koi_radii, bins=[period, rp])[0]\n",
    "f /= np.sum(f)"
   ]
  },
  {
   "cell_type": "code",
   "execution_count": 8,
   "metadata": {},
   "outputs": [
    {
     "data": {
      "text/plain": [
       "<matplotlib.colorbar.Colorbar at 0x125ebf690>"
      ]
     },
     "execution_count": 8,
     "metadata": {},
     "output_type": "execute_result"
    },
    {
     "data": {
      "image/png": "[encoded data removed]",
      "text/plain": [
       "<Figure size 432x288 with 2 Axes>"
      ]
     },
     "metadata": {
      "needs_background": "light"
     },
     "output_type": "display_data"
    }
   ],
   "source": [
    "plt.imshow(f) # I guess that's sorta like an H-R diagram?\n",
    "plt.colorbar()"
   ]
  },
  {
   "cell_type": "code",
   "execution_count": 9,
   "metadata": {},
   "outputs": [
    {
     "name": "stdout",
     "output_type": "stream",
     "text": [
      "Hey look I just made up a planet with period 158.379 days, radius 2.961 Earth radii, eccentricity 0.755, cos of orbital inclination 0.328.\n"
     ]
    }
   ],
   "source": [
    "bucket = np.random.choice(f.size, p=f.flatten())\n",
    "i, j = bucket // f.shape[1], bucket % f.shape[1]\n",
    "synth_p = np.exp(np.random.uniform(log_p[i], log_p[i+1]))\n",
    "synth_r = np.exp(np.random.uniform(log_r[j], log_r[j+1]))\n",
    "ecc = stats.rayleigh(0.03).rvs()\n",
    "cosincl = np.random.uniform(-1, 1)\n",
    "print(\"Hey look I just made up a planet with period {0} days, radius {1} Earth radii, eccentricity {2}, cos of orbital inclination {3}.\".format(np.round(synth_p, 3), np.round(synth_r, 3), np.round(ecc, 3), np.round(cosincl, 3)))"
   ]
  },
  {
   "cell_type": "code",
   "execution_count": 10,
   "metadata": {},
   "outputs": [],
   "source": [
    "from scipy.stats import gamma\n",
    "\n",
    "def get_duration(period, aor, e):\n",
    "    \"\"\"\n",
    "    Equation (1) from Burke et al. This estimates the transit\n",
    "    duration in the same units as the input period. There is a\n",
    "    typo in the paper (24/4 = 6 != 4).\n",
    "    \n",
    "    :param period: the period in any units of your choosing\n",
    "    :param aor:    the dimensionless semi-major axis (scaled\n",
    "                   by the stellar radius)\n",
    "    :param e:      the eccentricity of the orbit\n",
    "    \n",
    "    \"\"\"\n",
    "    return 0.25 * period * np.sqrt(1 - e**2) / aor\n",
    "\n",
    "def get_a(period, mstar, Go4pi=2945.4625385377644/(4*np.pi*np.pi)):\n",
    "    \"\"\"\n",
    "    Compute the semi-major axis of an orbit in Solar radii.\n",
    "    \n",
    "    :param period: the period in days\n",
    "    :param mstar:  the stellar mass in Solar masses\n",
    "    \n",
    "    \"\"\"\n",
    "    return (Go4pi*period*period*mstar) ** (1./3)\n",
    "\n",
    "def get_delta(k, c=1.0874, s=1.0187):\n",
    "    \"\"\"\n",
    "    Estimate the approximate expected transit depth as a function\n",
    "    of radius ratio. There might be a typo here. In the paper it\n",
    "    uses c + s*k but in the public code, it is c - s*k:\n",
    "    https://github.com/christopherburke/KeplerPORTs\n",
    "    \n",
    "    :param k: the dimensionless radius ratio between the planet and\n",
    "              the star\n",
    "    \n",
    "    \"\"\"\n",
    "    delta_max = k*k * (c + s*k)\n",
    "    return 0.84 * delta_max\n",
    "\n",
    "cdpp_cols = [k for k in stellar.keys() if k.startswith(\"rrmscdpp\")]\n",
    "cdpp_vals = np.array([k[-4:].replace(\"p\", \".\") for k in cdpp_cols], dtype=float)\n",
    "def get_mes(star, period, rp, tau, re=0.009171):\n",
    "    \"\"\"\n",
    "    Estimate the multiple event statistic value for a transit.\n",
    "    \n",
    "    :param star:   a pandas row giving the stellar properties\n",
    "    :param period: the period in days\n",
    "    :param rp:     the planet radius in Earth radii\n",
    "    :param tau:    the transit duration in hours\n",
    "    \n",
    "    \"\"\"\n",
    "    # Interpolate to the correct CDPP for the duration.\n",
    "    cdpp = np.array(star[cdpp_cols], dtype=float)\n",
    "    sigma = np.interp(tau, cdpp_vals, cdpp)\n",
    "\n",
    "    # Compute the radius ratio and estimate the S/N.\n",
    "    k = rp * re / star.radius\n",
    "    snr = get_delta(k) * 1e6 / sigma\n",
    "    \n",
    "    # Scale by the estimated number of transits.\n",
    "    ntrn = star.dataspan * star.dutycycle / period \n",
    "    return snr * np.sqrt(ntrn)\n",
    "\n",
    "# Pre-compute and freeze the gamma function from Equation (5) in\n",
    "# Burke et al.\n",
    "pgam = gamma(4.65, loc=0., scale=0.98)\n",
    "mesthres_cols = [k for k in stellar.keys() if k.startswith(\"mesthres\")]\n",
    "mesthres_vals = np.array([k[-4:].replace(\"p\", \".\") for k in mesthres_cols],\n",
    "                         dtype=float)\n",
    "def get_pdet(star, aor, period, rp, e):\n",
    "    \"\"\"\n",
    "    Equation (5) from Burke et al. Estimate the detection efficiency\n",
    "    for a transit.\n",
    "    \n",
    "    :param star:   a pandas row giving the stellar properties\n",
    "    :param aor:    the dimensionless semi-major axis (scaled\n",
    "                   by the stellar radius)\n",
    "    :param period: the period in days\n",
    "    :param rp:     the planet radius in Earth radii\n",
    "    :param e:      the orbital eccentricity\n",
    "    \n",
    "    \"\"\"\n",
    "    tau = get_duration(period, aor, e) * 24.\n",
    "    mes = get_mes(star, period, rp, tau)\n",
    "    mest = np.interp(tau, mesthres_vals,\n",
    "                     np.array(star[mesthres_cols],\n",
    "                              dtype=float))\n",
    "    x = mes - 4.1 - (mest - 7.1)\n",
    "    return pgam.cdf(x)\n",
    "\n",
    "def get_pwin(star, period):\n",
    "    \"\"\"\n",
    "    Equation (6) from Burke et al. Estimates the window function\n",
    "    using a binomial distribution.\n",
    "    \n",
    "    :param star:   a pandas row giving the stellar properties\n",
    "    :param period: the period in days\n",
    "    \n",
    "    \"\"\"\n",
    "    M = star.dataspan / period\n",
    "    f = star.dutycycle\n",
    "    omf = 1.0 - f\n",
    "    pw = 1 - omf**M - M*f*omf**(M-1) - 0.5*M*(M-1)*f*f*omf**(M-2)\n",
    "    msk = (pw >= 0.0) * (M >= 2.0)\n",
    "    return pw * msk\n",
    "\n",
    "def get_pgeom(aor, e):\n",
    "    \"\"\"\n",
    "    The geometric transit probability.\n",
    "    \n",
    "    See e.g. Kipping (2014) for the eccentricity factor\n",
    "    http://arxiv.org/abs/1408.1393\n",
    "    \n",
    "    :param aor: the dimensionless semi-major axis (scaled\n",
    "                by the stellar radius)\n",
    "    :param e:   the orbital eccentricity\n",
    "    \"\"\"\n",
    "    # do I not want a cos(i) in here?\n",
    "    return 1. / (aor * (1 - e*e)) * (aor > 1.0)\n",
    "\n",
    "def pcomp(star, period, rp, e, with_geom=True):\n",
    "    \"\"\"\n",
    "    A helper function to combine all the completeness effects.\n",
    "    \n",
    "    :param star:      a pandas row giving the stellar properties\n",
    "    :param period:    the period in days\n",
    "    :param rp:        the planet radius in Earth radii\n",
    "    :param e:         the orbital eccentricity\n",
    "    :param with_geom: include the geometric transit probability?\n",
    "    \n",
    "    \"\"\"\n",
    "    aor = get_a(period, star.mass) / star.radius\n",
    "    pdet = get_pdet(star, aor, period, rp, e)\n",
    "    pwin = get_pwin(star, period)\n",
    "    if not with_geom:\n",
    "        return pdet * pwin\n",
    "    pgeom = get_pgeom(aor, e)\n",
    "    return pdet * pwin * pgeom"
   ]
  },
  {
   "cell_type": "code",
   "execution_count": 11,
   "metadata": {},
   "outputs": [
    {
     "name": "stderr",
     "output_type": "stream",
     "text": [
      "/usr/local/lib/python3.7/site-packages/pandas/core/computation/expressions.py:178: UserWarning: evaluating in Python space because the '*' operator is not supported by numexpr for the bool dtype, use '&' instead\n",
      "  f\"evaluating in Python space because the {repr(op_str)} \"\n"
     ]
    },
    {
     "data": {
      "text/plain": [
       "(array([4.047e+03, 1.538e+03, 6.090e+02, 3.740e+02, 2.710e+02, 1.700e+02,\n",
       "        3.600e+01, 1.100e+01, 7.000e+00, 1.000e+00]),\n",
       " array([0.        , 0.05934643, 0.11869286, 0.17803929, 0.23738572,\n",
       "        0.29673215, 0.35607858, 0.41542501, 0.47477144, 0.53411787,\n",
       "        0.5934643 ]),\n",
       " <a list of 10 Patch objects>)"
      ]
     },
     "execution_count": 11,
     "metadata": {},
     "output_type": "execute_result"
    },
    {
     "data": {
      "image/png": "[encoded data removed]",
      "text/plain": [
       "<Figure size 432x288 with 1 Axes>"
      ]
     },
     "metadata": {
      "needs_background": "light"
     },
     "output_type": "display_data"
    }
   ],
   "source": [
    "combined = pd.merge(kois, stellar, on='kepid')\n",
    "plt.hist(pcomp(combined.iloc[0], combined['koi_period'], combined['koi_prad'], combined['koi_eccen']))"
   ]
  },
  {
   "cell_type": "code",
   "execution_count": 12,
   "metadata": {},
   "outputs": [
    {
     "data": {
      "text/plain": [
       "True"
      ]
     },
     "execution_count": 12,
     "metadata": {},
     "output_type": "execute_result"
    }
   ],
   "source": [
    "all(combined['koi_eccen'] == 0)"
   ]
  },
  {
   "cell_type": "code",
   "execution_count": 13,
   "metadata": {},
   "outputs": [
    {
     "data": {
      "text/plain": [
       "0       14186.4\n",
       "1        6690.6\n",
       "2         458.3\n",
       "3        9379.3\n",
       "4         265.7\n",
       "         ...   \n",
       "7343    14620.9\n",
       "7344      324.3\n",
       "7345      288.3\n",
       "7346      434.8\n",
       "7347      475.9\n",
       "Name: koi_depth, Length: 7064, dtype: float64"
      ]
     },
     "execution_count": 13,
     "metadata": {},
     "output_type": "execute_result"
    }
   ],
   "source": [
    "kois['koi_depth']"
   ]
  },
  {
   "cell_type": "code",
   "execution_count": 14,
   "metadata": {},
   "outputs": [
    {
     "name": "stderr",
     "output_type": "stream",
     "text": [
      "/usr/local/lib/python3.7/site-packages/pandas/core/series.py:679: RuntimeWarning: invalid value encountered in sqrt\n",
      "  result = getattr(ufunc, method)(*inputs, **kwargs)\n",
      "/usr/local/lib/python3.7/site-packages/pandas/core/series.py:679: RuntimeWarning: invalid value encountered in arcsin\n",
      "  result = getattr(ufunc, method)(*inputs, **kwargs)\n"
     ]
    },
    {
     "data": {
      "text/plain": [
       "6061"
      ]
     },
     "execution_count": 14,
     "metadata": {},
     "output_type": "execute_result"
    }
   ],
   "source": [
    "aor = get_a(combined['koi_period'], combined['mass']) / combined['radius']\n",
    "transit_durations = combined['koi_period'] / np.pi * np.arcsin(np.sqrt(1 + combined['koi_ror']**2 - combined['koi_impact']**2) / aor)\n",
    "np.count_nonzero(~np.isnan(transit_durations))"
   ]
  },
  {
   "cell_type": "code",
   "execution_count": 15,
   "metadata": {},
   "outputs": [
    {
     "data": {
      "text/plain": [
       "92"
      ]
     },
     "execution_count": 15,
     "metadata": {},
     "output_type": "execute_result"
    }
   ],
   "source": [
    "np.count_nonzero(np.isnan(1 + combined['koi_ror']**2 - combined['koi_impact']**2) / aor)"
   ]
  },
  {
   "cell_type": "code",
   "execution_count": 16,
   "metadata": {},
   "outputs": [
    {
     "data": {
      "text/plain": [
       "-197.74211707199538"
      ]
     },
     "execution_count": 16,
     "metadata": {},
     "output_type": "execute_result"
    }
   ],
   "source": [
    "min(1 + combined['koi_ror']**2 - combined['koi_impact']**2)"
   ]
  },
  {
   "cell_type": "code",
   "execution_count": 17,
   "metadata": {},
   "outputs": [
    {
     "data": {
      "text/plain": [
       "array([29.233711, 12.87936 ,  4.210016,  3.210206, 36.527225,  1.847289,\n",
       "       43.61377 , 26.379158, 22.473545, 40.047718, 96.046448, 16.250244,\n",
       "        3.228014, 33.756237, 34.844692, 25.689688, 22.661406, 72.991737,\n",
       "        6.416173,  2.734658,  1.100073, 88.775139,  3.117785, 98.359161,\n",
       "        5.751969, 70.579384, 59.574707, 61.072872, 10.723516,  8.037216,\n",
       "       36.802391, 97.605156,  3.418653, 94.307571,  2.794919, 35.500751,\n",
       "       88.920593,  5.687459,  1.76501 , 91.576218, 30.353176, 51.279797,\n",
       "       55.442379,  1.794136, 67.439331, 82.471077, 15.077429,  2.528085,\n",
       "        3.665677,  1.021342, 24.365004,  5.338659,  1.830554,  1.439245,\n",
       "        1.328312,  1.143039, 23.750204, 85.506981,  1.325495,  1.061064,\n",
       "        1.295101,  2.265499,  1.461621, 13.750893,  7.490508,  1.996093,\n",
       "       44.56646 ,  3.344967, 13.881475,  4.621942,  4.011199,  1.158661,\n",
       "        3.253776,  1.381155, 29.961012,  3.467842, 22.193785, 34.221661,\n",
       "        1.178534, 25.416222,  5.505023,  3.734224,  1.288955,  2.286792,\n",
       "        3.243294,  8.462669, 97.637962,  4.070194, 16.321205,  2.215502,\n",
       "       97.048454,  1.397521, 78.907173, 72.96579 ,  1.340793,  7.627928,\n",
       "        3.024982, 96.986549, 96.11116 ,  2.09434 ,  2.30459 ,  2.079166,\n",
       "        3.396545,  1.033513,  2.648556,  7.645912, 92.429123,  7.826691,\n",
       "       33.18457 ,  1.653607,  3.543025,  8.259789, 93.311729, 71.862778,\n",
       "       15.723242, 87.348167,  1.354932, 29.631954,  5.78851 , 63.505539,\n",
       "       91.638718, 28.054026,  1.196282,  2.848532, 35.981037, 83.764427,\n",
       "       98.880386, 99.982002, 82.035538,  1.927772,  2.403381, 66.244209,\n",
       "        1.945891,  1.537256, 77.534561, 84.414795,  7.726682,  2.13629 ,\n",
       "        9.267149,  1.35192 ,  1.150181,  1.168184, 71.139206, 19.948524,\n",
       "        1.140744,  2.87506 , 85.207924,  1.098129,  3.032926, 85.19371 ,\n",
       "       19.643879, 10.499088,  1.232471, 52.783913,  3.796066, 53.616791,\n",
       "        1.395448, 58.453232,  2.382619, 69.261719,  1.201546, 40.790203,\n",
       "        8.960221, 51.98642 , 45.92622 , 41.808266, 35.968613,  2.666063,\n",
       "       10.425711, 18.441494,  1.082592,  2.942799,  5.45796 ,  3.409271,\n",
       "        2.892211])"
      ]
     },
     "execution_count": 17,
     "metadata": {},
     "output_type": "execute_result"
    }
   ],
   "source": [
    "np.array(combined['koi_ror'])[np.where(combined['koi_ror'] > 1)]"
   ]
  },
  {
   "cell_type": "code",
   "execution_count": 18,
   "metadata": {},
   "outputs": [
    {
     "data": {
      "text/plain": [
       "100.09643454817774"
      ]
     },
     "execution_count": 18,
     "metadata": {},
     "output_type": "execute_result"
    }
   ],
   "source": [
    "max(combined['koi_prad'] / combined['radius'] * 0.009168)"
   ]
  },
  {
   "cell_type": "code",
   "execution_count": 19,
   "metadata": {},
   "outputs": [
    {
     "data": {
      "text/plain": [
       "99.98200200000001"
      ]
     },
     "execution_count": 19,
     "metadata": {},
     "output_type": "execute_result"
    }
   ],
   "source": [
    "max(combined['koi_ror'])"
   ]
  },
  {
   "cell_type": "code",
   "execution_count": 20,
   "metadata": {},
   "outputs": [
    {
     "data": {
      "image/png": "[encoded data removed]",
      "text/plain": [
       "<Figure size 432x288 with 1 Axes>"
      ]
     },
     "metadata": {
      "needs_background": "light"
     },
     "output_type": "display_data"
    }
   ],
   "source": [
    "_ = plt.hist(np.sort(kois['koi_time0']) - min(kois['koi_time0']), bins=100)"
   ]
  },
  {
   "cell_type": "code",
   "execution_count": 21,
   "metadata": {},
   "outputs": [],
   "source": [
    "class SyntheticPlanet:\n",
    "    # :)\n",
    "    def __init__(self, star, period, radius, ecc, incl):\n",
    "        pass"
   ]
  },
  {
   "cell_type": "code",
   "execution_count": 22,
   "metadata": {},
   "outputs": [
    {
     "name": "stdout",
     "output_type": "stream",
     "text": [
      "44.6 ms ± 267 µs per loop (mean ± std. dev. of 7 runs, 10 loops each)\n"
     ]
    },
    {
     "ename": "TypeError",
     "evalue": "'numpy.ndarray' object is not callable",
     "output_type": "error",
     "traceback": [
      "\u001b[0;31m---------------------------------------------------------------------------\u001b[0m",
      "\u001b[0;31mRemoteTraceback\u001b[0m                           Traceback (most recent call last)",
      "\u001b[0;31mRemoteTraceback\u001b[0m: \n\"\"\"\nTraceback (most recent call last):\n  File \"/usr/local/Cellar/python/3.7.7/Frameworks/Python.framework/Versions/3.7/lib/python3.7/multiprocessing/pool.py\", line 121, in worker\n    result = (True, func(*args, **kwds))\n  File \"/usr/local/Cellar/python/3.7.7/Frameworks/Python.framework/Versions/3.7/lib/python3.7/multiprocessing/pool.py\", line 44, in mapstar\n    return list(map(*args))\nTypeError: 'numpy.ndarray' object is not callable\n\"\"\"",
      "\nThe above exception was the direct cause of the following exception:\n",
      "\u001b[0;31mTypeError\u001b[0m                                 Traceback (most recent call last)",
      "\u001b[0;32m<ipython-input-22-3e181c95e2c6>\u001b[0m in \u001b[0;36m<module>\u001b[0;34m\u001b[0m\n\u001b[1;32m      5\u001b[0m \u001b[0;34m\u001b[0m\u001b[0m\n\u001b[1;32m      6\u001b[0m \u001b[0mget_ipython\u001b[0m\u001b[0;34m(\u001b[0m\u001b[0;34m)\u001b[0m\u001b[0;34m.\u001b[0m\u001b[0mrun_line_magic\u001b[0m\u001b[0;34m(\u001b[0m\u001b[0;34m'timeit'\u001b[0m\u001b[0;34m,\u001b[0m \u001b[0;34m'map(f, list(range(int(1e6))))'\u001b[0m\u001b[0;34m)\u001b[0m\u001b[0;34m\u001b[0m\u001b[0;34m\u001b[0m\u001b[0m\n\u001b[0;32m----> 7\u001b[0;31m \u001b[0mget_ipython\u001b[0m\u001b[0;34m(\u001b[0m\u001b[0;34m)\u001b[0m\u001b[0;34m.\u001b[0m\u001b[0mrun_line_magic\u001b[0m\u001b[0;34m(\u001b[0m\u001b[0;34m'timeit'\u001b[0m\u001b[0;34m,\u001b[0m \u001b[0;34m'p.map(f, list(range(int(1e6))))'\u001b[0m\u001b[0;34m)\u001b[0m\u001b[0;34m\u001b[0m\u001b[0;34m\u001b[0m\u001b[0m\n\u001b[0m",
      "\u001b[0;32m~/Library/Python/3.7/lib/python/site-packages/IPython/core/interactiveshell.py\u001b[0m in \u001b[0;36mrun_line_magic\u001b[0;34m(self, magic_name, line, _stack_depth)\u001b[0m\n\u001b[1;32m   2315\u001b[0m                 \u001b[0mkwargs\u001b[0m\u001b[0;34m[\u001b[0m\u001b[0;34m'local_ns'\u001b[0m\u001b[0;34m]\u001b[0m \u001b[0;34m=\u001b[0m \u001b[0msys\u001b[0m\u001b[0;34m.\u001b[0m\u001b[0m_getframe\u001b[0m\u001b[0;34m(\u001b[0m\u001b[0mstack_depth\u001b[0m\u001b[0;34m)\u001b[0m\u001b[0;34m.\u001b[0m\u001b[0mf_locals\u001b[0m\u001b[0;34m\u001b[0m\u001b[0;34m\u001b[0m\u001b[0m\n\u001b[1;32m   2316\u001b[0m             \u001b[0;32mwith\u001b[0m \u001b[0mself\u001b[0m\u001b[0;34m.\u001b[0m\u001b[0mbuiltin_trap\u001b[0m\u001b[0;34m:\u001b[0m\u001b[0;34m\u001b[0m\u001b[0;34m\u001b[0m\u001b[0m\n\u001b[0;32m-> 2317\u001b[0;31m                 \u001b[0mresult\u001b[0m \u001b[0;34m=\u001b[0m \u001b[0mfn\u001b[0m\u001b[0;34m(\u001b[0m\u001b[0;34m*\u001b[0m\u001b[0margs\u001b[0m\u001b[0;34m,\u001b[0m \u001b[0;34m**\u001b[0m\u001b[0mkwargs\u001b[0m\u001b[0;34m)\u001b[0m\u001b[0;34m\u001b[0m\u001b[0;34m\u001b[0m\u001b[0m\n\u001b[0m\u001b[1;32m   2318\u001b[0m             \u001b[0;32mreturn\u001b[0m \u001b[0mresult\u001b[0m\u001b[0;34m\u001b[0m\u001b[0;34m\u001b[0m\u001b[0m\n\u001b[1;32m   2319\u001b[0m \u001b[0;34m\u001b[0m\u001b[0m\n",
      "\u001b[0;32m<decorator-gen-60>\u001b[0m in \u001b[0;36mtimeit\u001b[0;34m(self, line, cell, local_ns)\u001b[0m\n",
      "\u001b[0;32m~/Library/Python/3.7/lib/python/site-packages/IPython/core/magic.py\u001b[0m in \u001b[0;36m<lambda>\u001b[0;34m(f, *a, **k)\u001b[0m\n\u001b[1;32m    185\u001b[0m     \u001b[0;31m# but it's overkill for just that one bit of state.\u001b[0m\u001b[0;34m\u001b[0m\u001b[0;34m\u001b[0m\u001b[0;34m\u001b[0m\u001b[0m\n\u001b[1;32m    186\u001b[0m     \u001b[0;32mdef\u001b[0m \u001b[0mmagic_deco\u001b[0m\u001b[0;34m(\u001b[0m\u001b[0marg\u001b[0m\u001b[0;34m)\u001b[0m\u001b[0;34m:\u001b[0m\u001b[0;34m\u001b[0m\u001b[0;34m\u001b[0m\u001b[0m\n\u001b[0;32m--> 187\u001b[0;31m         \u001b[0mcall\u001b[0m \u001b[0;34m=\u001b[0m \u001b[0;32mlambda\u001b[0m \u001b[0mf\u001b[0m\u001b[0;34m,\u001b[0m \u001b[0;34m*\u001b[0m\u001b[0ma\u001b[0m\u001b[0;34m,\u001b[0m \u001b[0;34m**\u001b[0m\u001b[0mk\u001b[0m\u001b[0;34m:\u001b[0m \u001b[0mf\u001b[0m\u001b[0;34m(\u001b[0m\u001b[0;34m*\u001b[0m\u001b[0ma\u001b[0m\u001b[0;34m,\u001b[0m \u001b[0;34m**\u001b[0m\u001b[0mk\u001b[0m\u001b[0;34m)\u001b[0m\u001b[0;34m\u001b[0m\u001b[0;34m\u001b[0m\u001b[0m\n\u001b[0m\u001b[1;32m    188\u001b[0m \u001b[0;34m\u001b[0m\u001b[0m\n\u001b[1;32m    189\u001b[0m         \u001b[0;32mif\u001b[0m \u001b[0mcallable\u001b[0m\u001b[0;34m(\u001b[0m\u001b[0marg\u001b[0m\u001b[0;34m)\u001b[0m\u001b[0;34m:\u001b[0m\u001b[0;34m\u001b[0m\u001b[0;34m\u001b[0m\u001b[0m\n",
      "\u001b[0;32m~/Library/Python/3.7/lib/python/site-packages/IPython/core/magics/execution.py\u001b[0m in \u001b[0;36mtimeit\u001b[0;34m(self, line, cell, local_ns)\u001b[0m\n\u001b[1;32m   1158\u001b[0m             \u001b[0;32mfor\u001b[0m \u001b[0mindex\u001b[0m \u001b[0;32min\u001b[0m \u001b[0mrange\u001b[0m\u001b[0;34m(\u001b[0m\u001b[0;36m0\u001b[0m\u001b[0;34m,\u001b[0m \u001b[0;36m10\u001b[0m\u001b[0;34m)\u001b[0m\u001b[0;34m:\u001b[0m\u001b[0;34m\u001b[0m\u001b[0;34m\u001b[0m\u001b[0m\n\u001b[1;32m   1159\u001b[0m                 \u001b[0mnumber\u001b[0m \u001b[0;34m=\u001b[0m \u001b[0;36m10\u001b[0m \u001b[0;34m**\u001b[0m \u001b[0mindex\u001b[0m\u001b[0;34m\u001b[0m\u001b[0;34m\u001b[0m\u001b[0m\n\u001b[0;32m-> 1160\u001b[0;31m                 \u001b[0mtime_number\u001b[0m \u001b[0;34m=\u001b[0m \u001b[0mtimer\u001b[0m\u001b[0;34m.\u001b[0m\u001b[0mtimeit\u001b[0m\u001b[0;34m(\u001b[0m\u001b[0mnumber\u001b[0m\u001b[0;34m)\u001b[0m\u001b[0;34m\u001b[0m\u001b[0;34m\u001b[0m\u001b[0m\n\u001b[0m\u001b[1;32m   1161\u001b[0m                 \u001b[0;32mif\u001b[0m \u001b[0mtime_number\u001b[0m \u001b[0;34m>=\u001b[0m \u001b[0;36m0.2\u001b[0m\u001b[0;34m:\u001b[0m\u001b[0;34m\u001b[0m\u001b[0;34m\u001b[0m\u001b[0m\n\u001b[1;32m   1162\u001b[0m                     \u001b[0;32mbreak\u001b[0m\u001b[0;34m\u001b[0m\u001b[0;34m\u001b[0m\u001b[0m\n",
      "\u001b[0;32m~/Library/Python/3.7/lib/python/site-packages/IPython/core/magics/execution.py\u001b[0m in \u001b[0;36mtimeit\u001b[0;34m(self, number)\u001b[0m\n\u001b[1;32m    167\u001b[0m         \u001b[0mgc\u001b[0m\u001b[0;34m.\u001b[0m\u001b[0mdisable\u001b[0m\u001b[0;34m(\u001b[0m\u001b[0;34m)\u001b[0m\u001b[0;34m\u001b[0m\u001b[0;34m\u001b[0m\u001b[0m\n\u001b[1;32m    168\u001b[0m         \u001b[0;32mtry\u001b[0m\u001b[0;34m:\u001b[0m\u001b[0;34m\u001b[0m\u001b[0;34m\u001b[0m\u001b[0m\n\u001b[0;32m--> 169\u001b[0;31m             \u001b[0mtiming\u001b[0m \u001b[0;34m=\u001b[0m \u001b[0mself\u001b[0m\u001b[0;34m.\u001b[0m\u001b[0minner\u001b[0m\u001b[0;34m(\u001b[0m\u001b[0mit\u001b[0m\u001b[0;34m,\u001b[0m \u001b[0mself\u001b[0m\u001b[0;34m.\u001b[0m\u001b[0mtimer\u001b[0m\u001b[0;34m)\u001b[0m\u001b[0;34m\u001b[0m\u001b[0;34m\u001b[0m\u001b[0m\n\u001b[0m\u001b[1;32m    170\u001b[0m         \u001b[0;32mfinally\u001b[0m\u001b[0;34m:\u001b[0m\u001b[0;34m\u001b[0m\u001b[0;34m\u001b[0m\u001b[0m\n\u001b[1;32m    171\u001b[0m             \u001b[0;32mif\u001b[0m \u001b[0mgcold\u001b[0m\u001b[0;34m:\u001b[0m\u001b[0;34m\u001b[0m\u001b[0;34m\u001b[0m\u001b[0m\n",
      "\u001b[0;32m<magic-timeit>\u001b[0m in \u001b[0;36minner\u001b[0;34m(_it, _timer)\u001b[0m\n",
      "\u001b[0;32m/usr/local/Cellar/python/3.7.7/Frameworks/Python.framework/Versions/3.7/lib/python3.7/multiprocessing/pool.py\u001b[0m in \u001b[0;36mmap\u001b[0;34m(self, func, iterable, chunksize)\u001b[0m\n\u001b[1;32m    266\u001b[0m         \u001b[0;32min\u001b[0m \u001b[0ma\u001b[0m \u001b[0mlist\u001b[0m \u001b[0mthat\u001b[0m \u001b[0;32mis\u001b[0m \u001b[0mreturned\u001b[0m\u001b[0;34m.\u001b[0m\u001b[0;34m\u001b[0m\u001b[0;34m\u001b[0m\u001b[0m\n\u001b[1;32m    267\u001b[0m         '''\n\u001b[0;32m--> 268\u001b[0;31m         \u001b[0;32mreturn\u001b[0m \u001b[0mself\u001b[0m\u001b[0;34m.\u001b[0m\u001b[0m_map_async\u001b[0m\u001b[0;34m(\u001b[0m\u001b[0mfunc\u001b[0m\u001b[0;34m,\u001b[0m \u001b[0miterable\u001b[0m\u001b[0;34m,\u001b[0m \u001b[0mmapstar\u001b[0m\u001b[0;34m,\u001b[0m \u001b[0mchunksize\u001b[0m\u001b[0;34m)\u001b[0m\u001b[0;34m.\u001b[0m\u001b[0mget\u001b[0m\u001b[0;34m(\u001b[0m\u001b[0;34m)\u001b[0m\u001b[0;34m\u001b[0m\u001b[0;34m\u001b[0m\u001b[0m\n\u001b[0m\u001b[1;32m    269\u001b[0m \u001b[0;34m\u001b[0m\u001b[0m\n\u001b[1;32m    270\u001b[0m     \u001b[0;32mdef\u001b[0m \u001b[0mstarmap\u001b[0m\u001b[0;34m(\u001b[0m\u001b[0mself\u001b[0m\u001b[0;34m,\u001b[0m \u001b[0mfunc\u001b[0m\u001b[0;34m,\u001b[0m \u001b[0miterable\u001b[0m\u001b[0;34m,\u001b[0m \u001b[0mchunksize\u001b[0m\u001b[0;34m=\u001b[0m\u001b[0;32mNone\u001b[0m\u001b[0;34m)\u001b[0m\u001b[0;34m:\u001b[0m\u001b[0;34m\u001b[0m\u001b[0;34m\u001b[0m\u001b[0m\n",
      "\u001b[0;32m/usr/local/Cellar/python/3.7.7/Frameworks/Python.framework/Versions/3.7/lib/python3.7/multiprocessing/pool.py\u001b[0m in \u001b[0;36mget\u001b[0;34m(self, timeout)\u001b[0m\n\u001b[1;32m    655\u001b[0m             \u001b[0;32mreturn\u001b[0m \u001b[0mself\u001b[0m\u001b[0;34m.\u001b[0m\u001b[0m_value\u001b[0m\u001b[0;34m\u001b[0m\u001b[0;34m\u001b[0m\u001b[0m\n\u001b[1;32m    656\u001b[0m         \u001b[0;32melse\u001b[0m\u001b[0;34m:\u001b[0m\u001b[0;34m\u001b[0m\u001b[0;34m\u001b[0m\u001b[0m\n\u001b[0;32m--> 657\u001b[0;31m             \u001b[0;32mraise\u001b[0m \u001b[0mself\u001b[0m\u001b[0;34m.\u001b[0m\u001b[0m_value\u001b[0m\u001b[0;34m\u001b[0m\u001b[0;34m\u001b[0m\u001b[0m\n\u001b[0m\u001b[1;32m    658\u001b[0m \u001b[0;34m\u001b[0m\u001b[0m\n\u001b[1;32m    659\u001b[0m     \u001b[0;32mdef\u001b[0m \u001b[0m_set\u001b[0m\u001b[0;34m(\u001b[0m\u001b[0mself\u001b[0m\u001b[0;34m,\u001b[0m \u001b[0mi\u001b[0m\u001b[0;34m,\u001b[0m \u001b[0mobj\u001b[0m\u001b[0;34m)\u001b[0m\u001b[0;34m:\u001b[0m\u001b[0;34m\u001b[0m\u001b[0;34m\u001b[0m\u001b[0m\n",
      "\u001b[0;31mTypeError\u001b[0m: 'numpy.ndarray' object is not callable"
     ]
    }
   ],
   "source": [
    "from multiprocessing import Pool\n",
    "p = Pool(5)\n",
    "def f(x):\n",
    "    return x * x\n",
    "\n",
    "%timeit map(f, list(range(int(1e6))))\n",
    "%timeit p.map(f, list(range(int(1e6))))"
   ]
  },
  {
   "cell_type": "code",
   "execution_count": null,
   "metadata": {},
   "outputs": [],
   "source": []
  }
 ],
 "metadata": {
  "kernelspec": {
   "display_name": "Python 3",
   "language": "python",
   "name": "python3"
  },
  "language_info": {
   "codemirror_mode": {
    "name": "ipython",
    "version": 3
   },
   "file_extension": ".py",
   "mimetype": "text/x-python",
   "name": "python",
   "nbconvert_exporter": "python",
   "pygments_lexer": "ipython3",
   "version": "3.7.7"
  }
 },
 "nbformat": 4,
 "nbformat_minor": 2
}
