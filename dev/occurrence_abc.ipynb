{
 "cells": [
  {
   "cell_type": "markdown",
   "metadata": {},
   "source": [
    "## Aim\n",
    "\n",
    "Compute an ABC occurrence rate estimate, and compare results with ```occurrence_mcmc```."
   ]
  },
  {
   "cell_type": "code",
   "execution_count": 1,
   "metadata": {},
   "outputs": [],
   "source": [
    "import numpy as np\n",
    "from matplotlib import pyplot as plt\n",
    "%matplotlib inline\n",
    "import pandas as pd\n",
    "from scipy import optimize, stats, linalg\n",
    "from utils import dfm\n",
    "from utils.abc import ABCSampler\n",
    "# import astroabc\n",
    "from utils import price_rogers_2014_binned\n",
    "from tqdm.notebook import tqdm\n",
    "from scipy.stats import gamma\n",
    "\n",
    "%load_ext autoreload\n",
    "%autoreload 2"
   ]
  },
  {
   "cell_type": "markdown",
   "metadata": {},
   "source": [
    "My ABC setup requires\n",
    "\n",
    "- a prior occurrence estimate.\n",
    "- a candidate generator for the model parameters $\\theta$, i.e. a ```stats.continuous_rv/stats.discrete_rv``` object whose .rvs() method returns candidate parameters.\n",
    "- a sampler for $f(x \\mid \\theta)$\n",
    "- distance and statistic functions\n",
    "- data to fit\n",
    "\n",
    "I'm not 100% sure how any of these work."
   ]
  },
  {
   "cell_type": "code",
   "execution_count": 2,
   "metadata": {},
   "outputs": [],
   "source": [
    "kois = dfm.get_kois()\n",
    "stellar = dfm.get_stellar()\n",
    "kois = kois[kois[\"kepid\"].isin(stellar[\"kepid\"])]\n",
    "kois = kois[np.isfinite(kois[\"koi_prad\"])]"
   ]
  },
  {
   "cell_type": "code",
   "execution_count": 3,
   "metadata": {},
   "outputs": [
    {
     "name": "stdout",
     "output_type": "stream",
     "text": [
      "[192950   5222    508    153     59     21      2      2]\n"
     ]
    },
    {
     "data": {
      "text/plain": [
       "Text(0, 0.5, 'Counts')"
      ]
     },
     "execution_count": 3,
     "metadata": {},
     "output_type": "execute_result"
    },
    {
     "data": {
      "image/png": "[encoded data removed]",
      "text/plain": [
       "<Figure size 432x288 with 1 Axes>"
      ]
     },
     "metadata": {
      "needs_background": "light"
     },
     "output_type": "display_data"
    }
   ],
   "source": [
    "#starcounts = np.concatenate((np.array(pd.crosstab(index=kois['kepid'], columns=\"count\")).flatten(), np.zeros((len(stellar[~stellar[\"kepid\"].isin(kois[\"kepid\"])]),))))\n",
    "zerocounts = len(stellar[~stellar[\"kepid\"].isin(kois[\"kepid\"])])\n",
    "solarsyssizes = np.array(pd.crosstab(index=kois['kepid'], columns=\"count\")).flatten()\n",
    "bincounts = np.bincount(solarsyssizes)\n",
    "bincounts[0] = zerocounts\n",
    "print(bincounts)\n",
    "plt.hist(solarsyssizes)\n",
    "plt.xlabel(\"Planets per star\")\n",
    "plt.ylabel(\"Counts\")"
   ]
  },
  {
   "cell_type": "markdown",
   "metadata": {},
   "source": [
    "Now the dataset has sufficient complexity to fit a Poisson process."
   ]
  },
  {
   "cell_type": "code",
   "execution_count": 4,
   "metadata": {},
   "outputs": [],
   "source": [
    "assert np.all(np.isfinite(kois[\"koi_prad\"]))\n",
    "assert np.all(np.isfinite(kois[\"koi_period\"]))\n",
    "koi_radii = kois[\"koi_prad\"]\n",
    "koi_periods = kois[\"koi_period\"]"
   ]
  },
  {
   "cell_type": "code",
   "execution_count": 5,
   "metadata": {},
   "outputs": [
    {
     "name": "stdout",
     "output_type": "stream",
     "text": [
      "[61131, 71888, 42518, 16962, 4983, 1172, 220, 36]\n"
     ]
    }
   ],
   "source": [
    "lam = np.mean(solarsyssizes)\n",
    "# lam = sum([i * k for i, k in enumerate(bincounts)]) / sum(bincounts)\n",
    "planet_numbers = np.minimum(stats.poisson(lam).rvs(size=(len(stellar),)), 10) \n",
    "print([sum(planet_numbers == i) for i in range(max(planet_numbers))])"
   ]
  },
  {
   "cell_type": "code",
   "execution_count": 6,
   "metadata": {},
   "outputs": [
    {
     "data": {
      "text/plain": [
       "(array([6.1131e+04, 7.1888e+04, 4.2518e+04, 1.6962e+04, 0.0000e+00,\n",
       "        4.9830e+03, 1.1720e+03, 2.2000e+02, 3.6000e+01, 7.0000e+00]),\n",
       " array([0. , 0.8, 1.6, 2.4, 3.2, 4. , 4.8, 5.6, 6.4, 7.2, 8. ]),\n",
       " <a list of 10 Patch objects>)"
      ]
     },
     "execution_count": 6,
     "metadata": {},
     "output_type": "execute_result"
    },
    {
     "data": {
      "image/png": "[encoded data removed]",
      "text/plain": [
       "<Figure size 432x288 with 1 Axes>"
      ]
     },
     "metadata": {
      "needs_background": "light"
     },
     "output_type": "display_data"
    }
   ],
   "source": [
    "plt.hist(planet_numbers)"
   ]
  },
  {
   "cell_type": "code",
   "execution_count": 7,
   "metadata": {},
   "outputs": [],
   "source": [
    "period = np.array([0.5, 1.25, 2.5, 5, 10, 20, 40, 80, 160, 320])\n",
    "rp = np.array([0.5, 0.75, 1, 1.25, 1.5, 1.75, 2, 2.5, 3, 4, 6, 8, 12, 16])\n",
    "log_p, log_r = np.log(period), np.log(rp)\n",
    "period_rng = (min(period), max(period))\n",
    "rp_rng = (min(rp), max(rp))\n",
    "\n",
    "f = np.histogram2d(koi_periods, koi_radii, bins=[period, rp])[0]\n",
    "f /= np.sum(f)"
   ]
  },
  {
   "cell_type": "code",
   "execution_count": 8,
   "metadata": {},
   "outputs": [
    {
     "data": {
      "text/plain": [
       "<matplotlib.colorbar.Colorbar at 0x11ae70a10>"
      ]
     },
     "execution_count": 8,
     "metadata": {},
     "output_type": "execute_result"
    },
    {
     "data": {
      "image/png": "[encoded data removed]",
      "text/plain": [
       "<Figure size 432x288 with 2 Axes>"
      ]
     },
     "metadata": {
      "needs_background": "light"
     },
     "output_type": "display_data"
    }
   ],
   "source": [
    "plt.imshow(f) # I guess that's sorta like an H-R diagram?\n",
    "plt.colorbar()"
   ]
  },
  {
   "cell_type": "code",
   "execution_count": 9,
   "metadata": {},
   "outputs": [
    {
     "name": "stdout",
     "output_type": "stream",
     "text": [
      "Generated planet with period 0.618 days, radius 0.995 Earth radii, eccentricity 0.02, cos of orbital inclination 0.689.\n"
     ]
    }
   ],
   "source": [
    "bucket = np.random.choice(f.size, p=f.flatten())\n",
    "i, j = bucket // f.shape[1], bucket % f.shape[1]\n",
    "synth_p = np.exp(np.random.uniform(log_p[i], log_p[i+1]))\n",
    "synth_r = np.exp(np.random.uniform(log_r[j], log_r[j+1]))\n",
    "ecc = stats.rayleigh(scale=0.03).rvs()\n",
    "cosincl = np.random.uniform(-1, 1)\n",
    "print(\"Generated planet with period {0} days, radius {1} Earth radii, eccentricity {2}, cos of orbital inclination {3}.\".format(np.round(synth_p, 3), np.round(synth_r, 3), np.round(ecc, 3), np.round(cosincl, 3)))"
   ]
  },
  {
   "cell_type": "code",
   "execution_count": 154,
   "metadata": {},
   "outputs": [],
   "source": [
    "cdpp_cols = [k for k in stellar.keys() if k.startswith(\"rrmscdpp\")]\n",
    "cdpp_vals = np.array([k[-4:].replace(\"p\", \".\") for k in cdpp_cols], dtype=float)\n",
    "pgam = gamma(4.65, loc=0., scale=0.98)\n",
    "mesthres_cols = [k for k in stellar.keys() if k.startswith(\"mesthres\")]\n",
    "mesthres_vals = np.array([k[-4:].replace(\"p\", \".\") for k in mesthres_cols],\n",
    "                         dtype=float)"
   ]
  },
  {
   "cell_type": "code",
   "execution_count": 150,
   "metadata": {},
   "outputs": [],
   "source": [
    "def get_duration(period, aor, e):\n",
    "    \"\"\"\n",
    "    Equation (1) from Burke et al. This estimates the transit\n",
    "    duration in the same units as the input period. There is a\n",
    "    typo in the paper (24/4 = 6 != 4).\n",
    "    \n",
    "    :param period: the period in any units of your choosing\n",
    "    :param aor:    the dimensionless semi-major axis (scaled\n",
    "                   by the stellar radius)\n",
    "    :param e:      the eccentricity of the orbit\n",
    "    \n",
    "    \"\"\"\n",
    "    return 0.25 * period * np.sqrt(1 - e**2) / aor\n",
    "\n",
    "def get_a(period, mstar, Go4pi=2945.4625385377644/(4*np.pi*np.pi)):\n",
    "    \"\"\"\n",
    "    Compute the semi-major axis of an orbit in Solar radii.\n",
    "    \n",
    "    :param period: the period in days\n",
    "    :param mstar:  the stellar mass in Solar masses\n",
    "    \n",
    "    \"\"\"\n",
    "    return (Go4pi*period*period*mstar) ** (1./3)\n",
    "\n",
    "def get_delta(k, c=1.0874, s=1.0187):\n",
    "    \"\"\"\n",
    "    Estimate the approximate expected transit depth as a function\n",
    "    of radius ratio. There might be a typo here. In the paper it\n",
    "    uses c + s*k but in the public code, it is c - s*k:\n",
    "    https://github.com/christopherburke/KeplerPORTs\n",
    "    \n",
    "    :param k: the dimensionless radius ratio between the planet and\n",
    "              the star\n",
    "    \n",
    "    \"\"\"\n",
    "    delta_max = k*k * (c + s*k)\n",
    "    return 0.84 * delta_max\n",
    "\n",
    "def get_mes(star, period, rp, tau, re=0.009171):\n",
    "    \"\"\"\n",
    "    Estimate the multiple event statistic value for a transit.\n",
    "    \n",
    "    :param star:   a pandas row giving the stellar properties\n",
    "    :param period: the period in days\n",
    "    :param rp:     the planet radius in Earth radii\n",
    "    :param tau:    the transit duration in hours\n",
    "    \n",
    "    \"\"\"\n",
    "    # Interpolate to the correct CDPP for the duration.\n",
    "    cdpp = np.array(star[cdpp_cols], dtype=float)\n",
    "    sigma = np.interp(tau, cdpp_vals, cdpp)\n",
    "\n",
    "    # Compute the radius ratio and estimate the S/N.\n",
    "    k = rp * re / star.radius\n",
    "    snr = get_delta(k) * 1e6 / sigma\n",
    "    \n",
    "    # Scale by the estimated number of transits.\n",
    "    ntrn = star.dataspan * star.dutycycle / period \n",
    "    return snr * np.sqrt(ntrn)\n",
    "\n",
    "# Pre-compute and freeze the gamma function from Equation (5) in\n",
    "# Burke et al.\n",
    "\n",
    "def get_pdet(star, aor, period, rp, e):\n",
    "    \"\"\"\n",
    "    Equation (5) from Burke et al. Estimate the detection efficiency\n",
    "    for a transit.\n",
    "    \n",
    "    :param star:   a pandas row giving the stellar properties\n",
    "    :param aor:    the dimensionless semi-major axis (scaled\n",
    "                   by the stellar radius)\n",
    "    :param period: the period in days\n",
    "    :param rp:     the planet radius in Earth radii\n",
    "    :param e:      the orbital eccentricity\n",
    "    \n",
    "    \"\"\"\n",
    "    tau = get_duration(period, aor, e) * 24.\n",
    "    mes = get_mes(star, period, rp, tau)\n",
    "    mest = np.interp(tau, mesthres_vals,\n",
    "                     np.array(star[mesthres_cols],\n",
    "                              dtype=float))\n",
    "    x = mes - 4.1 - (mest - 7.1)\n",
    "    return pgam.cdf(x)\n",
    "\n",
    "def get_pwin(star, period):\n",
    "    \"\"\"\n",
    "    Equation (6) from Burke et al. Estimates the window function\n",
    "    using a binomial distribution.\n",
    "    \n",
    "    :param star:   a pandas row giving the stellar properties\n",
    "    :param period: the period in days\n",
    "    \n",
    "    \"\"\"\n",
    "    M = star.dataspan / period\n",
    "    f = star.dutycycle\n",
    "    omf = 1.0 - f\n",
    "    pw = 1 - omf**M - M*f*omf**(M-1) - 0.5*M*(M-1)*f*f*omf**(M-2)\n",
    "    msk = (pw >= 0.0) * (M >= 2.0)\n",
    "    return pw * msk\n",
    "\n",
    "def get_pgeom(aor, e):\n",
    "    \"\"\"\n",
    "    The geometric transit probability.\n",
    "    \n",
    "    See e.g. Kipping (2014) for the eccentricity factor\n",
    "    http://arxiv.org/abs/1408.1393\n",
    "    \n",
    "    :param aor: the dimensionless semi-major axis (scaled\n",
    "                by the stellar radius)\n",
    "    :param e:   the orbital eccentricity\n",
    "    \"\"\"\n",
    "    # do I not want a cos(i) in here?\n",
    "    return 1. / (aor * (1 - e*e)) * (aor > 1.0)\n",
    "\n",
    "def pcomp(star, period, rp, e, with_geom=True):\n",
    "    \"\"\"\n",
    "    A helper function to combine all the completeness effects.\n",
    "    \n",
    "    :param star:      a pandas row giving the stellar properties\n",
    "    :param period:    the period in days\n",
    "    :param rp:        the planet radius in Earth radii\n",
    "    :param e:         the orbital eccentricity\n",
    "    :param with_geom: include the geometric transit probability?\n",
    "    \n",
    "    \"\"\"\n",
    "    aor = get_a(period, star.mass) / star.radius\n",
    "    pdet = get_pdet(star, aor, period, rp, e)\n",
    "    pwin = get_pwin(star, period)\n",
    "    if not with_geom:\n",
    "        return pdet * pwin\n",
    "    pgeom = get_pgeom(aor, e)\n",
    "    return pdet * pwin * pgeom\n",
    "\n",
    "def pcomp_vectors(stars, periods, rp, eccs):\n",
    "    '''\n",
    "    Self-contained, returns pcomp over matched arrays of planets around stars.\n",
    "    '''\n",
    "    c = 1.0874\n",
    "    s = 1.0187\n",
    "    Go4pi = 2945.4625385377644/(4*np.pi*np.pi)\n",
    "    re = 0.009171\n",
    "    \n",
    "    mstars = np.array(stars['mass'])\n",
    "    rstars = np.array(stars['radius'])\n",
    "    cdpp = np.array(stars[cdpp_cols], dtype=float)\n",
    "    dataspan = np.array(stars['dataspan'])\n",
    "    dutycycle = np.array(stars['dutycycle'])\n",
    "    mesthres_cols_stars = np.array(stars[mesthres_cols], dtype=float)\n",
    "    \n",
    "    aor = (Go4pi*periods*periods*mstars) ** (1./3) / rstars\n",
    "    tau = 6 * periods * np.sqrt(1 - eccs**2) / aor\n",
    "\n",
    "    # sigma = np.apply_along_axis(np.interp, 0, tau, cdpp_vals, cdpp)\n",
    "    sigma = np.array([np.interp(tau[i], cdpp_vals, cdpp[i]) for i in range(len(tau))])\n",
    "    # Compute the radius ratio and estimate the S/N.\n",
    "    k = rp * re / rstars\n",
    "    delta = 0.84 * k*k * (c + s*k)\n",
    "    snr = delta * 1e6 / sigma\n",
    "\n",
    "    # Scale by the estimated number of transits.\n",
    "    ntrn = dataspan * dutycycle / periods\n",
    "    mess = snr * np.sqrt(ntrn)\n",
    "    mest = np.array([np.interp(tau[i], mesthres_vals, mesthres_cols_stars[i]) for i in range(len(tau))])\n",
    "    x = mess - 4.1 - (mest - 7.1)\n",
    "    pdets = pgam.cdf(x)\n",
    "    \n",
    "    M = dataspan / periods\n",
    "    f = dutycycle\n",
    "    omf = 1.0 - f\n",
    "    pw = 1 - omf**M - M*f*omf**(M-1) - 0.5*M*(M-1)*f*f*omf**(M-2)\n",
    "    msk = (pw >= 0.0) & (M >= 2.0)\n",
    "    pwins = pw * msk\n",
    "    \n",
    "    pgeom = 1. / (aor * (1 - eccs*eccs)) * (aor > 1.0)\n",
    "    \n",
    "    return pdets * pwins * pgeom"
   ]
  },
  {
   "cell_type": "code",
   "execution_count": 151,
   "metadata": {},
   "outputs": [],
   "source": [
    "test_star = stellar[stellar.kepid == kois.kepid[0]]\n",
    "test_planet = kois[kois.kepid == kois.kepid[0]]"
   ]
  },
  {
   "cell_type": "code",
   "execution_count": 152,
   "metadata": {},
   "outputs": [
    {
     "data": {
      "text/plain": [
       "0    0.126051\n",
       "dtype: float64"
      ]
     },
     "execution_count": 152,
     "metadata": {},
     "output_type": "execute_result"
    }
   ],
   "source": [
    "pcomp_vectors(test_star, test_planet['koi_period'], test_planet['koi_prad'], test_planet['koi_eccen'])"
   ]
  },
  {
   "cell_type": "code",
   "execution_count": 153,
   "metadata": {
    "scrolled": true
   },
   "outputs": [
    {
     "data": {
      "text/plain": [
       "0.12605107055151948"
      ]
     },
     "execution_count": 153,
     "metadata": {},
     "output_type": "execute_result"
    }
   ],
   "source": [
    "test_period = test_planet['koi_period'][0]\n",
    "test_radius = test_planet['koi_prad'][0]\n",
    "test_eccen = 0\n",
    "pcomp(test_star.iloc[0], test_period, test_radius, test_eccen)"
   ]
  },
  {
   "cell_type": "code",
   "execution_count": null,
   "metadata": {},
   "outputs": [],
   "source": [
    "combined = pd.merge(kois, stellar, on='kepid')\n",
    "plt.hist(pcomp(combined.iloc[0], combined['koi_period'], combined['koi_prad'], combined['koi_eccen']))"
   ]
  },
  {
   "cell_type": "code",
   "execution_count": 44,
   "metadata": {},
   "outputs": [],
   "source": [
    "t0_range = (min(combined['koi_time0']), max(combined['koi_time0']))\n",
    "bad_kepids = []\n",
    "\n",
    "def generate_planets(f, star, num_planets=1):\n",
    "    '''\n",
    "    Takes in the occurrence rate matrix f and generates `num_planets' planets, \n",
    "    represented as a matrix of state (row) vectors.\n",
    "    \n",
    "    Each row has: period in days; radius in Earth radii; eccentricity; cosine of inclination; impact parameter;\n",
    "    time of first transit in BJD; fractional transit depth; transit duration in days; is_detected (bool).\n",
    "    '''\n",
    "    params_size = 9 # [period, radius, ecc, cosincl, impact param b, t0, transit depth d, transit duration D, is_detected]\n",
    "    planets = np.empty(shape=(num_planets, params_size))\n",
    "    bucket = np.random.choice(f.size, p=f.flatten())\n",
    "    k = 0\n",
    "    fails = 0\n",
    "    while k < num_planets:\n",
    "        i, j = bucket // f.shape[1], bucket % f.shape[1]\n",
    "        synth_p = np.exp(np.random.uniform(log_p[i], log_p[i+1]))\n",
    "        synth_r = np.exp(np.random.uniform(log_r[j], log_r[j+1]))\n",
    "        ecc = stats.rayleigh(scale=0.03).rvs()\n",
    "        cosincl = np.random.uniform(0, 1) \n",
    "        r = synth_r / star.radius * 0.009158 # conversion from R_earth to R_sun\n",
    "        b = np.random.uniform(0, 1) # Hsu 2018 ignores the possibility of b > 1\n",
    "        t0 = np.random.uniform()\n",
    "        d = r ** 2\n",
    "        aor = get_a(synth_p, star.mass) / star.radius\n",
    "        arcsin_arg = np.sqrt((1 + r) ** 2 - b ** 2) / aor\n",
    "        if arcsin_arg > 1:\n",
    "            fails += 1\n",
    "            #print(r, b)\n",
    "        D = (synth_p / np.pi) * np.arcsin(arcsin_arg)\n",
    "        tau0 = synth_p * b / (2 * np.pi * cosincl * np.sqrt(1 - ecc ** 2)) * 1 / (aor ** 2)\n",
    "        T = 2 * tau0 * np.sqrt(1 - b ** 2)\n",
    "        tau = 2 * tau0 * r / np.sqrt(1 - b ** 2)\n",
    "        f0 = 1\n",
    "        texp = 1765.5 / 60 / 60 / 24 # s to days\n",
    "        gamma = 1 / (6.5 / 60 / 60 / 24) # inverse s to inverse days\n",
    "        sigma = 1 # 'model uncertainty'\n",
    "\n",
    "        price_uncertainty_params = [d, T, tau, f0, texp, synth_p, gamma, sigma]\n",
    "        var_d = abs(price_rogers_2014_binned.prVarDelta(*price_uncertainty_params)) # abs is stopgap\n",
    "        var_D = 2 * abs(price_rogers_2014_binned.prVarTau(*price_uncertainty_params)) + abs(\n",
    "            price_rogers_2014_binned.prVarTc(*price_uncertainty_params))\n",
    "        var_b = abs(price_rogers_2014_binned.prVarBsq(*price_uncertainty_params))\n",
    "        \n",
    "        d += np.random.normal(0, np.sqrt(var_d))\n",
    "        # D += np.random.normal(0, np.sqrt(var_D))\n",
    "        # b += np.random.normal(0, np.sqrt(var_b))\n",
    "        if all([b > 0, d > 0, D > 0, arcsin_arg <= 1]):\n",
    "            detection = 1 # pcomp(star, synth_p, synth_r, ecc)\n",
    "            planets[k] = np.array([synth_p, synth_r, ecc, cosincl, b, t0, d, D, bool(np.random.binomial(1, detection))])\n",
    "            k += 1\n",
    "            fails = 0\n",
    "        else:\n",
    "            fails += 1\n",
    "        if fails > 5:\n",
    "            bad_kepids.append(star.kepid)\n",
    "            return np.empty((0, params_size))\n",
    "        \n",
    "    return planets"
   ]
  },
  {
   "cell_type": "code",
   "execution_count": 36,
   "metadata": {},
   "outputs": [],
   "source": [
    "planet_catalog = np.empty((0, 9))\n",
    "num_stars = len(stellar)\n",
    "nums_planets = np.minimum(stats.poisson(lam).rvs((num_stars,)), 10)\n",
    "stellar_sample = [row for row in stellar.sample(n=num_stars).iterrows()]"
   ]
  },
  {
   "cell_type": "code",
   "execution_count": 37,
   "metadata": {},
   "outputs": [
    {
     "data": {
      "application/vnd.jupyter.widget-view+json": {
       "model_id": "c550149896f34e14b9e1aa34f9955569",
       "version_major": 2,
       "version_minor": 0
      },
      "text/plain": [
       "HBox(children=(FloatProgress(value=0.0, max=198917.0), HTML(value='')))"
      ]
     },
     "metadata": {},
     "output_type": "display_data"
    },
    {
     "name": "stderr",
     "output_type": "stream",
     "text": [
      "/Users/adityasengupta/Library/Python/3.7/lib/python/site-packages/ipykernel_launcher.py:32: RuntimeWarning: invalid value encountered in arcsin\n"
     ]
    },
    {
     "name": "stdout",
     "output_type": "stream",
     "text": [
      "\n"
     ]
    }
   ],
   "source": [
    "for i, (j, star) in enumerate(tqdm(stellar_sample)): \n",
    "    num_planets = nums_planets[i]\n",
    "    new_planets = generate_planets(f, star, num_planets)"
   ]
  },
  {
   "cell_type": "code",
   "execution_count": 38,
   "metadata": {},
   "outputs": [
    {
     "data": {
      "text/plain": [
       "178"
      ]
     },
     "execution_count": 38,
     "metadata": {},
     "output_type": "execute_result"
    }
   ],
   "source": [
    "len(set(bad_kepids) & set(kois.kepid))"
   ]
  },
  {
   "cell_type": "code",
   "execution_count": 42,
   "metadata": {},
   "outputs": [],
   "source": [
    "len(bad_kepids)\n",
    "np.save('./bad_kepids.npy', np.array(bad_kepids))"
   ]
  },
  {
   "cell_type": "code",
   "execution_count": 45,
   "metadata": {},
   "outputs": [
    {
     "data": {
      "application/vnd.jupyter.widget-view+json": {
       "model_id": "e40be08f34db43c984adc07e2963cbcc",
       "version_major": 2,
       "version_minor": 0
      },
      "text/plain": [
       "HBox(children=(FloatProgress(value=0.0, max=198917.0), HTML(value='')))"
      ]
     },
     "metadata": {},
     "output_type": "display_data"
    },
    {
     "name": "stderr",
     "output_type": "stream",
     "text": [
      "/Users/adityasengupta/Library/Python/3.7/lib/python/site-packages/ipykernel_launcher.py:32: RuntimeWarning: invalid value encountered in arcsin\n"
     ]
    },
    {
     "name": "stdout",
     "output_type": "stream",
     "text": [
      "\n"
     ]
    }
   ],
   "source": [
    "for i, (j, star) in enumerate(tqdm(stellar_sample)):\n",
    "    if star.kepid not in bad_kepids:\n",
    "        planet_catalog = np.vstack((planet_catalog, generate_planets(f, star, num_planets)))\n",
    "        \n",
    "np.save('./planet_catalog.npy', np.array(planet_catalog))"
   ]
  },
  {
   "cell_type": "code",
   "execution_count": 48,
   "metadata": {},
   "outputs": [
    {
     "data": {
      "text/plain": [
       "(array([142758.,  18333.,   8315.,   4977.,   3812.,   2807.,   2389.,\n",
       "          2102.,   1896.,   1632.]),\n",
       " array([  0.50002554,  32.44655417,  64.3930828 ,  96.33961143,\n",
       "        128.28614006, 160.23266869, 192.17919732, 224.12572595,\n",
       "        256.07225458, 288.01878322, 319.96531185]),\n",
       " <a list of 10 Patch objects>)"
      ]
     },
     "execution_count": 48,
     "metadata": {},
     "output_type": "execute_result"
    },
    {
     "data": {
      "image/png": "[encoded data removed]",
      "text/plain": [
       "<Figure size 432x288 with 1 Axes>"
      ]
     },
     "metadata": {
      "needs_background": "light"
     },
     "output_type": "display_data"
    }
   ],
   "source": [
    "plt.hist(planet_catalog[:,0])"
   ]
  },
  {
   "cell_type": "code",
   "execution_count": 49,
   "metadata": {},
   "outputs": [
    {
     "data": {
      "text/plain": [
       "189021"
      ]
     },
     "execution_count": 49,
     "metadata": {},
     "output_type": "execute_result"
    }
   ],
   "source": [
    "len(planet_catalog)"
   ]
  },
  {
   "cell_type": "code",
   "execution_count": 16,
   "metadata": {},
   "outputs": [
    {
     "name": "stdout",
     "output_type": "stream",
     "text": [
      "-4.7346408106031984e-05\n"
     ]
    }
   ],
   "source": [
    "i = 1\n",
    "p = combined['koi_period'][i]\n",
    "r = combined['koi_prad'][i]\n",
    "rstar = combined['radius'][i]\n",
    "ror = r / rstar * 0.009158\n",
    "d = ror ** 2\n",
    "b = combined['koi_impact'][i]\n",
    "cosincl = np.cos(combined['koi_incl'][i] * np.pi / 180)\n",
    "ecc = stats.rayleigh(scale=0.03).rvs() * 0\n",
    "aor = get_a(p, combined['mass'][i]) / rstar\n",
    "tau0 = p * b / (2 * np.pi * cosincl * np.sqrt(1 - ecc ** 2)) * 1 / (aor ** 2)\n",
    "T = 2 * tau0 * np.sqrt(1 - b ** 2)\n",
    "D = (p / np.pi) * np.arcsin(np.sqrt((1 + p / rstar) ** 2 - b ** 2) / aor)\n",
    "tau0 = p * b / (2 * np.pi * cosincl * np.sqrt(1 - ecc ** 2)) * 1 / (aor ** 2)\n",
    "T = 2 * tau0 * np.sqrt(1 - b ** 2)\n",
    "tau = 2 * tau0 * r / np.sqrt(1 - b ** 2)\n",
    "f0 = 1\n",
    "texp = 1765.5 / 60 / 60 / 24 # s to days\n",
    "gamma = 1 / (6.5 / 60 / 60 / 24) # inverse s to inverse days\n",
    "sigma = 1 # 'model uncertainty'\n",
    "price_uncertainty_params = [d, T, tau, f0, texp, p, gamma, sigma]\n",
    "print(price_rogers_2014_binned.prVarDelta(*price_uncertainty_params))"
   ]
  }
 ],
 "metadata": {
  "kernelspec": {
   "display_name": "Python 3",
   "language": "python",
   "name": "python3"
  },
  "language_info": {
   "codemirror_mode": {
    "name": "ipython",
    "version": 3
   },
   "file_extension": ".py",
   "mimetype": "text/x-python",
   "name": "python",
   "nbconvert_exporter": "python",
   "pygments_lexer": "ipython3",
   "version": "3.7.7"
  }
 },
 "nbformat": 4,
 "nbformat_minor": 2
}
