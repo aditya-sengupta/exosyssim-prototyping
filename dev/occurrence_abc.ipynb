{
 "cells": [
  {
   "cell_type": "markdown",
   "metadata": {},
   "source": [
    "## Aim\n",
    "\n",
    "Compute an ABC occurrence rate estimate, and compare results with ```occurrence_mcmc```."
   ]
  },
  {
   "cell_type": "code",
   "execution_count": 43,
   "metadata": {},
   "outputs": [
    {
     "name": "stdout",
     "output_type": "stream",
     "text": [
      "The autoreload extension is already loaded. To reload it, use:\n",
      "  %reload_ext autoreload\n"
     ]
    }
   ],
   "source": [
    "import numpy as np\n",
    "from matplotlib import pyplot as plt\n",
    "%matplotlib inline\n",
    "import pandas as pd\n",
    "from scipy import optimize, stats, linalg\n",
    "from utils import dfm\n",
    "from utils.abc import ABCSampler\n",
    "# import astroabc\n",
    "from utils import price_rogers_2014_binned\n",
    "\n",
    "%load_ext autoreload\n",
    "%autoreload 2"
   ]
  },
  {
   "cell_type": "markdown",
   "metadata": {},
   "source": [
    "My ABC setup requires\n",
    "\n",
    "- a prior occurrence estimate that gets updated over time.\n",
    "- a candidate generator for the model parameters $\\theta$, i.e. a ```stats.continuous_rv/stats.discrete_rv``` object whose .rvs() method returns candidate parameters.\n",
    "- a sampler for $f(x \\mid \\theta)$\n",
    "- distance and statistic functions\n",
    "- data to fit\n",
    "\n",
    "I'm not 100% sure how any of these work."
   ]
  },
  {
   "cell_type": "code",
   "execution_count": 5,
   "metadata": {},
   "outputs": [],
   "source": [
    "kois = dfm.get_kois()\n",
    "stellar = dfm.get_stellar()\n",
    "kois = kois[kois[\"kepid\"].isin(stellar[\"kepid\"])]\n",
    "# kois = dfm.kois_cuts(kois) - don't do the cuts! Not enough data to work with otherwise\n",
    "\n",
    "# the only part of the cuts that is necessary is to get rid of NaN radii\n",
    "kois = kois[np.isfinite(kois[\"koi_prad\"])]"
   ]
  },
  {
   "cell_type": "code",
   "execution_count": 6,
   "metadata": {},
   "outputs": [
    {
     "name": "stdout",
     "output_type": "stream",
     "text": [
      "[192950   5222    508    153     59     21      2      2]\n"
     ]
    },
    {
     "data": {
      "text/plain": [
       "Text(0, 0.5, 'Counts')"
      ]
     },
     "execution_count": 6,
     "metadata": {},
     "output_type": "execute_result"
    },
    {
     "data": {
      "image/png": "[encoded data removed]",
      "text/plain": [
       "<Figure size 432x288 with 1 Axes>"
      ]
     },
     "metadata": {
      "needs_background": "light"
     },
     "output_type": "display_data"
    }
   ],
   "source": [
    "#starcounts = np.concatenate((np.array(pd.crosstab(index=kois['kepid'], columns=\"count\")).flatten(), np.zeros((len(stellar[~stellar[\"kepid\"].isin(kois[\"kepid\"])]),))))\n",
    "zerocounts = len(stellar[~stellar[\"kepid\"].isin(kois[\"kepid\"])])\n",
    "solarsyssizes = np.array(pd.crosstab(index=kois['kepid'], columns=\"count\")).flatten()\n",
    "bincounts = np.bincount(solarsyssizes)\n",
    "bincounts[0] = zerocounts\n",
    "print(bincounts)\n",
    "plt.hist(solarsyssizes)\n",
    "plt.xlabel(\"Planets per star\")\n",
    "plt.ylabel(\"Counts\")"
   ]
  },
  {
   "cell_type": "markdown",
   "metadata": {},
   "source": [
    "Now the dataset has sufficient complexity to fit a Poisson process."
   ]
  },
  {
   "cell_type": "code",
   "execution_count": 7,
   "metadata": {},
   "outputs": [],
   "source": [
    "assert np.all(np.isfinite(kois[\"koi_prad\"]))\n",
    "assert np.all(np.isfinite(kois[\"koi_period\"]))\n",
    "koi_radii = kois[\"koi_prad\"]\n",
    "koi_periods = kois[\"koi_period\"]"
   ]
  },
  {
   "cell_type": "code",
   "execution_count": 299,
   "metadata": {},
   "outputs": [],
   "source": [
    "# lam = np.mean(solarsyssizes)\n",
    "lam = sum([i * k for i, k in enumerate(bincounts)]) / sum(bincounts)\n",
    "planet_numbers = np.minimum(stats.poisson(lam).rvs(size=(len(stellar),)), 10)        "
   ]
  },
  {
   "cell_type": "code",
   "execution_count": 300,
   "metadata": {},
   "outputs": [
    {
     "data": {
      "text/plain": [
       "(array([1.91901e+05, 0.00000e+00, 0.00000e+00, 6.88500e+03, 0.00000e+00,\n",
       "        0.00000e+00, 1.30000e+02, 0.00000e+00, 0.00000e+00, 1.00000e+00]),\n",
       " array([0. , 0.3, 0.6, 0.9, 1.2, 1.5, 1.8, 2.1, 2.4, 2.7, 3. ]),\n",
       " <a list of 10 Patch objects>)"
      ]
     },
     "execution_count": 300,
     "metadata": {},
     "output_type": "execute_result"
    },
    {
     "data": {
      "image/png": "[encoded data removed]",
      "text/plain": [
       "<Figure size 432x288 with 1 Axes>"
      ]
     },
     "metadata": {
      "needs_background": "light"
     },
     "output_type": "display_data"
    }
   ],
   "source": [
    "plt.hist(planet_numbers)"
   ]
  },
  {
   "cell_type": "code",
   "execution_count": 301,
   "metadata": {},
   "outputs": [
    {
     "data": {
      "text/plain": [
       "7148"
      ]
     },
     "execution_count": 301,
     "metadata": {},
     "output_type": "execute_result"
    }
   ],
   "source": [
    "sum(planet_numbers)"
   ]
  },
  {
   "cell_type": "code",
   "execution_count": 10,
   "metadata": {},
   "outputs": [],
   "source": [
    "period = np.array([0.5, 1.25, 2.5, 5, 10, 20, 40, 80, 160, 320])\n",
    "rp = np.array([0.5, 0.75, 1, 1.25, 1.5, 1.75, 2, 2.5, 3, 4, 6, 8, 12, 16])\n",
    "log_p, log_r = np.log(period), np.log(rp)\n",
    "period_rng = (min(period), max(period))\n",
    "rp_rng = (min(rp), max(rp))\n",
    "\n",
    "f = np.histogram2d(koi_periods, koi_radii, bins=[period, rp])[0]\n",
    "f /= np.sum(f)"
   ]
  },
  {
   "cell_type": "code",
   "execution_count": 11,
   "metadata": {},
   "outputs": [
    {
     "data": {
      "text/plain": [
       "<matplotlib.colorbar.Colorbar at 0x11978cf90>"
      ]
     },
     "execution_count": 11,
     "metadata": {},
     "output_type": "execute_result"
    },
    {
     "data": {
      "image/png": "[encoded data removed]",
      "text/plain": [
       "<Figure size 432x288 with 2 Axes>"
      ]
     },
     "metadata": {
      "needs_background": "light"
     },
     "output_type": "display_data"
    }
   ],
   "source": [
    "plt.imshow(f) # I guess that's sorta like an H-R diagram?\n",
    "plt.colorbar()"
   ]
  },
  {
   "cell_type": "code",
   "execution_count": 303,
   "metadata": {},
   "outputs": [
    {
     "name": "stdout",
     "output_type": "stream",
     "text": [
      "Generated planet with period 21.256 days, radius 2.345 Earth radii, eccentricity 0.029, cos of orbital inclination 0.261.\n"
     ]
    }
   ],
   "source": [
    "bucket = np.random.choice(f.size, p=f.flatten())\n",
    "i, j = bucket // f.shape[1], bucket % f.shape[1]\n",
    "synth_p = np.exp(np.random.uniform(log_p[i], log_p[i+1]))\n",
    "synth_r = np.exp(np.random.uniform(log_r[j], log_r[j+1]))\n",
    "ecc = stats.rayleigh(scale=0.03).rvs()\n",
    "cosincl = np.random.uniform(-1, 1)\n",
    "print(\"Generated planet with period {0} days, radius {1} Earth radii, eccentricity {2}, cos of orbital inclination {3}.\".format(np.round(synth_p, 3), np.round(synth_r, 3), np.round(ecc, 3), np.round(cosincl, 3)))"
   ]
  },
  {
   "cell_type": "code",
   "execution_count": 13,
   "metadata": {},
   "outputs": [],
   "source": [
    "from scipy.stats import gamma\n",
    "\n",
    "def get_duration(period, aor, e):\n",
    "    \"\"\"\n",
    "    Equation (1) from Burke et al. This estimates the transit\n",
    "    duration in the same units as the input period. There is a\n",
    "    typo in the paper (24/4 = 6 != 4).\n",
    "    \n",
    "    :param period: the period in any units of your choosing\n",
    "    :param aor:    the dimensionless semi-major axis (scaled\n",
    "                   by the stellar radius)\n",
    "    :param e:      the eccentricity of the orbit\n",
    "    \n",
    "    \"\"\"\n",
    "    return 0.25 * period * np.sqrt(1 - e**2) / aor\n",
    "\n",
    "def get_a(period, mstar, Go4pi=2945.4625385377644/(4*np.pi*np.pi)):\n",
    "    \"\"\"\n",
    "    Compute the semi-major axis of an orbit in Solar radii.\n",
    "    \n",
    "    :param period: the period in days\n",
    "    :param mstar:  the stellar mass in Solar masses\n",
    "    \n",
    "    \"\"\"\n",
    "    return (Go4pi*period*period*mstar) ** (1./3)\n",
    "\n",
    "def get_delta(k, c=1.0874, s=1.0187):\n",
    "    \"\"\"\n",
    "    Estimate the approximate expected transit depth as a function\n",
    "    of radius ratio. There might be a typo here. In the paper it\n",
    "    uses c + s*k but in the public code, it is c - s*k:\n",
    "    https://github.com/christopherburke/KeplerPORTs\n",
    "    \n",
    "    :param k: the dimensionless radius ratio between the planet and\n",
    "              the star\n",
    "    \n",
    "    \"\"\"\n",
    "    delta_max = k*k * (c + s*k)\n",
    "    return 0.84 * delta_max\n",
    "\n",
    "cdpp_cols = [k for k in stellar.keys() if k.startswith(\"rrmscdpp\")]\n",
    "cdpp_vals = np.array([k[-4:].replace(\"p\", \".\") for k in cdpp_cols], dtype=float)\n",
    "def get_mes(star, period, rp, tau, re=0.009171):\n",
    "    \"\"\"\n",
    "    Estimate the multiple event statistic value for a transit.\n",
    "    \n",
    "    :param star:   a pandas row giving the stellar properties\n",
    "    :param period: the period in days\n",
    "    :param rp:     the planet radius in Earth radii\n",
    "    :param tau:    the transit duration in hours\n",
    "    \n",
    "    \"\"\"\n",
    "    # Interpolate to the correct CDPP for the duration.\n",
    "    cdpp = np.array(star[cdpp_cols], dtype=float)\n",
    "    sigma = np.interp(tau, cdpp_vals, cdpp)\n",
    "\n",
    "    # Compute the radius ratio and estimate the S/N.\n",
    "    k = rp * re / star.radius\n",
    "    snr = get_delta(k) * 1e6 / sigma\n",
    "    \n",
    "    # Scale by the estimated number of transits.\n",
    "    ntrn = star.dataspan * star.dutycycle / period \n",
    "    return snr * np.sqrt(ntrn)\n",
    "\n",
    "# Pre-compute and freeze the gamma function from Equation (5) in\n",
    "# Burke et al.\n",
    "pgam = gamma(4.65, loc=0., scale=0.98)\n",
    "mesthres_cols = [k for k in stellar.keys() if k.startswith(\"mesthres\")]\n",
    "mesthres_vals = np.array([k[-4:].replace(\"p\", \".\") for k in mesthres_cols],\n",
    "                         dtype=float)\n",
    "def get_pdet(star, aor, period, rp, e):\n",
    "    \"\"\"\n",
    "    Equation (5) from Burke et al. Estimate the detection efficiency\n",
    "    for a transit.\n",
    "    \n",
    "    :param star:   a pandas row giving the stellar properties\n",
    "    :param aor:    the dimensionless semi-major axis (scaled\n",
    "                   by the stellar radius)\n",
    "    :param period: the period in days\n",
    "    :param rp:     the planet radius in Earth radii\n",
    "    :param e:      the orbital eccentricity\n",
    "    \n",
    "    \"\"\"\n",
    "    tau = get_duration(period, aor, e) * 24.\n",
    "    mes = get_mes(star, period, rp, tau)\n",
    "    mest = np.interp(tau, mesthres_vals,\n",
    "                     np.array(star[mesthres_cols],\n",
    "                              dtype=float))\n",
    "    x = mes - 4.1 - (mest - 7.1)\n",
    "    return pgam.cdf(x)\n",
    "\n",
    "def get_pwin(star, period):\n",
    "    \"\"\"\n",
    "    Equation (6) from Burke et al. Estimates the window function\n",
    "    using a binomial distribution.\n",
    "    \n",
    "    :param star:   a pandas row giving the stellar properties\n",
    "    :param period: the period in days\n",
    "    \n",
    "    \"\"\"\n",
    "    M = star.dataspan / period\n",
    "    f = star.dutycycle\n",
    "    omf = 1.0 - f\n",
    "    pw = 1 - omf**M - M*f*omf**(M-1) - 0.5*M*(M-1)*f*f*omf**(M-2)\n",
    "    msk = (pw >= 0.0) * (M >= 2.0)\n",
    "    return pw * msk\n",
    "\n",
    "def get_pgeom(aor, e):\n",
    "    \"\"\"\n",
    "    The geometric transit probability.\n",
    "    \n",
    "    See e.g. Kipping (2014) for the eccentricity factor\n",
    "    http://arxiv.org/abs/1408.1393\n",
    "    \n",
    "    :param aor: the dimensionless semi-major axis (scaled\n",
    "                by the stellar radius)\n",
    "    :param e:   the orbital eccentricity\n",
    "    \"\"\"\n",
    "    # do I not want a cos(i) in here?\n",
    "    return 1. / (aor * (1 - e*e)) * (aor > 1.0)\n",
    "\n",
    "def pcomp(star, period, rp, e, with_geom=True):\n",
    "    \"\"\"\n",
    "    A helper function to combine all the completeness effects.\n",
    "    \n",
    "    :param star:      a pandas row giving the stellar properties\n",
    "    :param period:    the period in days\n",
    "    :param rp:        the planet radius in Earth radii\n",
    "    :param e:         the orbital eccentricity\n",
    "    :param with_geom: include the geometric transit probability?\n",
    "    \n",
    "    \"\"\"\n",
    "    aor = get_a(period, star.mass) / star.radius\n",
    "    pdet = get_pdet(star, aor, period, rp, e)\n",
    "    pwin = get_pwin(star, period)\n",
    "    if not with_geom:\n",
    "        return pdet * pwin\n",
    "    pgeom = get_pgeom(aor, e)\n",
    "    return pdet * pwin * pgeom"
   ]
  },
  {
   "cell_type": "code",
   "execution_count": 14,
   "metadata": {},
   "outputs": [
    {
     "name": "stderr",
     "output_type": "stream",
     "text": [
      "/usr/local/lib/python3.7/site-packages/pandas/core/computation/expressions.py:178: UserWarning: evaluating in Python space because the '*' operator is not supported by numexpr for the bool dtype, use '&' instead\n",
      "  f\"evaluating in Python space because the {repr(op_str)} \"\n"
     ]
    },
    {
     "data": {
      "text/plain": [
       "(array([4.047e+03, 1.538e+03, 6.090e+02, 3.740e+02, 2.710e+02, 1.700e+02,\n",
       "        3.600e+01, 1.100e+01, 7.000e+00, 1.000e+00]),\n",
       " array([0.        , 0.05934643, 0.11869286, 0.17803929, 0.23738572,\n",
       "        0.29673215, 0.35607858, 0.41542501, 0.47477144, 0.53411787,\n",
       "        0.5934643 ]),\n",
       " <a list of 10 Patch objects>)"
      ]
     },
     "execution_count": 14,
     "metadata": {},
     "output_type": "execute_result"
    },
    {
     "data": {
      "image/png": "[encoded data removed]",
      "text/plain": [
       "<Figure size 432x288 with 1 Axes>"
      ]
     },
     "metadata": {
      "needs_background": "light"
     },
     "output_type": "display_data"
    }
   ],
   "source": [
    "combined = pd.merge(kois, stellar, on='kepid')\n",
    "plt.hist(pcomp(combined.iloc[0], combined['koi_period'], combined['koi_prad'], combined['koi_eccen']))"
   ]
  },
  {
   "cell_type": "code",
   "execution_count": 296,
   "metadata": {},
   "outputs": [],
   "source": [
    "def generate_planets(f, star, num_planets=1):\n",
    "    '''\n",
    "    Takes in the occurrence rate matrix f and generates `num_planets' planets, \n",
    "    represented as a matrix of state (row) vectors.\n",
    "    \n",
    "    Each row has: period in days; radius in Earth radii; eccentricity; cosine of inclination; impact parameter;\n",
    "    time of first transit in BJD; fractional transit depth; transit duration in days; is_detected (bool).\n",
    "    '''\n",
    "    params_size = 9 # [period, radius, ecc, cosincl, impact param b, t0, transit depth d, transit duration D, is_detected]\n",
    "    planets = np.empty(shape=(num_planets, params_size))\n",
    "    bucket = np.random.choice(f.size, p=f.flatten())\n",
    "    k = 0\n",
    "    while k < num_planets:\n",
    "        i, j = bucket // f.shape[1], bucket % f.shape[1]\n",
    "        synth_p = np.exp(np.random.uniform(log_p[i], log_p[i+1]))\n",
    "        synth_r = np.exp(np.random.uniform(log_r[j], log_r[j+1]))\n",
    "        ecc = stats.rayleigh(scale=0.03).rvs()\n",
    "        cosincl = np.random.uniform(0, 1) \n",
    "        r = synth_r / star.radius * 0.009158 # conversion from R_earth to R_sun\n",
    "        b = np.random.uniform(0, 1) # Hsu 2018 ignores the possibility of b > 1\n",
    "        t0 = np.random.uniform(min(combined['koi_time0']), max(combined['koi_time0']))\n",
    "        d = r ** 2\n",
    "        aor = get_a(synth_p, star.mass) / star.radius\n",
    "        D = (synth_p / np.pi) * np.arcsin(np.sqrt((1 + synth_p / star.radius) ** 2 - b ** 2) / aor)\n",
    "        tau0 = synth_p * b / (2 * np.pi * cosincl * np.sqrt(1 - ecc ** 2)) * 1 / (aor ** 2)\n",
    "        T = 2 * tau0 * np.sqrt(1 - b ** 2)\n",
    "        tau = 2 * tau0 * r / np.sqrt(1 - b ** 2)\n",
    "        f0 = 1\n",
    "        texp = 1765.5 / 60 / 60 / 24 # s to days\n",
    "        gamma = 1 / (6.5 / 60 / 60 / 24) # inverse s to inverse days\n",
    "        sigma = 1 # 'model uncertainty'\n",
    "\n",
    "        price_uncertainty_params = [d, T, tau, f0, texp, synth_p, gamma, sigma]\n",
    "        var_d = abs(price_rogers_2014_binned.prVarDelta(*price_uncertainty_params)) # abs is stopgap\n",
    "        var_D = 2 * abs(price_rogers_2014_binned.prVarTau(*price_uncertainty_params)) + abs(\n",
    "            price_rogers_2014_binned.prVarTc(*price_uncertainty_params))\n",
    "        var_b = abs(price_rogers_2014_binned.prVarBsq(*price_uncertainty_params))\n",
    "        \n",
    "        d += np.random.normal(0, np.sqrt(var_d))\n",
    "        # D += np.random.normal(0, np.sqrt(var_D))\n",
    "        # b += np.random.normal(0, np.sqrt(var_b))\n",
    "        if all([b > 0, d > 0, D > 0]):\n",
    "            detection = pcomp(star, synth_p, synth_r, ecc)\n",
    "            planets[k] = np.array([synth_p, synth_r, ecc, cosincl, b, t0, d, D, bool(np.random.binomial(1, detection))])\n",
    "            k += 1\n",
    "        \n",
    "    return planets"
   ]
  },
  {
   "cell_type": "code",
   "execution_count": 297,
   "metadata": {},
   "outputs": [
    {
     "name": "stdout",
     "output_type": "stream",
     "text": [
      "0.029265457454224354\n"
     ]
    },
    {
     "data": {
      "text/plain": [
       "array([[2.57168260e+01, 2.04392423e+00, 2.24428183e-02, 6.98702958e-01,\n",
       "        1.70275642e-01, 2.45531957e+06, 6.53431781e-02, 6.88855322e+00,\n",
       "        0.00000000e+00]])"
      ]
     },
     "execution_count": 297,
     "metadata": {},
     "output_type": "execute_result"
    }
   ],
   "source": [
    "generate_planets(f, stellar[stellar.kepid == stellar.kepid[0]].iloc[0])"
   ]
  },
  {
   "cell_type": "code",
   "execution_count": 279,
   "metadata": {},
   "outputs": [
    {
     "data": {
      "text/plain": [
       "198917"
      ]
     },
     "execution_count": 279,
     "metadata": {},
     "output_type": "execute_result"
    }
   ],
   "source": [
    "len(stellar)"
   ]
  },
  {
   "cell_type": "code",
   "execution_count": 225,
   "metadata": {},
   "outputs": [
    {
     "name": "stdout",
     "output_type": "stream",
     "text": [
      "-4.7346408106031984e-05\n"
     ]
    }
   ],
   "source": [
    "i = 1\n",
    "p = combined['koi_period'][i]\n",
    "r = combined['koi_prad'][i]\n",
    "rstar = combined['radius'][i]\n",
    "ror = r / rstar * 0.009158\n",
    "d = ror ** 2\n",
    "b = combined['koi_impact'][i]\n",
    "cosincl = np.cos(combined['koi_incl'][i] * np.pi / 180)\n",
    "ecc = stats.rayleigh(scale=0.03).rvs() * 0\n",
    "aor = get_a(p, combined['mass'][i]) / rstar\n",
    "tau0 = p * b / (2 * np.pi * cosincl * np.sqrt(1 - ecc ** 2)) * 1 / (aor ** 2)\n",
    "T = 2 * tau0 * np.sqrt(1 - b ** 2)\n",
    "D = (p / np.pi) * np.arcsin(np.sqrt((1 + p / rstar) ** 2 - b ** 2) / aor)\n",
    "tau0 = p * b / (2 * np.pi * cosincl * np.sqrt(1 - ecc ** 2)) * 1 / (aor ** 2)\n",
    "T = 2 * tau0 * np.sqrt(1 - b ** 2)\n",
    "tau = 2 * tau0 * r / np.sqrt(1 - b ** 2)\n",
    "f0 = 1\n",
    "texp = 1765.5 / 60 / 60 / 24 # s to days\n",
    "gamma = 1 / (6.5 / 60 / 60 / 24) # inverse s to inverse days\n",
    "sigma = 1 # 'model uncertainty'\n",
    "price_uncertainty_params = [d, T, tau, f0, texp, p, gamma, sigma]\n",
    "print(price_rogers_2014_binned.prVarDelta(*price_uncertainty_params))"
   ]
  },
  {
   "cell_type": "code",
   "execution_count": 194,
   "metadata": {},
   "outputs": [
    {
     "data": {
      "text/plain": [
       "0.02190529526203517"
      ]
     },
     "execution_count": 194,
     "metadata": {},
     "output_type": "execute_result"
    }
   ],
   "source": [
    "tau"
   ]
  },
  {
   "cell_type": "code",
   "execution_count": 195,
   "metadata": {},
   "outputs": [
    {
     "data": {
      "text/plain": [
       "0.058336909693605124"
      ]
     },
     "execution_count": 195,
     "metadata": {},
     "output_type": "execute_result"
    }
   ],
   "source": [
    "T"
   ]
  },
  {
   "cell_type": "code",
   "execution_count": 167,
   "metadata": {},
   "outputs": [
    {
     "data": {
      "text/plain": [
       "(array([1264.,  946.,  720.,  567.,  455.,  458.,  434.,  377.,  354.,\n",
       "         518.]),\n",
       " array([0.     , 0.09992, 0.19984, 0.29976, 0.39968, 0.4996 , 0.59952,\n",
       "        0.69944, 0.79936, 0.89928, 0.9992 ]),\n",
       " <a list of 10 Patch objects>)"
      ]
     },
     "execution_count": 167,
     "metadata": {},
     "output_type": "execute_result"
    },
    {
     "data": {
      "image/png": "[encoded data removed]",
      "text/plain": [
       "<Figure size 432x288 with 1 Axes>"
      ]
     },
     "metadata": {
      "needs_background": "light"
     },
     "output_type": "display_data"
    }
   ],
   "source": [
    "plt.hist(combined['koi_impact'][combined['koi_impact'] < 1])"
   ]
  },
  {
   "cell_type": "code",
   "execution_count": 277,
   "metadata": {},
   "outputs": [
    {
     "data": {
      "text/plain": [
       "93.16"
      ]
     },
     "execution_count": 277,
     "metadata": {},
     "output_type": "execute_result"
    }
   ],
   "source": [
    "max(kois['koi_duration'])"
   ]
  },
  {
   "cell_type": "code",
   "execution_count": null,
   "metadata": {},
   "outputs": [],
   "source": []
  }
 ],
 "metadata": {
  "kernelspec": {
   "display_name": "Python 3",
   "language": "python",
   "name": "python3"
  },
  "language_info": {
   "codemirror_mode": {
    "name": "ipython",
    "version": 3
   },
   "file_extension": ".py",
   "mimetype": "text/x-python",
   "name": "python",
   "nbconvert_exporter": "python",
   "pygments_lexer": "ipython3",
   "version": "3.7.7"
  }
 },
 "nbformat": 4,
 "nbformat_minor": 2
}
