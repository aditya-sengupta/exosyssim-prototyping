{
 "cells": [
  {
   "cell_type": "code",
   "execution_count": 1,
   "metadata": {},
   "outputs": [],
   "source": [
    "using ExoplanetsSysSim"
   ]
  },
  {
   "cell_type": "code",
   "execution_count": 2,
   "metadata": {},
   "outputs": [],
   "source": [
    "using CORBITS"
   ]
  },
  {
   "cell_type": "code",
   "execution_count": 3,
   "metadata": {},
   "outputs": [
    {
     "data": {
      "text/plain": [
       "true"
      ]
     },
     "execution_count": 3,
     "metadata": {},
     "output_type": "execute_result"
    }
   ],
   "source": [
    "include(joinpath(dirname(pathof(CORBITS)),\"..\",\"test\",\"runtests.jl\"))"
   ]
  },
  {
   "cell_type": "code",
   "execution_count": 4,
   "metadata": {},
   "outputs": [
    {
     "ename": "LoadError",
     "evalue": "InterruptException:",
     "output_type": "error",
     "traceback": [
      "InterruptException:",
      "",
      "Stacktrace:",
      " [1] getproperty at ./Base.jl:33 [inlined]",
      " [2] (::ExoplanetsSysSim.var\"#integrand#63\"{Float64,KeplerTarget,Float64,Float64,Float64,Float64,Float64,Float64})(::Float64) at /Users/adityasengupta/.julia/dev/ExoplanetsSysSim/src/transit_detection_model.jl:708",
      " [3] iterate at ./generator.jl:47 [inlined]",
      " [4] collect_to! at ./array.jl:711 [inlined]",
      " [5] collect_to_with_first!(::Array{Float64,1}, ::Float64, ::Base.Generator{Array{Float64,1},ExoplanetsSysSim.var\"#integrand#63\"{Float64,KeplerTarget,Float64,Float64,Float64,Float64,Float64,Float64}}, ::Int64) at ./array.jl:689",
      " [6] _collect(::Array{Float64,1}, ::Base.Generator{Array{Float64,1},ExoplanetsSysSim.var\"#integrand#63\"{Float64,KeplerTarget,Float64,Float64,Float64,Float64,Float64,Float64}}, ::Base.EltypeUnknown, ::Base.HasShape{1}) at ./array.jl:683",
      " [7] collect_similar at ./array.jl:607 [inlined]",
      " [8] map at ./abstractarray.jl:2072 [inlined]",
      " [9] calc_ave_prob_detect_if_transit_from_snr(::KeplerTarget, ::Float64, ::Float64, ::Float64, ::Float64, ::Float64, ::SimParam; num_transit::Float64) at /Users/adityasengupta/.julia/dev/ExoplanetsSysSim/src/transit_detection_model.jl:718",
      " [10] calc_target_obs_sky_ave(::KeplerTarget, ::SimParam) at /Users/adityasengupta/.julia/dev/ExoplanetsSysSim/src/transit_observations.jl:810",
      " [11] test_transit_observations(::SimParam; verbose::Bool) at /Users/adityasengupta/.julia/dev/ExoplanetsSysSim/src/transit_observations.jl:971",
      " [12] test_transit_observations at /Users/adityasengupta/.julia/dev/ExoplanetsSysSim/src/transit_observations.jl:960 [inlined]",
      " [13] run_constructor_tests() at /Users/adityasengupta/.julia/dev/ExoplanetsSysSim/test/runtests.jl:18",
      " [14] top-level scope at /Users/adityasengupta/.julia/dev/ExoplanetsSysSim/test/runtests.jl:24",
      " [15] include(::String) at ./client.jl:439",
      " [16] top-level scope at In[4]:1"
     ]
    }
   ],
   "source": [
    "include(joinpath(dirname(pathof(ExoplanetsSysSim)),\"..\",\"test\",\"runtests.jl\"))"
   ]
  },
  {
   "cell_type": "code",
   "execution_count": 8,
   "metadata": {},
   "outputs": [
    {
     "name": "stdout",
     "output_type": "stream",
     "text": [
      "[:BinaryStar, :CatalogSummaryStatistics, :ExoplanetsSysSim, :KeplerObsCatalog, :KeplerPhysicalCatalog, :KeplerTarget, :KeplerTargetObs, :LimbDarkeningParam4thOrder, :LimbDarkeningParamAbstract, :LimbDarkeningParamLinear, :LimbDarkeningParamQuadratic, :Orbit, :Planet, :PlanetarySystem, :PlanetarySystemAbstract, :PlanetarySystemSingleStar, :SimParam, :SimulationParameters, :SingleStar, :Star, :StarAbstract, :StellarTable, :SysSimIO, :SystemPlane, :TestEvalModel, :WindowFunction, :add_param_active, :add_param_fixed, :calc_distance_vector_demo, :calc_if_near_resonance, :calc_scalar_distance, :calc_summary_stats_obs_demo, :calc_summary_stats_sim_pass_one_demo, :calc_summary_stats_sim_pass_two_demo, :cdf_lognormal, :cdf_power_law, :combine_scalar_distances, :compute_allowed_regions_cdf_lognormal, :compute_allowed_regions_cdf_power_law, :compute_regions_non_overlapping, :compute_unstable_mutualHill_regions_periodscales_given_clusters, :compute_unstable_regions_periods_given_planets, :depth_at_midpoint, :dist_L1_abs, :dist_L1_fractional, :dist_L2_abs, :dist_L2_fractional, :distance_canberra, :distance_cosine, :distance_poisson_draw, :distance_poisson_likelihood, :distance_sum_of_bernoulli_draws, :draw_lognormal_allowed_regions, :draw_period_lognormal_allowed_regions, :draw_period_lognormal_allowed_regions_Hill, :draw_period_lognormal_allowed_regions_mutualHill, :draw_periodscale_power_law_allowed_regions_mutualHill, :draw_power_law, :draw_power_law_allowed_regions, :draw_segmented_uniform, :draw_truncated_poisson, :eval_window_function, :flux, :generate_kepler_physical_catalog, :generate_kepler_target_from_table, :generate_kepler_target_simple, :generate_stars, :get, :get_any, :get_function, :get_int, :get_range_for_sim_param, :get_real, :get_window_function_data, :get_window_function_id, :haskey, :invert_cdf_lognormal, :invert_cdf_power_law, :is_active, :is_period_ratio_near_resonance, :load_distances, :load_sim_param, :load_summary_stats, :make_vector_of_active_param_keys, :make_vector_of_sim_param, :map_square_to_triangle, :mass, :num_planets, :num_usable_in_star_table, :observe_kepler_targets_single_obs, :observe_kepler_targets_sky_avg, :period_given_semimajor_axis, :ratio_from_depth, :read_koi_catalog, :save_sim_param, :save_sim_results, :semimajor_axis, :set_active, :set_inactive, :set_star_table, :setup_OSD_interp, :setup_actual_planet_candidate_catalog, :setup_sim_param_demo, :setup_star_table, :setup_window_function, :simulated_read_kepler_observations, :star_table, :star_table_has_key, :test_eval_model, :test_stability, :update_param, :update_sim_param_from_vector!]"
     ]
    }
   ],
   "source": [
    "show(names(ExoplanetsSysSim))"
   ]
  },
  {
   "cell_type": "code",
   "execution_count": 9,
   "metadata": {},
   "outputs": [
    {
     "name": "stdout",
     "output_type": "stream",
     "text": [
      "Random seed: 6164\n"
     ]
    },
    {
     "ename": "UndefVarError",
     "evalue": "UndefVarError: generate_and_save_physical_and_observed_catalogs not defined",
     "output_type": "error",
     "traceback": [
      "UndefVarError: generate_and_save_physical_and_observed_catalogs not defined",
      "",
      "Stacktrace:",
      " [1] top-level scope at In[9]:17"
     ]
    }
   ],
   "source": [
    "# https://github.com/ExoJulia/SysSimExClusters/blob/master/examples/generate_catalogs.jl\n",
    "\n",
    "dir_path = dirname(@__FILE__)\n",
    "\n",
    "#include(joinpath(dir_path, \"../src/clusters.jl\"))\n",
    "#include(joinpath(dir_path, \"../src/planetary_catalog.jl\"))\n",
    "\n",
    "##### To generate one physical and observed catalog:\n",
    "\n",
    "sim_param = setup_sim_param_demo()\n",
    "add_param_fixed(sim_param,\"num_targets_sim_pass_one\", 79935*5)\n",
    "\n",
    "using Random\n",
    "rng_seed = rand(1:10000)\n",
    "println(\"Random seed: \", rng_seed)\n",
    "Random.seed!(rng_seed)\n",
    "\n",
    "cat_phys, cat_phys_cut, cat_obs, summary_stat = generate_and_save_physical_and_observed_catalogs(sim_param)\n",
    "println(\"Finished generating physical and observed catalogs.\")"
   ]
  },
  {
   "cell_type": "code",
   "execution_count": null,
   "metadata": {},
   "outputs": [],
   "source": []
  }
 ],
 "metadata": {
  "kernelspec": {
   "display_name": "Julia 1.4.2",
   "language": "julia",
   "name": "julia-1.4"
  },
  "language_info": {
   "file_extension": ".jl",
   "mimetype": "application/julia",
   "name": "julia",
   "version": "1.4.2"
  }
 },
 "nbformat": 4,
 "nbformat_minor": 2
}
