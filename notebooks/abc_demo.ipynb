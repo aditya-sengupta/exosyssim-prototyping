{
 "cells": [
  {
   "cell_type": "markdown",
   "metadata": {},
   "source": [
    "## Aim\n",
    "\n",
    "Write a general ABC sampler, to understand the technique and to apply it to exoplanet occurrence problems."
   ]
  },
  {
   "cell_type": "code",
   "execution_count": 1,
   "metadata": {},
   "outputs": [],
   "source": [
    "import numpy as np\n",
    "import scipy\n",
    "import scipy.stats as stats\n",
    "import functools"
   ]
  },
  {
   "cell_type": "code",
   "execution_count": 9,
   "metadata": {},
   "outputs": [],
   "source": [
    "class ABCSampler:\n",
    "    def __init__(self, prior, candidate_getter, distance=lambda a, b: abs(a - b), statistic=np.mean):\n",
    "        '''\n",
    "        prior : stats.rv_continuous or stats.rv_discrete object.\n",
    "        Samples from the prior distribution over the parameters.\n",
    "        Takes in nothing.\n",
    "        Returns numpy.ndarray of parameters.\n",
    "\n",
    "        candidate_getter : function\n",
    "        Gets candidate samplers of the posterior distribution.\n",
    "        Takes in parameters, as returned by prior.\n",
    "        Returns function 'candidate' that samples from the candidate distribution, \n",
    "        to be compared to true data, which\n",
    "            Takes in the number of sample points to return.\n",
    "            Returns numpy.ndarray of sample points of the desired shape.\n",
    "        '''\n",
    "        self.prior = prior\n",
    "        self.candidate_getter = candidate_getter\n",
    "        self.distance = distance\n",
    "        self.statistic = statistic\n",
    "        \n",
    "    def sample(self, data, prior=None, max_iters=float('inf'), threshold=1e-1):\n",
    "        '''\n",
    "        data : numpy.ndarray\n",
    "        Data that we want to fit. \n",
    "        Arbitrary shape, but a row should match the return type of candidate.\n",
    "\n",
    "        max_iters : scalar\n",
    "        The number of times to try and accept a candidate.\n",
    "\n",
    "        threshold : scalar\n",
    "        The maximum value of distance allowable to accept candidate.\n",
    "        '''\n",
    "        num_iters = 0\n",
    "        if prior is None:\n",
    "            prior = self.prior\n",
    "        while True:\n",
    "            params = prior.rvs()\n",
    "            candidate = self.candidate_getter(params)\n",
    "            synthetic = candidate(data.shape[0])\n",
    "            dis = self.distance(self.statistic(synthetic), self.statistic(data))\n",
    "            if dis <= threshold:\n",
    "                return params\n",
    "            num_iters += 1\n",
    "            if num_iters > max_iters:\n",
    "                return None\n",
    "            \n",
    "    def sample_pmc(self, data, thresholds, num_walkers):\n",
    "        '''\n",
    "        Carries out population Monte Carlo ABC, based on Beaumont et al. (2009).\n",
    "        https://arxiv.org/pdf/0805.2256.pdf\n",
    "        '''\n",
    "        sampler = functools.partial(self.sample, data=data, max_iters=float('inf'))\n",
    "        params_matrix = np.array([sampler(threshold=thresholds[0]) for _ in range(num_walkers)])\n",
    "        weights = np.ones((num_walkers,)) / num_walkers\n",
    "        tau = 2 * np.cov(params_matrix.T)\n",
    "        for thresh in thresholds[1:]:\n",
    "            new_params_matrix = np.empty_like(params_matrix)\n",
    "            new_weights = np.empty_like(weights)\n",
    "            for i in range(num_walkers):\n",
    "                center = params_matrix[np.random.choice(num_walkers, p=weights)]\n",
    "                sampling_normal = stats.multivariate_normal(center, tau)\n",
    "                param_i = sampler(prior=sampling_normal, threshold=thresh)\n",
    "                new_params_matrix[i] = param_i\n",
    "                new_weights[i] = prior.pdf(param_i) / np.dot(weights, np.prod(stats.norm.pdf(\n",
    "                    np.linalg.inv(scipy.linalg.sqrtm(tau)).dot((param_i - params_matrix).T)), axis=0)) # is the sqrtm needed?\n",
    "            params_matrix = new_params_matrix\n",
    "            weights = new_weights / sum(new_weights)\n",
    "        return np.mean(params_matrix, axis=0) # average the final results"
   ]
  },
  {
   "cell_type": "code",
   "execution_count": 10,
   "metadata": {},
   "outputs": [
    {
     "data": {
      "text/plain": [
       "array([49.99957201, 11.34914444])"
      ]
     },
     "execution_count": 10,
     "metadata": {},
     "output_type": "execute_result"
    }
   ],
   "source": [
    "# First simple example: a Gaussian fit you can do with MLE.\n",
    "# Suppose we've sampled data from N(50, 10), but our best guess is it's N(N(40, 20), N(11, 2)).\n",
    "prior = stats.multivariate_normal(np.array([40, 11]), np.diag([20, 2]))\n",
    "def candidate_getter(p):\n",
    "    def candidate(size):\n",
    "        return np.random.normal(p[0], np.abs(p[1]), size)\n",
    "    return candidate\n",
    "\n",
    "gaussian_sampler = ABCSampler(prior, candidate_getter)\n",
    "gaussian_sampler.sample(np.random.normal(50, 10, (100,)))"
   ]
  },
  {
   "cell_type": "code",
   "execution_count": 11,
   "metadata": {},
   "outputs": [
    {
     "data": {
      "text/plain": [
       "array([48.77746338, 11.90057682])"
      ]
     },
     "execution_count": 11,
     "metadata": {},
     "output_type": "execute_result"
    }
   ],
   "source": [
    "# and now, PMC!\n",
    "# let's do the same exact problem as in the first one\n",
    "gaussian_sampler.sample_pmc(np.random.normal(50, 10, (100,)), [0.5, 0.1, 0.01, 0.001], 10)"
   ]
  },
  {
   "cell_type": "code",
   "execution_count": 12,
   "metadata": {},
   "outputs": [
    {
     "data": {
      "text/plain": [
       "20.12162930203327"
      ]
     },
     "execution_count": 12,
     "metadata": {},
     "output_type": "execute_result"
    }
   ],
   "source": [
    "# Exp(22) but we estimate Exp(max(0, N(20, 2)))\n",
    "prior = stats.halfnorm(20, 2)\n",
    "def candidate_getter(p):\n",
    "    def candidate(size):\n",
    "        return np.random.exponential(p, size)\n",
    "    return candidate\n",
    "\n",
    "exp_sampler = ABCSampler(prior, candidate_getter)\n",
    "exp_sampler.sample(np.random.exponential(22, (100,)), threshold=0.001)"
   ]
  },
  {
   "cell_type": "markdown",
   "metadata": {},
   "source": [
    "1. https://arxiv.org/pdf/1802.09720.pdf"
   ]
  }
 ],
 "metadata": {
  "kernelspec": {
   "display_name": "Python 3",
   "language": "python",
   "name": "python3"
  },
  "language_info": {
   "codemirror_mode": {
    "name": "ipython",
    "version": 3
   },
   "file_extension": ".py",
   "mimetype": "text/x-python",
   "name": "python",
   "nbconvert_exporter": "python",
   "pygments_lexer": "ipython3",
   "version": "3.7.7"
  }
 },
 "nbformat": 4,
 "nbformat_minor": 4
}
