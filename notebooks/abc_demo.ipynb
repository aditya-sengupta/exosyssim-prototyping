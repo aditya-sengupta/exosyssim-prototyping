{
 "cells": [
  {
   "cell_type": "markdown",
   "metadata": {},
   "source": [
    "## Aim\n",
    "\n",
    "Write a general ABC sampler, to understand the technique and to apply it to exoplanet occurrence problems."
   ]
  },
  {
   "cell_type": "code",
   "execution_count": 1,
   "metadata": {},
   "outputs": [],
   "source": [
    "import numpy as np\n",
    "import scipy\n",
    "import scipy.stats as stats\n",
    "import functools\n",
    "import sys\n",
    "sys.path.append('..')\n",
    "from dev.abc import ABCSampler"
   ]
  },
  {
   "cell_type": "code",
   "execution_count": 2,
   "metadata": {},
   "outputs": [
    {
     "output_type": "execute_result",
     "data": {
      "text/plain": "array([47.61204177, 12.45079239])"
     },
     "metadata": {},
     "execution_count": 2
    }
   ],
   "source": [
    "# First simple example: a Gaussian fit you can do with MLE.\n",
    "# Suppose we've sampled data from N(50, 10), but our best guess is it's N(N(40, 20), N(11, 2)).\n",
    "prior = stats.multivariate_normal(np.array([40, 11]), np.diag([20, 2]))\n",
    "def candidate_getter(p):\n",
    "    def candidate(size):\n",
    "        return np.random.normal(p[0], np.abs(p[1]), size)\n",
    "    return candidate\n",
    "\n",
    "gaussian_sampler = ABCSampler(prior, candidate_getter)\n",
    "gaussian_sampler.sample(np.random.normal(50, 10, (100,)))"
   ]
  },
  {
   "cell_type": "code",
   "execution_count": 5,
   "metadata": {},
   "outputs": [
    {
     "output_type": "execute_result",
     "data": {
      "text/plain": "array([48.80986608,  9.74304066])"
     },
     "metadata": {},
     "execution_count": 5
    }
   ],
   "source": [
    "# and now, PMC!\n",
    "# let's do the same exact problem as in the first one\n",
    "gaussian_sampler.sample_pmc(np.random.normal(50, 10, (100,)), [0.5, 0.1, 0.01, 0.001, 0.0001], 10)"
   ]
  },
  {
   "cell_type": "code",
   "execution_count": 7,
   "metadata": {},
   "outputs": [
    {
     "output_type": "execute_result",
     "data": {
      "text/plain": "21.834187274790743"
     },
     "metadata": {},
     "execution_count": 7
    }
   ],
   "source": [
    "# Exp(22) but we estimate Exp(max(0, N(20, 2)))\n",
    "prior = stats.halfnorm(21, 2)\n",
    "def candidate_getter(p):\n",
    "    def candidate(size):\n",
    "        return np.random.exponential(p, size)\n",
    "    return candidate\n",
    "\n",
    "exp_sampler = ABCSampler(prior, candidate_getter)\n",
    "exp_sampler.sample(np.random.exponential(22, (100,)), threshold=0.001)"
   ]
  },
  {
   "cell_type": "markdown",
   "metadata": {},
   "source": [
    "1. https://arxiv.org/pdf/1802.09720.pdf"
   ]
  }
 ],
 "metadata": {
  "kernelspec": {
   "display_name": "Python 3",
   "language": "python",
   "name": "python3"
  },
  "language_info": {
   "codemirror_mode": {
    "name": "ipython",
    "version": 3
   },
   "file_extension": ".py",
   "mimetype": "text/x-python",
   "name": "python",
   "nbconvert_exporter": "python",
   "pygments_lexer": "ipython3",
   "version": "3.7.3-final"
  }
 },
 "nbformat": 4,
 "nbformat_minor": 4
}