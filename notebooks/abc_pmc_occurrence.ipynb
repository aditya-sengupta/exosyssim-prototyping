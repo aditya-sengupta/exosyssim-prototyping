{
 "cells": [
  {
   "cell_type": "code",
   "execution_count": 1,
   "metadata": {},
   "outputs": [],
   "source": [
    "import sys\n",
    "sys.path.append('..')\n",
    "import numpy as np\n",
    "from dev.abc_occurrence import OccurrenceABCSampler, kois_to_synth_catalog\n",
    "from dev.dataprocessing import get_paired_kepler_catalogs"
   ]
  },
  {
   "cell_type": "code",
   "execution_count": 2,
   "metadata": {},
   "outputs": [],
   "source": [
    "kois, stellar = get_paired_kepler_catalogs()\n",
    "period_bins = np.array([0.5, 1.25, 2.5, 5, 10, 20, 40, 80, 160, 320])\n",
    "rp_bins = np.array([0.5, 0.75, 1, 1.25, 1.5, 1.75, 2, 2.5, 3, 4, 6, 8, 12, 16])\n",
    "stellar_sample = stellar.sample(n=100)\n",
    "sampler = OccurrenceABCSampler(period_bins, rp_bins, stellar_sample)\n",
    "kois_abc = kois_to_synth_catalog(period_bins, rp_bins, kois=kois, stellar=stellar)"
   ]
  },
  {
   "cell_type": "code",
   "execution_count": 3,
   "metadata": {},
   "outputs": [
    {
     "name": "stdout",
     "output_type": "stream",
     "text": [
      "[[3.11493307e-01 2.64870304e-01 1.99853962e+00 3.32966003e+00\n",
      "  3.55272710e-01 4.40447158e-03 8.01692464e-01 2.11625681e+00\n",
      "  1.95241267e-01 3.17808169e-01 3.51679619e-01 3.19563589e-01\n",
      "  8.13709860e-01 7.40422453e-01 6.44565578e-02 1.44655193e+00\n",
      "  4.93818291e-01 5.10175030e-01 1.39281737e+00 1.53154225e+00\n",
      "  1.36128524e+00 3.21913225e-01 5.03746420e-01 4.48998162e-01\n",
      "  7.55416548e-01 2.61931194e+00 2.05751686e-01 8.10971272e-01\n",
      "  2.01421195e-01 7.94827865e-01 2.11084775e+00 1.63306545e-01\n",
      "  3.14165134e+00 9.56886332e-01 2.30970280e-01 5.25598439e-02\n",
      "  4.28062334e-01 4.95398411e-01 1.20544736e+00 1.68328961e+00\n",
      "  4.48323802e-01 8.60762072e-02 2.43584298e+00 1.92280213e+00\n",
      "  1.41623254e+00 4.56228466e-01 8.62507373e-01 3.18400001e+00\n",
      "  6.82632224e-01 1.20859744e+00 2.90920407e-01 2.29223425e-03\n",
      "  3.11934468e-01 2.08106596e+00 1.64083626e-01 7.29321839e-01\n",
      "  1.88521072e+00 1.89521481e+00 2.07301705e+00 8.89933409e-01\n",
      "  7.66132810e-01 2.06171577e+00 3.72086484e-01 1.67152345e-01\n",
      "  3.12521262e-01 2.07955798e+00 6.57187370e-01 2.25853038e+00\n",
      "  1.57184359e-01 2.35528257e-01 6.69902840e-01 2.01364588e+00\n",
      "  1.17355336e+00 2.31705770e+00 6.70098030e-01 1.06117210e+00\n",
      "  4.36210864e-01 9.89190028e-03 1.71180024e+00 1.27678122e+00\n",
      "  1.99331079e+00 9.15648355e-01 2.45413368e-01 5.13123770e-01\n",
      "  4.55249430e-01 1.64360827e-01 2.99609451e+00 2.30002301e+00\n",
      "  6.59110358e-01 5.55986512e-01 3.24265879e-01 1.22594332e+00\n",
      "  1.08834714e+00 2.10433845e-01 4.64484829e-01 1.19260563e+00\n",
      "  8.06519201e-02 1.99450701e+00 7.31821637e-01 9.34735009e-02\n",
      "  2.50449342e+00 2.38488847e+00 5.88708427e-01 1.89377345e+00\n",
      "  1.50347629e+00 1.08952452e+00 6.94820224e-01 1.84991697e+00\n",
      "  9.37880367e-01 1.06271887e+00 3.07775700e+00 1.95018054e-01\n",
      "  2.12351629e+00 3.74944316e-01 2.12263101e+00 3.76376100e-02\n",
      "  1.76408964e+00 1.25497768e+00 7.95763844e-01 1.26579814e+00\n",
      "  4.93040715e-01 5.33020471e-01 2.49390839e-02 3.85746911e-02\n",
      "  2.61798914e-01 4.51889680e-01 5.88028776e-01 9.77346298e-01\n",
      "  5.09687402e-01 9.32246532e-01 1.68477022e+00 1.38958599e-01\n",
      "  1.25117846e-01 6.73254421e-01 2.45122931e+00 6.46599607e-01\n",
      "  5.37470515e-02 2.60583892e-01 4.87753240e-01 2.10547042e+00]\n",
      " [6.78186538e-02 3.45704164e-01 1.69565870e+00 4.65771599e-01\n",
      "  1.87679599e+00 3.39267811e-01 2.23663523e-01 2.80470804e-01\n",
      "  6.27892074e-01 1.04028635e+00 6.16647590e-01 2.21225410e+00\n",
      "  4.23826452e-02 2.21018513e+00 3.79492050e+00 1.39285875e-01\n",
      "  7.45502151e-01 3.44669320e+00 4.35607690e+00 6.62221554e-01\n",
      "  2.35408333e+00 6.93633439e-01 5.90152539e-01 1.13865153e+00\n",
      "  5.04721354e-01 1.08335461e+00 7.71866376e-02 1.44418724e+00\n",
      "  1.02039375e+00 8.22750620e-01 1.43830324e+00 4.50295726e-01\n",
      "  1.46711656e+00 3.91666298e+00 9.18662602e-01 8.63983850e-02\n",
      "  7.65916200e-01 1.02567971e+00 4.68978937e-01 2.85824683e+00\n",
      "  8.50261809e-01 9.57222233e-01 1.03189901e+00 7.47151537e-01\n",
      "  2.19520081e+00 6.15945845e-03 3.23610628e-01 1.04330478e+00\n",
      "  2.87934118e-01 6.08089229e-01 2.30378263e+00 3.39429215e-01\n",
      "  7.48622171e-01 6.43717454e-01 4.27350458e-01 1.65859189e-01\n",
      "  7.32357821e-01 5.13414480e-01 3.26760917e-01 2.31715861e+00\n",
      "  4.63629721e-01 2.61976062e-01 2.37540380e-02 5.26078183e-03\n",
      "  3.36969192e-01 3.60396738e-02 8.23312892e-01 1.03886433e-01\n",
      "  3.29253149e-01 1.20218535e+00 1.01766574e+00 3.62103958e-01\n",
      "  1.16866677e+00 1.46115487e-01 3.57597491e-01 1.21289021e+00\n",
      "  7.48935267e-01 1.51549772e+00 9.06148827e-01 3.89780758e-02\n",
      "  3.00863627e-03 2.19719060e-02 6.89687759e-01 1.67813886e+00\n",
      "  7.80189365e-02 6.43187409e-01 2.83515169e-02 2.42426612e-01\n",
      "  1.40398853e+00 1.19818048e+00 1.14574156e+00 7.07719112e-01\n",
      "  7.11523268e-01 1.16491056e+00 3.34069384e+00 1.10666228e+00\n",
      "  5.09486273e-01 6.86300637e-01 7.31792294e-01 4.01063330e-01\n",
      "  8.49146408e-01 1.08749971e+00 1.16491548e+00 1.15323011e+00\n",
      "  1.44143749e-01 1.24096166e-01 3.29072241e-01 7.00752778e-01\n",
      "  1.96420263e-02 2.39596610e-01 2.46490290e-01 9.46947459e-02\n",
      "  3.14384562e-01 3.31627585e-01 1.08636817e+00 1.16048788e+00\n",
      "  8.03147828e-01 6.84425055e-02 2.58329393e-01 3.09917935e+00\n",
      "  5.97596192e-01 9.16261104e-01 9.73037935e-02 2.02755830e-01\n",
      "  2.74601175e+00 2.72025581e+00 1.46511864e+00 3.43319179e+00\n",
      "  2.21639387e+00 1.60750715e+00 1.02043127e+00 3.62951078e-02\n",
      "  2.29978866e+00 1.84251937e-01 1.43747502e-01 1.66564426e+00\n",
      "  6.80293838e-01 2.92858208e+00 2.14813408e-01 8.98180788e-01]]\n"
     ]
    },
    {
     "ename": "LinAlgError",
     "evalue": "singular matrix",
     "output_type": "error",
     "traceback": [
      "\u001b[0;31m---------------------------------------------------------------------------\u001b[0m",
      "\u001b[0;31mLinAlgError\u001b[0m                               Traceback (most recent call last)",
      "\u001b[0;32m<ipython-input-3-dc81de1db61b>\u001b[0m in \u001b[0;36m<module>\u001b[0;34m\u001b[0m\n\u001b[0;32m----> 1\u001b[0;31m \u001b[0mabc_pmc_f\u001b[0m \u001b[0;34m=\u001b[0m \u001b[0msampler\u001b[0m\u001b[0;34m.\u001b[0m\u001b[0msample_pmc\u001b[0m\u001b[0;34m(\u001b[0m\u001b[0mkois_abc\u001b[0m\u001b[0;34m,\u001b[0m \u001b[0;34m[\u001b[0m\u001b[0;36m1e-1\u001b[0m\u001b[0;34m,\u001b[0m \u001b[0;36m1e-2\u001b[0m\u001b[0;34m,\u001b[0m \u001b[0;36m1e-3\u001b[0m\u001b[0;34m,\u001b[0m \u001b[0;36m1e-4\u001b[0m\u001b[0;34m,\u001b[0m \u001b[0;36m1e-5\u001b[0m\u001b[0;34m,\u001b[0m \u001b[0;36m1e-6\u001b[0m\u001b[0;34m]\u001b[0m\u001b[0;34m,\u001b[0m \u001b[0;36m2\u001b[0m\u001b[0;34m)\u001b[0m\u001b[0;34m\u001b[0m\u001b[0;34m\u001b[0m\u001b[0m\n\u001b[0m",
      "\u001b[0;32m~/projects/pals/occurrence-rates/dev/abc_generic.py\u001b[0m in \u001b[0;36msample_pmc\u001b[0;34m(self, data, thresholds, num_walkers)\u001b[0m\n\u001b[1;32m     68\u001b[0m             \u001b[0;32mfor\u001b[0m \u001b[0mi\u001b[0m \u001b[0;32min\u001b[0m \u001b[0mrange\u001b[0m\u001b[0;34m(\u001b[0m\u001b[0mnum_walkers\u001b[0m\u001b[0;34m)\u001b[0m\u001b[0;34m:\u001b[0m\u001b[0;34m\u001b[0m\u001b[0;34m\u001b[0m\u001b[0m\n\u001b[1;32m     69\u001b[0m                 \u001b[0mcenter\u001b[0m \u001b[0;34m=\u001b[0m \u001b[0mparams_matrix\u001b[0m\u001b[0;34m[\u001b[0m\u001b[0mnp\u001b[0m\u001b[0;34m.\u001b[0m\u001b[0mrandom\u001b[0m\u001b[0;34m.\u001b[0m\u001b[0mchoice\u001b[0m\u001b[0;34m(\u001b[0m\u001b[0mnum_walkers\u001b[0m\u001b[0;34m,\u001b[0m \u001b[0mp\u001b[0m\u001b[0;34m=\u001b[0m\u001b[0mweights\u001b[0m\u001b[0;34m)\u001b[0m\u001b[0;34m]\u001b[0m\u001b[0;34m\u001b[0m\u001b[0;34m\u001b[0m\u001b[0m\n\u001b[0;32m---> 70\u001b[0;31m                 \u001b[0msampling_normal\u001b[0m \u001b[0;34m=\u001b[0m \u001b[0mstats\u001b[0m\u001b[0;34m.\u001b[0m\u001b[0mmultivariate_normal\u001b[0m\u001b[0;34m(\u001b[0m\u001b[0mcenter\u001b[0m\u001b[0;34m,\u001b[0m \u001b[0mtau\u001b[0m\u001b[0;34m)\u001b[0m\u001b[0;34m\u001b[0m\u001b[0;34m\u001b[0m\u001b[0m\n\u001b[0m\u001b[1;32m     71\u001b[0m                 \u001b[0mparam_i\u001b[0m \u001b[0;34m=\u001b[0m \u001b[0msampler\u001b[0m\u001b[0;34m(\u001b[0m\u001b[0mprior\u001b[0m\u001b[0;34m=\u001b[0m\u001b[0msampling_normal\u001b[0m\u001b[0;34m,\u001b[0m \u001b[0mthreshold\u001b[0m\u001b[0;34m=\u001b[0m\u001b[0mthresh\u001b[0m\u001b[0;34m)\u001b[0m\u001b[0;34m\u001b[0m\u001b[0;34m\u001b[0m\u001b[0m\n\u001b[1;32m     72\u001b[0m                 \u001b[0mnew_params_matrix\u001b[0m\u001b[0;34m[\u001b[0m\u001b[0mi\u001b[0m\u001b[0;34m]\u001b[0m \u001b[0;34m=\u001b[0m \u001b[0mparam_i\u001b[0m\u001b[0;34m\u001b[0m\u001b[0;34m\u001b[0m\u001b[0m\n",
      "\u001b[0;32m/usr/local/lib/python3.7/site-packages/scipy/stats/_multivariate.py\u001b[0m in \u001b[0;36m__call__\u001b[0;34m(self, mean, cov, allow_singular, seed)\u001b[0m\n\u001b[1;32m    361\u001b[0m         return multivariate_normal_frozen(mean, cov,\n\u001b[1;32m    362\u001b[0m                                           \u001b[0mallow_singular\u001b[0m\u001b[0;34m=\u001b[0m\u001b[0mallow_singular\u001b[0m\u001b[0;34m,\u001b[0m\u001b[0;34m\u001b[0m\u001b[0;34m\u001b[0m\u001b[0m\n\u001b[0;32m--> 363\u001b[0;31m                                           seed=seed)\n\u001b[0m\u001b[1;32m    364\u001b[0m \u001b[0;34m\u001b[0m\u001b[0m\n\u001b[1;32m    365\u001b[0m     \u001b[0;32mdef\u001b[0m \u001b[0m_process_parameters\u001b[0m\u001b[0;34m(\u001b[0m\u001b[0mself\u001b[0m\u001b[0;34m,\u001b[0m \u001b[0mdim\u001b[0m\u001b[0;34m,\u001b[0m \u001b[0mmean\u001b[0m\u001b[0;34m,\u001b[0m \u001b[0mcov\u001b[0m\u001b[0;34m)\u001b[0m\u001b[0;34m:\u001b[0m\u001b[0;34m\u001b[0m\u001b[0;34m\u001b[0m\u001b[0m\n",
      "\u001b[0;32m/usr/local/lib/python3.7/site-packages/scipy/stats/_multivariate.py\u001b[0m in \u001b[0;36m__init__\u001b[0;34m(self, mean, cov, allow_singular, seed, maxpts, abseps, releps)\u001b[0m\n\u001b[1;32m    734\u001b[0m         self.dim, self.mean, self.cov = self._dist._process_parameters(\n\u001b[1;32m    735\u001b[0m                                                             None, mean, cov)\n\u001b[0;32m--> 736\u001b[0;31m         \u001b[0mself\u001b[0m\u001b[0;34m.\u001b[0m\u001b[0mcov_info\u001b[0m \u001b[0;34m=\u001b[0m \u001b[0m_PSD\u001b[0m\u001b[0;34m(\u001b[0m\u001b[0mself\u001b[0m\u001b[0;34m.\u001b[0m\u001b[0mcov\u001b[0m\u001b[0;34m,\u001b[0m \u001b[0mallow_singular\u001b[0m\u001b[0;34m=\u001b[0m\u001b[0mallow_singular\u001b[0m\u001b[0;34m)\u001b[0m\u001b[0;34m\u001b[0m\u001b[0;34m\u001b[0m\u001b[0m\n\u001b[0m\u001b[1;32m    737\u001b[0m         \u001b[0;32mif\u001b[0m \u001b[0;32mnot\u001b[0m \u001b[0mmaxpts\u001b[0m\u001b[0;34m:\u001b[0m\u001b[0;34m\u001b[0m\u001b[0;34m\u001b[0m\u001b[0m\n\u001b[1;32m    738\u001b[0m             \u001b[0mmaxpts\u001b[0m \u001b[0;34m=\u001b[0m \u001b[0;36m1000000\u001b[0m \u001b[0;34m*\u001b[0m \u001b[0mself\u001b[0m\u001b[0;34m.\u001b[0m\u001b[0mdim\u001b[0m\u001b[0;34m\u001b[0m\u001b[0;34m\u001b[0m\u001b[0m\n",
      "\u001b[0;32m/usr/local/lib/python3.7/site-packages/scipy/stats/_multivariate.py\u001b[0m in \u001b[0;36m__init__\u001b[0;34m(self, M, cond, rcond, lower, check_finite, allow_singular)\u001b[0m\n\u001b[1;32m    161\u001b[0m         \u001b[0md\u001b[0m \u001b[0;34m=\u001b[0m \u001b[0ms\u001b[0m\u001b[0;34m[\u001b[0m\u001b[0ms\u001b[0m \u001b[0;34m>\u001b[0m \u001b[0meps\u001b[0m\u001b[0;34m]\u001b[0m\u001b[0;34m\u001b[0m\u001b[0;34m\u001b[0m\u001b[0m\n\u001b[1;32m    162\u001b[0m         \u001b[0;32mif\u001b[0m \u001b[0mlen\u001b[0m\u001b[0;34m(\u001b[0m\u001b[0md\u001b[0m\u001b[0;34m)\u001b[0m \u001b[0;34m<\u001b[0m \u001b[0mlen\u001b[0m\u001b[0;34m(\u001b[0m\u001b[0ms\u001b[0m\u001b[0;34m)\u001b[0m \u001b[0;32mand\u001b[0m \u001b[0;32mnot\u001b[0m \u001b[0mallow_singular\u001b[0m\u001b[0;34m:\u001b[0m\u001b[0;34m\u001b[0m\u001b[0;34m\u001b[0m\u001b[0m\n\u001b[0;32m--> 163\u001b[0;31m             \u001b[0;32mraise\u001b[0m \u001b[0mnp\u001b[0m\u001b[0;34m.\u001b[0m\u001b[0mlinalg\u001b[0m\u001b[0;34m.\u001b[0m\u001b[0mLinAlgError\u001b[0m\u001b[0;34m(\u001b[0m\u001b[0;34m'singular matrix'\u001b[0m\u001b[0;34m)\u001b[0m\u001b[0;34m\u001b[0m\u001b[0;34m\u001b[0m\u001b[0m\n\u001b[0m\u001b[1;32m    164\u001b[0m         \u001b[0ms_pinv\u001b[0m \u001b[0;34m=\u001b[0m \u001b[0m_pinv_1d\u001b[0m\u001b[0;34m(\u001b[0m\u001b[0ms\u001b[0m\u001b[0;34m,\u001b[0m \u001b[0meps\u001b[0m\u001b[0;34m)\u001b[0m\u001b[0;34m\u001b[0m\u001b[0;34m\u001b[0m\u001b[0m\n\u001b[1;32m    165\u001b[0m         \u001b[0mU\u001b[0m \u001b[0;34m=\u001b[0m \u001b[0mnp\u001b[0m\u001b[0;34m.\u001b[0m\u001b[0mmultiply\u001b[0m\u001b[0;34m(\u001b[0m\u001b[0mu\u001b[0m\u001b[0;34m,\u001b[0m \u001b[0mnp\u001b[0m\u001b[0;34m.\u001b[0m\u001b[0msqrt\u001b[0m\u001b[0;34m(\u001b[0m\u001b[0ms_pinv\u001b[0m\u001b[0;34m)\u001b[0m\u001b[0;34m)\u001b[0m\u001b[0;34m\u001b[0m\u001b[0;34m\u001b[0m\u001b[0m\n",
      "\u001b[0;31mLinAlgError\u001b[0m: singular matrix"
     ]
    }
   ],
   "source": [
    "abc_pmc_f = sampler.sample_pmc(kois_abc, [1e-1, 1e-2, 1e-3, 1e-4, 1e-5, 1e-6], 2)"
   ]
  },
  {
   "cell_type": "code",
   "execution_count": null,
   "metadata": {},
   "outputs": [],
   "source": []
  }
 ],
 "metadata": {
  "kernelspec": {
   "display_name": "Python 3",
   "language": "python",
   "name": "python3"
  },
  "language_info": {
   "codemirror_mode": {
    "name": "ipython",
    "version": 3
   },
   "file_extension": ".py",
   "mimetype": "text/x-python",
   "name": "python",
   "nbconvert_exporter": "python",
   "pygments_lexer": "ipython3",
   "version": "3.7.7"
  }
 },
 "nbformat": 4,
 "nbformat_minor": 2
}
