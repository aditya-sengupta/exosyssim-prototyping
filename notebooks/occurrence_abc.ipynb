{
 "cells": [
  {
   "cell_type": "markdown",
   "metadata": {},
   "source": [
    "## Aim\n",
    "\n",
    "Compute an ABC occurrence rate estimate, and compare results with ```occurrence_mcmc```."
   ]
  },
  {
   "cell_type": "code",
   "execution_count": 3,
   "metadata": {},
   "outputs": [],
   "source": [
    "import sys\n",
    "sys.path.append('..')\n",
    "import numpy as np\n",
    "from matplotlib import pyplot as plt\n",
    "%matplotlib inline\n",
    "import pandas as pd\n",
    "from scipy import optimize, stats, linalg\n",
    "from dev.abc import ABCSampler\n",
    "from dev import price_rogers_2014_binned, dataprocessing, completeness\n",
    "from tqdm.notebook import tqdm\n",
    "from scipy.stats import gamma\n",
    "from functools import partial\n",
    "\n",
    "%load_ext autoreload\n",
    "%autoreload 2"
   ]
  },
  {
   "cell_type": "markdown",
   "metadata": {},
   "source": [
    "My ABC setup requires\n",
    "\n",
    "- a prior occurrence estimate.\n",
    "- a candidate generator for the model parameters $\\theta$, i.e. a ```stats.continuous_rv/stats.discrete_rv``` object whose .rvs() method returns candidate parameters.\n",
    "- a sampler for $f(x \\mid \\theta)$\n",
    "- distance and statistic functions\n",
    "- data to fit"
   ]
  },
  {
   "cell_type": "code",
   "execution_count": 4,
   "metadata": {},
   "outputs": [],
   "source": [
    "kois = dataprocessing.get_kois()\n",
    "stellar = dataprocessing.get_stellar()\n",
    "kois = kois[kois[\"kepid\"].isin(stellar[\"kepid\"])]\n",
    "kois = kois[np.isfinite(kois[\"koi_prad\"])]"
   ]
  },
  {
   "cell_type": "code",
   "execution_count": 5,
   "metadata": {},
   "outputs": [
    {
     "name": "stdout",
     "output_type": "stream",
     "text": [
      "[192950   5222    508    153     59     21      2      2]\n"
     ]
    },
    {
     "data": {
      "text/plain": [
       "Text(0, 0.5, 'Counts')"
      ]
     },
     "execution_count": 5,
     "metadata": {},
     "output_type": "execute_result"
    },
    {
     "data": {
      "image/png": "[encoded data removed]",
      "text/plain": [
       "<Figure size 432x288 with 1 Axes>"
      ]
     },
     "metadata": {
      "needs_background": "light"
     },
     "output_type": "display_data"
    }
   ],
   "source": [
    "#starcounts = np.concatenate((np.array(pd.crosstab(index=kois['kepid'], columns=\"count\")).flatten(), np.zeros((len(stellar[~stellar[\"kepid\"].isin(kois[\"kepid\"])]),))))\n",
    "zerocounts = len(stellar[~stellar[\"kepid\"].isin(kois[\"kepid\"])])\n",
    "solarsyssizes = np.array(pd.crosstab(index=kois['kepid'], columns=\"count\")).flatten()\n",
    "bincounts = np.bincount(solarsyssizes)\n",
    "bincounts[0] = zerocounts\n",
    "print(bincounts)\n",
    "plt.hist(solarsyssizes)\n",
    "plt.xlabel(\"Planets per star\")\n",
    "plt.ylabel(\"Counts\")"
   ]
  },
  {
   "cell_type": "markdown",
   "metadata": {},
   "source": [
    "Now the dataset has sufficient complexity to fit a Poisson process."
   ]
  },
  {
   "cell_type": "code",
   "execution_count": 6,
   "metadata": {},
   "outputs": [],
   "source": [
    "assert np.all(np.isfinite(kois[\"koi_prad\"]))\n",
    "assert np.all(np.isfinite(kois[\"koi_period\"]))\n",
    "koi_radii = kois[\"koi_prad\"]\n",
    "koi_periods = kois[\"koi_period\"]"
   ]
  },
  {
   "cell_type": "code",
   "execution_count": 7,
   "metadata": {},
   "outputs": [
    {
     "name": "stdout",
     "output_type": "stream",
     "text": [
      "[61147, 72190, 42677, 16554, 4920, 1157, 224, 42, 5]\n"
     ]
    }
   ],
   "source": [
    "lam = np.mean(solarsyssizes)\n",
    "# lam = sum([i * k for i, k in enumerate(bincounts)]) / sum(bincounts)\n",
    "planet_numbers = np.minimum(stats.poisson(lam).rvs(size=(len(stellar),)), 10) \n",
    "print([sum(planet_numbers == i) for i in range(max(planet_numbers))])"
   ]
  },
  {
   "cell_type": "code",
   "execution_count": 8,
   "metadata": {},
   "outputs": [
    {
     "data": {
      "text/plain": [
       "(array([6.1147e+04, 7.2190e+04, 4.2677e+04, 1.6554e+04, 4.9200e+03,\n",
       "        1.1570e+03, 2.2400e+02, 4.2000e+01, 5.0000e+00, 1.0000e+00]),\n",
       " array([0. , 0.9, 1.8, 2.7, 3.6, 4.5, 5.4, 6.3, 7.2, 8.1, 9. ]),\n",
       " <a list of 10 Patch objects>)"
      ]
     },
     "execution_count": 8,
     "metadata": {},
     "output_type": "execute_result"
    },
    {
     "data": {
      "image/png": "[encoded data removed]",
      "text/plain": [
       "<Figure size 432x288 with 1 Axes>"
      ]
     },
     "metadata": {
      "needs_background": "light"
     },
     "output_type": "display_data"
    }
   ],
   "source": [
    "plt.hist(planet_numbers)"
   ]
  },
  {
   "cell_type": "code",
   "execution_count": 9,
   "metadata": {},
   "outputs": [],
   "source": [
    "period = np.array([0.5, 1.25, 2.5, 5, 10, 20, 40, 80, 160, 320])\n",
    "rp = np.array([0.5, 0.75, 1, 1.25, 1.5, 1.75, 2, 2.5, 3, 4, 6, 8, 12, 16])\n",
    "log_p, log_r = np.log(period), np.log(rp)\n",
    "log_p = np.append(log_p, np.log(640))\n",
    "log_r = np.append(log_r, np.log(20))\n",
    "period_rng = (min(period), max(period))\n",
    "rp_rng = (min(rp), max(rp))\n",
    "\n",
    "f = np.histogram2d(koi_periods, koi_radii, bins=[period, rp])[0]\n",
    "# f = np.ones(shape=(len(period), len(rp)))"
   ]
  },
  {
   "cell_type": "code",
   "execution_count": 10,
   "metadata": {},
   "outputs": [
    {
     "data": {
      "text/plain": [
       "<matplotlib.colorbar.Colorbar at 0x12348b990>"
      ]
     },
     "execution_count": 10,
     "metadata": {},
     "output_type": "execute_result"
    },
    {
     "data": {
      "image/png": "[encoded data removed]",
      "text/plain": [
       "<Figure size 432x288 with 2 Axes>"
      ]
     },
     "metadata": {
      "needs_background": "light"
     },
     "output_type": "display_data"
    }
   ],
   "source": [
    "plt.imshow(np.histogram2d(koi_periods, koi_radii, bins=[period, rp])[0]) # I guess that's sorta like an H-R diagram?\n",
    "plt.colorbar()"
   ]
  },
  {
   "cell_type": "code",
   "execution_count": 44,
   "metadata": {},
   "outputs": [],
   "source": [
    "f = lam * f / np.sum(f)"
   ]
  },
  {
   "cell_type": "code",
   "execution_count": 11,
   "metadata": {},
   "outputs": [
    {
     "name": "stdout",
     "output_type": "stream",
     "text": [
      "Generated planet with period 22.986 days, radius 2.806 Earth radii, eccentricity 0.057, cos of orbital inclination 0.524.\n"
     ]
    }
   ],
   "source": [
    "bucket = np.random.choice(f.size, p=f.flatten() / np.sum(f))\n",
    "i, j = bucket // f.shape[1], bucket % f.shape[1] \n",
    "synth_p = np.exp(np.random.uniform(log_p[i], log_p[i+1]))\n",
    "synth_r = np.exp(np.random.uniform(log_r[j], log_r[j+1]))\n",
    "ecc = stats.rayleigh(scale=0.03).rvs()\n",
    "cosincl = np.random.uniform(-1, 1)\n",
    "print(\"Generated planet with period {0} days, radius {1} Earth radii, eccentricity {2}, cos of orbital inclination {3}.\".format(np.round(synth_p, 3), np.round(synth_r, 3), np.round(ecc, 3), np.round(cosincl, 3)))"
   ]
  },
  {
   "cell_type": "code",
   "execution_count": 12,
   "metadata": {},
   "outputs": [],
   "source": [
    "cdpp_cols = [k for k in stellar.keys() if k.startswith(\"rrmscdpp\")]\n",
    "cdpp_vals = np.array([k[-4:].replace(\"p\", \".\") for k in cdpp_cols], dtype=float)\n",
    "pgam = gamma(4.65, loc=0., scale=0.98)\n",
    "mesthres_cols = [k for k in stellar.keys() if k.startswith(\"mesthres\")]\n",
    "mesthres_vals = np.array([k[-4:].replace(\"p\", \".\") for k in mesthres_cols],\n",
    "                         dtype=float)"
   ]
  },
  {
   "cell_type": "code",
   "execution_count": 13,
   "metadata": {},
   "outputs": [],
   "source": [
    "def pcomp_vectors(stars, periods, rp, eccs):\n",
    "    '''\n",
    "    Self-contained, returns pcomp over matched arrays of planets around stars.\n",
    "    '''\n",
    "    c = 1.0874\n",
    "    s = 1.0187\n",
    "    Go4pi = 2945.4625385377644/(4*np.pi*np.pi)\n",
    "    re = 0.009171\n",
    "    \n",
    "    mstars = np.array(stars['mass'])\n",
    "    rstars = np.array(stars['radius'])\n",
    "    cdpp = np.array(stars[cdpp_cols], dtype=float)\n",
    "    dataspan = np.array(stars['dataspan'])\n",
    "    dutycycle = np.array(stars['dutycycle'])\n",
    "    mesthres_cols_stars = np.array(stars[mesthres_cols], dtype=float)\n",
    "    \n",
    "    aor = (Go4pi*periods*periods*mstars) ** (1./3) / rstars\n",
    "    tau = 6 * periods * np.sqrt(1 - eccs**2) / aor\n",
    "\n",
    "    # sigma = np.apply_along_axis(np.interp, 0, tau, cdpp_vals, cdpp)\n",
    "    sigma = np.array([np.interp(tau[i], cdpp_vals, cdpp[i]) for i in range(len(tau))])\n",
    "    # Compute the radius ratio and estimate the S/N.\n",
    "    k = rp * re / rstars\n",
    "    delta = 0.84 * k*k * (c + s*k)\n",
    "    snr = delta * 1e6 / sigma\n",
    "\n",
    "    # Scale by the estimated number of transits.\n",
    "    ntrn = dataspan * dutycycle / periods\n",
    "    mess = snr * np.sqrt(ntrn)\n",
    "    mest = np.array([np.interp(tau[i], mesthres_vals, mesthres_cols_stars[i]) for i in range(len(tau))])\n",
    "    x = mess - 4.1 - (mest - 7.1)\n",
    "    pdets = pgam.cdf(x)\n",
    "    \n",
    "    M = dataspan / periods\n",
    "    f = dutycycle\n",
    "    omf = 1.0 - f\n",
    "    pw = 1 - omf**M - M*f*omf**(M-1) - 0.5*M*(M-1)*f*f*omf**(M-2)\n",
    "    msk = (pw >= 0.0) & (M >= 2.0)\n",
    "    pwins = pw * msk\n",
    "    \n",
    "    pgeom = 1. / (aor * (1 - eccs*eccs)) * (aor > 1.0)\n",
    "    \n",
    "    return pdets * pwins * pgeom"
   ]
  },
  {
   "cell_type": "code",
   "execution_count": 14,
   "metadata": {},
   "outputs": [
    {
     "name": "stderr",
     "output_type": "stream",
     "text": [
      "/usr/local/lib/python3.7/site-packages/scipy/stats/_distn_infrastructure.py:903: RuntimeWarning: invalid value encountered in greater\n",
      "  return (a < x) & (x < b)\n",
      "/usr/local/lib/python3.7/site-packages/scipy/stats/_distn_infrastructure.py:903: RuntimeWarning: invalid value encountered in less\n",
      "  return (a < x) & (x < b)\n",
      "/usr/local/lib/python3.7/site-packages/scipy/stats/_distn_infrastructure.py:1827: RuntimeWarning: invalid value encountered in greater_equal\n",
      "  cond2 = (x >= np.asarray(_b)) & cond0\n"
     ]
    },
    {
     "data": {
      "text/plain": [
       "(array([5201., 1001.,  470.,  173.,   59.,   27.,   10.,   13.,   11.,\n",
       "           7.]),\n",
       " array([0.        , 0.09990394, 0.19980789, 0.29971183, 0.39961577,\n",
       "        0.49951971, 0.59942366, 0.6993276 , 0.79923154, 0.89913549,\n",
       "        0.99903943]),\n",
       " <a list of 10 Patch objects>)"
      ]
     },
     "execution_count": 14,
     "metadata": {},
     "output_type": "execute_result"
    },
    {
     "data": {
      "image/png": "[encoded data removed]",
      "text/plain": [
       "<Figure size 432x288 with 1 Axes>"
      ]
     },
     "metadata": {
      "needs_background": "light"
     },
     "output_type": "display_data"
    }
   ],
   "source": [
    "combined = pd.merge(kois, stellar, on='kepid')\n",
    "pcomp = partial(completeness.get_completeness, pgam=pgam, mesthres_cols=mesthres_cols, mesthres_vals=mesthres_vals)\n",
    "pcomps = pcomp_vectors(combined, combined['koi_period'], combined['koi_prad'], combined['koi_eccen'])\n",
    "plt.hist(pcomps[~np.isnan(pcomps)])"
   ]
  },
  {
   "cell_type": "code",
   "execution_count": 202,
   "metadata": {},
   "outputs": [],
   "source": [
    "def add_uncertainties(price_uncertainty_params):\n",
    "    '''\n",
    "    Adds uncertainties to parameters based on Price and Rogers (2014).\n",
    "    \n",
    "    Arguments\n",
    "    ---------\n",
    "    price_uncertainty_parameters : list of scalars / numpy.ndarrays.\n",
    "    The parameters in the signature from each of the Price/Rogers variance functions.\n",
    "    (delta, T, tau, f0, texp, Ttot, gamma, sigma).\n",
    "    delta - transit depth\n",
    "    T - full-width at half-max transit time\n",
    "    tau - duration of ingress and egress\n",
    "    f0 - starting flux, which we set to 1.\n",
    "    texp - time of exposure, about 30 minutes for Kepler.\n",
    "    Ttot -  same as P in this case, I think\n",
    "    gamma - sampling rate\n",
    "    sigma - model uncertainty\n",
    "    \n",
    "    Returns\n",
    "    -------\n",
    "    perturbed_parameters : list of scalars / numpy.ndarrays.\n",
    "    The same list, but with white noise added.\n",
    "    '''\n",
    "    var_d = abs(np.vectorize(price_rogers_2014_binned.prVarDelta)(*price_uncertainty_params)) * 0 # abs is stopgap\n",
    "    price_uncertainty_params[0] += np.random.normal(0, np.sqrt(var_d), size=(len(price_uncertainty_params[0]),))\n",
    "    # var_D = 2 * abs(price_rogers_2014_binned.prVarTau(*price_uncertainty_params)) + abs(\n",
    "    #               price_rogers_2014_binned.prVarTc(*price_uncertainty_params))\n",
    "    # var_b = abs(price_rogers_2014_binned.prVarBsq(*price_uncertainty_params))\n",
    "    # D += np.random.normal(0, np.sqrt(var_D))\n",
    "    # b += np.random.normal(0, np.sqrt(var_b))\n",
    "    return price_uncertainty_params\n",
    "\n",
    "def generate_planet_catalog(f, stars):\n",
    "    '''\n",
    "    Takes in the occurrence rate matrix f and generates `num_planets' planets, \n",
    "    represented as a matrix of state (row) vectors.\n",
    "    \n",
    "    Each row has: period in days; radius in Earth radii; eccentricity; cosine of inclination; impact parameter;\n",
    "    time of first transit in BJD; fractional transit depth; transit duration in days; is_detected (bool).\n",
    "    \n",
    "    Arguments\n",
    "    ---------\n",
    "    f : np.ndarray\n",
    "    f = f(r, p); occurrence rate prior that we sample p and r from.\n",
    "    \n",
    "    stars : pd.dataframe\n",
    "    A list of tuples with stellar parameters (may edit this to deal with dataframe later.)\n",
    "    '''\n",
    "    re = 0.009171\n",
    "    planet_params = ['kepid', 'period', 'prad', 'ecc', 'cosincl', 'b', 't0', 'd', 'D']\n",
    "    lam = np.sum(f)\n",
    "    nums_planets = np.minimum(stats.poisson(lam).rvs((num_stars,)), 10)\n",
    "    num_planets = sum(nums_planets)\n",
    "    star_kepids = np.repeat(stars.kepid.values, nums_planets)\n",
    "    star_radius = np.repeat(stars.radius.values, nums_planets)\n",
    "    star_mass = np.repeat(stars.mass.values, nums_planets)\n",
    "    flat_f = f.flatten()\n",
    "    buckets = np.random.choice(f.size, p = flat_f / lam, size=(num_planets,))\n",
    "    p_left_inds = buckets // f.shape[1]\n",
    "    p_right_inds = p_left_inds + 1\n",
    "    r_left_inds = buckets % f.shape[1]\n",
    "    r_right_inds = r_left_inds + 1\n",
    "    periods = np.exp(np.random.uniform(log_p[p_left_inds], log_p[p_right_inds]))\n",
    "    pl_rads = np.exp(np.random.uniform(log_r[r_left_inds], log_r[r_right_inds]))\n",
    "    eccens  = stats.rayleigh(scale=0.03).rvs(size=(num_planets,))\n",
    "    cosincl = np.random.uniform(0, 1, size=(num_planets,))\n",
    "    impacts = np.random.uniform(0, 1, size=(num_planets,))\n",
    "    t0 = np.random.uniform(*t0_range, size=(num_planets,))\n",
    "    ror = pl_rads * re / star_radius\n",
    "    depths = ror ** 2\n",
    "    aor = completeness.get_a(periods, star_mass) / star_radius\n",
    "    arcsin_args = np.sqrt((1 + ror) ** 2 - impacts ** 2) / aor\n",
    "    D = (periods / np.pi) * np.arcsin(arcsin_args)\n",
    "    tau0 = periods * impacts / (2 * np.pi * cosincl * np.sqrt(1 - eccens ** 2)) * 1 / (aor ** 2)\n",
    "    T = 2 * tau0 * np.sqrt(1 - impacts ** 2)\n",
    "    tau = 2 * tau0 * ror / np.sqrt(1 - impacts ** 2)\n",
    "    f0 = 1\n",
    "    texp = 1765.5 / 60 / 60 / 24 # s to days\n",
    "    gamma = 1 / texp # inverse s to inverse days\n",
    "    sigma = 1 # 'model uncertainty'\n",
    "\n",
    "    price_uncertainty_params = [depths, T, tau, f0, texp, periods, gamma, sigma]\n",
    "    price_uncertainty_params = add_uncertainties(price_uncertainty_params)\n",
    "    \n",
    "    depths = price_uncertainty_params[0]\n",
    "    pl_rads = np.sqrt(depths) * star_radius\n",
    "    periods = price_uncertainty_params[5]\n",
    "    # [kepid, period, radius, ecc, cosincl, impact param b, t0, transit depth d, transit duration D, is_detected]\n",
    "    planets_matrix = np.vstack((star_kepids, periods, pl_rads, eccens, cosincl, impacts, t0, depths, D)).T\n",
    "    catalog = pd.DataFrame(planets_matrix, columns=planet_params)\n",
    "    combined_synth = pd.merge(catalog, stellar, on='kepid')\n",
    "    probs = pcomp_vectors(combined_synth, combined_synth['period'].values, \n",
    "                          combined_synth['prad'].values, combined_synth['ecc'].values)\n",
    "    probs = np.nan_to_num(np.array(probs))\n",
    "    if all(probs == 0):\n",
    "        print(\"all probabilities of detection are 0\")\n",
    "    detected = np.random.binomial(1, probs)\n",
    "    combined_synth['is_detected'] = detected\n",
    "    return combined_synth.astype({'kepid': np.int64, 'is_detected': bool})"
   ]
  },
  {
   "cell_type": "code",
   "execution_count": 205,
   "metadata": {},
   "outputs": [],
   "source": [
    "num_stars = len(stellar)\n",
    "stellar_sample = stellar.sample(n=num_stars)"
   ]
  },
  {
   "cell_type": "code",
   "execution_count": 206,
   "metadata": {},
   "outputs": [
    {
     "name": "stderr",
     "output_type": "stream",
     "text": [
      "/Users/adityasengupta/Library/Python/3.7/lib/python/site-packages/ipykernel_launcher.py:73: RuntimeWarning: invalid value encountered in arcsin\n",
      "/Users/adityasengupta/Library/Python/3.7/lib/python/site-packages/ipykernel_launcher.py:38: RuntimeWarning: invalid value encountered in greater_equal\n",
      "/Users/adityasengupta/Library/Python/3.7/lib/python/site-packages/ipykernel_launcher.py:41: RuntimeWarning: invalid value encountered in greater\n"
     ]
    }
   ],
   "source": [
    "catalog_synth = generate_planet_catalog(f, stellar_sample)\n",
    "if len(stellar_sample) == len(stellar):\n",
    "    catalog_synth.to_csv('../data/catalog_synth.csv')"
   ]
  },
  {
   "cell_type": "code",
   "execution_count": 207,
   "metadata": {},
   "outputs": [
    {
     "data": {
      "text/plain": [
       "0"
      ]
     },
     "execution_count": 207,
     "metadata": {},
     "output_type": "execute_result"
    }
   ],
   "source": [
    "sum(catalog_synth.is_detected)"
   ]
  },
  {
   "cell_type": "code",
   "execution_count": 164,
   "metadata": {},
   "outputs": [],
   "source": [
    "detected_planets = catalog_synth[catalog_synth.is_detected]"
   ]
  },
  {
   "cell_type": "code",
   "execution_count": 165,
   "metadata": {},
   "outputs": [
    {
     "data": {
      "text/plain": [
       "Series([], Name: prad, dtype: float64)"
      ]
     },
     "execution_count": 165,
     "metadata": {},
     "output_type": "execute_result"
    }
   ],
   "source": [
    "detected_planets.prad"
   ]
  },
  {
   "cell_type": "code",
   "execution_count": 166,
   "metadata": {},
   "outputs": [
    {
     "data": {
      "text/plain": [
       "Series([], Name: period, dtype: float64)"
      ]
     },
     "execution_count": 166,
     "metadata": {},
     "output_type": "execute_result"
    }
   ],
   "source": [
    "detected_planets.period"
   ]
  },
  {
   "cell_type": "code",
   "execution_count": 167,
   "metadata": {},
   "outputs": [
    {
     "data": {
      "text/plain": [
       "0"
      ]
     },
     "execution_count": 167,
     "metadata": {},
     "output_type": "execute_result"
    }
   ],
   "source": [
    "re = 0.009171\n",
    "sum(detected_planets.prad * re / detected_planets.radius < 1)"
   ]
  },
  {
   "cell_type": "code",
   "execution_count": 168,
   "metadata": {},
   "outputs": [
    {
     "data": {
      "text/plain": [
       "Series([], dtype: float64)"
      ]
     },
     "execution_count": 168,
     "metadata": {},
     "output_type": "execute_result"
    }
   ],
   "source": [
    "(detected_planets.prad * re / detected_planets.radius) ** 2 - detected_planets.d"
   ]
  },
  {
   "cell_type": "code",
   "execution_count": 154,
   "metadata": {},
   "outputs": [
    {
     "data": {
      "text/plain": [
       "744"
      ]
     },
     "execution_count": 154,
     "metadata": {},
     "output_type": "execute_result"
    }
   ],
   "source": [
    "sum(combined.koi_prad / combined.radius < 1)"
   ]
  },
  {
   "cell_type": "code",
   "execution_count": 124,
   "metadata": {},
   "outputs": [
    {
     "data": {
      "text/plain": [
       "(array([14002., 17087., 24986., 34152., 39702., 36696., 25256., 17512.,\n",
       "        13628., 12168.]),\n",
       " array([-0.6931404 , -0.0469952 ,  0.59915001,  1.24529522,  1.89144043,\n",
       "         2.53758564,  3.18373085,  3.82987606,  4.47602126,  5.12216647,\n",
       "         5.76831168]),\n",
       " <a list of 10 Patch objects>)"
      ]
     },
     "execution_count": 124,
     "metadata": {},
     "output_type": "execute_result"
    },
    {
     "data": {
      "image/png": "[encoded data removed]",
      "text/plain": [
       "<Figure size 432x288 with 1 Axes>"
      ]
     },
     "metadata": {
      "needs_background": "light"
     },
     "output_type": "display_data"
    }
   ],
   "source": [
    "plt.hist(np.log(catalog_synth.period))"
   ]
  },
  {
   "cell_type": "code",
   "execution_count": 125,
   "metadata": {},
   "outputs": [
    {
     "name": "stderr",
     "output_type": "stream",
     "text": [
      "/usr/local/lib/python3.7/site-packages/numpy/lib/histograms.py:824: RuntimeWarning: invalid value encountered in greater_equal\n",
      "  keep = (tmp_a >= first_edge)\n",
      "/usr/local/lib/python3.7/site-packages/numpy/lib/histograms.py:825: RuntimeWarning: invalid value encountered in less_equal\n",
      "  keep &= (tmp_a <= last_edge)\n"
     ]
    },
    {
     "data": {
      "text/plain": [
       "(array([2.0000e+00, 1.8000e+01, 1.7400e+02, 1.4140e+03, 1.0810e+04,\n",
       "        5.5601e+04, 3.7157e+04, 9.1200e+03, 1.7740e+03, 1.0200e+02]),\n",
       " array([-6.39699725, -5.31488484, -4.23277244, -3.15066004, -2.06854764,\n",
       "        -0.98643523,  0.09567717,  1.17778957,  2.25990198,  3.34201438,\n",
       "         4.42412678]),\n",
       " <a list of 10 Patch objects>)"
      ]
     },
     "execution_count": 125,
     "metadata": {},
     "output_type": "execute_result"
    },
    {
     "data": {
      "image/png": "[encoded data removed]",
      "text/plain": [
       "<Figure size 432x288 with 1 Axes>"
      ]
     },
     "metadata": {
      "needs_background": "light"
     },
     "output_type": "display_data"
    }
   ],
   "source": [
    "plt.hist(np.log(catalog_synth.prad))"
   ]
  },
  {
   "cell_type": "code",
   "execution_count": 126,
   "metadata": {},
   "outputs": [],
   "source": [
    "N = np.zeros_like(f)\n",
    "detected = catalog_synth[catalog_synth.is_detected]\n",
    "period_bins = np.digitize(np.log(detected.period), log_p)\n",
    "radius_bins = np.digitize(np.log(detected.prad), log_r)\n",
    "for i, j in zip(period_bins, radius_bins):\n",
    "    if i < N.shape[0] and j < N.shape[1]: # exclude some on the edges\n",
    "        N[i][j] += 1\n",
    "        \n",
    "N /= len(stellar_sample)"
   ]
  },
  {
   "cell_type": "code",
   "execution_count": 127,
   "metadata": {},
   "outputs": [
    {
     "data": {
      "text/plain": [
       "<matplotlib.colorbar.Colorbar at 0x13006e2d0>"
      ]
     },
     "execution_count": 127,
     "metadata": {},
     "output_type": "execute_result"
    },
    {
     "data": {
      "image/png": "[encoded data removed]",
      "text/plain": [
       "<Figure size 432x288 with 2 Axes>"
      ]
     },
     "metadata": {
      "needs_background": "light"
     },
     "output_type": "display_data"
    }
   ],
   "source": [
    "plt.imshow(N)\n",
    "plt.colorbar()"
   ]
  },
  {
   "cell_type": "code",
   "execution_count": 128,
   "metadata": {},
   "outputs": [
    {
     "data": {
      "text/plain": [
       "<matplotlib.colorbar.Colorbar at 0x12ffa5a90>"
      ]
     },
     "execution_count": 128,
     "metadata": {},
     "output_type": "execute_result"
    },
    {
     "data": {
      "image/png": "[encoded data removed]",
      "text/plain": [
       "<Figure size 432x288 with 2 Axes>"
      ]
     },
     "metadata": {
      "needs_background": "light"
     },
     "output_type": "display_data"
    }
   ],
   "source": [
    "sample_N = np.histogram2d(koi_periods, koi_radii, bins=[period, rp])[0] / len(stellar)\n",
    "plt.imshow(sample_N)\n",
    "plt.colorbar()"
   ]
  },
  {
   "cell_type": "code",
   "execution_count": 129,
   "metadata": {},
   "outputs": [
    {
     "data": {
      "text/plain": [
       "8.297493554219262e-06"
      ]
     },
     "execution_count": 129,
     "metadata": {},
     "output_type": "execute_result"
    }
   ],
   "source": [
    "diff = N - sample_N\n",
    "statistic = np.sum(diff ** 2)\n",
    "statistic"
   ]
  },
  {
   "cell_type": "code",
   "execution_count": 34,
   "metadata": {},
   "outputs": [
    {
     "data": {
      "text/plain": [
       "array([[[ 2.47061339, 12.85      ,  1.        ],\n",
       "        [ 2.20473536, 16.39      ,  1.        ],\n",
       "        [23.66836427,  3.06      ,  1.        ],\n",
       "        ...,\n",
       "        [ 3.27582262,  2.18      ,  1.        ],\n",
       "        [15.87364565,  1.61      ,  1.        ],\n",
       "        [17.97979059,  2.18      ,  1.        ]]])"
      ]
     },
     "execution_count": 34,
     "metadata": {},
     "output_type": "execute_result"
    }
   ],
   "source": [
    "import copy\n",
    "kois_abc = np.array([np.vstack((kois.koi_period, kois.koi_prad, np.ones(len(kois)))).T]) # filter on FPs\n",
    "kois_abc"
   ]
  },
  {
   "cell_type": "code",
   "execution_count": 35,
   "metadata": {},
   "outputs": [],
   "source": [
    "stellar_sample_size = 100\n",
    "stellar_sample = [row for row in stellar.sample(n=stellar_sample_size).itertuples()]\n",
    "\n",
    "class OccurrencePrior(stats.rv_continuous):\n",
    "    def pdf(self, f):\n",
    "        return np.prod(np.exp(-f))\n",
    "    \n",
    "    def rvs(self):\n",
    "        return stats.expon.rvs(size=(len(period), len(rp)))\n",
    "    \n",
    "def occurrence_candidate_getter(f):\n",
    "    def candidate(size=1):\n",
    "        catalogs = [generate_planet_catalog(f, stellar_sample) for _ in range(size)]\n",
    "        return np.array([np.vstack((c.period, c.prad, c.is_detected)).T for c in catalogs])\n",
    "    return candidate\n",
    "    \n",
    "def occurrence_distance(s1, s2):\n",
    "    return np.sum((s1 - s2) ** 2)\n",
    "\n",
    "def occurrence_statistic(catalog):\n",
    "    N = np.zeros_like(f)\n",
    "    found_inds = np.where(catalog[0,:,2] == 1)[0]\n",
    "    detected = catalog[0][found_inds] # the 0 is jank and should be changed\n",
    "    if detected.shape[0] == catalog.shape[1]:\n",
    "        Nstars = len(stellar)\n",
    "    else:\n",
    "        Nstars = stellar_sample_size # this is slightly jank and will fail 1 time in a trillion\n",
    "    period_bins = np.digitize(np.log(detected[:,0]), log_p)\n",
    "    radius_bins = np.digitize(np.log(detected[:,1]), log_r)\n",
    "    for i, j in zip(period_bins, radius_bins):\n",
    "        if i < N.shape[0] and j < N.shape[1]: # exclude some on the edges\n",
    "            N[i][j] += 1\n",
    "    return N / Nstars\n",
    "    \n",
    "OccurrenceABCSampler = ABCSampler(OccurrencePrior(), occurrence_candidate_getter, occurrence_distance, occurrence_statistic)\n"
   ]
  },
  {
   "cell_type": "code",
   "execution_count": 36,
   "metadata": {},
   "outputs": [
    {
     "data": {
      "application/vnd.jupyter.widget-view+json": {
       "model_id": "743cdacb875046f3ac168d237a53fe72",
       "version_major": 2,
       "version_minor": 0
      },
      "text/plain": [
       "HBox(children=(FloatProgress(value=1.0, bar_style='info', max=1.0), HTML(value='')))"
      ]
     },
     "metadata": {},
     "output_type": "display_data"
    },
    {
     "name": "stdout",
     "output_type": "stream",
     "text": [
      "\n"
     ]
    }
   ],
   "source": [
    "candidate = occurrence_candidate_getter(f)()"
   ]
  },
  {
   "cell_type": "code",
   "execution_count": 37,
   "metadata": {
    "scrolled": true
   },
   "outputs": [
    {
     "data": {
      "application/vnd.jupyter.widget-view+json": {
       "model_id": "0820f62a286244beb2d69e39cc84d573",
       "version_major": 2,
       "version_minor": 0
      },
      "text/plain": [
       "HBox(children=(FloatProgress(value=1.0, bar_style='info', max=1.0), HTML(value='')))"
      ]
     },
     "metadata": {},
     "output_type": "display_data"
    },
    {
     "name": "stdout",
     "output_type": "stream",
     "text": [
      "\n",
      "0.013069361727839816\n"
     ]
    },
    {
     "data": {
      "application/vnd.jupyter.widget-view+json": {
       "model_id": "1ca55d08a7f14ca79a9f4266d3b8f9c6",
       "version_major": 2,
       "version_minor": 0
      },
      "text/plain": [
       "HBox(children=(FloatProgress(value=1.0, bar_style='info', max=1.0), HTML(value='')))"
      ]
     },
     "metadata": {},
     "output_type": "display_data"
    },
    {
     "name": "stdout",
     "output_type": "stream",
     "text": [
      "\n",
      "0.01173773195260693\n"
     ]
    },
    {
     "data": {
      "application/vnd.jupyter.widget-view+json": {
       "model_id": "7b7c5ba347424a1c88df024621caa53b",
       "version_major": 2,
       "version_minor": 0
      },
      "text/plain": [
       "HBox(children=(FloatProgress(value=1.0, bar_style='info', max=1.0), HTML(value='')))"
      ]
     },
     "metadata": {},
     "output_type": "display_data"
    },
    {
     "name": "stdout",
     "output_type": "stream",
     "text": [
      "\n"
     ]
    }
   ],
   "source": [
    "abc_f = OccurrenceABCSampler.sample(kois_abc, threshold=1e-2)"
   ]
  },
  {
   "cell_type": "code",
   "execution_count": 38,
   "metadata": {},
   "outputs": [
    {
     "data": {
      "text/plain": [
       "<matplotlib.image.AxesImage at 0x12652be50>"
      ]
     },
     "execution_count": 38,
     "metadata": {},
     "output_type": "execute_result"
    },
    {
     "data": {
      "image/png": "[encoded data removed]",
      "text/plain": [
       "<Figure size 432x288 with 1 Axes>"
      ]
     },
     "metadata": {
      "needs_background": "light"
     },
     "output_type": "display_data"
    }
   ],
   "source": [
    "plt.imshow(abc_f)"
   ]
  },
  {
   "cell_type": "code",
   "execution_count": 39,
   "metadata": {},
   "outputs": [
    {
     "data": {
      "text/plain": [
       "<matplotlib.image.AxesImage at 0x126589c90>"
      ]
     },
     "execution_count": 39,
     "metadata": {},
     "output_type": "execute_result"
    },
    {
     "data": {
      "image/png": "[encoded data removed]",
      "text/plain": [
       "<Figure size 432x288 with 1 Axes>"
      ]
     },
     "metadata": {
      "needs_background": "light"
     },
     "output_type": "display_data"
    }
   ],
   "source": [
    "plt.imshow(f)"
   ]
  },
  {
   "cell_type": "code",
   "execution_count": 41,
   "metadata": {},
   "outputs": [
    {
     "ename": "KeyboardInterrupt",
     "evalue": "",
     "output_type": "error",
     "traceback": [
      "\u001b[0;31m---------------------------------------------------------------------------\u001b[0m",
      "\u001b[0;31mKeyboardInterrupt\u001b[0m                         Traceback (most recent call last)",
      "\u001b[0;32m<ipython-input-41-f487e9b186fd>\u001b[0m in \u001b[0;36m<module>\u001b[0;34m\u001b[0m\n\u001b[1;32m      1\u001b[0m \u001b[0;31m# Do not run till this is rewritten to be vectorized\u001b[0m\u001b[0;34m\u001b[0m\u001b[0;34m\u001b[0m\u001b[0;34m\u001b[0m\u001b[0m\n\u001b[1;32m      2\u001b[0m \u001b[0mstellar_sample_size\u001b[0m \u001b[0;34m=\u001b[0m \u001b[0mlen\u001b[0m\u001b[0;34m(\u001b[0m\u001b[0mstellar\u001b[0m\u001b[0;34m)\u001b[0m\u001b[0;34m\u001b[0m\u001b[0;34m\u001b[0m\u001b[0m\n\u001b[0;32m----> 3\u001b[0;31m \u001b[0mstellar_sample\u001b[0m \u001b[0;34m=\u001b[0m \u001b[0;34m[\u001b[0m\u001b[0mrow\u001b[0m \u001b[0;32mfor\u001b[0m \u001b[0mrow\u001b[0m \u001b[0;32min\u001b[0m \u001b[0mstellar\u001b[0m\u001b[0;34m.\u001b[0m\u001b[0msample\u001b[0m\u001b[0;34m(\u001b[0m\u001b[0mn\u001b[0m\u001b[0;34m=\u001b[0m\u001b[0mstellar_sample_size\u001b[0m\u001b[0;34m)\u001b[0m\u001b[0;34m.\u001b[0m\u001b[0mitertuples\u001b[0m\u001b[0;34m(\u001b[0m\u001b[0;34m)\u001b[0m\u001b[0;34m]\u001b[0m\u001b[0;34m\u001b[0m\u001b[0;34m\u001b[0m\u001b[0m\n\u001b[0m\u001b[1;32m      4\u001b[0m \u001b[0mOccurrenceABCSampler\u001b[0m \u001b[0;34m=\u001b[0m \u001b[0mABCSampler\u001b[0m\u001b[0;34m(\u001b[0m\u001b[0mOccurrencePrior\u001b[0m\u001b[0;34m(\u001b[0m\u001b[0;34m)\u001b[0m\u001b[0;34m,\u001b[0m \u001b[0moccurrence_candidate_getter\u001b[0m\u001b[0;34m,\u001b[0m \u001b[0moccurrence_distance\u001b[0m\u001b[0;34m,\u001b[0m \u001b[0moccurrence_statistic\u001b[0m\u001b[0;34m)\u001b[0m\u001b[0;34m\u001b[0m\u001b[0;34m\u001b[0m\u001b[0m\n\u001b[1;32m      5\u001b[0m \u001b[0mabc_f_full\u001b[0m \u001b[0;34m=\u001b[0m \u001b[0mOccurrenceABCSampler\u001b[0m\u001b[0;34m.\u001b[0m\u001b[0msample\u001b[0m\u001b[0;34m(\u001b[0m\u001b[0mkois_abc\u001b[0m\u001b[0;34m,\u001b[0m \u001b[0mthreshold\u001b[0m\u001b[0;34m=\u001b[0m\u001b[0;36m1e-5\u001b[0m\u001b[0;34m)\u001b[0m\u001b[0;34m\u001b[0m\u001b[0;34m\u001b[0m\u001b[0m\n",
      "\u001b[0;32m<ipython-input-41-f487e9b186fd>\u001b[0m in \u001b[0;36m<listcomp>\u001b[0;34m(.0)\u001b[0m\n\u001b[1;32m      1\u001b[0m \u001b[0;31m# Do not run till this is rewritten to be vectorized\u001b[0m\u001b[0;34m\u001b[0m\u001b[0;34m\u001b[0m\u001b[0;34m\u001b[0m\u001b[0m\n\u001b[1;32m      2\u001b[0m \u001b[0mstellar_sample_size\u001b[0m \u001b[0;34m=\u001b[0m \u001b[0mlen\u001b[0m\u001b[0;34m(\u001b[0m\u001b[0mstellar\u001b[0m\u001b[0;34m)\u001b[0m\u001b[0;34m\u001b[0m\u001b[0;34m\u001b[0m\u001b[0m\n\u001b[0;32m----> 3\u001b[0;31m \u001b[0mstellar_sample\u001b[0m \u001b[0;34m=\u001b[0m \u001b[0;34m[\u001b[0m\u001b[0mrow\u001b[0m \u001b[0;32mfor\u001b[0m \u001b[0mrow\u001b[0m \u001b[0;32min\u001b[0m \u001b[0mstellar\u001b[0m\u001b[0;34m.\u001b[0m\u001b[0msample\u001b[0m\u001b[0;34m(\u001b[0m\u001b[0mn\u001b[0m\u001b[0;34m=\u001b[0m\u001b[0mstellar_sample_size\u001b[0m\u001b[0;34m)\u001b[0m\u001b[0;34m.\u001b[0m\u001b[0mitertuples\u001b[0m\u001b[0;34m(\u001b[0m\u001b[0;34m)\u001b[0m\u001b[0;34m]\u001b[0m\u001b[0;34m\u001b[0m\u001b[0;34m\u001b[0m\u001b[0m\n\u001b[0m\u001b[1;32m      4\u001b[0m \u001b[0mOccurrenceABCSampler\u001b[0m \u001b[0;34m=\u001b[0m \u001b[0mABCSampler\u001b[0m\u001b[0;34m(\u001b[0m\u001b[0mOccurrencePrior\u001b[0m\u001b[0;34m(\u001b[0m\u001b[0;34m)\u001b[0m\u001b[0;34m,\u001b[0m \u001b[0moccurrence_candidate_getter\u001b[0m\u001b[0;34m,\u001b[0m \u001b[0moccurrence_distance\u001b[0m\u001b[0;34m,\u001b[0m \u001b[0moccurrence_statistic\u001b[0m\u001b[0;34m)\u001b[0m\u001b[0;34m\u001b[0m\u001b[0;34m\u001b[0m\u001b[0m\n\u001b[1;32m      5\u001b[0m \u001b[0mabc_f_full\u001b[0m \u001b[0;34m=\u001b[0m \u001b[0mOccurrenceABCSampler\u001b[0m\u001b[0;34m.\u001b[0m\u001b[0msample\u001b[0m\u001b[0;34m(\u001b[0m\u001b[0mkois_abc\u001b[0m\u001b[0;34m,\u001b[0m \u001b[0mthreshold\u001b[0m\u001b[0;34m=\u001b[0m\u001b[0;36m1e-5\u001b[0m\u001b[0;34m)\u001b[0m\u001b[0;34m\u001b[0m\u001b[0;34m\u001b[0m\u001b[0m\n",
      "\u001b[0;32m/usr/local/Cellar/python/3.7.7/Frameworks/Python.framework/Versions/3.7/lib/python3.7/collections/__init__.py\u001b[0m in \u001b[0;36m_make\u001b[0;34m(cls, iterable)\u001b[0m\n\u001b[1;32m    401\u001b[0m         \u001b[0m__new__\u001b[0m\u001b[0;34m.\u001b[0m\u001b[0m__defaults__\u001b[0m \u001b[0;34m=\u001b[0m \u001b[0mdefaults\u001b[0m\u001b[0;34m\u001b[0m\u001b[0;34m\u001b[0m\u001b[0m\n\u001b[1;32m    402\u001b[0m \u001b[0;34m\u001b[0m\u001b[0m\n\u001b[0;32m--> 403\u001b[0;31m     \u001b[0;34m@\u001b[0m\u001b[0mclassmethod\u001b[0m\u001b[0;34m\u001b[0m\u001b[0;34m\u001b[0m\u001b[0m\n\u001b[0m\u001b[1;32m    404\u001b[0m     \u001b[0;32mdef\u001b[0m \u001b[0m_make\u001b[0m\u001b[0;34m(\u001b[0m\u001b[0mcls\u001b[0m\u001b[0;34m,\u001b[0m \u001b[0miterable\u001b[0m\u001b[0;34m)\u001b[0m\u001b[0;34m:\u001b[0m\u001b[0;34m\u001b[0m\u001b[0;34m\u001b[0m\u001b[0m\n\u001b[1;32m    405\u001b[0m         \u001b[0mresult\u001b[0m \u001b[0;34m=\u001b[0m \u001b[0mtuple_new\u001b[0m\u001b[0;34m(\u001b[0m\u001b[0mcls\u001b[0m\u001b[0;34m,\u001b[0m \u001b[0miterable\u001b[0m\u001b[0;34m)\u001b[0m\u001b[0;34m\u001b[0m\u001b[0;34m\u001b[0m\u001b[0m\n",
      "\u001b[0;31mKeyboardInterrupt\u001b[0m: "
     ]
    }
   ],
   "source": [
    "# Do not run till this is rewritten to be vectorized\n",
    "stellar_sample_size = len(stellar)\n",
    "stellar_sample = [row for row in stellar.sample(n=stellar_sample_size).itertuples()]\n",
    "OccurrenceABCSampler = ABCSampler(OccurrencePrior(), occurrence_candidate_getter, occurrence_distance, occurrence_statistic)\n",
    "abc_f_full = OccurrenceABCSampler.sample(kois_abc, threshold=1e-5)"
   ]
  },
  {
   "cell_type": "markdown",
   "metadata": {},
   "source": [
    "impact parameter > 1: either a FP, or on the edge of the star. The transiting object has to be big, and often that's actually a star."
   ]
  },
  {
   "cell_type": "code",
   "execution_count": null,
   "metadata": {},
   "outputs": [],
   "source": [
    "# Do not run till this is rewritten to be vectorized\n",
    "abc_pmc_f = OccurrenceABCSampler.sample_pmc(kois_abc, [1e-2, 1e-3, 1e-4, 1e-5, 1e-6], 1)"
   ]
  },
  {
   "cell_type": "code",
   "execution_count": 44,
   "metadata": {},
   "outputs": [
    {
     "name": "stdout",
     "output_type": "stream",
     "text": [
      "-0.006835387758176439\n"
     ]
    }
   ],
   "source": [
    "i = 10\n",
    "p = combined['koi_period'][i]\n",
    "r = combined['koi_prad'][i]\n",
    "rstar = combined['radius'][i]\n",
    "ror = r / rstar * 0.009158\n",
    "d = ror ** 2\n",
    "b = combined['koi_impact'][i]\n",
    "cosincl = np.cos(combined['koi_incl'][i] * np.pi / 180)\n",
    "ecc = stats.rayleigh(scale=0.03).rvs() * 0\n",
    "aor = completeness.get_a(p, combined['mass'][i]) / rstar\n",
    "tau0 = p * b / (2 * np.pi * cosincl * np.sqrt(1 - ecc ** 2)) * 1 / (aor ** 2)\n",
    "T = 2 * tau0 * np.sqrt(1 - b ** 2)\n",
    "D = (p / np.pi) * np.arcsin(np.sqrt((1 + p / rstar) ** 2 - b ** 2) / aor)\n",
    "tau0 = p * b / (2 * np.pi * cosincl * np.sqrt(1 - ecc ** 2)) * 1 / (aor ** 2)\n",
    "T = 2 * tau0 * np.sqrt(1 - b ** 2)\n",
    "tau = 2 * tau0 * r / np.sqrt(1 - b ** 2)\n",
    "f0 = 1\n",
    "texp = 1765.5 / 60 / 60 / 24 # s to days\n",
    "gamma = 1 / texp # inverse s to inverse days\n",
    "sigma = 1 # 'model uncertainty'\n",
    "price_uncertainty_params = [d, T, tau, f0, texp, p, gamma, sigma]\n",
    "print(price_rogers_2014_binned.prVarDelta(*price_uncertainty_params))"
   ]
  },
  {
   "cell_type": "code",
   "execution_count": 45,
   "metadata": {},
   "outputs": [
    {
     "name": "stdout",
     "output_type": "stream",
     "text": [
      "47.9035211 2.56 1.3319999999999999 0.1875 0.0008726645152351565 0.0\n"
     ]
    }
   ],
   "source": [
    "print(p, r, rstar, b, cosincl, ecc)"
   ]
  },
  {
   "cell_type": "code",
   "execution_count": 47,
   "metadata": {},
   "outputs": [
    {
     "data": {
      "text/plain": [
       "178"
      ]
     },
     "execution_count": 47,
     "metadata": {},
     "output_type": "execute_result"
    }
   ],
   "source": [
    "bad_kepids = np.load('../data/bad_kepids.npy')\n",
    "len(set(bad_kepids) & set(kois.kepid))"
   ]
  }
 ],
 "metadata": {
  "kernelspec": {
   "display_name": "Python 3",
   "language": "python",
   "name": "python3"
  },
  "language_info": {
   "codemirror_mode": {
    "name": "ipython",
    "version": 3
   },
   "file_extension": ".py",
   "mimetype": "text/x-python",
   "name": "python",
   "nbconvert_exporter": "python",
   "pygments_lexer": "ipython3",
   "version": "3.7.7"
  }
 },
 "nbformat": 4,
 "nbformat_minor": 2
}
