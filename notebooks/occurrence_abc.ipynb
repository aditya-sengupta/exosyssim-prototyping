{
 "cells": [
  {
   "cell_type": "markdown",
   "metadata": {},
   "source": [
    "## Aim\n",
    "\n",
    "Compute an ABC occurrence rate estimate, and compare results with ```occurrence_mcmc```."
   ]
  },
  {
   "cell_type": "code",
   "execution_count": 1,
   "metadata": {},
   "outputs": [],
   "source": [
    "import sys\n",
    "sys.path.append('..')\n",
    "import numpy as np\n",
    "from matplotlib import pyplot as plt\n",
    "%matplotlib inline\n",
    "import pandas as pd\n",
    "from scipy import optimize, stats, linalg\n",
    "from dev.abc import ABCSampler\n",
    "from dev import price_rogers_2014_binned, dataprocessing, completeness\n",
    "from tqdm.notebook import tqdm\n",
    "from scipy.stats import gamma\n",
    "from functools import partial\n",
    "import warnings\n",
    "warnings.simplefilter('error', RuntimeWarning)\n",
    "\n",
    "%load_ext autoreload\n",
    "%autoreload 2"
   ]
  },
  {
   "cell_type": "code",
   "execution_count": 2,
   "metadata": {},
   "outputs": [],
   "source": [
    "# a _very_ common debugging utility\n",
    "def minmeanmax(statistic, name):\n",
    "    print(\"{0} min-mean-max-hasnan\".format(name), min(statistic), np.nanmean(statistic), max(statistic), any(np.isnan(statistic)))"
   ]
  },
  {
   "cell_type": "markdown",
   "metadata": {},
   "source": [
    "My ABC setup requires\n",
    "\n",
    "- a prior occurrence estimate.\n",
    "- a candidate generator for the model parameters $\\theta$, i.e. a ```stats.continuous_rv/stats.discrete_rv``` object whose .rvs() method returns candidate parameters.\n",
    "- a sampler for $f(x \\mid \\theta)$\n",
    "- distance and statistic functions\n",
    "- data to fit"
   ]
  },
  {
   "cell_type": "code",
   "execution_count": 3,
   "metadata": {},
   "outputs": [],
   "source": [
    "kois = dataprocessing.get_kois()\n",
    "stellar = dataprocessing.get_stellar()\n",
    "kois = kois[kois[\"kepid\"].isin(stellar[\"kepid\"])]\n",
    "kois = kois[np.isfinite(kois[\"koi_prad\"])]\n",
    "stellar = stellar[np.isfinite(stellar.mass)]"
   ]
  },
  {
   "cell_type": "code",
   "execution_count": 4,
   "metadata": {},
   "outputs": [
    {
     "name": "stdout",
     "output_type": "stream",
     "text": [
      "[190585   5222    508    153     59     21      2      2]\n"
     ]
    },
    {
     "data": {
      "text/plain": [
       "Text(0, 0.5, 'Counts')"
      ]
     },
     "execution_count": 4,
     "metadata": {},
     "output_type": "execute_result"
    },
    {
     "data": {
      "image/png": "[encoded data removed]",
      "text/plain": [
       "<Figure size 432x288 with 1 Axes>"
      ]
     },
     "metadata": {
      "needs_background": "light"
     },
     "output_type": "display_data"
    }
   ],
   "source": [
    "zerocounts = len(stellar[~stellar[\"kepid\"].isin(kois[\"kepid\"])])\n",
    "solarsyssizes = np.array(pd.crosstab(index=kois['kepid'], columns=\"count\")).flatten()\n",
    "bincounts = np.bincount(solarsyssizes)\n",
    "bincounts[0] = zerocounts\n",
    "print(bincounts)\n",
    "plt.hist(solarsyssizes)\n",
    "plt.xlabel(\"Planets per star\")\n",
    "plt.ylabel(\"Counts\")"
   ]
  },
  {
   "cell_type": "markdown",
   "metadata": {},
   "source": [
    "Now the dataset has sufficient complexity to fit a Poisson process."
   ]
  },
  {
   "cell_type": "code",
   "execution_count": 5,
   "metadata": {},
   "outputs": [],
   "source": [
    "assert np.all(np.isfinite(kois[\"koi_prad\"]))\n",
    "assert np.all(np.isfinite(kois[\"koi_period\"]))\n",
    "koi_radii = kois[\"koi_prad\"]\n",
    "koi_periods = kois[\"koi_period\"]"
   ]
  },
  {
   "cell_type": "code",
   "execution_count": 6,
   "metadata": {},
   "outputs": [
    {
     "name": "stdout",
     "output_type": "stream",
     "text": [
      "[59794, 71244, 42484, 16630, 4898, 1153, 215, 38]\n"
     ]
    }
   ],
   "source": [
    "lam = np.mean(solarsyssizes)\n",
    "# lam = sum([i * k for i, k in enumerate(bincounts)]) / sum(bincounts)\n",
    "planet_numbers = np.minimum(stats.poisson(lam).rvs(size=(len(stellar),)), 10) \n",
    "print([sum(planet_numbers == i) for i in range(max(planet_numbers))])"
   ]
  },
  {
   "cell_type": "code",
   "execution_count": 7,
   "metadata": {},
   "outputs": [
    {
     "data": {
      "text/plain": [
       "1.183844477962125"
      ]
     },
     "execution_count": 7,
     "metadata": {},
     "output_type": "execute_result"
    }
   ],
   "source": [
    "lam"
   ]
  },
  {
   "cell_type": "code",
   "execution_count": 8,
   "metadata": {},
   "outputs": [
    {
     "data": {
      "text/plain": [
       "(array([5.9794e+04, 7.1244e+04, 4.2484e+04, 1.6630e+04, 0.0000e+00,\n",
       "        4.8980e+03, 1.1530e+03, 2.1500e+02, 3.8000e+01, 1.2000e+01]),\n",
       " array([0. , 0.8, 1.6, 2.4, 3.2, 4. , 4.8, 5.6, 6.4, 7.2, 8. ]),\n",
       " <a list of 10 Patch objects>)"
      ]
     },
     "execution_count": 8,
     "metadata": {},
     "output_type": "execute_result"
    },
    {
     "data": {
      "image/png": "[encoded data removed]",
      "text/plain": [
       "<Figure size 432x288 with 1 Axes>"
      ]
     },
     "metadata": {
      "needs_background": "light"
     },
     "output_type": "display_data"
    }
   ],
   "source": [
    "plt.hist(planet_numbers)"
   ]
  },
  {
   "cell_type": "code",
   "execution_count": 9,
   "metadata": {},
   "outputs": [],
   "source": [
    "period = np.array([0.5, 1.25, 2.5, 5, 10, 20, 40, 80, 160, 320])\n",
    "rp = np.array([0.5, 0.75, 1, 1.25, 1.5, 1.75, 2, 2.5, 3, 4, 6, 8, 12, 16])\n",
    "log_p, log_r = np.log(period), np.log(rp)\n",
    "log_p = np.append(log_p, np.log(640))\n",
    "log_r = np.append(log_r, np.log(20))\n",
    "period_rng = (min(period), max(period))\n",
    "rp_rng = (min(rp), max(rp))\n",
    "\n",
    "f = np.histogram2d(koi_periods, koi_radii, bins=[period, rp])[0]\n",
    "# f = np.ones(shape=(len(period), len(rp)))"
   ]
  },
  {
   "cell_type": "code",
   "execution_count": 10,
   "metadata": {},
   "outputs": [
    {
     "data": {
      "text/plain": [
       "<matplotlib.colorbar.Colorbar at 0x119c79f50>"
      ]
     },
     "execution_count": 10,
     "metadata": {},
     "output_type": "execute_result"
    },
    {
     "data": {
      "image/png": "[encoded data removed]",
      "text/plain": [
       "<Figure size 432x288 with 2 Axes>"
      ]
     },
     "metadata": {
      "needs_background": "light"
     },
     "output_type": "display_data"
    }
   ],
   "source": [
    "plt.imshow(np.histogram2d(koi_periods, koi_radii, bins=[period, rp])[0]) # I guess that's sorta like an H-R diagram?\n",
    "plt.colorbar()"
   ]
  },
  {
   "cell_type": "code",
   "execution_count": 11,
   "metadata": {},
   "outputs": [],
   "source": [
    "f = lam * f / np.sum(f)"
   ]
  },
  {
   "cell_type": "code",
   "execution_count": 12,
   "metadata": {},
   "outputs": [
    {
     "name": "stdout",
     "output_type": "stream",
     "text": [
      "Generated planet with period 281.781 days, radius 2.084 Earth radii, eccentricity 0.05, cos of orbital inclination -0.997.\n"
     ]
    }
   ],
   "source": [
    "bucket = np.random.choice(f.size, p=f.flatten() / np.sum(f))\n",
    "i, j = bucket // f.shape[1], bucket % f.shape[1] \n",
    "synth_p = np.exp(np.random.uniform(log_p[i], log_p[i+1]))\n",
    "synth_r = np.exp(np.random.uniform(log_r[j], log_r[j+1]))\n",
    "ecc = stats.rayleigh(scale=0.03).rvs()\n",
    "cosincl = np.random.uniform(-1, 1)\n",
    "print(\"Generated planet with period {0} days, radius {1} Earth radii, eccentricity {2}, cos of orbital inclination {3}.\".format(np.round(synth_p, 3), np.round(synth_r, 3), np.round(ecc, 3), np.round(cosincl, 3)))"
   ]
  },
  {
   "cell_type": "code",
   "execution_count": 13,
   "metadata": {},
   "outputs": [],
   "source": [
    "cdpp_cols = [k for k in stellar.keys() if k.startswith(\"rrmscdpp\")]\n",
    "cdpp_vals = np.array([k[-4:].replace(\"p\", \".\") for k in cdpp_cols], dtype=float)\n",
    "pgam = gamma(4.65, loc=0., scale=0.98)\n",
    "mesthres_cols = [k for k in stellar.keys() if k.startswith(\"mesthres\")]\n",
    "mesthres_vals = np.array([k[-4:].replace(\"p\", \".\") for k in mesthres_cols],\n",
    "                         dtype=float)"
   ]
  },
  {
   "cell_type": "code",
   "execution_count": 14,
   "metadata": {},
   "outputs": [],
   "source": [
    "def pcomp_vectors(stars, periods, rp, eccs, cosincls):\n",
    "    '''\n",
    "    Self-contained, returns pcomp over matched arrays of planets around stars.\n",
    "    '''\n",
    "    c = 1.0874\n",
    "    s = 1.0187\n",
    "    Go4pi = 2945.4625385377644/(4*np.pi*np.pi)\n",
    "    re = 0.009171\n",
    "    \n",
    "    mstars = stars['mass'].values\n",
    "    rstars = stars['radius'].values\n",
    "    cdpp = np.array(stars[cdpp_cols], dtype=float)\n",
    "    dataspan = np.nan_to_num(stars['dataspan'].values)\n",
    "    dutycycle = np.nan_to_num(stars['dutycycle'].values)\n",
    "    mesthres_cols_stars = np.array(stars[mesthres_cols], dtype=float)\n",
    "    \n",
    "    aor = (Go4pi*periods*periods*mstars) ** (1./3) / rstars\n",
    "    tau = 6 * periods * np.sqrt(1 - eccs**2) / aor\n",
    "\n",
    "    sigma = np.array([np.interp(tau[i], cdpp_vals, cdpp[i]) for i in range(len(tau))])\n",
    "    sigma = np.nan_to_num(sigma, nan=1)\n",
    "    # Compute the radius ratio and estimate the S/N.\n",
    "\n",
    "    k = rp * re / rstars\n",
    "    delta = 0.84 * k*k * (c + s*k)\n",
    "    snr = delta * 1e6 / sigma\n",
    "\n",
    "    # Scale by the estimated number of transits.\n",
    "    ntrn = dataspan * dutycycle / periods\n",
    "    mess = snr * np.sqrt(ntrn)\n",
    "    \n",
    "    mest = np.array([np.interp(tau[i], mesthres_vals, mesthres_cols_stars[i]) for i in range(len(tau))])\n",
    "    mest = np.nan_to_num(mest, nan=7.1)\n",
    "    x = mess - 4.1 - (mest - 7.1)\n",
    "    pdets = pgam.cdf(x)\n",
    "    \n",
    "    M = dataspan / periods\n",
    "    f = dutycycle\n",
    "    omf = 1.0 - f\n",
    "    pw = 1 - omf**M - M*f*omf**(M-1) - 0.5*M*(M-1)*f*f*omf**(M-2)\n",
    "    msk = (pw >= 0.0) & (M >= 2.0)\n",
    "    pwins = pw * msk\n",
    "    pwins = np.nan_to_num(pwins)\n",
    "    \n",
    "    pgeom = aor * cosincls * (1 - eccs * eccs) <= 1 # for now, assume sin omega = 0\n",
    "    # pgeom = 1. / (aor * (1 - eccs*eccs)) * (aor > 1.0)\n",
    "    \n",
    "    pgeom = np.nan_to_num(pgeom)\n",
    "    \n",
    "    try:\n",
    "        assert np.all(pdets >= 0) and np.all(pdets <= 1), \"pdets are out of range\"\n",
    "        assert np.all(pwins >= 0) and np.all(pwins <= 1), \"pwins are out of range\"\n",
    "        assert np.all(pgeom >= 0) and np.all(pgeom <= 1), \"pgeom are out of range\"\n",
    "    except AssertionError as e:\n",
    "        for p in [pdets, pwins, pgeom]:\n",
    "            minmeanmax(p, \"probs in order det, win, geo\")\n",
    "        raise\n",
    "    return pdets * pwins * pgeom"
   ]
  },
  {
   "cell_type": "code",
   "execution_count": 15,
   "metadata": {},
   "outputs": [
    {
     "data": {
      "text/plain": [
       "Text(0.5, 1.0, 'pcomps')"
      ]
     },
     "execution_count": 15,
     "metadata": {},
     "output_type": "execute_result"
    },
    {
     "data": {
      "image/png": "[encoded data removed]",
      "text/plain": [
       "<Figure size 432x288 with 1 Axes>"
      ]
     },
     "metadata": {
      "needs_background": "light"
     },
     "output_type": "display_data"
    }
   ],
   "source": [
    "combined = pd.merge(kois, stellar, on='kepid')\n",
    "pcomp = partial(completeness.get_completeness, pgam=pgam, mesthres_cols=mesthres_cols, mesthres_vals=mesthres_vals)\n",
    "cosincls = np.cos(np.pi * combined['koi_incl'] / 180)\n",
    "pcomps = pcomp_vectors(combined, combined['koi_period'], combined['koi_prad'], combined['koi_eccen'], cosincls)\n",
    "plt.hist(pcomps[~np.isnan(pcomps)])\n",
    "plt.title(\"pcomps\")"
   ]
  },
  {
   "cell_type": "code",
   "execution_count": 16,
   "metadata": {},
   "outputs": [],
   "source": [
    "num_stars = len(stellar)\n",
    "stellar_sample = stellar.sample(n=num_stars)"
   ]
  },
  {
   "cell_type": "code",
   "execution_count": 17,
   "metadata": {},
   "outputs": [
    {
     "data": {
      "text/plain": [
       "(array([1256.,  938.,  714.,  559.,  452.,  451.,  433.,  371.,  345.,\n",
       "         512.]),\n",
       " array([0.     , 0.09992, 0.19984, 0.29976, 0.39968, 0.4996 , 0.59952,\n",
       "        0.69944, 0.79936, 0.89928, 0.9992 ]),\n",
       " <a list of 10 Patch objects>)"
      ]
     },
     "execution_count": 17,
     "metadata": {},
     "output_type": "execute_result"
    },
    {
     "data": {
      "image/png": "[encoded data removed]",
      "text/plain": [
       "<Figure size 432x288 with 1 Axes>"
      ]
     },
     "metadata": {
      "needs_background": "light"
     },
     "output_type": "display_data"
    }
   ],
   "source": [
    "plt.hist(combined.koi_impact[combined.koi_impact < 1])"
   ]
  },
  {
   "cell_type": "code",
   "execution_count": 24,
   "metadata": {},
   "outputs": [],
   "source": [
    "t0_range = (min(kois.koi_time0), max(kois.koi_time0))\n",
    "\n",
    "def add_uncertainties(price_uncertainty_params):\n",
    "    '''\n",
    "    Adds uncertainties to parameters based on Price and Rogers (2014).\n",
    "    \n",
    "    Arguments\n",
    "    ---------\n",
    "    price_uncertainty_parameters : list of scalars / numpy.ndarrays.\n",
    "    The parameters in the signature from each of the Price/Rogers variance functions.\n",
    "    (delta, T, tau, f0, texp, Ttot, gamma, sigma).\n",
    "    delta - transit depth\n",
    "    T - full-width at half-max transit time\n",
    "    tau - duration of ingress and egress\n",
    "    f0 - starting flux, which we set to 1.\n",
    "    texp - time of exposure, about 30 minutes for Kepler.\n",
    "    Ttot -  same as P in this case, I think\n",
    "    gamma - sampling rate\n",
    "    sigma - model uncertainty\n",
    "    \n",
    "    Returns\n",
    "    -------\n",
    "    perturbed_parameters : list of scalars / numpy.ndarrays.\n",
    "    The same list, but with white noise added.\n",
    "    '''\n",
    "    var_d = abs(np.vectorize(price_rogers_2014_binned.prVarDelta)(*price_uncertainty_params)) * 0 # abs is stopgap\n",
    "    noise = np.random.normal(0, np.sqrt(var_d), size=(len(price_uncertainty_params[0]),))\n",
    "    noise = np.nan_to_num(noise)\n",
    "    price_uncertainty_params[0] += noise\n",
    "    return price_uncertainty_params\n",
    "\n",
    "def generate_planet_catalog(f, stars):\n",
    "    '''\n",
    "    Takes in the occurrence rate matrix f and generates `num_planets' planets, \n",
    "    represented as a matrix of state (row) vectors.\n",
    "    \n",
    "    Each row has: period in days; radius in Earth radii; eccentricity; cosine of inclination; impact parameter;\n",
    "    time of first transit in BJD; fractional transit depth; transit duration in days; is_detected (bool).\n",
    "    \n",
    "    Arguments\n",
    "    ---------\n",
    "    f : np.ndarray\n",
    "    f = f(r, p); occurrence rate prior that we sample p and r from.\n",
    "    \n",
    "    stars : pd.dataframe\n",
    "    A sample of the stellar dataframe.\n",
    "    '''\n",
    "    re = 0.009171\n",
    "    planet_params = ['kepid', 'period', 'prad', 'ecc', 'cosincl', 'b', 't0', 'd', 'D']\n",
    "    lam = np.sum(f)\n",
    "    nums_planets = np.minimum(stats.poisson(lam).rvs((len(stars),)), 10)\n",
    "    num_planets = sum(nums_planets)\n",
    "    stellar_catalog = pd.DataFrame(np.repeat(stars.values, nums_planets, axis=0))\n",
    "    stellar_catalog.columns = stars.columns\n",
    "    stellar_catalog = stellar_catalog.astype(stars.dtypes)\n",
    "    flat_f = f.flatten()\n",
    "    buckets = np.random.choice(f.size, p = flat_f / lam, size=(num_planets,))\n",
    "    p_left_inds = buckets // f.shape[1]\n",
    "    p_right_inds = p_left_inds + 1\n",
    "    r_left_inds = buckets % f.shape[1]\n",
    "    r_right_inds = r_left_inds + 1\n",
    "    periods = np.exp(np.random.uniform(log_p[p_left_inds], log_p[p_right_inds]))\n",
    "    pl_rads = np.exp(np.random.uniform(log_r[r_left_inds], log_r[r_right_inds]))\n",
    "    eccens  = stats.rayleigh(scale=0.03).rvs(size=(num_planets,))\n",
    "    cosincl = np.random.uniform(0, 1, size=(num_planets,))\n",
    "    impacts = np.random.uniform(0, 1, size=(num_planets,))\n",
    "    t0 = np.random.uniform(*t0_range, size=(num_planets,))\n",
    "    ror = pl_rads * re / stellar_catalog.radius.values\n",
    "    depths = ror ** 2 # these are all not nan\n",
    "    aor = completeness.get_a(periods, stellar_catalog.mass.values) / stellar_catalog.radius.values\n",
    "    arcsin_args = np.sqrt((1 + ror) ** 2 - impacts ** 2) / aor\n",
    "    problems = np.where(arcsin_args > 1)[0]\n",
    "    impacts[problems] = np.minimum(1, np.sqrt((1 + ror[problems]) ** 2 - (aor[problems]) ** 2))\n",
    "    # some impacts are 1 + eps\n",
    "    arcsin_args[problems] = 1\n",
    "    D = (periods / np.pi) * np.arcsin(arcsin_args)\n",
    "    tau0 = periods * impacts / (2 * np.pi * cosincl * np.sqrt(1 - eccens ** 2)) * 1 / (aor ** 2)\n",
    "    T = 2 * tau0 * np.sqrt(1 - impacts ** 2)\n",
    "    tau = 2 * tau0 * np.divide(ror, np.sqrt(1 - impacts ** 2), where = impacts != 1)\n",
    "    f0 = 1\n",
    "    texp = 1765.5 / 60 / 60 / 24 # s to days\n",
    "    gamma = 1 / texp # inverse s to inverse days\n",
    "    sigma = 1 # 'model uncertainty'\n",
    "    \n",
    "    price_uncertainty_params = [depths, T, tau, f0, texp, periods, gamma, sigma]\n",
    "    price_uncertainty_params = add_uncertainties(price_uncertainty_params)\n",
    "    \n",
    "    depths = price_uncertainty_params[0]\n",
    "\n",
    "    pl_rads = np.sqrt(depths) * stellar_catalog.radius / re\n",
    "    periods = price_uncertainty_params[5]\n",
    "    # [kepid, period, radius, ecc, cosincl, impact param b, t0, transit depth d, transit duration D, is_detected]\n",
    "    planets_matrix = np.vstack((stellar_catalog.kepid, periods, pl_rads, eccens, cosincl, impacts, t0, depths, D)).T\n",
    "    planetary_catalog = pd.DataFrame(planets_matrix, columns=planet_params)\n",
    "    probs = pcomp_vectors(stellar_catalog, periods, pl_rads, eccens, cosincl)\n",
    "    probs = np.nan_to_num(np.array(probs))\n",
    "    if np.allclose(probs, 0):\n",
    "        print(\"all probabilities of detection are 0\")\n",
    "    detected = np.random.binomial(1, probs)\n",
    "    planetary_catalog['is_detected'] = detected\n",
    "    return stellar_catalog, planetary_catalog.astype({'kepid': np.int64, 'is_detected': bool})"
   ]
  },
  {
   "cell_type": "code",
   "execution_count": 25,
   "metadata": {},
   "outputs": [],
   "source": [
    "st, pl = generate_planet_catalog(f, stellar_sample)\n",
    "if len(stellar_sample) == len(stellar):\n",
    "    pl.to_csv('../data/catalog_synth.csv')"
   ]
  },
  {
   "cell_type": "code",
   "execution_count": 27,
   "metadata": {},
   "outputs": [
    {
     "data": {
      "text/plain": [
       "12538"
      ]
     },
     "execution_count": 27,
     "metadata": {},
     "output_type": "execute_result"
    }
   ],
   "source": [
    "sum(pl.is_detected)"
   ]
  },
  {
   "cell_type": "code",
   "execution_count": 28,
   "metadata": {},
   "outputs": [],
   "source": [
    "detected_planets = pl[pl.is_detected]"
   ]
  },
  {
   "cell_type": "code",
   "execution_count": 29,
   "metadata": {},
   "outputs": [
    {
     "data": {
      "text/plain": [
       "(array([3195., 2280., 2148., 1930., 1450.,  855.,  398.,  166.,   81.,\n",
       "          35.]),\n",
       " array([-0.69277722, -0.05469092,  0.58339538,  1.22148168,  1.85956799,\n",
       "         2.49765429,  3.13574059,  3.77382689,  4.41191319,  5.04999949,\n",
       "         5.68808579]),\n",
       " <a list of 10 Patch objects>)"
      ]
     },
     "execution_count": 29,
     "metadata": {},
     "output_type": "execute_result"
    },
    {
     "data": {
      "image/png": "[encoded data removed]",
      "text/plain": [
       "<Figure size 432x288 with 1 Axes>"
      ]
     },
     "metadata": {
      "needs_background": "light"
     },
     "output_type": "display_data"
    }
   ],
   "source": [
    "plt.hist(np.log(detected_planets.period))"
   ]
  },
  {
   "cell_type": "code",
   "execution_count": 30,
   "metadata": {},
   "outputs": [
    {
     "data": {
      "text/plain": [
       "(array([ 168., 1159., 2818., 2949., 1897., 1077.,  629.,  580.,  468.,\n",
       "         793.]),\n",
       " array([-0.68141016, -0.33601226,  0.00938563,  0.35478352,  0.70018142,\n",
       "         1.04557931,  1.3909772 ,  1.7363751 ,  2.08177299,  2.42717089,\n",
       "         2.77256878]),\n",
       " <a list of 10 Patch objects>)"
      ]
     },
     "execution_count": 30,
     "metadata": {},
     "output_type": "execute_result"
    },
    {
     "data": {
      "image/png": "[encoded data removed]",
      "text/plain": [
       "<Figure size 432x288 with 1 Axes>"
      ]
     },
     "metadata": {
      "needs_background": "light"
     },
     "output_type": "display_data"
    }
   ],
   "source": [
    "plt.hist(np.log(detected_planets.prad))"
   ]
  },
  {
   "cell_type": "code",
   "execution_count": 31,
   "metadata": {},
   "outputs": [],
   "source": [
    "N = np.zeros_like(f)\n",
    "detected = pl[pl.is_detected]\n",
    "period_bins = np.digitize(np.log(detected.period), log_p)\n",
    "radius_bins = np.digitize(np.log(detected.prad), log_r)\n",
    "for i, j in zip(period_bins, radius_bins):\n",
    "    if i < N.shape[0] and j < N.shape[1]: # exclude some on the edges\n",
    "        N[i][j] += 1\n",
    "        \n",
    "N /= len(stellar_sample)"
   ]
  },
  {
   "cell_type": "code",
   "execution_count": 32,
   "metadata": {},
   "outputs": [
    {
     "data": {
      "text/plain": [
       "<matplotlib.colorbar.Colorbar at 0x119ec8d10>"
      ]
     },
     "execution_count": 32,
     "metadata": {},
     "output_type": "execute_result"
    },
    {
     "data": {
      "image/png": "[encoded data removed]",
      "text/plain": [
       "<Figure size 432x288 with 2 Axes>"
      ]
     },
     "metadata": {
      "needs_background": "light"
     },
     "output_type": "display_data"
    }
   ],
   "source": [
    "plt.imshow(N)\n",
    "plt.colorbar()"
   ]
  },
  {
   "cell_type": "code",
   "execution_count": 33,
   "metadata": {},
   "outputs": [
    {
     "data": {
      "text/plain": [
       "<matplotlib.colorbar.Colorbar at 0x119a8d710>"
      ]
     },
     "execution_count": 33,
     "metadata": {},
     "output_type": "execute_result"
    },
    {
     "data": {
      "image/png": "[encoded data removed]",
      "text/plain": [
       "<Figure size 432x288 with 2 Axes>"
      ]
     },
     "metadata": {
      "needs_background": "light"
     },
     "output_type": "display_data"
    }
   ],
   "source": [
    "sample_N = np.histogram2d(koi_periods, koi_radii, bins=[period, rp])[0] / len(stellar)\n",
    "plt.imshow(sample_N)\n",
    "plt.colorbar()"
   ]
  },
  {
   "cell_type": "code",
   "execution_count": 34,
   "metadata": {},
   "outputs": [
    {
     "data": {
      "text/plain": [
       "6.123129271245025e-05"
      ]
     },
     "execution_count": 34,
     "metadata": {},
     "output_type": "execute_result"
    }
   ],
   "source": [
    "diff = N - sample_N\n",
    "statistic = np.sum(diff ** 2)\n",
    "statistic"
   ]
  },
  {
   "cell_type": "code",
   "execution_count": 132,
   "metadata": {},
   "outputs": [],
   "source": [
    "stellar_catalog_abc = pd.DataFrame(np.vstack([stellar[stellar.kepid == k].to_numpy() for k in kois.kepid]))\n",
    "stellar_catalog_abc.columns = stellar.columns\n",
    "stellar_catalog_abc = stellar_catalog_abc.astype(stellar.dtypes)"
   ]
  },
  {
   "cell_type": "code",
   "execution_count": 151,
   "metadata": {},
   "outputs": [],
   "source": [
    "stellar_sample_size = len(stellar)\n",
    "stellar_sample = stellar.sample(n=stellar_sample_size)\n",
    "\n",
    "class SyntheticCatalog:\n",
    "    def __init__(self, f, stars, planets=None):\n",
    "        self.f = f\n",
    "        if planets is None:\n",
    "            self.stars, self.planets = generate_planet_catalog(f, stars)\n",
    "        else:\n",
    "            self.planets = planets\n",
    "            self.stars = stars\n",
    "\n",
    "class OccurrencePrior(stats.rv_continuous):\n",
    "    def pdf(self, f):\n",
    "        return np.prod(np.exp(-f))\n",
    "    \n",
    "    def rvs(self):\n",
    "        return stats.expon.rvs(size=(len(period), len(rp)))\n",
    "    \n",
    "def occurrence_candidate_getter(f):\n",
    "    def candidate(size=1):\n",
    "        catalogs = [SyntheticCatalog(f, stellar_sample) for _ in range(size)]\n",
    "        return catalogs\n",
    "    return candidate\n",
    "    \n",
    "def occurrence_distance(s1, s2):\n",
    "    return np.sum((s1 - s2) ** 2)\n",
    "\n",
    "def occurrence_statistic(catalogs):\n",
    "    Nstars = 0\n",
    "    N = np.zeros((len(log_p) - 1, len(log_r) - 1))\n",
    "    for catalog in catalogs:\n",
    "        Nstars += len(catalog.stars)\n",
    "        detected = catalog.planets[catalog.planets.is_detected]\n",
    "        period_bins = np.digitize(np.log(detected.period.values), log_p)\n",
    "        radius_bins = np.digitize(np.log(detected.prad.values), log_r)\n",
    "        for i, j in zip(period_bins, radius_bins):\n",
    "            if i < N.shape[0] and j < N.shape[1]: # exclude some on the edges\n",
    "                N[i][j] += 1\n",
    "    return N / Nstars\n",
    "    \n",
    "OccurrenceABCSampler = ABCSampler(OccurrencePrior(), occurrence_candidate_getter, occurrence_distance, occurrence_statistic)"
   ]
  },
  {
   "cell_type": "code",
   "execution_count": 152,
   "metadata": {},
   "outputs": [
    {
     "data": {
      "text/plain": [
       "[<__main__.SyntheticCatalog at 0x126fc0790>]"
      ]
     },
     "execution_count": 152,
     "metadata": {},
     "output_type": "execute_result"
    }
   ],
   "source": [
    "kois_catalog_abc = kois.rename(columns={'koi_period': 'period', 'koi_prad': 'prad'})\n",
    "kois_catalog_abc[\"is_detected\"] = kois_abc_catalog[\"koi_disposition\"] == \"CONFIRMED\"\n",
    "kois_abc = [SyntheticCatalog(f, stellar_catalog_abc, kois_catalog_abc)]\n",
    "kois_abc"
   ]
  },
  {
   "cell_type": "code",
   "execution_count": 154,
   "metadata": {
    "scrolled": true
   },
   "outputs": [
    {
     "name": "stdout",
     "output_type": "stream",
     "text": [
      "0.0020057296735353784\n"
     ]
    }
   ],
   "source": [
    "abc_f = OccurrenceABCSampler.sample(kois_abc, threshold=2e-3, verbose=True)"
   ]
  },
  {
   "cell_type": "code",
   "execution_count": 155,
   "metadata": {},
   "outputs": [
    {
     "data": {
      "text/plain": [
       "<matplotlib.image.AxesImage at 0x126da7ed0>"
      ]
     },
     "execution_count": 155,
     "metadata": {},
     "output_type": "execute_result"
    },
    {
     "data": {
      "image/png": "[encoded data removed]",
      "text/plain": [
       "<Figure size 432x288 with 1 Axes>"
      ]
     },
     "metadata": {
      "needs_background": "light"
     },
     "output_type": "display_data"
    }
   ],
   "source": [
    "plt.imshow(abc_f)"
   ]
  },
  {
   "cell_type": "code",
   "execution_count": 157,
   "metadata": {},
   "outputs": [
    {
     "data": {
      "text/plain": [
       "<matplotlib.image.AxesImage at 0x126cf2590>"
      ]
     },
     "execution_count": 157,
     "metadata": {},
     "output_type": "execute_result"
    },
    {
     "data": {
      "image/png": "[encoded data removed]",
      "text/plain": [
       "<Figure size 432x288 with 1 Axes>"
      ]
     },
     "metadata": {
      "needs_background": "light"
     },
     "output_type": "display_data"
    }
   ],
   "source": [
    "plt.imshow(f)"
   ]
  },
  {
   "cell_type": "code",
   "execution_count": null,
   "metadata": {},
   "outputs": [],
   "source": [
    "# Do not run till this is rewritten to be vectorized\n",
    "stellar_sample_size = len(stellar)\n",
    "stellar_sample = stellar.sample(n=stellar_sample_size)\n",
    "OccurrenceABCSampler = ABCSampler(OccurrencePrior(), occurrence_candidate_getter, occurrence_distance, occurrence_statistic)\n",
    "abc_f_full = OccurrenceABCSampler.sample(kois_abc, threshold=1e-5)"
   ]
  },
  {
   "cell_type": "markdown",
   "metadata": {},
   "source": [
    "impact parameter > 1: either a FP, or on the edge of the star. The transiting object has to be big, and often that's actually a star."
   ]
  },
  {
   "cell_type": "code",
   "execution_count": 158,
   "metadata": {},
   "outputs": [
    {
     "ename": "ValueError",
     "evalue": "m has more than 2 dimensions",
     "output_type": "error",
     "traceback": [
      "\u001b[0;31m---------------------------------------------------------------------------\u001b[0m",
      "\u001b[0;31mValueError\u001b[0m                                Traceback (most recent call last)",
      "\u001b[0;32m<ipython-input-158-e45b81f50f09>\u001b[0m in \u001b[0;36m<module>\u001b[0;34m\u001b[0m\n\u001b[1;32m      1\u001b[0m \u001b[0;31m# Do not run till this is rewritten to be vectorized\u001b[0m\u001b[0;34m\u001b[0m\u001b[0;34m\u001b[0m\u001b[0;34m\u001b[0m\u001b[0m\n\u001b[0;32m----> 2\u001b[0;31m \u001b[0mabc_pmc_f\u001b[0m \u001b[0;34m=\u001b[0m \u001b[0mOccurrenceABCSampler\u001b[0m\u001b[0;34m.\u001b[0m\u001b[0msample_pmc\u001b[0m\u001b[0;34m(\u001b[0m\u001b[0mkois_abc\u001b[0m\u001b[0;34m,\u001b[0m \u001b[0;34m[\u001b[0m\u001b[0;36m1e-2\u001b[0m\u001b[0;34m,\u001b[0m \u001b[0;36m1e-3\u001b[0m\u001b[0;34m,\u001b[0m \u001b[0;36m1e-4\u001b[0m\u001b[0;34m,\u001b[0m \u001b[0;36m1e-5\u001b[0m\u001b[0;34m,\u001b[0m \u001b[0;36m1e-6\u001b[0m\u001b[0;34m]\u001b[0m\u001b[0;34m,\u001b[0m \u001b[0;36m1\u001b[0m\u001b[0;34m)\u001b[0m\u001b[0;34m\u001b[0m\u001b[0;34m\u001b[0m\u001b[0m\n\u001b[0m",
      "\u001b[0;32m~/projects/pals/occurrence-rates/dev/abc.py\u001b[0m in \u001b[0;36msample_pmc\u001b[0;34m(self, data, thresholds, num_walkers)\u001b[0m\n\u001b[1;32m     60\u001b[0m         \u001b[0mparams_matrix\u001b[0m \u001b[0;34m=\u001b[0m \u001b[0mnp\u001b[0m\u001b[0;34m.\u001b[0m\u001b[0marray\u001b[0m\u001b[0;34m(\u001b[0m\u001b[0;34m[\u001b[0m\u001b[0msampler\u001b[0m\u001b[0;34m(\u001b[0m\u001b[0mthreshold\u001b[0m\u001b[0;34m=\u001b[0m\u001b[0mthresholds\u001b[0m\u001b[0;34m[\u001b[0m\u001b[0;36m0\u001b[0m\u001b[0;34m]\u001b[0m\u001b[0;34m)\u001b[0m \u001b[0;32mfor\u001b[0m \u001b[0m_\u001b[0m \u001b[0;32min\u001b[0m \u001b[0mrange\u001b[0m\u001b[0;34m(\u001b[0m\u001b[0mnum_walkers\u001b[0m\u001b[0;34m)\u001b[0m\u001b[0;34m]\u001b[0m\u001b[0;34m)\u001b[0m\u001b[0;34m\u001b[0m\u001b[0;34m\u001b[0m\u001b[0m\n\u001b[1;32m     61\u001b[0m         \u001b[0mweights\u001b[0m \u001b[0;34m=\u001b[0m \u001b[0mnp\u001b[0m\u001b[0;34m.\u001b[0m\u001b[0mones\u001b[0m\u001b[0;34m(\u001b[0m\u001b[0;34m(\u001b[0m\u001b[0mnum_walkers\u001b[0m\u001b[0;34m,\u001b[0m\u001b[0;34m)\u001b[0m\u001b[0;34m)\u001b[0m \u001b[0;34m/\u001b[0m \u001b[0mnum_walkers\u001b[0m\u001b[0;34m\u001b[0m\u001b[0;34m\u001b[0m\u001b[0m\n\u001b[0;32m---> 62\u001b[0;31m         \u001b[0mtau\u001b[0m \u001b[0;34m=\u001b[0m \u001b[0;36m2\u001b[0m \u001b[0;34m*\u001b[0m \u001b[0mnp\u001b[0m\u001b[0;34m.\u001b[0m\u001b[0mcov\u001b[0m\u001b[0;34m(\u001b[0m\u001b[0mparams_matrix\u001b[0m\u001b[0;34m.\u001b[0m\u001b[0mT\u001b[0m\u001b[0;34m)\u001b[0m\u001b[0;34m\u001b[0m\u001b[0;34m\u001b[0m\u001b[0m\n\u001b[0m\u001b[1;32m     63\u001b[0m         \u001b[0;32mfor\u001b[0m \u001b[0mthresh\u001b[0m \u001b[0;32min\u001b[0m \u001b[0mthresholds\u001b[0m\u001b[0;34m[\u001b[0m\u001b[0;36m1\u001b[0m\u001b[0;34m:\u001b[0m\u001b[0;34m]\u001b[0m\u001b[0;34m:\u001b[0m\u001b[0;34m\u001b[0m\u001b[0;34m\u001b[0m\u001b[0m\n\u001b[1;32m     64\u001b[0m             \u001b[0mnew_params_matrix\u001b[0m \u001b[0;34m=\u001b[0m \u001b[0mnp\u001b[0m\u001b[0;34m.\u001b[0m\u001b[0mempty_like\u001b[0m\u001b[0;34m(\u001b[0m\u001b[0mparams_matrix\u001b[0m\u001b[0;34m)\u001b[0m\u001b[0;34m\u001b[0m\u001b[0;34m\u001b[0m\u001b[0m\n",
      "\u001b[0;32m<__array_function__ internals>\u001b[0m in \u001b[0;36mcov\u001b[0;34m(*args, **kwargs)\u001b[0m\n",
      "\u001b[0;32m/usr/local/lib/python3.7/site-packages/numpy/lib/function_base.py\u001b[0m in \u001b[0;36mcov\u001b[0;34m(m, y, rowvar, bias, ddof, fweights, aweights)\u001b[0m\n\u001b[1;32m   2369\u001b[0m     \u001b[0mm\u001b[0m \u001b[0;34m=\u001b[0m \u001b[0mnp\u001b[0m\u001b[0;34m.\u001b[0m\u001b[0masarray\u001b[0m\u001b[0;34m(\u001b[0m\u001b[0mm\u001b[0m\u001b[0;34m)\u001b[0m\u001b[0;34m\u001b[0m\u001b[0;34m\u001b[0m\u001b[0m\n\u001b[1;32m   2370\u001b[0m     \u001b[0;32mif\u001b[0m \u001b[0mm\u001b[0m\u001b[0;34m.\u001b[0m\u001b[0mndim\u001b[0m \u001b[0;34m>\u001b[0m \u001b[0;36m2\u001b[0m\u001b[0;34m:\u001b[0m\u001b[0;34m\u001b[0m\u001b[0;34m\u001b[0m\u001b[0m\n\u001b[0;32m-> 2371\u001b[0;31m         \u001b[0;32mraise\u001b[0m \u001b[0mValueError\u001b[0m\u001b[0;34m(\u001b[0m\u001b[0;34m\"m has more than 2 dimensions\"\u001b[0m\u001b[0;34m)\u001b[0m\u001b[0;34m\u001b[0m\u001b[0;34m\u001b[0m\u001b[0m\n\u001b[0m\u001b[1;32m   2372\u001b[0m \u001b[0;34m\u001b[0m\u001b[0m\n\u001b[1;32m   2373\u001b[0m     \u001b[0;32mif\u001b[0m \u001b[0my\u001b[0m \u001b[0;32mis\u001b[0m \u001b[0;32mNone\u001b[0m\u001b[0;34m:\u001b[0m\u001b[0;34m\u001b[0m\u001b[0;34m\u001b[0m\u001b[0m\n",
      "\u001b[0;31mValueError\u001b[0m: m has more than 2 dimensions"
     ]
    }
   ],
   "source": [
    "# Do not run till this is rewritten to be vectorized\n",
    "abc_pmc_f = OccurrenceABCSampler.sample_pmc(kois_abc, [1e-2, 1e-3, 1e-4, 1e-5, 1e-6], 1)"
   ]
  },
  {
   "cell_type": "code",
   "execution_count": 159,
   "metadata": {},
   "outputs": [
    {
     "name": "stdout",
     "output_type": "stream",
     "text": [
      "-0.006835387758176439\n"
     ]
    }
   ],
   "source": [
    "i = 10\n",
    "p = combined['koi_period'][i]\n",
    "r = combined['koi_prad'][i]\n",
    "rstar = combined['radius'][i]\n",
    "ror = r / rstar * 0.009158\n",
    "d = ror ** 2\n",
    "b = combined['koi_impact'][i]\n",
    "cosincl = np.cos(combined['koi_incl'][i] * np.pi / 180)\n",
    "ecc = stats.rayleigh(scale=0.03).rvs() * 0\n",
    "aor = completeness.get_a(p, combined['mass'][i]) / rstar\n",
    "tau0 = p * b / (2 * np.pi * cosincl * np.sqrt(1 - ecc ** 2)) * 1 / (aor ** 2)\n",
    "T = 2 * tau0 * np.sqrt(1 - b ** 2)\n",
    "D = (p / np.pi) * np.arcsin(np.sqrt((1 + p / rstar) ** 2 - b ** 2) / aor)\n",
    "tau0 = p * b / (2 * np.pi * cosincl * np.sqrt(1 - ecc ** 2)) * 1 / (aor ** 2)\n",
    "T = 2 * tau0 * np.sqrt(1 - b ** 2)\n",
    "tau = 2 * tau0 * r / np.sqrt(1 - b ** 2)\n",
    "f0 = 1\n",
    "texp = 1765.5 / 60 / 60 / 24 # s to days\n",
    "gamma = 1 / texp # inverse s to inverse days\n",
    "sigma = 1 # 'model uncertainty'\n",
    "price_uncertainty_params = [d, T, tau, f0, texp, p, gamma, sigma]\n",
    "print(price_rogers_2014_binned.prVarDelta(*price_uncertainty_params))"
   ]
  }
 ],
 "metadata": {
  "kernelspec": {
   "display_name": "Python 3",
   "language": "python",
   "name": "python3"
  },
  "language_info": {
   "codemirror_mode": {
    "name": "ipython",
    "version": 3
   },
   "file_extension": ".py",
   "mimetype": "text/x-python",
   "name": "python",
   "nbconvert_exporter": "python",
   "pygments_lexer": "ipython3",
   "version": "3.7.7"
  }
 },
 "nbformat": 4,
 "nbformat_minor": 2
}
