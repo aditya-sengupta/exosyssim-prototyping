{
 "cells": [
  {
   "cell_type": "markdown",
   "metadata": {},
   "source": [
    "## Aim\n",
    "\n",
    "Compute an ABC occurrence rate estimate, and compare results with ```occurrence_mcmc```."
   ]
  },
  {
   "cell_type": "code",
   "execution_count": 1,
   "metadata": {},
   "outputs": [],
   "source": [
    "import sys\n",
    "sys.path.append('..')\n",
    "import numpy as np\n",
    "from matplotlib import pyplot as plt\n",
    "%matplotlib inline\n",
    "import pandas as pd\n",
    "from scipy import optimize, stats, linalg\n",
    "from dev.abc import ABCSampler\n",
    "from dev import price_rogers_2014_binned, dataprocessing, completeness\n",
    "from tqdm.notebook import tqdm\n",
    "from scipy.stats import gamma\n",
    "from functools import partial\n",
    "import warnings\n",
    "# warnings.simplefilter('error', RuntimeWarning)\n",
    "\n",
    "%load_ext autoreload\n",
    "%autoreload 2"
   ]
  },
  {
   "cell_type": "code",
   "execution_count": 2,
   "metadata": {},
   "outputs": [],
   "source": [
    "# a _very_ common debugging utility\n",
    "def minmeanmax(statistic, name):\n",
    "    print(\"{0} min-mean-max-hasnan\".format(name), min(statistic), np.nanmean(statistic), max(statistic), any(np.isnan(statistic)))"
   ]
  },
  {
   "cell_type": "markdown",
   "metadata": {},
   "source": [
    "My ABC setup requires\n",
    "\n",
    "- a prior occurrence estimate.\n",
    "- a candidate generator for the model parameters $\\theta$, i.e. a ```stats.continuous_rv/stats.discrete_rv``` object whose .rvs() method returns candidate parameters.\n",
    "- a sampler for $f(x \\mid \\theta)$\n",
    "- distance and statistic functions\n",
    "- data to fit"
   ]
  },
  {
   "cell_type": "code",
   "execution_count": 3,
   "metadata": {},
   "outputs": [],
   "source": [
    "kois = dataprocessing.get_kois()\n",
    "stellar = dataprocessing.get_stellar()\n",
    "kois = kois[kois[\"kepid\"].isin(stellar[\"kepid\"])]\n",
    "kois = kois[np.isfinite(kois[\"koi_prad\"])]\n",
    "stellar = stellar[np.isfinite(stellar.mass)]"
   ]
  },
  {
   "cell_type": "code",
   "execution_count": 4,
   "metadata": {},
   "outputs": [
    {
     "data": {
      "text/plain": [
       "0.02641651566667345"
      ]
     },
     "execution_count": 4,
     "metadata": {},
     "output_type": "execute_result"
    }
   ],
   "source": [
    "period_bins = np.array([0.5, 1.25, 2.5, 5, 10, 20, 40, 80, 160, 320])\n",
    "rp_bins = np.array([0.5, 0.75, 1, 1.25, 1.5, 1.75, 2, 2.5, 3, 4, 6, 8, 12, 16])\n",
    "log_p, log_r = np.log(period_bins), np.log(rp_bins)\n",
    "log_p = np.append(log_p, np.log(640))\n",
    "log_r = np.append(log_r, np.log(20))\n",
    "period_rng = (min(period_bins), max(period_bins))\n",
    "rp_rng = (min(rp_bins), max(rp_bins))\n",
    "\n",
    "f = np.histogram2d(kois.koi_period, kois.koi_prad, bins=[period_bins, rp_bins])[0] / len(stellar)\n",
    "lam = np.sum(f)\n",
    "lam"
   ]
  },
  {
   "cell_type": "code",
   "execution_count": 5,
   "metadata": {},
   "outputs": [
    {
     "data": {
      "text/plain": [
       "<matplotlib.colorbar.Colorbar at 0x1244e8510>"
      ]
     },
     "execution_count": 5,
     "metadata": {},
     "output_type": "execute_result"
    },
    {
     "data": {
      "image/png": "[encoded data removed]",
      "text/plain": [
       "<Figure size 432x288 with 2 Axes>"
      ]
     },
     "metadata": {
      "needs_background": "light"
     },
     "output_type": "display_data"
    }
   ],
   "source": [
    "plt.imshow(np.histogram2d(kois.koi_period, kois.koi_prad, bins=[period_bins, rp_bins])[0])\n",
    "plt.colorbar()"
   ]
  },
  {
   "cell_type": "code",
   "execution_count": 8,
   "metadata": {},
   "outputs": [],
   "source": [
    "def get_precomp_params():\n",
    "    cdpp_cols = [k for k in stellar.keys() if k.startswith(\"rrmscdpp\")]\n",
    "    cdpp_vals = np.array([k[-4:].replace(\"p\", \".\") for k in cdpp_cols], dtype=float)\n",
    "    pgam = gamma(4.65, loc=0., scale=0.98)\n",
    "    mesthres_cols = [k for k in stellar.keys() if k.startswith(\"mesthres\")]\n",
    "    mesthres_vals = np.array([k[-4:].replace(\"p\", \".\") for k in mesthres_cols],\n",
    "                             dtype=float)\n",
    "    return cdpp_cols, cdpp_vals, pgam, mesthres_cols, mesthres_vals\n",
    "    \n",
    "def get_pdet(periods, rp, eccs, stars=None, derived_params=None, precomp_params=None):\n",
    "    re = 0.009171\n",
    "    if precomp_params is None:\n",
    "        cdpp_cols, cdpp_vals, pgam, mesthres_cols, mesthres_vals = get_precomp_params()\n",
    "    else:\n",
    "        cdpp_cols, cdpp_vals, pgam, mesthres_cols, mesthres_vals = precomp_params\n",
    "        \n",
    "    if derived_params is None:\n",
    "        Go4pi = 2945.4625385377644/(4*np.pi*np.pi)\n",
    "        mstars = stars['mass'].values\n",
    "        rstars = stars['radius'].values\n",
    "        cdpp = np.array(stars[cdpp_cols], dtype=float)\n",
    "        dataspan = stars['dataspan'].values\n",
    "        dataspan = np.nan_to_num(dataspan)\n",
    "        dutycycle = stars['dutycycle'].values\n",
    "        dutycycle = np.nan_to_num(dutycycle)\n",
    "        mesthres_cols_stars = np.array(stars[mesthres_cols], dtype=float)\n",
    "        aor = (Go4pi*periods*periods*mstars) ** (1./3) / rstars\n",
    "    else:\n",
    "        mstars, rstars, cdpp, dataspan, dutycycle, mesthres_cols_stars, aor = derived_params\n",
    "        \n",
    "    c = 1.0874\n",
    "    s = 1.0187\n",
    "    tau = 6 * periods * np.sqrt(1 - eccs**2) / aor\n",
    "    sigma = np.array([np.interp(tau[i], cdpp_vals, cdpp[i]) for i in range(len(tau))])\n",
    "    sigma = np.nan_to_num(sigma, nan=1)\n",
    "    \n",
    "    # Compute the radius ratio and estimate the S/N\n",
    "    k = rp * re / rstars\n",
    "    delta = 0.84 * k*k * (c + s*k)\n",
    "    snr = delta * 1e6 / sigma\n",
    "\n",
    "    # Scale by the estimated number of transits.\n",
    "    ntrn = dataspan * dutycycle / periods\n",
    "    mess = snr * np.sqrt(ntrn)\n",
    "    \n",
    "    mest = np.array([np.interp(tau[i], mesthres_vals, mesthres_cols_stars[i]) for i in range(len(tau))])\n",
    "    mest = np.nan_to_num(mest, nan=7.1)\n",
    "    x = mess - 4.1 - (mest - 7.1)\n",
    "    pdets = pgam.cdf(x)\n",
    "    return pdets\n",
    "    \n",
    "def get_pwin(periods, dataspan, dutycycle):\n",
    "    M = dataspan / periods\n",
    "    f = dutycycle\n",
    "    omf = 1.0 - f\n",
    "    pw = 1 - omf**M - M*f*omf**(M-1) - 0.5*M*(M-1)*f*f*omf**(M-2)\n",
    "    msk = (pw >= 0.0) & (M >= 2.0)\n",
    "    pwins = pw * msk\n",
    "    return pwins\n",
    "    \n",
    "def get_pgeom(cosincls, eccs, periods=None, mstars=None, rstars=None, aor=None):\n",
    "    if aor is None:\n",
    "        Go4pi = 2945.4625385377644/(4*np.pi*np.pi)\n",
    "        aor = (Go4pi*periods*periods*mstars) ** (1./3) / rstars\n",
    "    return np.nan_to_num(aor * cosincls * (1 - eccs * eccs) <= 1)\n",
    "\n",
    "def get_pcomp(periods, rp, eccs, cosincls, stars, precomp_params=None):\n",
    "    '''\n",
    "    Self-contained, returns pcomp over matched arrays of planets around stars.\n",
    "    \n",
    "    Arguments\n",
    "    ---------\n",
    "    stars : pd.DataFrame\n",
    "    A sample of the stellar catalog whose rows match the planets.\n",
    "    \n",
    "    periods, rp, eccs, cosincls : numpy.ndarray\n",
    "    Periods, radii, eccentricities, cosine-inclinations of the planets in vectors.\n",
    "\n",
    "    precomp_params : list or None\n",
    "    The precomputed parameters indicating the CDPP values, the MES threshold values, and the gamma distribution.\n",
    "    '''\n",
    "    if precomp_params is None:\n",
    "        cdpp_cols, cdpp_vals, pgam, mesthres_cols, mesthres_vals = get_precomp_params()\n",
    "    else:\n",
    "        cdpp_cols, cdpp_vals, pgam, mesthres_cols, mesthres_vals = precomp_params\n",
    "        \n",
    "        \n",
    "    Go4pi = 2945.4625385377644/(4*np.pi*np.pi)\n",
    "    mstars = stars['mass'].values\n",
    "    rstars = stars['radius'].values\n",
    "    cdpp = np.array(stars[cdpp_cols], dtype=float)\n",
    "    dataspan = stars['dataspan'].values\n",
    "    dataspan = np.nan_to_num(dataspan)\n",
    "    dutycycle = stars['dutycycle'].values\n",
    "    dutycycle = np.nan_to_num(dutycycle)\n",
    "    mesthres_cols_stars = np.array(stars[mesthres_cols], dtype=float)\n",
    "    aor = (Go4pi*periods*periods*mstars) ** (1./3) / rstars\n",
    "    \n",
    "    derived_params = [mstars, rstars, cdpp, dataspan, dutycycle, mesthres_cols_stars, aor]\n",
    "    \n",
    "    pdets = get_pdet(periods, rp, eccs, derived_params=derived_params)\n",
    "    pwins = get_pwin(periods, dataspan, dutycycle)\n",
    "    pgeom = get_pgeom(cosincls, eccs, aor=aor)\n",
    "    \n",
    "    return pdets * pwins * pgeom"
   ]
  },
  {
   "cell_type": "code",
   "execution_count": 11,
   "metadata": {},
   "outputs": [
    {
     "data": {
      "text/plain": [
       "Text(0.5, 1.0, 'pcomps')"
      ]
     },
     "execution_count": 11,
     "metadata": {},
     "output_type": "execute_result"
    },
    {
     "data": {
      "image/png": "[encoded data removed]",
      "text/plain": [
       "<Figure size 432x288 with 1 Axes>"
      ]
     },
     "metadata": {
      "needs_background": "light"
     },
     "output_type": "display_data"
    }
   ],
   "source": [
    "combined = pd.merge(kois, stellar, on='kepid')\n",
    "precomp_params = get_precomp_params()\n",
    "cosincls = np.cos(np.pi * combined['koi_incl'].values / 180)\n",
    "pcomp = get_pcomp(combined['koi_period'].values, combined['koi_prad'].values, \n",
    "                  combined['koi_eccen'].values, cosincls, combined, precomp_params)\n",
    "plt.hist(pcomp[~np.isnan(pcomp)])\n",
    "plt.title(\"pcomps\")"
   ]
  },
  {
   "cell_type": "code",
   "execution_count": 12,
   "metadata": {},
   "outputs": [],
   "source": [
    "num_stars = len(stellar)\n",
    "stellar_sample = stellar.sample(n=num_stars)"
   ]
  },
  {
   "cell_type": "code",
   "execution_count": 13,
   "metadata": {},
   "outputs": [
    {
     "data": {
      "text/plain": [
       "(array([1256.,  938.,  714.,  559.,  452.,  451.,  433.,  371.,  345.,\n",
       "         512.]),\n",
       " array([0.     , 0.09992, 0.19984, 0.29976, 0.39968, 0.4996 , 0.59952,\n",
       "        0.69944, 0.79936, 0.89928, 0.9992 ]),\n",
       " <a list of 10 Patch objects>)"
      ]
     },
     "execution_count": 13,
     "metadata": {},
     "output_type": "execute_result"
    },
    {
     "data": {
      "image/png": "[encoded data removed]",
      "text/plain": [
       "<Figure size 432x288 with 1 Axes>"
      ]
     },
     "metadata": {
      "needs_background": "light"
     },
     "output_type": "display_data"
    }
   ],
   "source": [
    "plt.hist(combined.koi_impact[combined.koi_impact < 1])"
   ]
  },
  {
   "cell_type": "code",
   "execution_count": 18,
   "metadata": {},
   "outputs": [],
   "source": [
    "t0_range = (min(kois.koi_time0), max(kois.koi_time0))\n",
    "\n",
    "def add_uncertainties(price_uncertainty_params):\n",
    "    '''\n",
    "    Adds uncertainties to parameters based on Price and Rogers (2014).\n",
    "    \n",
    "    Arguments\n",
    "    ---------\n",
    "    price_uncertainty_parameters : list of scalars / numpy.ndarrays.\n",
    "    The parameters in the signature from each of the Price/Rogers variance functions.\n",
    "    (delta, T, tau, f0, texp, Ttot, gamma, sigma).\n",
    "    delta - transit depth\n",
    "    T - full-width at half-max transit time\n",
    "    tau - duration of ingress and egress\n",
    "    f0 - starting flux, which we set to 1.\n",
    "    texp - time of exposure, about 30 minutes for Kepler.\n",
    "    Ttot -  same as P in this case, I think\n",
    "    gamma - sampling rate\n",
    "    sigma - model uncertainty\n",
    "    \n",
    "    Returns\n",
    "    -------\n",
    "    perturbed_parameters : list of scalars / numpy.ndarrays.\n",
    "    The same list, but with white noise added.\n",
    "    '''\n",
    "    var_d = abs(np.vectorize(price_rogers_2014_binned.prVarDelta)(*price_uncertainty_params)) * 0 # abs is stopgap\n",
    "    noise = np.random.normal(0, np.sqrt(var_d), size=(len(price_uncertainty_params[0]),))\n",
    "    noise = np.nan_to_num(noise)\n",
    "    price_uncertainty_params[0] += noise\n",
    "    return price_uncertainty_params\n",
    "\n",
    "def generate_planet_catalog(f, stars):\n",
    "    '''\n",
    "    Takes in the occurrence rate matrix f and generates `num_planets' planets, \n",
    "    represented as a matrix of state (row) vectors.\n",
    "    \n",
    "    Each row has: period in days; radius in Earth radii; eccentricity; cosine of inclination; impact parameter;\n",
    "    time of first transit in BJD; fractional transit depth; transit duration in days; is_detected (bool).\n",
    "    \n",
    "    Arguments\n",
    "    ---------\n",
    "    f : np.ndarray\n",
    "    f = f(r, p); occurrence rate prior that we sample p and r from.\n",
    "    \n",
    "    stars : pd.dataframe\n",
    "    A sample of the stellar dataframe.\n",
    "    '''\n",
    "    re = 0.009171\n",
    "    planet_params = ['kepid', 'period', 'prad', 'ecc', 'cosincl', 'b', 't0', 'd', 'D']\n",
    "    lam = np.sum(f)\n",
    "    nums_planets = np.minimum(stats.poisson(lam).rvs((len(stars),)), 10)\n",
    "    num_planets = sum(nums_planets)\n",
    "    stellar_catalog = pd.DataFrame(np.repeat(stars.values, nums_planets, axis=0))\n",
    "    stellar_catalog.columns = stars.columns\n",
    "    stellar_catalog = stellar_catalog.astype(stars.dtypes)\n",
    "    flat_f = f.flatten()\n",
    "    buckets = np.random.choice(f.size, p = flat_f / lam, size=(num_planets,))\n",
    "    p_left_inds = buckets // f.shape[1]\n",
    "    p_right_inds = p_left_inds + 1\n",
    "    r_left_inds = buckets % f.shape[1]\n",
    "    r_right_inds = r_left_inds + 1\n",
    "    periods = np.exp(np.random.uniform(log_p[p_left_inds], log_p[p_right_inds]))\n",
    "    pl_rads = np.exp(np.random.uniform(log_r[r_left_inds], log_r[r_right_inds]))\n",
    "    eccens  = stats.rayleigh(scale=0.03).rvs(size=(num_planets,))\n",
    "    cosincl = np.random.uniform(0, 1, size=(num_planets,))\n",
    "    impacts = np.random.uniform(0, 1, size=(num_planets,))\n",
    "    t0 = np.random.uniform(*t0_range, size=(num_planets,))\n",
    "    ror = pl_rads * re / stellar_catalog.radius.values\n",
    "    depths = ror ** 2 # these are all not nan\n",
    "    aor = completeness.get_a(periods, stellar_catalog.mass.values) / stellar_catalog.radius.values\n",
    "    arcsin_args = np.sqrt((1 + ror) ** 2 - impacts ** 2) / aor\n",
    "    problems = np.where(arcsin_args > 1)[0]\n",
    "    impacts[problems] = np.minimum(1, np.sqrt((1 + ror[problems]) ** 2 - (aor[problems]) ** 2))\n",
    "    # some impacts are 1 + eps\n",
    "    arcsin_args[problems] = 1\n",
    "    D = (periods / np.pi) * np.arcsin(arcsin_args)\n",
    "    tau0 = periods * impacts / (2 * np.pi * cosincl * np.sqrt(1 - eccens ** 2)) * 1 / (aor ** 2)\n",
    "    T = 2 * tau0 * np.sqrt(1 - impacts ** 2)\n",
    "    tau = 2 * tau0 * np.divide(ror, np.sqrt(1 - impacts ** 2), where = impacts != 1)\n",
    "    f0 = 1\n",
    "    texp = 1765.5 / 60 / 60 / 24 # s to days\n",
    "    gamma = 1 / texp # inverse s to inverse days\n",
    "    sigma = 1 # 'model uncertainty'\n",
    "    \n",
    "    price_uncertainty_params = [depths, T, tau, f0, texp, periods, gamma, sigma]\n",
    "    price_uncertainty_params = add_uncertainties(price_uncertainty_params)\n",
    "    \n",
    "    depths = price_uncertainty_params[0]\n",
    "\n",
    "    pl_rads = np.sqrt(depths) * stellar_catalog.radius / re\n",
    "    periods = price_uncertainty_params[5]\n",
    "    # [kepid, period, radius, ecc, cosincl, impact param b, t0, transit depth d, transit duration D, is_detected]\n",
    "    planets_matrix = np.vstack((stellar_catalog.kepid, periods, pl_rads, eccens, cosincl, impacts, t0, depths, D)).T\n",
    "    planetary_catalog = pd.DataFrame(planets_matrix, columns=planet_params)\n",
    "    probs = get_pcomp(periods, pl_rads, eccens, cosincl, stellar_catalog)\n",
    "    probs = np.array(probs)\n",
    "    probs = np.nan_to_num(probs)\n",
    "    if np.allclose(probs, 0):\n",
    "        print(\"all probabilities of detection are 0\")\n",
    "    detected = np.random.binomial(1, np.nan_to_num(probs))\n",
    "    planetary_catalog['is_detected'] = detected\n",
    "    return stellar_catalog, planetary_catalog.astype({'kepid': np.int64, 'is_detected': bool})"
   ]
  },
  {
   "cell_type": "code",
   "execution_count": 19,
   "metadata": {},
   "outputs": [],
   "source": [
    "st, pl = generate_planet_catalog(f, stellar_sample)\n",
    "if len(stellar_sample) == len(stellar):\n",
    "    pl.to_csv('../data/catalog_synth.csv')"
   ]
  },
  {
   "cell_type": "code",
   "execution_count": 20,
   "metadata": {},
   "outputs": [
    {
     "data": {
      "text/plain": [
       "319"
      ]
     },
     "execution_count": 20,
     "metadata": {},
     "output_type": "execute_result"
    }
   ],
   "source": [
    "sum(pl.is_detected)"
   ]
  },
  {
   "cell_type": "code",
   "execution_count": 21,
   "metadata": {},
   "outputs": [],
   "source": [
    "detected_planets = pl[pl.is_detected]"
   ]
  },
  {
   "cell_type": "code",
   "execution_count": 22,
   "metadata": {},
   "outputs": [
    {
     "data": {
      "text/plain": [
       "(array([67., 68., 47., 41., 39., 31., 12.,  8.,  3.,  3.]),\n",
       " array([-0.69196298, -0.10791538,  0.47613222,  1.06017982,  1.64422742,\n",
       "         2.22827501,  2.81232261,  3.39637021,  3.98041781,  4.56446541,\n",
       "         5.14851301]),\n",
       " <a list of 10 Patch objects>)"
      ]
     },
     "execution_count": 22,
     "metadata": {},
     "output_type": "execute_result"
    },
    {
     "data": {
      "image/png": "[encoded data removed]",
      "text/plain": [
       "<Figure size 432x288 with 1 Axes>"
      ]
     },
     "metadata": {
      "needs_background": "light"
     },
     "output_type": "display_data"
    }
   ],
   "source": [
    "plt.hist(np.log(detected_planets.period))"
   ]
  },
  {
   "cell_type": "code",
   "execution_count": 23,
   "metadata": {},
   "outputs": [
    {
     "data": {
      "text/plain": [
       "(array([21., 60., 71., 56., 35., 20., 15.,  9., 13., 19.]),\n",
       " array([-0.35723651, -0.04826793,  0.26070066,  0.56966925,  0.87863784,\n",
       "         1.18760642,  1.49657501,  1.8055436 ,  2.11451218,  2.42348077,\n",
       "         2.73244936]),\n",
       " <a list of 10 Patch objects>)"
      ]
     },
     "execution_count": 23,
     "metadata": {},
     "output_type": "execute_result"
    },
    {
     "data": {
      "image/png": "[encoded data removed]",
      "text/plain": [
       "<Figure size 432x288 with 1 Axes>"
      ]
     },
     "metadata": {
      "needs_background": "light"
     },
     "output_type": "display_data"
    }
   ],
   "source": [
    "plt.hist(np.log(detected_planets.prad))"
   ]
  },
  {
   "cell_type": "code",
   "execution_count": 24,
   "metadata": {},
   "outputs": [],
   "source": [
    "N = np.zeros_like(f)\n",
    "detected = pl[pl.is_detected]\n",
    "period_inds = np.digitize(np.log(detected.period), log_p)\n",
    "radius_inds = np.digitize(np.log(detected.prad), log_r)\n",
    "for i, j in zip(period_inds, radius_inds):\n",
    "    if i < N.shape[0] and j < N.shape[1]: # exclude some on the edges\n",
    "        N[i][j] += 1\n",
    "        \n",
    "N /= len(stellar_sample)"
   ]
  },
  {
   "cell_type": "code",
   "execution_count": 25,
   "metadata": {},
   "outputs": [
    {
     "data": {
      "text/plain": [
       "<matplotlib.colorbar.Colorbar at 0x137a82a90>"
      ]
     },
     "execution_count": 25,
     "metadata": {},
     "output_type": "execute_result"
    },
    {
     "data": {
      "image/png": "[encoded data removed]",
      "text/plain": [
       "<Figure size 432x288 with 2 Axes>"
      ]
     },
     "metadata": {
      "needs_background": "light"
     },
     "output_type": "display_data"
    }
   ],
   "source": [
    "plt.imshow(N)\n",
    "plt.colorbar()"
   ]
  },
  {
   "cell_type": "code",
   "execution_count": 26,
   "metadata": {},
   "outputs": [
    {
     "data": {
      "text/plain": [
       "<matplotlib.colorbar.Colorbar at 0x124b8d4d0>"
      ]
     },
     "execution_count": 26,
     "metadata": {},
     "output_type": "execute_result"
    },
    {
     "data": {
      "image/png": "[encoded data removed]",
      "text/plain": [
       "<Figure size 432x288 with 2 Axes>"
      ]
     },
     "metadata": {
      "needs_background": "light"
     },
     "output_type": "display_data"
    }
   ],
   "source": [
    "sample_N = np.histogram2d(kois.koi_period, kois.koi_prad, bins=[period_bins, rp_bins])[0] / len(stellar)\n",
    "plt.imshow(sample_N)\n",
    "plt.colorbar()"
   ]
  },
  {
   "cell_type": "code",
   "execution_count": 27,
   "metadata": {},
   "outputs": [],
   "source": [
    "# %timeit generate_planet_catalog(f, stellar)\n",
    "# 12.4 s ± 2.25 s per loop (mean ± std. dev. of 7 runs, 1 loop each)"
   ]
  },
  {
   "cell_type": "code",
   "execution_count": 28,
   "metadata": {},
   "outputs": [
    {
     "data": {
      "text/plain": [
       "8.783312289266699e-06"
      ]
     },
     "execution_count": 28,
     "metadata": {},
     "output_type": "execute_result"
    }
   ],
   "source": [
    "diff = N - sample_N\n",
    "statistic = np.sum(diff ** 2)\n",
    "statistic"
   ]
  },
  {
   "cell_type": "code",
   "execution_count": 29,
   "metadata": {},
   "outputs": [],
   "source": [
    "stellar_catalog_abc = pd.DataFrame(np.vstack([stellar[stellar.kepid == k].to_numpy() for k in kois.kepid]))\n",
    "stellar_catalog_abc.columns = stellar.columns\n",
    "stellar_catalog_abc = stellar_catalog_abc.astype(stellar.dtypes)"
   ]
  },
  {
   "cell_type": "code",
   "execution_count": 30,
   "metadata": {},
   "outputs": [],
   "source": [
    "stellar_sample_size = len(stellar)\n",
    "stellar_sample = stellar.sample(n=stellar_sample_size)\n",
    "\n",
    "class SyntheticCatalog:\n",
    "    def __init__(self, f, stars, planets=None):\n",
    "        self.f = f\n",
    "        if planets is None:\n",
    "            self.stars, self.planets = generate_planet_catalog(f, stars)\n",
    "        else:\n",
    "            self.planets = planets\n",
    "            self.stars = stars\n",
    "\n",
    "class OccurrencePrior(stats.rv_continuous):\n",
    "    def pdf(self, f):\n",
    "        return np.prod(np.exp(-f))\n",
    "    \n",
    "    def rvs(self):\n",
    "        return stats.expon.rvs(size=(len(period_bins) * len(rp_bins),))\n",
    "    \n",
    "def occurrence_candidate_getter(f):\n",
    "    def candidate(size=1):\n",
    "        return [SyntheticCatalog(f.reshape(len(period_bins), len(rp_bins)), stellar_sample) for _ in range(size)]\n",
    "    return candidate\n",
    "    \n",
    "def occurrence_distance(s1, s2):\n",
    "    return np.sum((s1 - s2) ** 2)\n",
    "\n",
    "def occurrence_statistic(catalogs):\n",
    "    Nstars = 0\n",
    "    N = np.zeros((len(log_p) - 1, len(log_r) - 1))\n",
    "    for catalog in catalogs:\n",
    "        Nstars += len(catalog.stars)\n",
    "        detected = catalog.planets[catalog.planets.is_detected]\n",
    "        period_bins = np.digitize(np.log(detected.period.values), log_p)\n",
    "        radius_bins = np.digitize(np.log(detected.prad.values), log_r)\n",
    "        for i, j in zip(period_bins, radius_bins):\n",
    "            if i < N.shape[0] and j < N.shape[1]: # exclude some on the edges\n",
    "                N[i][j] += 1\n",
    "    return N / Nstars\n",
    "    \n",
    "OccurrenceABCSampler = ABCSampler(OccurrencePrior(), occurrence_candidate_getter, occurrence_distance, occurrence_statistic)"
   ]
  },
  {
   "cell_type": "code",
   "execution_count": 31,
   "metadata": {},
   "outputs": [],
   "source": [
    "kois_catalog_abc = kois.rename(columns={'koi_period': 'period', 'koi_prad': 'prad'})\n",
    "kois_catalog_abc[\"is_detected\"] = kois_catalog_abc[\"koi_disposition\"] == \"CONFIRMED\"\n",
    "kois_abc = [SyntheticCatalog(f, stellar_catalog_abc, kois_catalog_abc)]"
   ]
  },
  {
   "cell_type": "code",
   "execution_count": 32,
   "metadata": {
    "scrolled": true
   },
   "outputs": [
    {
     "name": "stdout",
     "output_type": "stream",
     "text": [
      "0.002053177531556368\n",
      "0.0021946005700130763\n",
      "0.002102155611913313\n",
      "0.002019120294533537\n",
      "0.002027652544526244\n",
      "0.0020796830179877577\n",
      "0.002149040027277032\n",
      "0.002018078823239866\n",
      "0.0021410307371981735\n"
     ]
    }
   ],
   "source": [
    "abc_f = OccurrenceABCSampler.sample(kois_abc, threshold=2e-3, verbose=True)"
   ]
  },
  {
   "cell_type": "code",
   "execution_count": 33,
   "metadata": {},
   "outputs": [
    {
     "data": {
      "text/plain": [
       "<matplotlib.image.AxesImage at 0x124a83a10>"
      ]
     },
     "execution_count": 33,
     "metadata": {},
     "output_type": "execute_result"
    },
    {
     "data": {
      "image/png": "[encoded data removed]",
      "text/plain": [
       "<Figure size 432x288 with 1 Axes>"
      ]
     },
     "metadata": {
      "needs_background": "light"
     },
     "output_type": "display_data"
    }
   ],
   "source": [
    "plt.imshow(abc_f.reshape((len(period_bins), len(rp_bins))))"
   ]
  },
  {
   "cell_type": "code",
   "execution_count": 34,
   "metadata": {},
   "outputs": [
    {
     "data": {
      "text/plain": [
       "<matplotlib.image.AxesImage at 0x12487bb10>"
      ]
     },
     "execution_count": 34,
     "metadata": {},
     "output_type": "execute_result"
    },
    {
     "data": {
      "image/png": "[encoded data removed]",
      "text/plain": [
       "<Figure size 432x288 with 1 Axes>"
      ]
     },
     "metadata": {
      "needs_background": "light"
     },
     "output_type": "display_data"
    }
   ],
   "source": [
    "plt.imshow(f)"
   ]
  },
  {
   "cell_type": "markdown",
   "metadata": {},
   "source": [
    "impact parameter > 1: either a FP, or on the edge of the star. The transiting object has to be big, and often that's actually a star."
   ]
  },
  {
   "cell_type": "code",
   "execution_count": null,
   "metadata": {},
   "outputs": [],
   "source": [
    "# Do not run till this is rewritten to be vectorized\n",
    "abc_pmc_f = OccurrenceABCSampler.sample_pmc(kois_abc, [1e-1, 1e-2, 1e-3, 1e-4, 1e-5, 1e-6], 2)"
   ]
  }
 ],
 "metadata": {
  "kernelspec": {
   "display_name": "Python 3",
   "language": "python",
   "name": "python3"
  },
  "language_info": {
   "codemirror_mode": {
    "name": "ipython",
    "version": 3
   },
   "file_extension": ".py",
   "mimetype": "text/x-python",
   "name": "python",
   "nbconvert_exporter": "python",
   "pygments_lexer": "ipython3",
   "version": "3.7.7"
  }
 },
 "nbformat": 4,
 "nbformat_minor": 2
}
