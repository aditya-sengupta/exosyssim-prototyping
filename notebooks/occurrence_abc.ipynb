{
 "cells": [
  {
   "cell_type": "markdown",
   "metadata": {},
   "source": [
    "## Aim\n",
    "\n",
    "Compute an ABC occurrence rate estimate, and compare results with ```occurrence_mcmc```."
   ]
  },
  {
   "cell_type": "code",
   "execution_count": 1,
   "metadata": {},
   "outputs": [],
   "source": [
    "import sys\n",
    "sys.path.append('..')\n",
    "import numpy as np\n",
    "from matplotlib import pyplot as plt\n",
    "%matplotlib inline\n",
    "import pandas as pd\n",
    "from scipy import optimize, stats, linalg\n",
    "from dev.abc import ABCSampler\n",
    "from dev import price_rogers_2014_binned, dataprocessing, completeness\n",
    "from tqdm.notebook import tqdm\n",
    "from scipy.stats import gamma\n",
    "from functools import partial\n",
    "\n",
    "%load_ext autoreload\n",
    "%autoreload 2"
   ]
  },
  {
   "cell_type": "markdown",
   "metadata": {},
   "source": [
    "My ABC setup requires\n",
    "\n",
    "- a prior occurrence estimate.\n",
    "- a candidate generator for the model parameters $\\theta$, i.e. a ```stats.continuous_rv/stats.discrete_rv``` object whose .rvs() method returns candidate parameters.\n",
    "- a sampler for $f(x \\mid \\theta)$\n",
    "- distance and statistic functions\n",
    "- data to fit"
   ]
  },
  {
   "cell_type": "code",
   "execution_count": 2,
   "metadata": {},
   "outputs": [],
   "source": [
    "kois = dataprocessing.get_kois()\n",
    "stellar = dataprocessing.get_stellar()\n",
    "kois = kois[kois[\"kepid\"].isin(stellar[\"kepid\"])]\n",
    "kois = kois[np.isfinite(kois[\"koi_prad\"])]"
   ]
  },
  {
   "cell_type": "code",
   "execution_count": 3,
   "metadata": {},
   "outputs": [
    {
     "name": "stdout",
     "output_type": "stream",
     "text": [
      "[192950   5222    508    153     59     21      2      2]\n"
     ]
    },
    {
     "data": {
      "text/plain": [
       "Text(0, 0.5, 'Counts')"
      ]
     },
     "execution_count": 3,
     "metadata": {},
     "output_type": "execute_result"
    },
    {
     "data": {
      "image/png": "[encoded data removed]",
      "text/plain": [
       "<Figure size 432x288 with 1 Axes>"
      ]
     },
     "metadata": {
      "needs_background": "light"
     },
     "output_type": "display_data"
    }
   ],
   "source": [
    "zerocounts = len(stellar[~stellar[\"kepid\"].isin(kois[\"kepid\"])])\n",
    "solarsyssizes = np.array(pd.crosstab(index=kois['kepid'], columns=\"count\")).flatten()\n",
    "bincounts = np.bincount(solarsyssizes)\n",
    "bincounts[0] = zerocounts\n",
    "print(bincounts)\n",
    "plt.hist(solarsyssizes)\n",
    "plt.xlabel(\"Planets per star\")\n",
    "plt.ylabel(\"Counts\")"
   ]
  },
  {
   "cell_type": "markdown",
   "metadata": {},
   "source": [
    "Now the dataset has sufficient complexity to fit a Poisson process."
   ]
  },
  {
   "cell_type": "code",
   "execution_count": 4,
   "metadata": {},
   "outputs": [],
   "source": [
    "assert np.all(np.isfinite(kois[\"koi_prad\"]))\n",
    "assert np.all(np.isfinite(kois[\"koi_period\"]))\n",
    "koi_radii = kois[\"koi_prad\"]\n",
    "koi_periods = kois[\"koi_period\"]"
   ]
  },
  {
   "cell_type": "code",
   "execution_count": 10,
   "metadata": {},
   "outputs": [
    {
     "name": "stdout",
     "output_type": "stream",
     "text": [
      "[60816, 72487, 42555, 16619, 4939, 1243, 217, 36]\n"
     ]
    }
   ],
   "source": [
    "lam = np.mean(solarsyssizes)\n",
    "# lam = sum([i * k for i, k in enumerate(bincounts)]) / sum(bincounts)\n",
    "planet_numbers = np.minimum(stats.poisson(lam).rvs(size=(len(stellar),)), 10) \n",
    "print([sum(planet_numbers == i) for i in range(max(planet_numbers))])"
   ]
  },
  {
   "cell_type": "code",
   "execution_count": 11,
   "metadata": {},
   "outputs": [
    {
     "data": {
      "text/plain": [
       "1.183844477962125"
      ]
     },
     "execution_count": 11,
     "metadata": {},
     "output_type": "execute_result"
    }
   ],
   "source": [
    "lam"
   ]
  },
  {
   "cell_type": "code",
   "execution_count": 12,
   "metadata": {},
   "outputs": [
    {
     "data": {
      "text/plain": [
       "(array([6.0816e+04, 7.2487e+04, 4.2555e+04, 1.6619e+04, 0.0000e+00,\n",
       "        4.9390e+03, 1.2430e+03, 2.1700e+02, 3.6000e+01, 5.0000e+00]),\n",
       " array([0. , 0.8, 1.6, 2.4, 3.2, 4. , 4.8, 5.6, 6.4, 7.2, 8. ]),\n",
       " <a list of 10 Patch objects>)"
      ]
     },
     "execution_count": 12,
     "metadata": {},
     "output_type": "execute_result"
    },
    {
     "data": {
      "image/png": "[encoded data removed]",
      "text/plain": [
       "<Figure size 432x288 with 1 Axes>"
      ]
     },
     "metadata": {
      "needs_background": "light"
     },
     "output_type": "display_data"
    }
   ],
   "source": [
    "plt.hist(planet_numbers)"
   ]
  },
  {
   "cell_type": "code",
   "execution_count": 13,
   "metadata": {},
   "outputs": [],
   "source": [
    "period = np.array([0.5, 1.25, 2.5, 5, 10, 20, 40, 80, 160, 320])\n",
    "rp = np.array([0.5, 0.75, 1, 1.25, 1.5, 1.75, 2, 2.5, 3, 4, 6, 8, 12, 16])\n",
    "log_p, log_r = np.log(period), np.log(rp)\n",
    "log_p = np.append(log_p, np.log(640))\n",
    "log_r = np.append(log_r, np.log(20))\n",
    "period_rng = (min(period), max(period))\n",
    "rp_rng = (min(rp), max(rp))\n",
    "\n",
    "f = np.histogram2d(koi_periods, koi_radii, bins=[period, rp])[0]\n",
    "# f = np.ones(shape=(len(period), len(rp)))"
   ]
  },
  {
   "cell_type": "code",
   "execution_count": 14,
   "metadata": {},
   "outputs": [
    {
     "data": {
      "text/plain": [
       "<matplotlib.colorbar.Colorbar at 0x123945e50>"
      ]
     },
     "execution_count": 14,
     "metadata": {},
     "output_type": "execute_result"
    },
    {
     "data": {
      "image/png": "[encoded data removed]",
      "text/plain": [
       "<Figure size 432x288 with 2 Axes>"
      ]
     },
     "metadata": {
      "needs_background": "light"
     },
     "output_type": "display_data"
    }
   ],
   "source": [
    "plt.imshow(np.histogram2d(koi_periods, koi_radii, bins=[period, rp])[0]) # I guess that's sorta like an H-R diagram?\n",
    "plt.colorbar()"
   ]
  },
  {
   "cell_type": "code",
   "execution_count": 15,
   "metadata": {},
   "outputs": [],
   "source": [
    "f = lam * f / np.sum(f)"
   ]
  },
  {
   "cell_type": "code",
   "execution_count": 16,
   "metadata": {},
   "outputs": [
    {
     "name": "stdout",
     "output_type": "stream",
     "text": [
      "Generated planet with period 60.884 days, radius 2.247 Earth radii, eccentricity 0.037, cos of orbital inclination -0.59.\n"
     ]
    }
   ],
   "source": [
    "bucket = np.random.choice(f.size, p=f.flatten() / np.sum(f))\n",
    "i, j = bucket // f.shape[1], bucket % f.shape[1] \n",
    "synth_p = np.exp(np.random.uniform(log_p[i], log_p[i+1]))\n",
    "synth_r = np.exp(np.random.uniform(log_r[j], log_r[j+1]))\n",
    "ecc = stats.rayleigh(scale=0.03).rvs()\n",
    "cosincl = np.random.uniform(-1, 1)\n",
    "print(\"Generated planet with period {0} days, radius {1} Earth radii, eccentricity {2}, cos of orbital inclination {3}.\".format(np.round(synth_p, 3), np.round(synth_r, 3), np.round(ecc, 3), np.round(cosincl, 3)))"
   ]
  },
  {
   "cell_type": "code",
   "execution_count": 17,
   "metadata": {},
   "outputs": [],
   "source": [
    "cdpp_cols = [k for k in stellar.keys() if k.startswith(\"rrmscdpp\")]\n",
    "cdpp_vals = np.array([k[-4:].replace(\"p\", \".\") for k in cdpp_cols], dtype=float)\n",
    "pgam = gamma(4.65, loc=0., scale=0.98)\n",
    "mesthres_cols = [k for k in stellar.keys() if k.startswith(\"mesthres\")]\n",
    "mesthres_vals = np.array([k[-4:].replace(\"p\", \".\") for k in mesthres_cols],\n",
    "                         dtype=float)"
   ]
  },
  {
   "cell_type": "code",
   "execution_count": 140,
   "metadata": {},
   "outputs": [],
   "source": [
    "def pcomp_vectors(stars, periods, rp, eccs):\n",
    "    '''\n",
    "    Self-contained, returns pcomp over matched arrays of planets around stars.\n",
    "    '''\n",
    "    c = 1.0874\n",
    "    s = 1.0187\n",
    "    Go4pi = 2945.4625385377644/(4*np.pi*np.pi)\n",
    "    re = 0.009171\n",
    "    \n",
    "    mstars = stars['mass'].values\n",
    "    rstars = stars['radius'].values\n",
    "    cdpp = np.array(stars[cdpp_cols], dtype=float)\n",
    "    dataspan = stars['dataspan'].values\n",
    "    dutycycle = stars['dutycycle'].values\n",
    "    mesthres_cols_stars = np.array(stars[mesthres_cols], dtype=float)\n",
    "    \n",
    "    aor = (Go4pi*periods*periods*mstars) ** (1./3) / rstars\n",
    "    tau = 6 * periods * np.sqrt(1 - eccs**2) / aor\n",
    "\n",
    "    sigma = np.array([np.interp(tau[i], cdpp_vals, cdpp[i]) for i in range(len(tau))])\n",
    "    # Compute the radius ratio and estimate the S/N.\n",
    "    k = rp * re / rstars\n",
    "    delta = 0.84 * k*k * (c + s*k)\n",
    "    snr = delta * 1e6 / sigma\n",
    "\n",
    "    # Scale by the estimated number of transits.\n",
    "    ntrn = dataspan * dutycycle / periods\n",
    "    mess = snr * np.sqrt(ntrn)\n",
    "    mest = np.array([np.interp(tau[i], mesthres_vals, mesthres_cols_stars[i]) for i in range(len(tau))])\n",
    "    x = mess - 4.1 - (mest - 7.1)\n",
    "    print(\"x\", x)\n",
    "    print(min(x), np.nanmean(x), max(x))\n",
    "    pdets = pgam.cdf(x)\n",
    "    print(pdets)\n",
    "    print(min(pdets), np.nanmean(pdets), max(pdets))\n",
    "    \n",
    "    M = dataspan / periods\n",
    "    f = dutycycle\n",
    "    omf = 1.0 - f\n",
    "    pw = 1 - omf**M - M*f*omf**(M-1) - 0.5*M*(M-1)*f*f*omf**(M-2)\n",
    "    msk = (pw >= 0.0) & (M >= 2.0)\n",
    "    pwins = pw * msk\n",
    "    \n",
    "    pgeom = 1. / (aor * (1 - eccs*eccs)) * (aor > 1.0)\n",
    "    plt.hist(pdets)\n",
    "    plt.title(\"pdets\")\n",
    "    plt.show()\n",
    "    \n",
    "    return np.nan_to_num(pdets * pwins * pgeom)"
   ]
  },
  {
   "cell_type": "code",
   "execution_count": 141,
   "metadata": {},
   "outputs": [
    {
     "name": "stdout",
     "output_type": "stream",
     "text": [
      "x 0       11611.431016\n",
      "1        5456.838065\n",
      "2         102.230293\n",
      "3          95.947375\n",
      "4         136.494163\n",
      "            ...     \n",
      "7059     1248.516053\n",
      "7060       34.372960\n",
      "7061       48.565443\n",
      "7062       28.625178\n",
      "7063       39.120316\n",
      "Length: 7064, dtype: float64\n",
      "-2.0813404385517362 138282064.72703716 116814290505.31648\n",
      "[1. 1. 1. ... 1. 1. 1.]\n",
      "0.0 0.8693857693157802 1.0\n"
     ]
    },
    {
     "data": {
      "image/png": "[encoded data removed]",
      "text/plain": [
       "<Figure size 432x288 with 1 Axes>"
      ]
     },
     "metadata": {
      "needs_background": "light"
     },
     "output_type": "display_data"
    },
    {
     "data": {
      "text/plain": [
       "Text(0.5, 1.0, 'pcomps')"
      ]
     },
     "execution_count": 141,
     "metadata": {},
     "output_type": "execute_result"
    },
    {
     "data": {
      "image/png": "[encoded data removed]",
      "text/plain": [
       "<Figure size 432x288 with 1 Axes>"
      ]
     },
     "metadata": {
      "needs_background": "light"
     },
     "output_type": "display_data"
    }
   ],
   "source": [
    "combined = pd.merge(kois, stellar, on='kepid')\n",
    "pcomp = partial(completeness.get_completeness, pgam=pgam, mesthres_cols=mesthres_cols, mesthres_vals=mesthres_vals)\n",
    "pcomps = pcomp_vectors(combined, combined['koi_period'], combined['koi_prad'], combined['koi_eccen'])\n",
    "plt.hist(pcomps[~np.isnan(pcomps)])\n",
    "plt.title(\"pcomps\")"
   ]
  },
  {
   "cell_type": "code",
   "execution_count": 147,
   "metadata": {},
   "outputs": [],
   "source": [
    "num_stars = len(stellar)\n",
    "stellar_sample = stellar.sample(n=num_stars)\n"
   ]
  },
  {
   "cell_type": "code",
   "execution_count": 148,
   "metadata": {},
   "outputs": [],
   "source": [
    "t0_range = (min(kois.koi_time0), max(kois.koi_time0))\n",
    "\n",
    "def add_uncertainties(price_uncertainty_params):\n",
    "    '''\n",
    "    Adds uncertainties to parameters based on Price and Rogers (2014).\n",
    "    \n",
    "    Arguments\n",
    "    ---------\n",
    "    price_uncertainty_parameters : list of scalars / numpy.ndarrays.\n",
    "    The parameters in the signature from each of the Price/Rogers variance functions.\n",
    "    (delta, T, tau, f0, texp, Ttot, gamma, sigma).\n",
    "    delta - transit depth\n",
    "    T - full-width at half-max transit time\n",
    "    tau - duration of ingress and egress\n",
    "    f0 - starting flux, which we set to 1.\n",
    "    texp - time of exposure, about 30 minutes for Kepler.\n",
    "    Ttot -  same as P in this case, I think\n",
    "    gamma - sampling rate\n",
    "    sigma - model uncertainty\n",
    "    \n",
    "    Returns\n",
    "    -------\n",
    "    perturbed_parameters : list of scalars / numpy.ndarrays.\n",
    "    The same list, but with white noise added.\n",
    "    '''\n",
    "    var_d = abs(np.vectorize(price_rogers_2014_binned.prVarDelta)(*price_uncertainty_params)) * 0 # abs is stopgap\n",
    "    noise = np.random.normal(0, np.sqrt(var_d), size=(len(price_uncertainty_params[0]),))\n",
    "    noise = np.nan_to_num(noise)\n",
    "    price_uncertainty_params[0] += noise\n",
    "    return price_uncertainty_params\n",
    "\n",
    "def generate_planet_catalog(f, stars):\n",
    "    '''\n",
    "    Takes in the occurrence rate matrix f and generates `num_planets' planets, \n",
    "    represented as a matrix of state (row) vectors.\n",
    "    \n",
    "    Each row has: period in days; radius in Earth radii; eccentricity; cosine of inclination; impact parameter;\n",
    "    time of first transit in BJD; fractional transit depth; transit duration in days; is_detected (bool).\n",
    "    \n",
    "    Arguments\n",
    "    ---------\n",
    "    f : np.ndarray\n",
    "    f = f(r, p); occurrence rate prior that we sample p and r from.\n",
    "    \n",
    "    stars : pd.dataframe\n",
    "    A list of tuples with stellar parameters (may edit this to deal with dataframe later.)\n",
    "    '''\n",
    "    re = 0.009171\n",
    "    planet_params = ['kepid', 'period', 'prad', 'ecc', 'cosincl', 'b', 't0', 'd', 'D']\n",
    "    lam = np.sum(f)\n",
    "    nums_planets = np.minimum(stats.poisson(lam).rvs((num_stars,)), 10)\n",
    "    num_planets = sum(nums_planets)\n",
    "    star_kepids = np.repeat(stars.kepid.values, nums_planets)\n",
    "    star_radius = np.repeat(stars.radius.values, nums_planets)\n",
    "    star_mass = np.repeat(stars.mass.values, nums_planets)\n",
    "    flat_f = f.flatten()\n",
    "    buckets = np.random.choice(f.size, p = flat_f / lam, size=(num_planets,))\n",
    "    p_left_inds = buckets // f.shape[1]\n",
    "    p_right_inds = p_left_inds + 1\n",
    "    r_left_inds = buckets % f.shape[1]\n",
    "    r_right_inds = r_left_inds + 1\n",
    "    periods = np.exp(np.random.uniform(log_p[p_left_inds], log_p[p_right_inds]))\n",
    "    pl_rads = np.exp(np.random.uniform(log_r[r_left_inds], log_r[r_right_inds]))\n",
    "    eccens  = stats.rayleigh(scale=0.03).rvs(size=(num_planets,))\n",
    "    cosincl = np.random.uniform(0, 1, size=(num_planets,))\n",
    "    impacts = np.random.uniform(0, 1, size=(num_planets,))\n",
    "    t0 = np.random.uniform(*t0_range, size=(num_planets,))\n",
    "    ror = pl_rads * re / star_radius\n",
    "    depths = ror ** 2\n",
    "    aor = completeness.get_a(periods, star_mass) / star_radius\n",
    "    arcsin_args = np.sqrt((1 + ror) ** 2 - impacts ** 2) / aor\n",
    "    D = (periods / np.pi) * np.arcsin(arcsin_args)\n",
    "    tau0 = periods * impacts / (2 * np.pi * cosincl * np.sqrt(1 - eccens ** 2)) * 1 / (aor ** 2)\n",
    "    T = 2 * tau0 * np.sqrt(1 - impacts ** 2)\n",
    "    tau = 2 * tau0 * ror / np.sqrt(1 - impacts ** 2)\n",
    "    f0 = 1\n",
    "    texp = 1765.5 / 60 / 60 / 24 # s to days\n",
    "    gamma = 1 / texp # inverse s to inverse days\n",
    "    sigma = 1 # 'model uncertainty'\n",
    "    \n",
    "    print(\"min/mean/max depth: \", min(depths), np.nanmean(depths), max(depths))\n",
    "\n",
    "    price_uncertainty_params = [depths, T, tau, f0, texp, periods, gamma, sigma]\n",
    "    price_uncertainty_params = add_uncertainties(price_uncertainty_params)\n",
    "    \n",
    "    depths = price_uncertainty_params[0]\n",
    "    print(\"min/mean/max depth: \", min(depths), np.mean(depths), max(depths))\n",
    "    pl_rads = np.sqrt(depths) * star_radius\n",
    "    periods = price_uncertainty_params[5]\n",
    "    # [kepid, period, radius, ecc, cosincl, impact param b, t0, transit depth d, transit duration D, is_detected]\n",
    "    planets_matrix = np.vstack((star_kepids, periods, pl_rads, eccens, cosincl, impacts, t0, depths, D)).T\n",
    "    catalog = pd.DataFrame(planets_matrix, columns=planet_params)\n",
    "    combined_synth = pd.merge(catalog, stellar, on='kepid')\n",
    "    probs = pcomp_vectors(combined_synth, combined_synth['period'].values, \n",
    "                          combined_synth['prad'].values, combined_synth['ecc'].values)\n",
    "    probs = np.nan_to_num(np.array(probs))\n",
    "    print(probs)\n",
    "    if np.allclose(probs, 0):\n",
    "        print(\"all probabilities of detection are 0\")\n",
    "    detected = np.random.binomial(1, probs)\n",
    "    combined_synth['is_detected'] = detected\n",
    "    return combined_synth.astype({'kepid': np.int64, 'is_detected': bool})"
   ]
  },
  {
   "cell_type": "code",
   "execution_count": 149,
   "metadata": {},
   "outputs": [
    {
     "name": "stderr",
     "output_type": "stream",
     "text": [
      "/Users/adityasengupta/Library/Python/3.7/lib/python/site-packages/ipykernel_launcher.py:72: RuntimeWarning: invalid value encountered in arcsin\n"
     ]
    },
    {
     "name": "stdout",
     "output_type": "stream",
     "text": [
      "min/mean/max depth:  7.214445263403188e-10 0.0014993146866589195 1.6000373586774133\n",
      "min/mean/max depth:  7.214445263403188e-10 0.0014993146866589195 1.6000373586774133\n",
      "x [-4.09946377 -4.09891469 -4.08383885 ... -4.09757096 -4.09859393\n",
      " -4.04593819]\n",
      "-3896.087396101411 -4.24963910457596 5.272895418877727\n",
      "[0. 0. 0. ... 0. 0. 0.]\n",
      "0.0 3.6865980430279464e-06 0.6829279557179194\n"
     ]
    },
    {
     "name": "stderr",
     "output_type": "stream",
     "text": [
      "/Users/adityasengupta/Library/Python/3.7/lib/python/site-packages/ipykernel_launcher.py:41: RuntimeWarning: invalid value encountered in greater_equal\n",
      "/Users/adityasengupta/Library/Python/3.7/lib/python/site-packages/ipykernel_launcher.py:44: RuntimeWarning: invalid value encountered in greater\n"
     ]
    },
    {
     "data": {
      "image/png": "[encoded data removed]",
      "text/plain": [
       "<Figure size 432x288 with 1 Axes>"
      ]
     },
     "metadata": {
      "needs_background": "light"
     },
     "output_type": "display_data"
    },
    {
     "name": "stdout",
     "output_type": "stream",
     "text": [
      "[0. 0. 0. ... 0. 0. 0.]\n"
     ]
    }
   ],
   "source": [
    "catalog_synth = generate_planet_catalog(f, stellar_sample)\n",
    "if len(stellar_sample) == len(stellar):\n",
    "    catalog_synth.to_csv('../data/catalog_synth.csv')"
   ]
  },
  {
   "cell_type": "code",
   "execution_count": 150,
   "metadata": {},
   "outputs": [
    {
     "data": {
      "text/plain": [
       "0"
      ]
     },
     "execution_count": 150,
     "metadata": {},
     "output_type": "execute_result"
    }
   ],
   "source": [
    "sum(catalog_synth.is_detected)"
   ]
  },
  {
   "cell_type": "code",
   "execution_count": 33,
   "metadata": {},
   "outputs": [],
   "source": [
    "detected_planets = catalog_synth[catalog_synth.is_detected]"
   ]
  },
  {
   "cell_type": "code",
   "execution_count": null,
   "metadata": {},
   "outputs": [],
   "source": [
    "detected_planets.prad"
   ]
  },
  {
   "cell_type": "code",
   "execution_count": null,
   "metadata": {},
   "outputs": [],
   "source": [
    "detected_planets.period"
   ]
  },
  {
   "cell_type": "code",
   "execution_count": null,
   "metadata": {},
   "outputs": [],
   "source": [
    "re = 0.009171\n",
    "sum(detected_planets.prad * re / detected_planets.radius < 1)"
   ]
  },
  {
   "cell_type": "code",
   "execution_count": null,
   "metadata": {},
   "outputs": [],
   "source": [
    "(detected_planets.prad * re / detected_planets.radius) ** 2 - detected_planets.d"
   ]
  },
  {
   "cell_type": "code",
   "execution_count": null,
   "metadata": {},
   "outputs": [],
   "source": [
    "sum(combined.koi_prad / combined.radius < 1)"
   ]
  },
  {
   "cell_type": "code",
   "execution_count": null,
   "metadata": {},
   "outputs": [],
   "source": [
    "plt.hist(np.log(catalog_synth.period))"
   ]
  },
  {
   "cell_type": "code",
   "execution_count": null,
   "metadata": {},
   "outputs": [],
   "source": [
    "plt.hist(np.log(catalog_synth.prad))"
   ]
  },
  {
   "cell_type": "code",
   "execution_count": null,
   "metadata": {},
   "outputs": [],
   "source": [
    "N = np.zeros_like(f)\n",
    "detected = catalog_synth[catalog_synth.is_detected]\n",
    "period_bins = np.digitize(np.log(detected.period), log_p)\n",
    "radius_bins = np.digitize(np.log(detected.prad), log_r)\n",
    "for i, j in zip(period_bins, radius_bins):\n",
    "    if i < N.shape[0] and j < N.shape[1]: # exclude some on the edges\n",
    "        N[i][j] += 1\n",
    "        \n",
    "N /= len(stellar_sample)"
   ]
  },
  {
   "cell_type": "code",
   "execution_count": null,
   "metadata": {},
   "outputs": [],
   "source": [
    "plt.imshow(N)\n",
    "plt.colorbar()"
   ]
  },
  {
   "cell_type": "code",
   "execution_count": null,
   "metadata": {},
   "outputs": [],
   "source": [
    "sample_N = np.histogram2d(koi_periods, koi_radii, bins=[period, rp])[0] / len(stellar)\n",
    "plt.imshow(sample_N)\n",
    "plt.colorbar()"
   ]
  },
  {
   "cell_type": "code",
   "execution_count": null,
   "metadata": {},
   "outputs": [],
   "source": [
    "diff = N - sample_N\n",
    "statistic = np.sum(diff ** 2)\n",
    "statistic"
   ]
  },
  {
   "cell_type": "code",
   "execution_count": null,
   "metadata": {},
   "outputs": [],
   "source": [
    "import copy\n",
    "kois_abc = np.array([np.vstack((kois.koi_period, kois.koi_prad, np.ones(len(kois)))).T]) # filter on FPs\n",
    "kois_abc"
   ]
  },
  {
   "cell_type": "code",
   "execution_count": null,
   "metadata": {},
   "outputs": [],
   "source": [
    "stellar_sample_size = 100\n",
    "stellar_sample = [row for row in stellar.sample(n=stellar_sample_size).itertuples()]\n",
    "\n",
    "class OccurrencePrior(stats.rv_continuous):\n",
    "    def pdf(self, f):\n",
    "        return np.prod(np.exp(-f))\n",
    "    \n",
    "    def rvs(self):\n",
    "        return stats.expon.rvs(size=(len(period), len(rp)))\n",
    "    \n",
    "def occurrence_candidate_getter(f):\n",
    "    def candidate(size=1):\n",
    "        catalogs = [generate_planet_catalog(f, stellar_sample) for _ in range(size)]\n",
    "        return np.array([np.vstack((c.period, c.prad, c.is_detected)).T for c in catalogs])\n",
    "    return candidate\n",
    "    \n",
    "def occurrence_distance(s1, s2):\n",
    "    return np.sum((s1 - s2) ** 2)\n",
    "\n",
    "def occurrence_statistic(catalog):\n",
    "    N = np.zeros_like(f)\n",
    "    found_inds = np.where(catalog[0,:,2] == 1)[0]\n",
    "    detected = catalog[0][found_inds] # the 0 is jank and should be changed\n",
    "    if detected.shape[0] == catalog.shape[1]:\n",
    "        Nstars = len(stellar)\n",
    "    else:\n",
    "        Nstars = stellar_sample_size # this is slightly jank and will fail 1 time in a trillion\n",
    "    period_bins = np.digitize(np.log(detected[:,0]), log_p)\n",
    "    radius_bins = np.digitize(np.log(detected[:,1]), log_r)\n",
    "    for i, j in zip(period_bins, radius_bins):\n",
    "        if i < N.shape[0] and j < N.shape[1]: # exclude some on the edges\n",
    "            N[i][j] += 1\n",
    "    return N / Nstars\n",
    "    \n",
    "OccurrenceABCSampler = ABCSampler(OccurrencePrior(), occurrence_candidate_getter, occurrence_distance, occurrence_statistic)\n"
   ]
  },
  {
   "cell_type": "code",
   "execution_count": null,
   "metadata": {},
   "outputs": [],
   "source": [
    "candidate = occurrence_candidate_getter(f)()"
   ]
  },
  {
   "cell_type": "code",
   "execution_count": null,
   "metadata": {
    "scrolled": true
   },
   "outputs": [],
   "source": [
    "abc_f = OccurrenceABCSampler.sample(kois_abc, threshold=1e-2)"
   ]
  },
  {
   "cell_type": "code",
   "execution_count": null,
   "metadata": {},
   "outputs": [],
   "source": [
    "plt.imshow(abc_f)"
   ]
  },
  {
   "cell_type": "code",
   "execution_count": null,
   "metadata": {},
   "outputs": [],
   "source": [
    "plt.imshow(f)"
   ]
  },
  {
   "cell_type": "code",
   "execution_count": null,
   "metadata": {},
   "outputs": [],
   "source": [
    "# Do not run till this is rewritten to be vectorized\n",
    "stellar_sample_size = len(stellar)\n",
    "stellar_sample = [row for row in stellar.sample(n=stellar_sample_size).itertuples()]\n",
    "OccurrenceABCSampler = ABCSampler(OccurrencePrior(), occurrence_candidate_getter, occurrence_distance, occurrence_statistic)\n",
    "abc_f_full = OccurrenceABCSampler.sample(kois_abc, threshold=1e-5)"
   ]
  },
  {
   "cell_type": "markdown",
   "metadata": {},
   "source": [
    "impact parameter > 1: either a FP, or on the edge of the star. The transiting object has to be big, and often that's actually a star."
   ]
  },
  {
   "cell_type": "code",
   "execution_count": null,
   "metadata": {},
   "outputs": [],
   "source": [
    "# Do not run till this is rewritten to be vectorized\n",
    "abc_pmc_f = OccurrenceABCSampler.sample_pmc(kois_abc, [1e-2, 1e-3, 1e-4, 1e-5, 1e-6], 1)"
   ]
  },
  {
   "cell_type": "code",
   "execution_count": null,
   "metadata": {},
   "outputs": [],
   "source": [
    "i = 10\n",
    "p = combined['koi_period'][i]\n",
    "r = combined['koi_prad'][i]\n",
    "rstar = combined['radius'][i]\n",
    "ror = r / rstar * 0.009158\n",
    "d = ror ** 2\n",
    "b = combined['koi_impact'][i]\n",
    "cosincl = np.cos(combined['koi_incl'][i] * np.pi / 180)\n",
    "ecc = stats.rayleigh(scale=0.03).rvs() * 0\n",
    "aor = completeness.get_a(p, combined['mass'][i]) / rstar\n",
    "tau0 = p * b / (2 * np.pi * cosincl * np.sqrt(1 - ecc ** 2)) * 1 / (aor ** 2)\n",
    "T = 2 * tau0 * np.sqrt(1 - b ** 2)\n",
    "D = (p / np.pi) * np.arcsin(np.sqrt((1 + p / rstar) ** 2 - b ** 2) / aor)\n",
    "tau0 = p * b / (2 * np.pi * cosincl * np.sqrt(1 - ecc ** 2)) * 1 / (aor ** 2)\n",
    "T = 2 * tau0 * np.sqrt(1 - b ** 2)\n",
    "tau = 2 * tau0 * r / np.sqrt(1 - b ** 2)\n",
    "f0 = 1\n",
    "texp = 1765.5 / 60 / 60 / 24 # s to days\n",
    "gamma = 1 / texp # inverse s to inverse days\n",
    "sigma = 1 # 'model uncertainty'\n",
    "price_uncertainty_params = [d, T, tau, f0, texp, p, gamma, sigma]\n",
    "print(price_rogers_2014_binned.prVarDelta(*price_uncertainty_params))"
   ]
  },
  {
   "cell_type": "code",
   "execution_count": null,
   "metadata": {},
   "outputs": [],
   "source": [
    "print(p, r, rstar, b, cosincl, ecc)"
   ]
  },
  {
   "cell_type": "code",
   "execution_count": null,
   "metadata": {},
   "outputs": [],
   "source": [
    "bad_kepids = np.load('../data/bad_kepids.npy')\n",
    "len(set(bad_kepids) & set(kois.kepid))"
   ]
  }
 ],
 "metadata": {
  "kernelspec": {
   "display_name": "Python 3",
   "language": "python",
   "name": "python3"
  },
  "language_info": {
   "codemirror_mode": {
    "name": "ipython",
    "version": 3
   },
   "file_extension": ".py",
   "mimetype": "text/x-python",
   "name": "python",
   "nbconvert_exporter": "python",
   "pygments_lexer": "ipython3",
   "version": "3.7.7"
  }
 },
 "nbformat": 4,
 "nbformat_minor": 2
}
