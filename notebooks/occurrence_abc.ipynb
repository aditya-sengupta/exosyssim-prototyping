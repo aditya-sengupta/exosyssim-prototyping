{
 "cells": [
  {
   "cell_type": "markdown",
   "metadata": {},
   "source": [
    "## Aim\n",
    "\n",
    "Compute an ABC occurrence rate estimate, and compare results with ```occurrence_mcmc```."
   ]
  },
  {
   "cell_type": "code",
   "execution_count": 37,
   "metadata": {},
   "outputs": [
    {
     "name": "stdout",
     "output_type": "stream",
     "text": [
      "The autoreload extension is already loaded. To reload it, use:\n",
      "  %reload_ext autoreload\n"
     ]
    }
   ],
   "source": [
    "import sys\n",
    "sys.path.append('..')\n",
    "import numpy as np\n",
    "from matplotlib import pyplot as plt\n",
    "%matplotlib inline\n",
    "import pandas as pd\n",
    "from scipy import optimize, stats, linalg\n",
    "from dev.abc import ABCSampler\n",
    "from dev import price_rogers_2014_binned, dataprocessing, completeness\n",
    "from tqdm.notebook import tqdm\n",
    "from scipy.stats import gamma\n",
    "from functools import partial\n",
    "import warnings\n",
    "# warnings.simplefilter('error', RuntimeWarning)\n",
    "\n",
    "%load_ext autoreload\n",
    "%autoreload 2"
   ]
  },
  {
   "cell_type": "code",
   "execution_count": 2,
   "metadata": {},
   "outputs": [],
   "source": [
    "# a _very_ common debugging utility\n",
    "def minmeanmax(statistic, name):\n",
    "    print(\"{0} min-mean-max-hasnan\".format(name), min(statistic), np.nanmean(statistic), max(statistic), any(np.isnan(statistic)))"
   ]
  },
  {
   "cell_type": "markdown",
   "metadata": {},
   "source": [
    "My ABC setup requires\n",
    "\n",
    "- a prior occurrence estimate.\n",
    "- a candidate generator for the model parameters $\\theta$, i.e. a ```stats.continuous_rv/stats.discrete_rv``` object whose .rvs() method returns candidate parameters.\n",
    "- a sampler for $f(x \\mid \\theta)$\n",
    "- distance and statistic functions\n",
    "- data to fit"
   ]
  },
  {
   "cell_type": "code",
   "execution_count": 3,
   "metadata": {},
   "outputs": [],
   "source": [
    "kois = dataprocessing.get_kois()\n",
    "stellar = dataprocessing.get_stellar()\n",
    "kois = kois[kois[\"kepid\"].isin(stellar[\"kepid\"])]\n",
    "kois = kois[np.isfinite(kois[\"koi_prad\"])]\n",
    "stellar = stellar[np.isfinite(stellar.mass)]"
   ]
  },
  {
   "cell_type": "code",
   "execution_count": 4,
   "metadata": {},
   "outputs": [
    {
     "name": "stdout",
     "output_type": "stream",
     "text": [
      "[190585   5222    508    153     59     21      2      2]\n"
     ]
    },
    {
     "data": {
      "text/plain": [
       "Text(0, 0.5, 'Counts')"
      ]
     },
     "execution_count": 4,
     "metadata": {},
     "output_type": "execute_result"
    },
    {
     "data": {
      "image/png": "[encoded data removed]",
      "text/plain": [
       "<Figure size 432x288 with 1 Axes>"
      ]
     },
     "metadata": {
      "needs_background": "light"
     },
     "output_type": "display_data"
    }
   ],
   "source": [
    "zerocounts = len(stellar[~stellar[\"kepid\"].isin(kois[\"kepid\"])])\n",
    "solarsyssizes = np.array(pd.crosstab(index=kois['kepid'], columns=\"count\")).flatten()\n",
    "bincounts = np.bincount(solarsyssizes)\n",
    "bincounts[0] = zerocounts\n",
    "print(bincounts)\n",
    "plt.hist(solarsyssizes)\n",
    "plt.xlabel(\"Planets per star\")\n",
    "plt.ylabel(\"Counts\")"
   ]
  },
  {
   "cell_type": "markdown",
   "metadata": {},
   "source": [
    "Now the dataset has sufficient complexity to fit a Poisson process."
   ]
  },
  {
   "cell_type": "code",
   "execution_count": 5,
   "metadata": {},
   "outputs": [],
   "source": [
    "assert np.all(np.isfinite(kois[\"koi_prad\"]))\n",
    "assert np.all(np.isfinite(kois[\"koi_period\"]))\n",
    "koi_radii = kois[\"koi_prad\"]\n",
    "koi_periods = kois[\"koi_period\"]"
   ]
  },
  {
   "cell_type": "code",
   "execution_count": 6,
   "metadata": {},
   "outputs": [
    {
     "name": "stdout",
     "output_type": "stream",
     "text": [
      "[60254, 71473, 41887, 16495, 4942, 1160, 212, 41, 3]\n"
     ]
    }
   ],
   "source": [
    "lam = np.mean(solarsyssizes)\n",
    "# lam = sum([i * k for i, k in enumerate(bincounts)]) / sum(bincounts)\n",
    "planet_numbers = np.minimum(stats.poisson(lam).rvs(size=(len(stellar),)), 10) \n",
    "print([sum(planet_numbers == i) for i in range(max(planet_numbers))])"
   ]
  },
  {
   "cell_type": "code",
   "execution_count": 7,
   "metadata": {},
   "outputs": [
    {
     "data": {
      "text/plain": [
       "1.183844477962125"
      ]
     },
     "execution_count": 7,
     "metadata": {},
     "output_type": "execute_result"
    }
   ],
   "source": [
    "lam"
   ]
  },
  {
   "cell_type": "code",
   "execution_count": 8,
   "metadata": {},
   "outputs": [
    {
     "data": {
      "text/plain": [
       "(array([6.0254e+04, 7.1473e+04, 4.1887e+04, 1.6495e+04, 4.9420e+03,\n",
       "        1.1600e+03, 2.1200e+02, 4.1000e+01, 3.0000e+00, 1.0000e+00]),\n",
       " array([0. , 0.9, 1.8, 2.7, 3.6, 4.5, 5.4, 6.3, 7.2, 8.1, 9. ]),\n",
       " <a list of 10 Patch objects>)"
      ]
     },
     "execution_count": 8,
     "metadata": {},
     "output_type": "execute_result"
    },
    {
     "data": {
      "image/png": "[encoded data removed]",
      "text/plain": [
       "<Figure size 432x288 with 1 Axes>"
      ]
     },
     "metadata": {
      "needs_background": "light"
     },
     "output_type": "display_data"
    }
   ],
   "source": [
    "plt.hist(planet_numbers)"
   ]
  },
  {
   "cell_type": "code",
   "execution_count": 9,
   "metadata": {},
   "outputs": [],
   "source": [
    "period = np.array([0.5, 1.25, 2.5, 5, 10, 20, 40, 80, 160, 320])\n",
    "rp = np.array([0.5, 0.75, 1, 1.25, 1.5, 1.75, 2, 2.5, 3, 4, 6, 8, 12, 16])\n",
    "log_p, log_r = np.log(period), np.log(rp)\n",
    "log_p = np.append(log_p, np.log(640))\n",
    "log_r = np.append(log_r, np.log(20))\n",
    "period_rng = (min(period), max(period))\n",
    "rp_rng = (min(rp), max(rp))\n",
    "\n",
    "f = np.histogram2d(koi_periods, koi_radii, bins=[period, rp])[0]\n",
    "# f = np.ones(shape=(len(period), len(rp)))"
   ]
  },
  {
   "cell_type": "code",
   "execution_count": 10,
   "metadata": {},
   "outputs": [
    {
     "data": {
      "text/plain": [
       "<matplotlib.colorbar.Colorbar at 0x1225bdc50>"
      ]
     },
     "execution_count": 10,
     "metadata": {},
     "output_type": "execute_result"
    },
    {
     "data": {
      "image/png": "[encoded data removed]",
      "text/plain": [
       "<Figure size 432x288 with 2 Axes>"
      ]
     },
     "metadata": {
      "needs_background": "light"
     },
     "output_type": "display_data"
    }
   ],
   "source": [
    "plt.imshow(np.histogram2d(koi_periods, koi_radii, bins=[period, rp])[0])\n",
    "plt.colorbar()"
   ]
  },
  {
   "cell_type": "code",
   "execution_count": 11,
   "metadata": {},
   "outputs": [],
   "source": [
    "f = lam * f / np.sum(f)"
   ]
  },
  {
   "cell_type": "code",
   "execution_count": 12,
   "metadata": {},
   "outputs": [
    {
     "name": "stdout",
     "output_type": "stream",
     "text": [
      "Generated planet with period 217.496 days, radius 2.705 Earth radii, eccentricity 0.054, cos of orbital inclination 0.605.\n"
     ]
    }
   ],
   "source": [
    "bucket = np.random.choice(f.size, p=f.flatten() / np.sum(f))\n",
    "i, j = bucket // f.shape[1], bucket % f.shape[1] \n",
    "synth_p = np.exp(np.random.uniform(log_p[i], log_p[i+1]))\n",
    "synth_r = np.exp(np.random.uniform(log_r[j], log_r[j+1]))\n",
    "ecc = stats.rayleigh(scale=0.03).rvs()\n",
    "cosincl = np.random.uniform(-1, 1)\n",
    "print(\"Generated planet with period {0} days, radius {1} Earth radii, eccentricity {2}, cos of orbital inclination {3}.\".format(np.round(synth_p, 3), np.round(synth_r, 3), np.round(ecc, 3), np.round(cosincl, 3)))"
   ]
  },
  {
   "cell_type": "code",
   "execution_count": 13,
   "metadata": {},
   "outputs": [],
   "source": [
    "cdpp_cols = [k for k in stellar.keys() if k.startswith(\"rrmscdpp\")]\n",
    "cdpp_vals = np.array([k[-4:].replace(\"p\", \".\") for k in cdpp_cols], dtype=float)\n",
    "pgam = gamma(4.65, loc=0., scale=0.98)\n",
    "mesthres_cols = [k for k in stellar.keys() if k.startswith(\"mesthres\")]\n",
    "mesthres_vals = np.array([k[-4:].replace(\"p\", \".\") for k in mesthres_cols],\n",
    "                         dtype=float)"
   ]
  },
  {
   "cell_type": "code",
   "execution_count": 14,
   "metadata": {},
   "outputs": [],
   "source": [
    "def pcomp_vectors(stars, periods, rp, eccs, cosincls):\n",
    "    '''\n",
    "    Self-contained, returns pcomp over matched arrays of planets around stars.\n",
    "    '''\n",
    "    c = 1.0874\n",
    "    s = 1.0187\n",
    "    Go4pi = 2945.4625385377644/(4*np.pi*np.pi)\n",
    "    re = 0.009171\n",
    "    \n",
    "    mstars = stars['mass'].values\n",
    "    rstars = stars['radius'].values\n",
    "    cdpp = np.array(stars[cdpp_cols], dtype=float)\n",
    "    dataspan = stars['dataspan'].values\n",
    "    dataspan = np.nan_to_num(dataspan)\n",
    "    dutycycle = stars['dutycycle'].values\n",
    "    dutycycle = np.nan_to_num(dutycycle)\n",
    "    mesthres_cols_stars = np.array(stars[mesthres_cols], dtype=float)\n",
    "    \n",
    "    aor = (Go4pi*periods*periods*mstars) ** (1./3) / rstars\n",
    "    tau = 6 * periods * np.sqrt(1 - eccs**2) / aor\n",
    "\n",
    "    sigma = np.array([np.interp(tau[i], cdpp_vals, cdpp[i]) for i in range(len(tau))])\n",
    "    sigma = np.nan_to_num(sigma, nan=1)\n",
    "    # Compute the radius ratio and estimate the S/N.\n",
    "\n",
    "    k = rp * re / rstars\n",
    "    delta = 0.84 * k*k * (c + s*k)\n",
    "    snr = delta * 1e6 / sigma\n",
    "\n",
    "    # Scale by the estimated number of transits.\n",
    "    ntrn = dataspan * dutycycle / periods\n",
    "    mess = snr * np.sqrt(ntrn)\n",
    "    \n",
    "    mest = np.array([np.interp(tau[i], mesthres_vals, mesthres_cols_stars[i]) for i in range(len(tau))])\n",
    "    mest = np.nan_to_num(mest, nan=7.1)\n",
    "    x = mess - 4.1 - (mest - 7.1)\n",
    "    pdets = pgam.cdf(x)\n",
    "    \n",
    "    M = dataspan / periods\n",
    "    f = dutycycle\n",
    "    omf = 1.0 - f\n",
    "    pw = 1 - omf**M - M*f*omf**(M-1) - 0.5*M*(M-1)*f*f*omf**(M-2)\n",
    "    msk = (pw >= 0.0) & (M >= 2.0)\n",
    "    pwins = pw * msk\n",
    "    # pwins = np.nan_to_num(pwins)\n",
    "    \n",
    "    pgeom = aor * cosincls * (1 - eccs * eccs) <= 1 # for now, assume sin omega = 0\n",
    "    # pgeom = 1. / (aor * (1 - eccs*eccs)) * (aor > 1.0)\n",
    "    \n",
    "    pgeom = np.nan_to_num(pgeom)\n",
    "    \n",
    "    '''try:\n",
    "        assert np.all(pdets >= 0) and np.all(pdets <= 1), \"pdets are out of range\"\n",
    "        assert np.all(pwins >= 0) and np.all(pwins <= 1), \"pwins are out of range\"\n",
    "        assert np.all(pgeom >= 0) and np.all(pgeom <= 1), \"pgeom are out of range\"\n",
    "    except AssertionError as e:\n",
    "        for p in [pdets, pwins, pgeom]:\n",
    "            minmeanmax(p, \"probs in order det, win, geo\")\n",
    "        raise'''\n",
    "    return pdets * pwins * pgeom"
   ]
  },
  {
   "cell_type": "code",
   "execution_count": 15,
   "metadata": {},
   "outputs": [
    {
     "data": {
      "text/plain": [
       "Text(0.5, 1.0, 'pcomps')"
      ]
     },
     "execution_count": 15,
     "metadata": {},
     "output_type": "execute_result"
    },
    {
     "data": {
      "image/png": "[encoded data removed]",
      "text/plain": [
       "<Figure size 432x288 with 1 Axes>"
      ]
     },
     "metadata": {
      "needs_background": "light"
     },
     "output_type": "display_data"
    }
   ],
   "source": [
    "combined = pd.merge(kois, stellar, on='kepid')\n",
    "pcomp = partial(completeness.get_completeness, pgam=pgam, mesthres_cols=mesthres_cols, mesthres_vals=mesthres_vals)\n",
    "cosincls = np.cos(np.pi * combined['koi_incl'] / 180)\n",
    "pcomps = pcomp_vectors(combined, combined['koi_period'], combined['koi_prad'], combined['koi_eccen'], cosincls)\n",
    "plt.hist(pcomps[~np.isnan(pcomps)])\n",
    "plt.title(\"pcomps\")"
   ]
  },
  {
   "cell_type": "code",
   "execution_count": 16,
   "metadata": {},
   "outputs": [],
   "source": [
    "num_stars = len(stellar)\n",
    "stellar_sample = stellar.sample(n=num_stars)"
   ]
  },
  {
   "cell_type": "code",
   "execution_count": 17,
   "metadata": {},
   "outputs": [
    {
     "data": {
      "text/plain": [
       "(array([1256.,  938.,  714.,  559.,  452.,  451.,  433.,  371.,  345.,\n",
       "         512.]),\n",
       " array([0.     , 0.09992, 0.19984, 0.29976, 0.39968, 0.4996 , 0.59952,\n",
       "        0.69944, 0.79936, 0.89928, 0.9992 ]),\n",
       " <a list of 10 Patch objects>)"
      ]
     },
     "execution_count": 17,
     "metadata": {},
     "output_type": "execute_result"
    },
    {
     "data": {
      "image/png": "[encoded data removed]",
      "text/plain": [
       "<Figure size 432x288 with 1 Axes>"
      ]
     },
     "metadata": {
      "needs_background": "light"
     },
     "output_type": "display_data"
    }
   ],
   "source": [
    "plt.hist(combined.koi_impact[combined.koi_impact < 1])"
   ]
  },
  {
   "cell_type": "code",
   "execution_count": 18,
   "metadata": {},
   "outputs": [],
   "source": [
    "t0_range = (min(kois.koi_time0), max(kois.koi_time0))\n",
    "\n",
    "def add_uncertainties(price_uncertainty_params):\n",
    "    '''\n",
    "    Adds uncertainties to parameters based on Price and Rogers (2014).\n",
    "    \n",
    "    Arguments\n",
    "    ---------\n",
    "    price_uncertainty_parameters : list of scalars / numpy.ndarrays.\n",
    "    The parameters in the signature from each of the Price/Rogers variance functions.\n",
    "    (delta, T, tau, f0, texp, Ttot, gamma, sigma).\n",
    "    delta - transit depth\n",
    "    T - full-width at half-max transit time\n",
    "    tau - duration of ingress and egress\n",
    "    f0 - starting flux, which we set to 1.\n",
    "    texp - time of exposure, about 30 minutes for Kepler.\n",
    "    Ttot -  same as P in this case, I think\n",
    "    gamma - sampling rate\n",
    "    sigma - model uncertainty\n",
    "    \n",
    "    Returns\n",
    "    -------\n",
    "    perturbed_parameters : list of scalars / numpy.ndarrays.\n",
    "    The same list, but with white noise added.\n",
    "    '''\n",
    "    var_d = abs(np.vectorize(price_rogers_2014_binned.prVarDelta)(*price_uncertainty_params)) * 0 # abs is stopgap\n",
    "    noise = np.random.normal(0, np.sqrt(var_d), size=(len(price_uncertainty_params[0]),))\n",
    "    noise = np.nan_to_num(noise)\n",
    "    price_uncertainty_params[0] += noise\n",
    "    return price_uncertainty_params\n",
    "\n",
    "def generate_planet_catalog(f, stars):\n",
    "    '''\n",
    "    Takes in the occurrence rate matrix f and generates `num_planets' planets, \n",
    "    represented as a matrix of state (row) vectors.\n",
    "    \n",
    "    Each row has: period in days; radius in Earth radii; eccentricity; cosine of inclination; impact parameter;\n",
    "    time of first transit in BJD; fractional transit depth; transit duration in days; is_detected (bool).\n",
    "    \n",
    "    Arguments\n",
    "    ---------\n",
    "    f : np.ndarray\n",
    "    f = f(r, p); occurrence rate prior that we sample p and r from.\n",
    "    \n",
    "    stars : pd.dataframe\n",
    "    A sample of the stellar dataframe.\n",
    "    '''\n",
    "    re = 0.009171\n",
    "    planet_params = ['kepid', 'period', 'prad', 'ecc', 'cosincl', 'b', 't0', 'd', 'D']\n",
    "    lam = np.sum(f)\n",
    "    nums_planets = np.minimum(stats.poisson(lam).rvs((len(stars),)), 10)\n",
    "    num_planets = sum(nums_planets)\n",
    "    stellar_catalog = pd.DataFrame(np.repeat(stars.values, nums_planets, axis=0))\n",
    "    stellar_catalog.columns = stars.columns\n",
    "    stellar_catalog = stellar_catalog.astype(stars.dtypes)\n",
    "    flat_f = f.flatten()\n",
    "    buckets = np.random.choice(f.size, p = flat_f / lam, size=(num_planets,))\n",
    "    p_left_inds = buckets // f.shape[1]\n",
    "    p_right_inds = p_left_inds + 1\n",
    "    r_left_inds = buckets % f.shape[1]\n",
    "    r_right_inds = r_left_inds + 1\n",
    "    periods = np.exp(np.random.uniform(log_p[p_left_inds], log_p[p_right_inds]))\n",
    "    pl_rads = np.exp(np.random.uniform(log_r[r_left_inds], log_r[r_right_inds]))\n",
    "    eccens  = stats.rayleigh(scale=0.03).rvs(size=(num_planets,))\n",
    "    cosincl = np.random.uniform(0, 1, size=(num_planets,))\n",
    "    impacts = np.random.uniform(0, 1, size=(num_planets,))\n",
    "    t0 = np.random.uniform(*t0_range, size=(num_planets,))\n",
    "    ror = pl_rads * re / stellar_catalog.radius.values\n",
    "    depths = ror ** 2 # these are all not nan\n",
    "    aor = completeness.get_a(periods, stellar_catalog.mass.values) / stellar_catalog.radius.values\n",
    "    arcsin_args = np.sqrt((1 + ror) ** 2 - impacts ** 2) / aor\n",
    "    problems = np.where(arcsin_args > 1)[0]\n",
    "    impacts[problems] = np.minimum(1, np.sqrt((1 + ror[problems]) ** 2 - (aor[problems]) ** 2))\n",
    "    # some impacts are 1 + eps\n",
    "    arcsin_args[problems] = 1\n",
    "    D = (periods / np.pi) * np.arcsin(arcsin_args)\n",
    "    tau0 = periods * impacts / (2 * np.pi * cosincl * np.sqrt(1 - eccens ** 2)) * 1 / (aor ** 2)\n",
    "    T = 2 * tau0 * np.sqrt(1 - impacts ** 2)\n",
    "    tau = 2 * tau0 * np.divide(ror, np.sqrt(1 - impacts ** 2), where = impacts != 1)\n",
    "    f0 = 1\n",
    "    texp = 1765.5 / 60 / 60 / 24 # s to days\n",
    "    gamma = 1 / texp # inverse s to inverse days\n",
    "    sigma = 1 # 'model uncertainty'\n",
    "    \n",
    "    price_uncertainty_params = [depths, T, tau, f0, texp, periods, gamma, sigma]\n",
    "    price_uncertainty_params = add_uncertainties(price_uncertainty_params)\n",
    "    \n",
    "    depths = price_uncertainty_params[0]\n",
    "\n",
    "    pl_rads = np.sqrt(depths) * stellar_catalog.radius / re\n",
    "    periods = price_uncertainty_params[5]\n",
    "    # [kepid, period, radius, ecc, cosincl, impact param b, t0, transit depth d, transit duration D, is_detected]\n",
    "    planets_matrix = np.vstack((stellar_catalog.kepid, periods, pl_rads, eccens, cosincl, impacts, t0, depths, D)).T\n",
    "    planetary_catalog = pd.DataFrame(planets_matrix, columns=planet_params)\n",
    "    probs = pcomp_vectors(stellar_catalog, periods, pl_rads, eccens, cosincl)\n",
    "    probs = np.array(probs)\n",
    "    probs = np.nan_to_num(probs)\n",
    "    if np.allclose(probs, 0):\n",
    "        print(\"all probabilities of detection are 0\")\n",
    "    detected = np.random.binomial(1, np.nan_to_num(probs))\n",
    "    planetary_catalog['is_detected'] = detected\n",
    "    return stellar_catalog, planetary_catalog.astype({'kepid': np.int64, 'is_detected': bool})"
   ]
  },
  {
   "cell_type": "code",
   "execution_count": 19,
   "metadata": {},
   "outputs": [],
   "source": [
    "st, pl = generate_planet_catalog(f, stellar_sample)\n",
    "if len(stellar_sample) == len(stellar):\n",
    "    pl.to_csv('../data/catalog_synth.csv')"
   ]
  },
  {
   "cell_type": "code",
   "execution_count": 20,
   "metadata": {},
   "outputs": [
    {
     "data": {
      "text/plain": [
       "12910"
      ]
     },
     "execution_count": 20,
     "metadata": {},
     "output_type": "execute_result"
    }
   ],
   "source": [
    "sum(pl.is_detected)"
   ]
  },
  {
   "cell_type": "code",
   "execution_count": 21,
   "metadata": {},
   "outputs": [],
   "source": [
    "detected_planets = pl[pl.is_detected]"
   ]
  },
  {
   "cell_type": "code",
   "execution_count": 22,
   "metadata": {},
   "outputs": [
    {
     "data": {
      "text/plain": [
       "(array([3328., 2387., 2211., 1970., 1418.,  900.,  412.,  177.,   64.,\n",
       "          43.]),\n",
       " array([-0.69304167, -0.0499065 ,  0.59322867,  1.23636383,  1.879499  ,\n",
       "         2.52263417,  3.16576933,  3.8089045 ,  4.45203967,  5.09517483,\n",
       "         5.73831   ]),\n",
       " <a list of 10 Patch objects>)"
      ]
     },
     "execution_count": 22,
     "metadata": {},
     "output_type": "execute_result"
    },
    {
     "data": {
      "image/png": "[encoded data removed]",
      "text/plain": [
       "<Figure size 432x288 with 1 Axes>"
      ]
     },
     "metadata": {
      "needs_background": "light"
     },
     "output_type": "display_data"
    }
   ],
   "source": [
    "plt.hist(np.log(detected_planets.period))"
   ]
  },
  {
   "cell_type": "code",
   "execution_count": 23,
   "metadata": {},
   "outputs": [
    {
     "data": {
      "text/plain": [
       "(array([ 156., 1109., 2832., 3120., 1983., 1126.,  598.,  609.,  542.,\n",
       "         835.]),\n",
       " array([-6.91872455e-01, -3.45450158e-01,  9.72139273e-04,  3.47394437e-01,\n",
       "         6.93816734e-01,  1.04023903e+00,  1.38666133e+00,  1.73308363e+00,\n",
       "         2.07950592e+00,  2.42592822e+00,  2.77235052e+00]),\n",
       " <a list of 10 Patch objects>)"
      ]
     },
     "execution_count": 23,
     "metadata": {},
     "output_type": "execute_result"
    },
    {
     "data": {
      "image/png": "[encoded data removed]",
      "text/plain": [
       "<Figure size 432x288 with 1 Axes>"
      ]
     },
     "metadata": {
      "needs_background": "light"
     },
     "output_type": "display_data"
    }
   ],
   "source": [
    "plt.hist(np.log(detected_planets.prad))"
   ]
  },
  {
   "cell_type": "code",
   "execution_count": 24,
   "metadata": {},
   "outputs": [],
   "source": [
    "N = np.zeros_like(f)\n",
    "detected = pl[pl.is_detected]\n",
    "period_bins = np.digitize(np.log(detected.period), log_p)\n",
    "radius_bins = np.digitize(np.log(detected.prad), log_r)\n",
    "for i, j in zip(period_bins, radius_bins):\n",
    "    if i < N.shape[0] and j < N.shape[1]: # exclude some on the edges\n",
    "        N[i][j] += 1\n",
    "        \n",
    "N /= len(stellar_sample)"
   ]
  },
  {
   "cell_type": "code",
   "execution_count": 25,
   "metadata": {},
   "outputs": [
    {
     "data": {
      "text/plain": [
       "<matplotlib.colorbar.Colorbar at 0x1228f5610>"
      ]
     },
     "execution_count": 25,
     "metadata": {},
     "output_type": "execute_result"
    },
    {
     "data": {
      "image/png": "[encoded data removed]",
      "text/plain": [
       "<Figure size 432x288 with 2 Axes>"
      ]
     },
     "metadata": {
      "needs_background": "light"
     },
     "output_type": "display_data"
    }
   ],
   "source": [
    "plt.imshow(N)\n",
    "plt.colorbar()"
   ]
  },
  {
   "cell_type": "code",
   "execution_count": 26,
   "metadata": {},
   "outputs": [
    {
     "data": {
      "text/plain": [
       "<matplotlib.colorbar.Colorbar at 0x1227c0590>"
      ]
     },
     "execution_count": 26,
     "metadata": {},
     "output_type": "execute_result"
    },
    {
     "data": {
      "image/png": "[encoded data removed]",
      "text/plain": [
       "<Figure size 432x288 with 2 Axes>"
      ]
     },
     "metadata": {
      "needs_background": "light"
     },
     "output_type": "display_data"
    }
   ],
   "source": [
    "sample_N = np.histogram2d(koi_periods, koi_radii, bins=[period, rp])[0] / len(stellar)\n",
    "plt.imshow(sample_N)\n",
    "plt.colorbar()"
   ]
  },
  {
   "cell_type": "code",
   "execution_count": 27,
   "metadata": {},
   "outputs": [
    {
     "name": "stdout",
     "output_type": "stream",
     "text": [
      "12.4 s ± 2.25 s per loop (mean ± std. dev. of 7 runs, 1 loop each)\n"
     ]
    }
   ],
   "source": [
    "# %timeit generate_planet_catalog(f, stellar)\n",
    "# 12.4 s ± 2.25 s per loop (mean ± std. dev. of 7 runs, 1 loop each)"
   ]
  },
  {
   "cell_type": "code",
   "execution_count": 28,
   "metadata": {},
   "outputs": [
    {
     "data": {
      "text/plain": [
       "6.649193285705629e-05"
      ]
     },
     "execution_count": 28,
     "metadata": {},
     "output_type": "execute_result"
    }
   ],
   "source": [
    "diff = N - sample_N\n",
    "statistic = np.sum(diff ** 2)\n",
    "statistic"
   ]
  },
  {
   "cell_type": "code",
   "execution_count": 29,
   "metadata": {},
   "outputs": [],
   "source": [
    "stellar_catalog_abc = pd.DataFrame(np.vstack([stellar[stellar.kepid == k].to_numpy() for k in kois.kepid]))\n",
    "stellar_catalog_abc.columns = stellar.columns\n",
    "stellar_catalog_abc = stellar_catalog_abc.astype(stellar.dtypes)"
   ]
  },
  {
   "cell_type": "code",
   "execution_count": 30,
   "metadata": {},
   "outputs": [],
   "source": [
    "stellar_sample_size = len(stellar)\n",
    "stellar_sample = stellar.sample(n=stellar_sample_size)\n",
    "\n",
    "class SyntheticCatalog:\n",
    "    def __init__(self, f, stars, planets=None):\n",
    "        self.f = f\n",
    "        if planets is None:\n",
    "            self.stars, self.planets = generate_planet_catalog(f, stars)\n",
    "        else:\n",
    "            self.planets = planets\n",
    "            self.stars = stars\n",
    "\n",
    "class OccurrencePrior(stats.rv_continuous):\n",
    "    def pdf(self, f):\n",
    "        return np.prod(np.exp(-f))\n",
    "    \n",
    "    def rvs(self):\n",
    "        return stats.expon.rvs(size=(len(period) * len(rp),))\n",
    "    \n",
    "def occurrence_candidate_getter(f):\n",
    "    def candidate(size=1):\n",
    "        return [SyntheticCatalog(f.reshape(len(period), len(rp)), stellar_sample) for _ in range(size)]\n",
    "    return candidate\n",
    "    \n",
    "def occurrence_distance(s1, s2):\n",
    "    return np.sum((s1 - s2) ** 2)\n",
    "\n",
    "def occurrence_statistic(catalogs):\n",
    "    Nstars = 0\n",
    "    N = np.zeros((len(log_p) - 1, len(log_r) - 1))\n",
    "    for catalog in catalogs:\n",
    "        Nstars += len(catalog.stars)\n",
    "        detected = catalog.planets[catalog.planets.is_detected]\n",
    "        period_bins = np.digitize(np.log(detected.period.values), log_p)\n",
    "        radius_bins = np.digitize(np.log(detected.prad.values), log_r)\n",
    "        for i, j in zip(period_bins, radius_bins):\n",
    "            if i < N.shape[0] and j < N.shape[1]: # exclude some on the edges\n",
    "                N[i][j] += 1\n",
    "    return N / Nstars\n",
    "    \n",
    "OccurrenceABCSampler = ABCSampler(OccurrencePrior(), occurrence_candidate_getter, occurrence_distance, occurrence_statistic)"
   ]
  },
  {
   "cell_type": "code",
   "execution_count": 31,
   "metadata": {},
   "outputs": [],
   "source": [
    "kois_catalog_abc = kois.rename(columns={'koi_period': 'period', 'koi_prad': 'prad'})\n",
    "kois_catalog_abc[\"is_detected\"] = kois_catalog_abc[\"koi_disposition\"] == \"CONFIRMED\"\n",
    "kois_abc = [SyntheticCatalog(f, stellar_catalog_abc, kois_catalog_abc)]"
   ]
  },
  {
   "cell_type": "code",
   "execution_count": 32,
   "metadata": {
    "scrolled": true
   },
   "outputs": [
    {
     "name": "stdout",
     "output_type": "stream",
     "text": [
      "0.0020376477794673796\n",
      "0.0020219407541682546\n"
     ]
    }
   ],
   "source": [
    "abc_f = OccurrenceABCSampler.sample(kois_abc, threshold=2e-3, verbose=True)"
   ]
  },
  {
   "cell_type": "code",
   "execution_count": 34,
   "metadata": {},
   "outputs": [
    {
     "data": {
      "text/plain": [
       "<matplotlib.image.AxesImage at 0x135b7a090>"
      ]
     },
     "execution_count": 34,
     "metadata": {},
     "output_type": "execute_result"
    },
    {
     "data": {
      "image/png": "[encoded data removed]",
      "text/plain": [
       "<Figure size 432x288 with 1 Axes>"
      ]
     },
     "metadata": {
      "needs_background": "light"
     },
     "output_type": "display_data"
    }
   ],
   "source": [
    "plt.imshow(abc_f.reshape((len(period), len(rp))))"
   ]
  },
  {
   "cell_type": "code",
   "execution_count": 35,
   "metadata": {},
   "outputs": [
    {
     "data": {
      "text/plain": [
       "<matplotlib.image.AxesImage at 0x135b20bd0>"
      ]
     },
     "execution_count": 35,
     "metadata": {},
     "output_type": "execute_result"
    },
    {
     "data": {
      "image/png": "[encoded data removed]",
      "text/plain": [
       "<Figure size 432x288 with 1 Axes>"
      ]
     },
     "metadata": {
      "needs_background": "light"
     },
     "output_type": "display_data"
    }
   ],
   "source": [
    "plt.imshow(f)"
   ]
  },
  {
   "cell_type": "markdown",
   "metadata": {},
   "source": [
    "impact parameter > 1: either a FP, or on the edge of the star. The transiting object has to be big, and often that's actually a star."
   ]
  },
  {
   "cell_type": "code",
   "execution_count": 41,
   "metadata": {},
   "outputs": [
    {
     "name": "stdout",
     "output_type": "stream",
     "text": [
      "[[3.21841765 0.61144194 0.3357947  0.24311823 1.48715012 0.30710734\n",
      "  0.48545151 0.32104585 3.69952302 0.86445664 1.47565217 1.34967569\n",
      "  0.01353032 0.10503751 1.64741844 0.41973634 0.19777889 2.23493144\n",
      "  2.96377815 1.5965098  0.20869902 0.42331676 0.29427199 0.92085637\n",
      "  0.40463591 0.88048812 4.82797177 0.30718476 0.77960679 1.82488101\n",
      "  0.01210331 0.07570058 0.41823533 0.13646589 0.5990283  3.04845804\n",
      "  0.6338349  1.26056712 0.44275445 1.54138489 1.77853167 0.39301572\n",
      "  0.56761889 1.23419981 0.48148321 1.92396646 3.6736082  0.81266414\n",
      "  0.07664901 0.92636654 0.37124113 0.77829719 1.15748757 0.74759337\n",
      "  1.48166894 0.40880026 0.64815358 0.26524543 2.55293412 0.33741599\n",
      "  1.21643555 0.51551293 0.84373419 0.3926772  0.14885486 0.34208647\n",
      "  4.07252204 0.48710606 0.84609561 1.02516175 0.84281233 0.27392204\n",
      "  0.93820154 0.60184901 0.28489717 0.72439755 2.34031873 0.09698211\n",
      "  1.44205874 1.50589923 0.19644417 0.61841893 0.35692087 0.36370442\n",
      "  0.79588171 0.59504879 3.06785633 0.01264125 0.01581632 0.69642178\n",
      "  0.49962259 0.14421636 0.28959926 2.02098739 1.33764681 0.09467247\n",
      "  2.35125421 0.53999823 1.63185426 0.75171658 1.65524825 0.00821537\n",
      "  0.03470193 0.90769626 0.42150853 0.33369736 2.47769298 2.59757938\n",
      "  0.84794104 0.49906363 0.19304371 1.14208867 0.43903744 1.26074258\n",
      "  0.54744556 0.08485039 0.61645311 2.15389968 2.50658444 0.12951441\n",
      "  3.99870135 0.39471363 0.23502844 0.03688069 1.05813018 0.53842233\n",
      "  1.17747874 4.39713016 0.608077   1.57822882 0.07571384 1.66085197\n",
      "  0.16617314 0.2986532  2.2577423  0.13005972 0.58886972 0.32370963\n",
      "  0.91976683 6.64971677]\n",
      " [0.97543106 0.4035994  1.47957436 0.88122882 0.39592028 0.89079078\n",
      "  0.7550752  1.06107126 6.05780298 2.05481164 0.27893003 0.98626382\n",
      "  0.81676698 0.34456009 1.15980201 2.4237694  1.37907362 1.97658625\n",
      "  2.19581729 0.24353382 1.59836242 1.03609761 0.57732712 2.58727819\n",
      "  1.42643578 1.7705262  0.32415814 2.48703034 0.27260095 2.95277878\n",
      "  0.44937818 0.35141049 0.84744559 0.14453694 1.84681179 1.2375104\n",
      "  2.0202997  0.21854335 0.95038106 1.38700676 0.11960785 1.40749246\n",
      "  0.7783641  0.0531628  0.09569716 0.43722879 1.50238226 2.00269273\n",
      "  2.43015139 1.97570673 1.45158694 0.08822097 0.57623669 0.23577479\n",
      "  1.25058975 1.01256828 0.04959511 1.77927061 1.05788231 0.67206936\n",
      "  2.12979863 0.53122427 0.05023067 0.30990646 0.23462073 0.31285426\n",
      "  0.48995895 2.04401804 0.37045526 1.16707156 0.3016491  0.15826968\n",
      "  2.02718741 0.20324645 1.36978107 1.43733929 2.10409119 0.44651413\n",
      "  1.32009617 1.54553386 1.05944067 0.34828289 0.28670996 0.33125478\n",
      "  0.75982309 0.37196075 2.80029407 0.07132795 2.64142798 0.82703521\n",
      "  1.66230357 0.15654032 0.10923137 0.64577105 1.06966341 2.27094506\n",
      "  1.09104504 1.95308897 0.60499371 1.64268223 0.32036638 2.63667783\n",
      "  0.88051769 3.36726895 1.38533735 0.0355474  0.12657828 0.1757112\n",
      "  2.19812651 0.61286169 1.05074434 0.04375537 2.95318328 0.76688611\n",
      "  0.24487222 1.23474171 1.57790608 1.18418613 0.85745776 0.87296053\n",
      "  0.42275071 0.33158299 1.39056657 0.02318781 0.27924404 0.16107641\n",
      "  0.75524808 0.31122911 0.36968157 1.15522748 1.0490012  0.61314793\n",
      "  2.25993698 1.806339   0.02750478 0.31389085 2.33157254 2.97244933\n",
      "  1.99911609 0.02618959]]\n"
     ]
    },
    {
     "ename": "LinAlgError",
     "evalue": "singular matrix",
     "output_type": "error",
     "traceback": [
      "\u001b[0;31m---------------------------------------------------------------------------\u001b[0m",
      "\u001b[0;31mLinAlgError\u001b[0m                               Traceback (most recent call last)",
      "\u001b[0;32m<ipython-input-41-5ca150abdac0>\u001b[0m in \u001b[0;36m<module>\u001b[0;34m\u001b[0m\n\u001b[1;32m      1\u001b[0m \u001b[0;31m# Do not run till this is rewritten to be vectorized\u001b[0m\u001b[0;34m\u001b[0m\u001b[0;34m\u001b[0m\u001b[0;34m\u001b[0m\u001b[0m\n\u001b[1;32m      2\u001b[0m \u001b[0mwarnings\u001b[0m\u001b[0;34m.\u001b[0m\u001b[0msimplefilter\u001b[0m\u001b[0;34m(\u001b[0m\u001b[0;34m'ignore'\u001b[0m\u001b[0;34m,\u001b[0m \u001b[0mRuntimeWarning\u001b[0m\u001b[0;34m)\u001b[0m\u001b[0;34m\u001b[0m\u001b[0;34m\u001b[0m\u001b[0m\n\u001b[0;32m----> 3\u001b[0;31m \u001b[0mabc_pmc_f\u001b[0m \u001b[0;34m=\u001b[0m \u001b[0mOccurrenceABCSampler\u001b[0m\u001b[0;34m.\u001b[0m\u001b[0msample_pmc\u001b[0m\u001b[0;34m(\u001b[0m\u001b[0mkois_abc\u001b[0m\u001b[0;34m,\u001b[0m \u001b[0;34m[\u001b[0m\u001b[0;36m1e-1\u001b[0m\u001b[0;34m,\u001b[0m \u001b[0;36m1e-2\u001b[0m\u001b[0;34m,\u001b[0m \u001b[0;36m1e-3\u001b[0m\u001b[0;34m,\u001b[0m \u001b[0;36m1e-4\u001b[0m\u001b[0;34m,\u001b[0m \u001b[0;36m1e-5\u001b[0m\u001b[0;34m,\u001b[0m \u001b[0;36m1e-6\u001b[0m\u001b[0;34m]\u001b[0m\u001b[0;34m,\u001b[0m \u001b[0;36m2\u001b[0m\u001b[0;34m)\u001b[0m\u001b[0;34m\u001b[0m\u001b[0;34m\u001b[0m\u001b[0m\n\u001b[0m",
      "\u001b[0;32m~/projects/pals/occurrence-rates/dev/abc.py\u001b[0m in \u001b[0;36msample_pmc\u001b[0;34m(self, data, thresholds, num_walkers)\u001b[0m\n\u001b[1;32m     68\u001b[0m             \u001b[0;32mfor\u001b[0m \u001b[0mi\u001b[0m \u001b[0;32min\u001b[0m \u001b[0mrange\u001b[0m\u001b[0;34m(\u001b[0m\u001b[0mnum_walkers\u001b[0m\u001b[0;34m)\u001b[0m\u001b[0;34m:\u001b[0m\u001b[0;34m\u001b[0m\u001b[0;34m\u001b[0m\u001b[0m\n\u001b[1;32m     69\u001b[0m                 \u001b[0mcenter\u001b[0m \u001b[0;34m=\u001b[0m \u001b[0mparams_matrix\u001b[0m\u001b[0;34m[\u001b[0m\u001b[0mnp\u001b[0m\u001b[0;34m.\u001b[0m\u001b[0mrandom\u001b[0m\u001b[0;34m.\u001b[0m\u001b[0mchoice\u001b[0m\u001b[0;34m(\u001b[0m\u001b[0mnum_walkers\u001b[0m\u001b[0;34m,\u001b[0m \u001b[0mp\u001b[0m\u001b[0;34m=\u001b[0m\u001b[0mweights\u001b[0m\u001b[0;34m)\u001b[0m\u001b[0;34m]\u001b[0m\u001b[0;34m\u001b[0m\u001b[0;34m\u001b[0m\u001b[0m\n\u001b[0;32m---> 70\u001b[0;31m                 \u001b[0msampling_normal\u001b[0m \u001b[0;34m=\u001b[0m \u001b[0mstats\u001b[0m\u001b[0;34m.\u001b[0m\u001b[0mmultivariate_normal\u001b[0m\u001b[0;34m(\u001b[0m\u001b[0mcenter\u001b[0m\u001b[0;34m,\u001b[0m \u001b[0mtau\u001b[0m\u001b[0;34m)\u001b[0m\u001b[0;34m\u001b[0m\u001b[0;34m\u001b[0m\u001b[0m\n\u001b[0m\u001b[1;32m     71\u001b[0m                 \u001b[0mparam_i\u001b[0m \u001b[0;34m=\u001b[0m \u001b[0msampler\u001b[0m\u001b[0;34m(\u001b[0m\u001b[0mprior\u001b[0m\u001b[0;34m=\u001b[0m\u001b[0msampling_normal\u001b[0m\u001b[0;34m,\u001b[0m \u001b[0mthreshold\u001b[0m\u001b[0;34m=\u001b[0m\u001b[0mthresh\u001b[0m\u001b[0;34m)\u001b[0m\u001b[0;34m\u001b[0m\u001b[0;34m\u001b[0m\u001b[0m\n\u001b[1;32m     72\u001b[0m                 \u001b[0mnew_params_matrix\u001b[0m\u001b[0;34m[\u001b[0m\u001b[0mi\u001b[0m\u001b[0;34m]\u001b[0m \u001b[0;34m=\u001b[0m \u001b[0mparam_i\u001b[0m\u001b[0;34m\u001b[0m\u001b[0;34m\u001b[0m\u001b[0m\n",
      "\u001b[0;32m/usr/local/lib/python3.7/site-packages/scipy/stats/_multivariate.py\u001b[0m in \u001b[0;36m__call__\u001b[0;34m(self, mean, cov, allow_singular, seed)\u001b[0m\n\u001b[1;32m    361\u001b[0m         return multivariate_normal_frozen(mean, cov,\n\u001b[1;32m    362\u001b[0m                                           \u001b[0mallow_singular\u001b[0m\u001b[0;34m=\u001b[0m\u001b[0mallow_singular\u001b[0m\u001b[0;34m,\u001b[0m\u001b[0;34m\u001b[0m\u001b[0;34m\u001b[0m\u001b[0m\n\u001b[0;32m--> 363\u001b[0;31m                                           seed=seed)\n\u001b[0m\u001b[1;32m    364\u001b[0m \u001b[0;34m\u001b[0m\u001b[0m\n\u001b[1;32m    365\u001b[0m     \u001b[0;32mdef\u001b[0m \u001b[0m_process_parameters\u001b[0m\u001b[0;34m(\u001b[0m\u001b[0mself\u001b[0m\u001b[0;34m,\u001b[0m \u001b[0mdim\u001b[0m\u001b[0;34m,\u001b[0m \u001b[0mmean\u001b[0m\u001b[0;34m,\u001b[0m \u001b[0mcov\u001b[0m\u001b[0;34m)\u001b[0m\u001b[0;34m:\u001b[0m\u001b[0;34m\u001b[0m\u001b[0;34m\u001b[0m\u001b[0m\n",
      "\u001b[0;32m/usr/local/lib/python3.7/site-packages/scipy/stats/_multivariate.py\u001b[0m in \u001b[0;36m__init__\u001b[0;34m(self, mean, cov, allow_singular, seed, maxpts, abseps, releps)\u001b[0m\n\u001b[1;32m    734\u001b[0m         self.dim, self.mean, self.cov = self._dist._process_parameters(\n\u001b[1;32m    735\u001b[0m                                                             None, mean, cov)\n\u001b[0;32m--> 736\u001b[0;31m         \u001b[0mself\u001b[0m\u001b[0;34m.\u001b[0m\u001b[0mcov_info\u001b[0m \u001b[0;34m=\u001b[0m \u001b[0m_PSD\u001b[0m\u001b[0;34m(\u001b[0m\u001b[0mself\u001b[0m\u001b[0;34m.\u001b[0m\u001b[0mcov\u001b[0m\u001b[0;34m,\u001b[0m \u001b[0mallow_singular\u001b[0m\u001b[0;34m=\u001b[0m\u001b[0mallow_singular\u001b[0m\u001b[0;34m)\u001b[0m\u001b[0;34m\u001b[0m\u001b[0;34m\u001b[0m\u001b[0m\n\u001b[0m\u001b[1;32m    737\u001b[0m         \u001b[0;32mif\u001b[0m \u001b[0;32mnot\u001b[0m \u001b[0mmaxpts\u001b[0m\u001b[0;34m:\u001b[0m\u001b[0;34m\u001b[0m\u001b[0;34m\u001b[0m\u001b[0m\n\u001b[1;32m    738\u001b[0m             \u001b[0mmaxpts\u001b[0m \u001b[0;34m=\u001b[0m \u001b[0;36m1000000\u001b[0m \u001b[0;34m*\u001b[0m \u001b[0mself\u001b[0m\u001b[0;34m.\u001b[0m\u001b[0mdim\u001b[0m\u001b[0;34m\u001b[0m\u001b[0;34m\u001b[0m\u001b[0m\n",
      "\u001b[0;32m/usr/local/lib/python3.7/site-packages/scipy/stats/_multivariate.py\u001b[0m in \u001b[0;36m__init__\u001b[0;34m(self, M, cond, rcond, lower, check_finite, allow_singular)\u001b[0m\n\u001b[1;32m    161\u001b[0m         \u001b[0md\u001b[0m \u001b[0;34m=\u001b[0m \u001b[0ms\u001b[0m\u001b[0;34m[\u001b[0m\u001b[0ms\u001b[0m \u001b[0;34m>\u001b[0m \u001b[0meps\u001b[0m\u001b[0;34m]\u001b[0m\u001b[0;34m\u001b[0m\u001b[0;34m\u001b[0m\u001b[0m\n\u001b[1;32m    162\u001b[0m         \u001b[0;32mif\u001b[0m \u001b[0mlen\u001b[0m\u001b[0;34m(\u001b[0m\u001b[0md\u001b[0m\u001b[0;34m)\u001b[0m \u001b[0;34m<\u001b[0m \u001b[0mlen\u001b[0m\u001b[0;34m(\u001b[0m\u001b[0ms\u001b[0m\u001b[0;34m)\u001b[0m \u001b[0;32mand\u001b[0m \u001b[0;32mnot\u001b[0m \u001b[0mallow_singular\u001b[0m\u001b[0;34m:\u001b[0m\u001b[0;34m\u001b[0m\u001b[0;34m\u001b[0m\u001b[0m\n\u001b[0;32m--> 163\u001b[0;31m             \u001b[0;32mraise\u001b[0m \u001b[0mnp\u001b[0m\u001b[0;34m.\u001b[0m\u001b[0mlinalg\u001b[0m\u001b[0;34m.\u001b[0m\u001b[0mLinAlgError\u001b[0m\u001b[0;34m(\u001b[0m\u001b[0;34m'singular matrix'\u001b[0m\u001b[0;34m)\u001b[0m\u001b[0;34m\u001b[0m\u001b[0;34m\u001b[0m\u001b[0m\n\u001b[0m\u001b[1;32m    164\u001b[0m         \u001b[0ms_pinv\u001b[0m \u001b[0;34m=\u001b[0m \u001b[0m_pinv_1d\u001b[0m\u001b[0;34m(\u001b[0m\u001b[0ms\u001b[0m\u001b[0;34m,\u001b[0m \u001b[0meps\u001b[0m\u001b[0;34m)\u001b[0m\u001b[0;34m\u001b[0m\u001b[0;34m\u001b[0m\u001b[0m\n\u001b[1;32m    165\u001b[0m         \u001b[0mU\u001b[0m \u001b[0;34m=\u001b[0m \u001b[0mnp\u001b[0m\u001b[0;34m.\u001b[0m\u001b[0mmultiply\u001b[0m\u001b[0;34m(\u001b[0m\u001b[0mu\u001b[0m\u001b[0;34m,\u001b[0m \u001b[0mnp\u001b[0m\u001b[0;34m.\u001b[0m\u001b[0msqrt\u001b[0m\u001b[0;34m(\u001b[0m\u001b[0ms_pinv\u001b[0m\u001b[0;34m)\u001b[0m\u001b[0;34m)\u001b[0m\u001b[0;34m\u001b[0m\u001b[0;34m\u001b[0m\u001b[0m\n",
      "\u001b[0;31mLinAlgError\u001b[0m: singular matrix"
     ]
    }
   ],
   "source": [
    "# Do not run till this is rewritten to be vectorized\n",
    "warnings.simplefilter('ignore', RuntimeWarning)\n",
    "abc_pmc_f = OccurrenceABCSampler.sample_pmc(kois_abc, [1e-1, 1e-2, 1e-3, 1e-4, 1e-5, 1e-6], 2)"
   ]
  },
  {
   "cell_type": "code",
   "execution_count": null,
   "metadata": {},
   "outputs": [],
   "source": [
    "i = 10\n",
    "p = combined['koi_period'][i]\n",
    "r = combined['koi_prad'][i]\n",
    "rstar = combined['radius'][i]\n",
    "ror = r / rstar * 0.009158\n",
    "d = ror ** 2\n",
    "b = combined['koi_impact'][i]\n",
    "cosincl = np.cos(combined['koi_incl'][i] * np.pi / 180)\n",
    "ecc = stats.rayleigh(scale=0.03).rvs() * 0\n",
    "aor = completeness.get_a(p, combined['mass'][i]) / rstar\n",
    "tau0 = p * b / (2 * np.pi * cosincl * np.sqrt(1 - ecc ** 2)) * 1 / (aor ** 2)\n",
    "T = 2 * tau0 * np.sqrt(1 - b ** 2)\n",
    "D = (p / np.pi) * np.arcsin(np.sqrt((1 + p / rstar) ** 2 - b ** 2) / aor)\n",
    "tau0 = p * b / (2 * np.pi * cosincl * np.sqrt(1 - ecc ** 2)) * 1 / (aor ** 2)\n",
    "T = 2 * tau0 * np.sqrt(1 - b ** 2)\n",
    "tau = 2 * tau0 * r / np.sqrt(1 - b ** 2)\n",
    "f0 = 1\n",
    "texp = 1765.5 / 60 / 60 / 24 # s to days\n",
    "gamma = 1 / texp # inverse s to inverse days\n",
    "sigma = 1 # 'model uncertainty'\n",
    "price_uncertainty_params = [d, T, tau, f0, texp, p, gamma, sigma]\n",
    "print(price_rogers_2014_binned.prVarDelta(*price_uncertainty_params))"
   ]
  }
 ],
 "metadata": {
  "kernelspec": {
   "display_name": "Python 3",
   "language": "python",
   "name": "python3"
  },
  "language_info": {
   "codemirror_mode": {
    "name": "ipython",
    "version": 3
   },
   "file_extension": ".py",
   "mimetype": "text/x-python",
   "name": "python",
   "nbconvert_exporter": "python",
   "pygments_lexer": "ipython3",
   "version": "3.7.7"
  }
 },
 "nbformat": 4,
 "nbformat_minor": 2
}
