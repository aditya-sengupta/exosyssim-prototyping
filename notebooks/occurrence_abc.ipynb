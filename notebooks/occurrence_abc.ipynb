{
 "cells": [
  {
   "cell_type": "markdown",
   "metadata": {},
   "source": [
    "## Aim\n",
    "\n",
    "Compute an ABC occurrence rate estimate, and compare results with ```occurrence_mcmc```."
   ]
  },
  {
   "cell_type": "code",
   "execution_count": 156,
   "metadata": {},
   "outputs": [
    {
     "name": "stdout",
     "output_type": "stream",
     "text": [
      "The autoreload extension is already loaded. To reload it, use:\n",
      "  %reload_ext autoreload\n"
     ]
    }
   ],
   "source": [
    "import numpy as np\n",
    "from matplotlib import pyplot as plt\n",
    "%matplotlib inline\n",
    "import pandas as pd\n",
    "from scipy import optimize, stats, linalg\n",
    "from utils import dfm\n",
    "from utils.abc import ABCSampler\n",
    "from utils import price_rogers_2014_binned\n",
    "from tqdm.notebook import tqdm\n",
    "from scipy.stats import gamma\n",
    "from functools import partial\n",
    "\n",
    "%load_ext autoreload\n",
    "%autoreload 2"
   ]
  },
  {
   "cell_type": "markdown",
   "metadata": {},
   "source": [
    "My ABC setup requires\n",
    "\n",
    "- a prior occurrence estimate.\n",
    "- a candidate generator for the model parameters $\\theta$, i.e. a ```stats.continuous_rv/stats.discrete_rv``` object whose .rvs() method returns candidate parameters.\n",
    "- a sampler for $f(x \\mid \\theta)$\n",
    "- distance and statistic functions\n",
    "- data to fit"
   ]
  },
  {
   "cell_type": "code",
   "execution_count": 2,
   "metadata": {},
   "outputs": [],
   "source": [
    "kois = dfm.get_kois()\n",
    "stellar = dfm.get_stellar()\n",
    "kois = kois[kois[\"kepid\"].isin(stellar[\"kepid\"])]\n",
    "kois = kois[np.isfinite(kois[\"koi_prad\"])]"
   ]
  },
  {
   "cell_type": "code",
   "execution_count": 3,
   "metadata": {},
   "outputs": [
    {
     "name": "stdout",
     "output_type": "stream",
     "text": [
      "[192950   5222    508    153     59     21      2      2]\n"
     ]
    },
    {
     "data": {
      "text/plain": [
       "Text(0, 0.5, 'Counts')"
      ]
     },
     "execution_count": 3,
     "metadata": {},
     "output_type": "execute_result"
    },
    {
     "data": {
      "image/png": "[encoded data removed]",
      "text/plain": [
       "<Figure size 432x288 with 1 Axes>"
      ]
     },
     "metadata": {
      "needs_background": "light"
     },
     "output_type": "display_data"
    }
   ],
   "source": [
    "#starcounts = np.concatenate((np.array(pd.crosstab(index=kois['kepid'], columns=\"count\")).flatten(), np.zeros((len(stellar[~stellar[\"kepid\"].isin(kois[\"kepid\"])]),))))\n",
    "zerocounts = len(stellar[~stellar[\"kepid\"].isin(kois[\"kepid\"])])\n",
    "solarsyssizes = np.array(pd.crosstab(index=kois['kepid'], columns=\"count\")).flatten()\n",
    "bincounts = np.bincount(solarsyssizes)\n",
    "bincounts[0] = zerocounts\n",
    "print(bincounts)\n",
    "plt.hist(solarsyssizes)\n",
    "plt.xlabel(\"Planets per star\")\n",
    "plt.ylabel(\"Counts\")"
   ]
  },
  {
   "cell_type": "markdown",
   "metadata": {},
   "source": [
    "Now the dataset has sufficient complexity to fit a Poisson process."
   ]
  },
  {
   "cell_type": "code",
   "execution_count": 4,
   "metadata": {},
   "outputs": [],
   "source": [
    "assert np.all(np.isfinite(kois[\"koi_prad\"]))\n",
    "assert np.all(np.isfinite(kois[\"koi_period\"]))\n",
    "koi_radii = kois[\"koi_prad\"]\n",
    "koi_periods = kois[\"koi_period\"]"
   ]
  },
  {
   "cell_type": "code",
   "execution_count": 5,
   "metadata": {},
   "outputs": [
    {
     "name": "stdout",
     "output_type": "stream",
     "text": [
      "[61131, 71888, 42518, 16962, 4983, 1172, 220, 36]\n"
     ]
    }
   ],
   "source": [
    "lam = np.mean(solarsyssizes)\n",
    "# lam = sum([i * k for i, k in enumerate(bincounts)]) / sum(bincounts)\n",
    "planet_numbers = np.minimum(stats.poisson(lam).rvs(size=(len(stellar),)), 10) \n",
    "print([sum(planet_numbers == i) for i in range(max(planet_numbers))])"
   ]
  },
  {
   "cell_type": "code",
   "execution_count": 6,
   "metadata": {},
   "outputs": [
    {
     "data": {
      "text/plain": [
       "(array([6.1131e+04, 7.1888e+04, 4.2518e+04, 1.6962e+04, 0.0000e+00,\n",
       "        4.9830e+03, 1.1720e+03, 2.2000e+02, 3.6000e+01, 7.0000e+00]),\n",
       " array([0. , 0.8, 1.6, 2.4, 3.2, 4. , 4.8, 5.6, 6.4, 7.2, 8. ]),\n",
       " <a list of 10 Patch objects>)"
      ]
     },
     "execution_count": 6,
     "metadata": {},
     "output_type": "execute_result"
    },
    {
     "data": {
      "image/png": "[encoded data removed]",
      "text/plain": [
       "<Figure size 432x288 with 1 Axes>"
      ]
     },
     "metadata": {
      "needs_background": "light"
     },
     "output_type": "display_data"
    }
   ],
   "source": [
    "plt.hist(planet_numbers)"
   ]
  },
  {
   "cell_type": "code",
   "execution_count": 402,
   "metadata": {},
   "outputs": [],
   "source": [
    "period = np.array([0.5, 1.25, 2.5, 5, 10, 20, 40, 80, 160, 320])\n",
    "rp = np.array([0.5, 0.75, 1, 1.25, 1.5, 1.75, 2, 2.5, 3, 4, 6, 8, 12, 16])\n",
    "log_p, log_r = np.log(period), np.log(rp)\n",
    "log_p = np.append(log_p, np.log(640))\n",
    "log_r = np.append(log_r, np.log(20))\n",
    "period_rng = (min(period), max(period))\n",
    "rp_rng = (min(rp), max(rp))\n",
    "\n",
    "f = np.histogram2d(koi_periods, koi_radii, bins=[period, rp])[0]\n",
    "# f = np.ones(shape=(len(period), len(rp)))\n",
    "f /= np.sum(f)"
   ]
  },
  {
   "cell_type": "code",
   "execution_count": 403,
   "metadata": {},
   "outputs": [
    {
     "data": {
      "text/plain": [
       "<matplotlib.colorbar.Colorbar at 0x1268071d0>"
      ]
     },
     "execution_count": 403,
     "metadata": {},
     "output_type": "execute_result"
    },
    {
     "data": {
      "image/png": "[encoded data removed]",
      "text/plain": [
       "<Figure size 432x288 with 2 Axes>"
      ]
     },
     "metadata": {
      "needs_background": "light"
     },
     "output_type": "display_data"
    }
   ],
   "source": [
    "plt.imshow(np.histogram2d(koi_periods, koi_radii, bins=[period, rp])[0]) # I guess that's sorta like an H-R diagram?\n",
    "plt.colorbar()"
   ]
  },
  {
   "cell_type": "code",
   "execution_count": 404,
   "metadata": {},
   "outputs": [
    {
     "name": "stdout",
     "output_type": "stream",
     "text": [
      "Generated planet with period 72.189 days, radius 2.151 Earth radii, eccentricity 0.092, cos of orbital inclination 0.825.\n"
     ]
    }
   ],
   "source": [
    "bucket = np.random.choice(f.size, p=f.flatten())\n",
    "i, j = bucket // f.shape[1], bucket % f.shape[1] \n",
    "synth_p = np.exp(np.random.uniform(log_p[i], log_p[i+1]))\n",
    "synth_r = np.exp(np.random.uniform(log_r[j], log_r[j+1]))\n",
    "ecc = stats.rayleigh(scale=0.03).rvs()\n",
    "cosincl = np.random.uniform(-1, 1)\n",
    "print(\"Generated planet with period {0} days, radius {1} Earth radii, eccentricity {2}, cos of orbital inclination {3}.\".format(np.round(synth_p, 3), np.round(synth_r, 3), np.round(ecc, 3), np.round(cosincl, 3)))"
   ]
  },
  {
   "cell_type": "code",
   "execution_count": 405,
   "metadata": {},
   "outputs": [],
   "source": [
    "cdpp_cols = [k for k in stellar.keys() if k.startswith(\"rrmscdpp\")]\n",
    "cdpp_vals = np.array([k[-4:].replace(\"p\", \".\") for k in cdpp_cols], dtype=float)\n",
    "pgam = gamma(4.65, loc=0., scale=0.98)\n",
    "mesthres_cols = [k for k in stellar.keys() if k.startswith(\"mesthres\")]\n",
    "mesthres_vals = np.array([k[-4:].replace(\"p\", \".\") for k in mesthres_cols],\n",
    "                         dtype=float)"
   ]
  },
  {
   "cell_type": "code",
   "execution_count": 406,
   "metadata": {},
   "outputs": [],
   "source": [
    "def pcomp_vectors(stars, periods, rp, eccs):\n",
    "    '''\n",
    "    Self-contained, returns pcomp over matched arrays of planets around stars.\n",
    "    '''\n",
    "    c = 1.0874\n",
    "    s = 1.0187\n",
    "    Go4pi = 2945.4625385377644/(4*np.pi*np.pi)\n",
    "    re = 0.009171\n",
    "    \n",
    "    mstars = np.array(stars['mass'])\n",
    "    rstars = np.array(stars['radius'])\n",
    "    cdpp = np.array(stars[cdpp_cols], dtype=float)\n",
    "    dataspan = np.array(stars['dataspan'])\n",
    "    dutycycle = np.array(stars['dutycycle'])\n",
    "    mesthres_cols_stars = np.array(stars[mesthres_cols], dtype=float)\n",
    "    \n",
    "    aor = (Go4pi*periods*periods*mstars) ** (1./3) / rstars\n",
    "    tau = 6 * periods * np.sqrt(1 - eccs**2) / aor\n",
    "\n",
    "    # sigma = np.apply_along_axis(np.interp, 0, tau, cdpp_vals, cdpp)\n",
    "    sigma = np.array([np.interp(tau[i], cdpp_vals, cdpp[i]) for i in range(len(tau))])\n",
    "    # Compute the radius ratio and estimate the S/N.\n",
    "    k = rp * re / rstars\n",
    "    delta = 0.84 * k*k * (c + s*k)\n",
    "    snr = delta * 1e6 / sigma\n",
    "\n",
    "    # Scale by the estimated number of transits.\n",
    "    ntrn = dataspan * dutycycle / periods\n",
    "    mess = snr * np.sqrt(ntrn)\n",
    "    mest = np.array([np.interp(tau[i], mesthres_vals, mesthres_cols_stars[i]) for i in range(len(tau))])\n",
    "    x = mess - 4.1 - (mest - 7.1)\n",
    "    pdets = pgam.cdf(x)\n",
    "    \n",
    "    M = dataspan / periods\n",
    "    f = dutycycle\n",
    "    omf = 1.0 - f\n",
    "    pw = 1 - omf**M - M*f*omf**(M-1) - 0.5*M*(M-1)*f*f*omf**(M-2)\n",
    "    msk = (pw >= 0.0) & (M >= 2.0)\n",
    "    pwins = pw * msk\n",
    "    \n",
    "    pgeom = 1. / (aor * (1 - eccs*eccs)) * (aor > 1.0)\n",
    "    \n",
    "    return pdets * pwins * pgeom"
   ]
  },
  {
   "cell_type": "code",
   "execution_count": 407,
   "metadata": {},
   "outputs": [
    {
     "name": "stderr",
     "output_type": "stream",
     "text": [
      "/usr/local/lib/python3.7/site-packages/scipy/stats/_distn_infrastructure.py:903: RuntimeWarning: invalid value encountered in greater\n",
      "  return (a < x) & (x < b)\n",
      "/usr/local/lib/python3.7/site-packages/scipy/stats/_distn_infrastructure.py:903: RuntimeWarning: invalid value encountered in less\n",
      "  return (a < x) & (x < b)\n",
      "/usr/local/lib/python3.7/site-packages/scipy/stats/_distn_infrastructure.py:1827: RuntimeWarning: invalid value encountered in greater_equal\n",
      "  cond2 = (x >= np.asarray(_b)) & cond0\n"
     ]
    },
    {
     "data": {
      "text/plain": [
       "(array([5201., 1001.,  470.,  173.,   59.,   27.,   10.,   13.,   11.,\n",
       "           7.]),\n",
       " array([0.        , 0.09990394, 0.19980789, 0.29971183, 0.39961577,\n",
       "        0.49951971, 0.59942366, 0.6993276 , 0.79923154, 0.89913549,\n",
       "        0.99903943]),\n",
       " <a list of 10 Patch objects>)"
      ]
     },
     "execution_count": 407,
     "metadata": {},
     "output_type": "execute_result"
    },
    {
     "data": {
      "image/png": "[encoded data removed]",
      "text/plain": [
       "<Figure size 432x288 with 1 Axes>"
      ]
     },
     "metadata": {
      "needs_background": "light"
     },
     "output_type": "display_data"
    }
   ],
   "source": [
    "combined = pd.merge(kois, stellar, on='kepid')\n",
    "pcomp = partial(dfm.get_completeness, pgam=pgam, mesthres_cols=mesthres_cols, mesthres_vals=mesthres_vals)\n",
    "pcomps = pcomp_vectors(combined, combined['koi_period'], combined['koi_prad'], combined['koi_eccen'])\n",
    "plt.hist(pcomps[~np.isnan(pcomps)])"
   ]
  },
  {
   "cell_type": "code",
   "execution_count": 408,
   "metadata": {},
   "outputs": [
    {
     "name": "stdout",
     "output_type": "stream",
     "text": [
      "286 ms ± 16.1 ms per loop (mean ± std. dev. of 7 runs, 1 loop each)\n"
     ]
    }
   ],
   "source": [
    "%timeit pcomp_vectors(combined, combined['koi_period'], combined['koi_prad'], combined['koi_eccen'])"
   ]
  },
  {
   "cell_type": "code",
   "execution_count": 409,
   "metadata": {},
   "outputs": [
    {
     "name": "stderr",
     "output_type": "stream",
     "text": [
      "/usr/local/lib/python3.7/site-packages/pandas/core/computation/expressions.py:178: UserWarning: evaluating in Python space because the '*' operator is not supported by numexpr for the bool dtype, use '&' instead\n",
      "  f\"evaluating in Python space because the {repr(op_str)} \"\n"
     ]
    }
   ],
   "source": [
    "# this has some nans\n",
    "# check that dfm's completeness couldn't do any better\n",
    "incomplete_ids = combined.kepid[np.where(np.isnan(pcomps))[0]]\n",
    "for incomp in incomplete_ids:\n",
    "    incomp_row = combined[combined.kepid == incomp]\n",
    "    assert np.all(np.isnan(pcomp(incomp_row.iloc[0], incomp_row['koi_period'],\n",
    "                                incomp_row['koi_prad'], incomp_row['koi_eccen']).to_numpy()))"
   ]
  },
  {
   "cell_type": "code",
   "execution_count": 410,
   "metadata": {},
   "outputs": [
    {
     "data": {
      "text/plain": [
       "92"
      ]
     },
     "execution_count": 410,
     "metadata": {},
     "output_type": "execute_result"
    }
   ],
   "source": [
    "sum(np.isnan(pcomps))"
   ]
  },
  {
   "cell_type": "code",
   "execution_count": 475,
   "metadata": {},
   "outputs": [],
   "source": [
    "t0_range = (min(combined['koi_time0']), max(combined['koi_time0']))\n",
    "\n",
    "def generate_planet_catalog(f, stars):\n",
    "    '''\n",
    "    Takes in the occurrence rate matrix f and generates `num_planets' planets, \n",
    "    represented as a matrix of state (row) vectors.\n",
    "    \n",
    "    Each row has: period in days; radius in Earth radii; eccentricity; cosine of inclination; impact parameter;\n",
    "    time of first transit in BJD; fractional transit depth; transit duration in days; is_detected (bool).\n",
    "    \n",
    "    Arguments\n",
    "    ---------\n",
    "    f : np.ndarray\n",
    "    f = f(r, p); occurrence rate prior that we sample p and r from.\n",
    "    \n",
    "    stars : list\n",
    "    A list of tuples with stellar parameters (may edit this to deal with dataframe later.)\n",
    "    '''\n",
    "    # [period, radius, ecc, cosincl, impact param b, t0, transit depth d, transit duration D, is_detected]\n",
    "    lam = np.sum(f)\n",
    "    num_stars = len(stars)\n",
    "    planet_params = ['kepid', 'period', 'prad', 'ecc', 'cosincl', 'b', 't0', 'd', 'D']\n",
    "    nums_planets = np.minimum(stats.poisson(lam).rvs((num_stars,)), 10)\n",
    "    params_size = len(planet_params)\n",
    "    planets_matrix = np.empty(shape=(0, params_size))\n",
    "    for num_planets, star in tqdm(zip(nums_planets, stars)):\n",
    "        k = 0\n",
    "        fails = 0\n",
    "        while k < num_planets:\n",
    "            bucket = np.random.choice(f.size, p=f.flatten() / np.sum(f))\n",
    "            i, j = bucket // f.shape[1], bucket % f.shape[1]\n",
    "            synth_p = np.exp(np.random.uniform(log_p[i], log_p[i+1]))\n",
    "            synth_r = np.exp(np.random.uniform(log_r[j], log_r[j+1]))\n",
    "            ecc = stats.rayleigh(scale=0.03).rvs()\n",
    "            cosincl = np.random.uniform(0, 1) \n",
    "            r = synth_r / star.radius * 0.009158 # conversion from R_earth to R_sun\n",
    "            b = np.random.uniform(0, 1) # Hsu 2018 ignores the possibility of b > 1\n",
    "            t0 = np.random.uniform(*t0_range) \n",
    "            # constrain period\n",
    "            # does the planet transit during the observation window?\n",
    "            # refine pdet\n",
    "            d = r ** 2\n",
    "            aor = get_a(synth_p, star.mass) / star.radius\n",
    "            arcsin_arg = np.sqrt((1 + r) ** 2 - b ** 2) / aor\n",
    "            if arcsin_arg > 1:\n",
    "                fails += 1\n",
    "            else:\n",
    "                D = (synth_p / np.pi) * np.arcsin(arcsin_arg)\n",
    "                tau0 = synth_p * b / (2 * np.pi * cosincl * np.sqrt(1 - ecc ** 2)) * 1 / (aor ** 2)\n",
    "                T = 2 * tau0 * np.sqrt(1 - b ** 2)\n",
    "                tau = 2 * tau0 * r / np.sqrt(1 - b ** 2)\n",
    "                f0 = 1\n",
    "                texp = 1765.5 / 60 / 60 / 24 # s to days\n",
    "                gamma = 1 / (6.5 / 60 / 60 / 24) # inverse s to inverse days\n",
    "                sigma = 1 # 'model uncertainty'\n",
    "\n",
    "                price_uncertainty_params = [d, T, tau, f0, texp, synth_p, gamma, sigma]\n",
    "                var_d = abs(price_rogers_2014_binned.prVarDelta(*price_uncertainty_params)) # abs is stopgap\n",
    "                var_D = 2 * abs(price_rogers_2014_binned.prVarTau(*price_uncertainty_params)) + abs(\n",
    "                    price_rogers_2014_binned.prVarTc(*price_uncertainty_params))\n",
    "                var_b = abs(price_rogers_2014_binned.prVarBsq(*price_uncertainty_params))\n",
    "\n",
    "                d += np.random.normal(0, np.sqrt(var_d))\n",
    "                # D += np.random.normal(0, np.sqrt(var_D))\n",
    "                # b += np.random.normal(0, np.sqrt(var_b))\n",
    "                if all([b > 0, d > 0, D > 0, arcsin_arg <= 1]):\n",
    "                    new_planet = np.array([star.kepid, synth_p, synth_r, ecc, cosincl, \n",
    "                                           b, t0, d, D])\n",
    "                    planets_matrix = np.vstack((planets_matrix, new_planet))\n",
    "                    k += 1\n",
    "                    fails = 0\n",
    "                else:\n",
    "                    fails += 1\n",
    "                if fails > 5:\n",
    "                    # bad_kepids.append(star.kepid) - see if these are FPs, or if p/r are extreme\n",
    "                    k = num_planets\n",
    "                \n",
    "    catalog = pd.DataFrame(planets_matrix, columns=planet_params)\n",
    "    combined_synth = pd.merge(catalog, stellar, on='kepid')\n",
    "    probs = pcomp_vectors(combined_synth, combined_synth['period'], \n",
    "                          combined_synth['prad'], combined_synth['ecc'])\n",
    "    detected = np.random.binomial(1, probs)\n",
    "    catalog['is_detected'] = detected\n",
    "    return catalog.astype({'kepid': np.int64, 'is_detected': bool})"
   ]
  },
  {
   "cell_type": "code",
   "execution_count": 455,
   "metadata": {},
   "outputs": [],
   "source": [
    "planet_catalog = np.empty((0, 9))\n",
    "num_stars = 100 or len(stellar)\n",
    "stellar_sample = [row for row in stellar.sample(n=num_stars).itertuples()]"
   ]
  },
  {
   "cell_type": "code",
   "execution_count": 457,
   "metadata": {},
   "outputs": [
    {
     "data": {
      "application/vnd.jupyter.widget-view+json": {
       "model_id": "66b06079c19d47beacd225b69be5ffcc",
       "version_major": 2,
       "version_minor": 0
      },
      "text/plain": [
       "HBox(children=(FloatProgress(value=1.0, bar_style='info', max=1.0), HTML(value='')))"
      ]
     },
     "metadata": {},
     "output_type": "display_data"
    },
    {
     "name": "stdout",
     "output_type": "stream",
     "text": [
      "\n"
     ]
    }
   ],
   "source": [
    "catalog_synth = generate_planet_catalog(f, stellar_sample)\n",
    "if len(stellar_sample) == len(stellar):\n",
    "    catalog_synth.to_csv('./catalog_synth.csv')"
   ]
  },
  {
   "cell_type": "code",
   "execution_count": 458,
   "metadata": {},
   "outputs": [
    {
     "data": {
      "text/html": [
       "<div>\n",
       "<style scoped>\n",
       "    .dataframe tbody tr th:only-of-type {\n",
       "        vertical-align: middle;\n",
       "    }\n",
       "\n",
       "    .dataframe tbody tr th {\n",
       "        vertical-align: top;\n",
       "    }\n",
       "\n",
       "    .dataframe thead th {\n",
       "        text-align: right;\n",
       "    }\n",
       "</style>\n",
       "<table border=\"1\" class=\"dataframe\">\n",
       "  <thead>\n",
       "    <tr style=\"text-align: right;\">\n",
       "      <th></th>\n",
       "      <th>kepid</th>\n",
       "      <th>period</th>\n",
       "      <th>prad</th>\n",
       "      <th>ecc</th>\n",
       "      <th>cosincl</th>\n",
       "      <th>b</th>\n",
       "      <th>t0</th>\n",
       "      <th>d</th>\n",
       "      <th>D</th>\n",
       "      <th>is_detected</th>\n",
       "    </tr>\n",
       "  </thead>\n",
       "  <tbody>\n",
       "    <tr>\n",
       "      <th>0</th>\n",
       "      <td>9455428</td>\n",
       "      <td>5.266959</td>\n",
       "      <td>1.184894</td>\n",
       "      <td>0.027189</td>\n",
       "      <td>0.663316</td>\n",
       "      <td>0.762572</td>\n",
       "      <td>2.455486e+06</td>\n",
       "      <td>0.153579</td>\n",
       "      <td>0.081299</td>\n",
       "      <td>False</td>\n",
       "    </tr>\n",
       "    <tr>\n",
       "      <th>1</th>\n",
       "      <td>9455428</td>\n",
       "      <td>5.282145</td>\n",
       "      <td>1.753299</td>\n",
       "      <td>0.055365</td>\n",
       "      <td>0.485687</td>\n",
       "      <td>0.646295</td>\n",
       "      <td>2.455518e+06</td>\n",
       "      <td>0.024883</td>\n",
       "      <td>0.096175</td>\n",
       "      <td>False</td>\n",
       "    </tr>\n",
       "    <tr>\n",
       "      <th>2</th>\n",
       "      <td>7821063</td>\n",
       "      <td>15.155526</td>\n",
       "      <td>1.333898</td>\n",
       "      <td>0.010834</td>\n",
       "      <td>0.036027</td>\n",
       "      <td>0.066449</td>\n",
       "      <td>2.455560e+06</td>\n",
       "      <td>0.162840</td>\n",
       "      <td>0.204661</td>\n",
       "      <td>False</td>\n",
       "    </tr>\n",
       "    <tr>\n",
       "      <th>3</th>\n",
       "      <td>2846335</td>\n",
       "      <td>12.057859</td>\n",
       "      <td>1.561075</td>\n",
       "      <td>0.042527</td>\n",
       "      <td>0.476061</td>\n",
       "      <td>0.590506</td>\n",
       "      <td>2.455421e+06</td>\n",
       "      <td>0.007269</td>\n",
       "      <td>0.188279</td>\n",
       "      <td>False</td>\n",
       "    </tr>\n",
       "    <tr>\n",
       "      <th>4</th>\n",
       "      <td>9051076</td>\n",
       "      <td>8.957102</td>\n",
       "      <td>1.941554</td>\n",
       "      <td>0.004380</td>\n",
       "      <td>0.156000</td>\n",
       "      <td>0.851466</td>\n",
       "      <td>2.455067e+06</td>\n",
       "      <td>0.049440</td>\n",
       "      <td>0.113146</td>\n",
       "      <td>False</td>\n",
       "    </tr>\n",
       "    <tr>\n",
       "      <th>...</th>\n",
       "      <td>...</td>\n",
       "      <td>...</td>\n",
       "      <td>...</td>\n",
       "      <td>...</td>\n",
       "      <td>...</td>\n",
       "      <td>...</td>\n",
       "      <td>...</td>\n",
       "      <td>...</td>\n",
       "      <td>...</td>\n",
       "      <td>...</td>\n",
       "    </tr>\n",
       "    <tr>\n",
       "      <th>88</th>\n",
       "      <td>6139856</td>\n",
       "      <td>7.129612</td>\n",
       "      <td>1.558651</td>\n",
       "      <td>0.047366</td>\n",
       "      <td>0.184413</td>\n",
       "      <td>0.300607</td>\n",
       "      <td>2.455060e+06</td>\n",
       "      <td>0.754283</td>\n",
       "      <td>0.153077</td>\n",
       "      <td>False</td>\n",
       "    </tr>\n",
       "    <tr>\n",
       "      <th>89</th>\n",
       "      <td>11872545</td>\n",
       "      <td>6.524566</td>\n",
       "      <td>13.862215</td>\n",
       "      <td>0.040260</td>\n",
       "      <td>0.839271</td>\n",
       "      <td>0.788575</td>\n",
       "      <td>2.455320e+06</td>\n",
       "      <td>0.031955</td>\n",
       "      <td>0.140382</td>\n",
       "      <td>False</td>\n",
       "    </tr>\n",
       "    <tr>\n",
       "      <th>90</th>\n",
       "      <td>10526563</td>\n",
       "      <td>9.881694</td>\n",
       "      <td>2.085201</td>\n",
       "      <td>0.045321</td>\n",
       "      <td>0.833037</td>\n",
       "      <td>0.131130</td>\n",
       "      <td>2.455321e+06</td>\n",
       "      <td>0.114959</td>\n",
       "      <td>0.162876</td>\n",
       "      <td>True</td>\n",
       "    </tr>\n",
       "    <tr>\n",
       "      <th>91</th>\n",
       "      <td>11450210</td>\n",
       "      <td>100.303393</td>\n",
       "      <td>5.614886</td>\n",
       "      <td>0.037806</td>\n",
       "      <td>0.632783</td>\n",
       "      <td>0.076577</td>\n",
       "      <td>2.455224e+06</td>\n",
       "      <td>0.013464</td>\n",
       "      <td>0.341694</td>\n",
       "      <td>False</td>\n",
       "    </tr>\n",
       "    <tr>\n",
       "      <th>92</th>\n",
       "      <td>11450210</td>\n",
       "      <td>36.024691</td>\n",
       "      <td>1.678326</td>\n",
       "      <td>0.066069</td>\n",
       "      <td>0.008520</td>\n",
       "      <td>0.657716</td>\n",
       "      <td>2.455330e+06</td>\n",
       "      <td>0.001115</td>\n",
       "      <td>0.178718</td>\n",
       "      <td>False</td>\n",
       "    </tr>\n",
       "  </tbody>\n",
       "</table>\n",
       "<p>93 rows × 10 columns</p>\n",
       "</div>"
      ],
      "text/plain": [
       "       kepid      period       prad       ecc   cosincl         b  \\\n",
       "0    9455428    5.266959   1.184894  0.027189  0.663316  0.762572   \n",
       "1    9455428    5.282145   1.753299  0.055365  0.485687  0.646295   \n",
       "2    7821063   15.155526   1.333898  0.010834  0.036027  0.066449   \n",
       "3    2846335   12.057859   1.561075  0.042527  0.476061  0.590506   \n",
       "4    9051076    8.957102   1.941554  0.004380  0.156000  0.851466   \n",
       "..       ...         ...        ...       ...       ...       ...   \n",
       "88   6139856    7.129612   1.558651  0.047366  0.184413  0.300607   \n",
       "89  11872545    6.524566  13.862215  0.040260  0.839271  0.788575   \n",
       "90  10526563    9.881694   2.085201  0.045321  0.833037  0.131130   \n",
       "91  11450210  100.303393   5.614886  0.037806  0.632783  0.076577   \n",
       "92  11450210   36.024691   1.678326  0.066069  0.008520  0.657716   \n",
       "\n",
       "              t0         d         D  is_detected  \n",
       "0   2.455486e+06  0.153579  0.081299        False  \n",
       "1   2.455518e+06  0.024883  0.096175        False  \n",
       "2   2.455560e+06  0.162840  0.204661        False  \n",
       "3   2.455421e+06  0.007269  0.188279        False  \n",
       "4   2.455067e+06  0.049440  0.113146        False  \n",
       "..           ...       ...       ...          ...  \n",
       "88  2.455060e+06  0.754283  0.153077        False  \n",
       "89  2.455320e+06  0.031955  0.140382        False  \n",
       "90  2.455321e+06  0.114959  0.162876         True  \n",
       "91  2.455224e+06  0.013464  0.341694        False  \n",
       "92  2.455330e+06  0.001115  0.178718        False  \n",
       "\n",
       "[93 rows x 10 columns]"
      ]
     },
     "execution_count": 458,
     "metadata": {},
     "output_type": "execute_result"
    }
   ],
   "source": [
    "catalog_synth"
   ]
  },
  {
   "cell_type": "code",
   "execution_count": 459,
   "metadata": {},
   "outputs": [
    {
     "data": {
      "text/plain": [
       "6"
      ]
     },
     "execution_count": 459,
     "metadata": {},
     "output_type": "execute_result"
    }
   ],
   "source": [
    "sum(catalog_synth.is_detected)"
   ]
  },
  {
   "cell_type": "code",
   "execution_count": 460,
   "metadata": {},
   "outputs": [
    {
     "data": {
      "text/plain": [
       "(array([ 7.,  5.,  4., 16., 15., 12., 13.,  7.,  3., 11.]),\n",
       " array([-0.5999853 ,  0.02884253,  0.65767037,  1.2864982 ,  1.91532604,\n",
       "         2.54415387,  3.1729817 ,  3.80180954,  4.43063737,  5.05946521,\n",
       "         5.68829304]),\n",
       " <a list of 10 Patch objects>)"
      ]
     },
     "execution_count": 460,
     "metadata": {},
     "output_type": "execute_result"
    },
    {
     "data": {
      "image/png": "[encoded data removed]",
      "text/plain": [
       "<Figure size 432x288 with 1 Axes>"
      ]
     },
     "metadata": {
      "needs_background": "light"
     },
     "output_type": "display_data"
    }
   ],
   "source": [
    "plt.hist(np.log(catalog_synth.period))"
   ]
  },
  {
   "cell_type": "code",
   "execution_count": 461,
   "metadata": {},
   "outputs": [
    {
     "data": {
      "text/plain": [
       "(array([ 4.,  4., 24., 25., 13.,  5.,  6.,  6.,  3.,  3.]),\n",
       " array([-6.87719438e-01, -3.43348482e-01,  1.02247447e-03,  3.45393431e-01,\n",
       "         6.89764387e-01,  1.03413534e+00,  1.37850630e+00,  1.72287725e+00,\n",
       "         2.06724821e+00,  2.41161917e+00,  2.75599012e+00]),\n",
       " <a list of 10 Patch objects>)"
      ]
     },
     "execution_count": 461,
     "metadata": {},
     "output_type": "execute_result"
    },
    {
     "data": {
      "image/png": "[encoded data removed]",
      "text/plain": [
       "<Figure size 432x288 with 1 Axes>"
      ]
     },
     "metadata": {
      "needs_background": "light"
     },
     "output_type": "display_data"
    }
   ],
   "source": [
    "plt.hist(np.log(catalog_synth.prad))"
   ]
  },
  {
   "cell_type": "code",
   "execution_count": 462,
   "metadata": {},
   "outputs": [],
   "source": [
    "N = np.zeros_like(f)\n",
    "detected = catalog_synth[catalog_synth.is_detected]\n",
    "period_bins = np.digitize(np.log(detected.period), log_p)\n",
    "radius_bins = np.digitize(np.log(detected.prad), log_r)\n",
    "for i, j in zip(period_bins, radius_bins):\n",
    "    if i < N.shape[0] and j < N.shape[1]: # exclude some on the edges\n",
    "        N[i][j] += 1\n",
    "        \n",
    "N /= len(stellar_sample)"
   ]
  },
  {
   "cell_type": "code",
   "execution_count": 463,
   "metadata": {},
   "outputs": [
    {
     "data": {
      "text/plain": [
       "<matplotlib.colorbar.Colorbar at 0x1262ef550>"
      ]
     },
     "execution_count": 463,
     "metadata": {},
     "output_type": "execute_result"
    },
    {
     "data": {
      "image/png": "[encoded data removed]",
      "text/plain": [
       "<Figure size 432x288 with 2 Axes>"
      ]
     },
     "metadata": {
      "needs_background": "light"
     },
     "output_type": "display_data"
    }
   ],
   "source": [
    "plt.imshow(N)\n",
    "plt.colorbar()"
   ]
  },
  {
   "cell_type": "code",
   "execution_count": 464,
   "metadata": {},
   "outputs": [
    {
     "data": {
      "text/plain": [
       "<matplotlib.colorbar.Colorbar at 0x12622fa10>"
      ]
     },
     "execution_count": 464,
     "metadata": {},
     "output_type": "execute_result"
    },
    {
     "data": {
      "image/png": "[encoded data removed]",
      "text/plain": [
       "<Figure size 432x288 with 2 Axes>"
      ]
     },
     "metadata": {
      "needs_background": "light"
     },
     "output_type": "display_data"
    }
   ],
   "source": [
    "sample_N = np.histogram2d(koi_periods, koi_radii, bins=[period, rp])[0] / len(stellar)\n",
    "plt.imshow(sample_N)\n",
    "plt.colorbar()"
   ]
  },
  {
   "cell_type": "code",
   "execution_count": 465,
   "metadata": {},
   "outputs": [
    {
     "data": {
      "text/plain": [
       "0.0007633209903355076"
      ]
     },
     "execution_count": 465,
     "metadata": {},
     "output_type": "execute_result"
    }
   ],
   "source": [
    "diff = N - sample_N\n",
    "statistic = np.sum(diff ** 2)\n",
    "statistic"
   ]
  },
  {
   "cell_type": "code",
   "execution_count": 543,
   "metadata": {},
   "outputs": [
    {
     "data": {
      "text/plain": [
       "array([[[ 2.47061339, 12.85      ,  1.        ],\n",
       "        [ 2.20473536, 16.39      ,  1.        ],\n",
       "        [23.66836427,  3.06      ,  1.        ],\n",
       "        ...,\n",
       "        [ 3.27582262,  2.18      ,  1.        ],\n",
       "        [15.87364565,  1.61      ,  1.        ],\n",
       "        [17.97979059,  2.18      ,  1.        ]]])"
      ]
     },
     "execution_count": 543,
     "metadata": {},
     "output_type": "execute_result"
    }
   ],
   "source": [
    "import copy\n",
    "kois_abc = np.array([np.vstack((kois.koi_period, kois.koi_prad, np.ones(len(kois)))).T]) # filter on FPs\n",
    "kois_abc"
   ]
  },
  {
   "cell_type": "code",
   "execution_count": 581,
   "metadata": {},
   "outputs": [],
   "source": [
    "stellar_sample_size = 100\n",
    "stellar_sample = [row for row in stellar.sample(n=stellar_sample_size).itertuples()]\n",
    "\n",
    "class OccurrencePrior(stats.rv_continuous):\n",
    "    def pdf(self, f):\n",
    "        return np.prod(np.exp(-f))\n",
    "    \n",
    "    def rvs(self):\n",
    "        return stats.expon.rvs(size=(len(period), len(rp)))\n",
    "    \n",
    "def occurrence_candidate_getter(f):\n",
    "    def candidate(size=1):\n",
    "        catalogs = [generate_planet_catalog(f, stellar_sample) for _ in range(size)]\n",
    "        return np.array([np.vstack((c.period, c.prad, c.is_detected)).T for c in catalogs])\n",
    "    return candidate\n",
    "    \n",
    "def occurrence_distance(s1, s2):\n",
    "    return np.sum((s1 - s2) ** 2)\n",
    "\n",
    "def occurrence_statistic(catalog):\n",
    "    N = np.zeros_like(f)\n",
    "    found_inds = np.where(catalog[0,:,2] == 1)[0]\n",
    "    detected = catalog[0][found_inds] # the 0 is jank and should be changed\n",
    "    if detected.shape[0] == catalog.shape[1]:\n",
    "        Nstars = len(stellar)\n",
    "    else:\n",
    "        Nstars = stellar_sample_size # this is slightly jank and will fail 1 time in a trillion\n",
    "    period_bins = np.digitize(np.log(detected[:,0]), log_p)\n",
    "    radius_bins = np.digitize(np.log(detected[:,1]), log_r)\n",
    "    for i, j in zip(period_bins, radius_bins):\n",
    "        if i < N.shape[0] and j < N.shape[1]: # exclude some on the edges\n",
    "            N[i][j] += 1\n",
    "    return N / Nstars\n",
    "    \n",
    "OccurrenceABCSampler = ABCSampler(OccurrencePrior(), occurrence_candidate_getter, occurrence_distance, occurrence_statistic)\n"
   ]
  },
  {
   "cell_type": "code",
   "execution_count": 557,
   "metadata": {},
   "outputs": [
    {
     "data": {
      "application/vnd.jupyter.widget-view+json": {
       "model_id": "e407c503e30b4d0b905c9cab3901b846",
       "version_major": 2,
       "version_minor": 0
      },
      "text/plain": [
       "HBox(children=(FloatProgress(value=1.0, bar_style='info', max=1.0), HTML(value='')))"
      ]
     },
     "metadata": {},
     "output_type": "display_data"
    },
    {
     "name": "stdout",
     "output_type": "stream",
     "text": [
      "\n"
     ]
    }
   ],
   "source": [
    "candidate = occurrence_candidate_getter(f)()"
   ]
  },
  {
   "cell_type": "code",
   "execution_count": 584,
   "metadata": {
    "scrolled": true
   },
   "outputs": [
    {
     "data": {
      "application/vnd.jupyter.widget-view+json": {
       "model_id": "6d5f65830ba94df7b3fcc6fa0b95e046",
       "version_major": 2,
       "version_minor": 0
      },
      "text/plain": [
       "HBox(children=(FloatProgress(value=1.0, bar_style='info', max=1.0), HTML(value='')))"
      ]
     },
     "metadata": {},
     "output_type": "display_data"
    },
    {
     "name": "stdout",
     "output_type": "stream",
     "text": [
      "\n"
     ]
    }
   ],
   "source": [
    "abc_f = OccurrenceABCSampler.sample(kois_abc, threshold=1e-2)"
   ]
  },
  {
   "cell_type": "code",
   "execution_count": 585,
   "metadata": {},
   "outputs": [
    {
     "data": {
      "text/plain": [
       "<matplotlib.image.AxesImage at 0x1284b4050>"
      ]
     },
     "execution_count": 585,
     "metadata": {},
     "output_type": "execute_result"
    },
    {
     "data": {
      "image/png": "[encoded data removed]",
      "text/plain": [
       "<Figure size 432x288 with 1 Axes>"
      ]
     },
     "metadata": {
      "needs_background": "light"
     },
     "output_type": "display_data"
    }
   ],
   "source": [
    "plt.imshow(abc_f)"
   ]
  },
  {
   "cell_type": "code",
   "execution_count": 586,
   "metadata": {},
   "outputs": [
    {
     "data": {
      "text/plain": [
       "<matplotlib.image.AxesImage at 0x128513510>"
      ]
     },
     "execution_count": 586,
     "metadata": {},
     "output_type": "execute_result"
    },
    {
     "data": {
      "image/png": "[encoded data removed]",
      "text/plain": [
       "<Figure size 432x288 with 1 Axes>"
      ]
     },
     "metadata": {
      "needs_background": "light"
     },
     "output_type": "display_data"
    }
   ],
   "source": [
    "plt.imshow(f)"
   ]
  },
  {
   "cell_type": "code",
   "execution_count": 595,
   "metadata": {},
   "outputs": [
    {
     "data": {
      "application/vnd.jupyter.widget-view+json": {
       "model_id": "41eef7273b7d439ab1215aa4c4dd0b4d",
       "version_major": 2,
       "version_minor": 0
      },
      "text/plain": [
       "HBox(children=(FloatProgress(value=1.0, bar_style='info', max=1.0), HTML(value='')))"
      ]
     },
     "metadata": {},
     "output_type": "display_data"
    },
    {
     "name": "stdout",
     "output_type": "stream",
     "text": [
      "\n"
     ]
    },
    {
     "ename": "KeyboardInterrupt",
     "evalue": "",
     "output_type": "error",
     "traceback": [
      "\u001b[0;31m---------------------------------------------------------------------------\u001b[0m",
      "\u001b[0;31mKeyboardInterrupt\u001b[0m                         Traceback (most recent call last)",
      "\u001b[0;32m<ipython-input-595-0ae7efd3a0d8>\u001b[0m in \u001b[0;36m<module>\u001b[0;34m\u001b[0m\n\u001b[1;32m      2\u001b[0m \u001b[0mstellar_sample\u001b[0m \u001b[0;34m=\u001b[0m \u001b[0;34m[\u001b[0m\u001b[0mrow\u001b[0m \u001b[0;32mfor\u001b[0m \u001b[0mrow\u001b[0m \u001b[0;32min\u001b[0m \u001b[0mstellar\u001b[0m\u001b[0;34m.\u001b[0m\u001b[0msample\u001b[0m\u001b[0;34m(\u001b[0m\u001b[0mn\u001b[0m\u001b[0;34m=\u001b[0m\u001b[0mstellar_sample_size\u001b[0m\u001b[0;34m)\u001b[0m\u001b[0;34m.\u001b[0m\u001b[0mitertuples\u001b[0m\u001b[0;34m(\u001b[0m\u001b[0;34m)\u001b[0m\u001b[0;34m]\u001b[0m\u001b[0;34m\u001b[0m\u001b[0;34m\u001b[0m\u001b[0m\n\u001b[1;32m      3\u001b[0m \u001b[0mOccurrenceABCSampler\u001b[0m \u001b[0;34m=\u001b[0m \u001b[0mABCSampler\u001b[0m\u001b[0;34m(\u001b[0m\u001b[0mOccurrencePrior\u001b[0m\u001b[0;34m(\u001b[0m\u001b[0;34m)\u001b[0m\u001b[0;34m,\u001b[0m \u001b[0moccurrence_candidate_getter\u001b[0m\u001b[0;34m,\u001b[0m \u001b[0moccurrence_distance\u001b[0m\u001b[0;34m,\u001b[0m \u001b[0moccurrence_statistic\u001b[0m\u001b[0;34m)\u001b[0m\u001b[0;34m\u001b[0m\u001b[0;34m\u001b[0m\u001b[0m\n\u001b[0;32m----> 4\u001b[0;31m \u001b[0mabc_f_full\u001b[0m \u001b[0;34m=\u001b[0m \u001b[0mOccurrenceABCSampler\u001b[0m\u001b[0;34m.\u001b[0m\u001b[0msample\u001b[0m\u001b[0;34m(\u001b[0m\u001b[0mkois_abc\u001b[0m\u001b[0;34m,\u001b[0m \u001b[0mthreshold\u001b[0m\u001b[0;34m=\u001b[0m\u001b[0;36m1e-5\u001b[0m\u001b[0;34m)\u001b[0m\u001b[0;34m\u001b[0m\u001b[0;34m\u001b[0m\u001b[0m\n\u001b[0m",
      "\u001b[0;32m~/projects/pals/occurrence-rates/dev/utils/abc.py\u001b[0m in \u001b[0;36msample\u001b[0;34m(self, data, prior, max_iters, threshold)\u001b[0m\n\u001b[1;32m     41\u001b[0m             \u001b[0mparams\u001b[0m \u001b[0;34m=\u001b[0m \u001b[0mprior\u001b[0m\u001b[0;34m.\u001b[0m\u001b[0mrvs\u001b[0m\u001b[0;34m(\u001b[0m\u001b[0;34m)\u001b[0m\u001b[0;34m\u001b[0m\u001b[0;34m\u001b[0m\u001b[0m\n\u001b[1;32m     42\u001b[0m             \u001b[0mcandidate\u001b[0m \u001b[0;34m=\u001b[0m \u001b[0mself\u001b[0m\u001b[0;34m.\u001b[0m\u001b[0mcandidate_getter\u001b[0m\u001b[0;34m(\u001b[0m\u001b[0mparams\u001b[0m\u001b[0;34m)\u001b[0m\u001b[0;34m\u001b[0m\u001b[0;34m\u001b[0m\u001b[0m\n\u001b[0;32m---> 43\u001b[0;31m             \u001b[0msynthetic\u001b[0m \u001b[0;34m=\u001b[0m \u001b[0mcandidate\u001b[0m\u001b[0;34m(\u001b[0m\u001b[0mlen\u001b[0m\u001b[0;34m(\u001b[0m\u001b[0mdata\u001b[0m\u001b[0;34m)\u001b[0m\u001b[0;34m)\u001b[0m\u001b[0;34m\u001b[0m\u001b[0;34m\u001b[0m\u001b[0m\n\u001b[0m\u001b[1;32m     44\u001b[0m             \u001b[0mdis\u001b[0m \u001b[0;34m=\u001b[0m \u001b[0mself\u001b[0m\u001b[0;34m.\u001b[0m\u001b[0mdistance\u001b[0m\u001b[0;34m(\u001b[0m\u001b[0mself\u001b[0m\u001b[0;34m.\u001b[0m\u001b[0mstatistic\u001b[0m\u001b[0;34m(\u001b[0m\u001b[0msynthetic\u001b[0m\u001b[0;34m)\u001b[0m\u001b[0;34m,\u001b[0m \u001b[0mself\u001b[0m\u001b[0;34m.\u001b[0m\u001b[0mstatistic\u001b[0m\u001b[0;34m(\u001b[0m\u001b[0mdata\u001b[0m\u001b[0;34m)\u001b[0m\u001b[0;34m)\u001b[0m\u001b[0;34m\u001b[0m\u001b[0;34m\u001b[0m\u001b[0m\n\u001b[1;32m     45\u001b[0m             \u001b[0;32mif\u001b[0m \u001b[0mdis\u001b[0m \u001b[0;34m<=\u001b[0m \u001b[0mthreshold\u001b[0m\u001b[0;34m:\u001b[0m\u001b[0;34m\u001b[0m\u001b[0;34m\u001b[0m\u001b[0m\n",
      "\u001b[0;32m<ipython-input-581-64db50c8c43a>\u001b[0m in \u001b[0;36mcandidate\u001b[0;34m(size)\u001b[0m\n\u001b[1;32m     11\u001b[0m \u001b[0;32mdef\u001b[0m \u001b[0moccurrence_candidate_getter\u001b[0m\u001b[0;34m(\u001b[0m\u001b[0mf\u001b[0m\u001b[0;34m)\u001b[0m\u001b[0;34m:\u001b[0m\u001b[0;34m\u001b[0m\u001b[0;34m\u001b[0m\u001b[0m\n\u001b[1;32m     12\u001b[0m     \u001b[0;32mdef\u001b[0m \u001b[0mcandidate\u001b[0m\u001b[0;34m(\u001b[0m\u001b[0msize\u001b[0m\u001b[0;34m=\u001b[0m\u001b[0;36m1\u001b[0m\u001b[0;34m)\u001b[0m\u001b[0;34m:\u001b[0m\u001b[0;34m\u001b[0m\u001b[0;34m\u001b[0m\u001b[0m\n\u001b[0;32m---> 13\u001b[0;31m         \u001b[0mcatalogs\u001b[0m \u001b[0;34m=\u001b[0m \u001b[0;34m[\u001b[0m\u001b[0mgenerate_planet_catalog\u001b[0m\u001b[0;34m(\u001b[0m\u001b[0mf\u001b[0m\u001b[0;34m,\u001b[0m \u001b[0mstellar_sample\u001b[0m\u001b[0;34m)\u001b[0m \u001b[0;32mfor\u001b[0m \u001b[0m_\u001b[0m \u001b[0;32min\u001b[0m \u001b[0mrange\u001b[0m\u001b[0;34m(\u001b[0m\u001b[0msize\u001b[0m\u001b[0;34m)\u001b[0m\u001b[0;34m]\u001b[0m\u001b[0;34m\u001b[0m\u001b[0;34m\u001b[0m\u001b[0m\n\u001b[0m\u001b[1;32m     14\u001b[0m         \u001b[0;32mreturn\u001b[0m \u001b[0mnp\u001b[0m\u001b[0;34m.\u001b[0m\u001b[0marray\u001b[0m\u001b[0;34m(\u001b[0m\u001b[0;34m[\u001b[0m\u001b[0mnp\u001b[0m\u001b[0;34m.\u001b[0m\u001b[0mvstack\u001b[0m\u001b[0;34m(\u001b[0m\u001b[0;34m(\u001b[0m\u001b[0mc\u001b[0m\u001b[0;34m.\u001b[0m\u001b[0mperiod\u001b[0m\u001b[0;34m,\u001b[0m \u001b[0mc\u001b[0m\u001b[0;34m.\u001b[0m\u001b[0mprad\u001b[0m\u001b[0;34m,\u001b[0m \u001b[0mc\u001b[0m\u001b[0;34m.\u001b[0m\u001b[0mis_detected\u001b[0m\u001b[0;34m)\u001b[0m\u001b[0;34m)\u001b[0m\u001b[0;34m.\u001b[0m\u001b[0mT\u001b[0m \u001b[0;32mfor\u001b[0m \u001b[0mc\u001b[0m \u001b[0;32min\u001b[0m \u001b[0mcatalogs\u001b[0m\u001b[0;34m]\u001b[0m\u001b[0;34m)\u001b[0m\u001b[0;34m\u001b[0m\u001b[0;34m\u001b[0m\u001b[0m\n\u001b[1;32m     15\u001b[0m     \u001b[0;32mreturn\u001b[0m \u001b[0mcandidate\u001b[0m\u001b[0;34m\u001b[0m\u001b[0;34m\u001b[0m\u001b[0m\n",
      "\u001b[0;32m<ipython-input-581-64db50c8c43a>\u001b[0m in \u001b[0;36m<listcomp>\u001b[0;34m(.0)\u001b[0m\n\u001b[1;32m     11\u001b[0m \u001b[0;32mdef\u001b[0m \u001b[0moccurrence_candidate_getter\u001b[0m\u001b[0;34m(\u001b[0m\u001b[0mf\u001b[0m\u001b[0;34m)\u001b[0m\u001b[0;34m:\u001b[0m\u001b[0;34m\u001b[0m\u001b[0;34m\u001b[0m\u001b[0m\n\u001b[1;32m     12\u001b[0m     \u001b[0;32mdef\u001b[0m \u001b[0mcandidate\u001b[0m\u001b[0;34m(\u001b[0m\u001b[0msize\u001b[0m\u001b[0;34m=\u001b[0m\u001b[0;36m1\u001b[0m\u001b[0;34m)\u001b[0m\u001b[0;34m:\u001b[0m\u001b[0;34m\u001b[0m\u001b[0;34m\u001b[0m\u001b[0m\n\u001b[0;32m---> 13\u001b[0;31m         \u001b[0mcatalogs\u001b[0m \u001b[0;34m=\u001b[0m \u001b[0;34m[\u001b[0m\u001b[0mgenerate_planet_catalog\u001b[0m\u001b[0;34m(\u001b[0m\u001b[0mf\u001b[0m\u001b[0;34m,\u001b[0m \u001b[0mstellar_sample\u001b[0m\u001b[0;34m)\u001b[0m \u001b[0;32mfor\u001b[0m \u001b[0m_\u001b[0m \u001b[0;32min\u001b[0m \u001b[0mrange\u001b[0m\u001b[0;34m(\u001b[0m\u001b[0msize\u001b[0m\u001b[0;34m)\u001b[0m\u001b[0;34m]\u001b[0m\u001b[0;34m\u001b[0m\u001b[0;34m\u001b[0m\u001b[0m\n\u001b[0m\u001b[1;32m     14\u001b[0m         \u001b[0;32mreturn\u001b[0m \u001b[0mnp\u001b[0m\u001b[0;34m.\u001b[0m\u001b[0marray\u001b[0m\u001b[0;34m(\u001b[0m\u001b[0;34m[\u001b[0m\u001b[0mnp\u001b[0m\u001b[0;34m.\u001b[0m\u001b[0mvstack\u001b[0m\u001b[0;34m(\u001b[0m\u001b[0;34m(\u001b[0m\u001b[0mc\u001b[0m\u001b[0;34m.\u001b[0m\u001b[0mperiod\u001b[0m\u001b[0;34m,\u001b[0m \u001b[0mc\u001b[0m\u001b[0;34m.\u001b[0m\u001b[0mprad\u001b[0m\u001b[0;34m,\u001b[0m \u001b[0mc\u001b[0m\u001b[0;34m.\u001b[0m\u001b[0mis_detected\u001b[0m\u001b[0;34m)\u001b[0m\u001b[0;34m)\u001b[0m\u001b[0;34m.\u001b[0m\u001b[0mT\u001b[0m \u001b[0;32mfor\u001b[0m \u001b[0mc\u001b[0m \u001b[0;32min\u001b[0m \u001b[0mcatalogs\u001b[0m\u001b[0;34m]\u001b[0m\u001b[0;34m)\u001b[0m\u001b[0;34m\u001b[0m\u001b[0;34m\u001b[0m\u001b[0m\n\u001b[1;32m     15\u001b[0m     \u001b[0;32mreturn\u001b[0m \u001b[0mcandidate\u001b[0m\u001b[0;34m\u001b[0m\u001b[0;34m\u001b[0m\u001b[0m\n",
      "\u001b[0;32m<ipython-input-475-d7f4786ccff3>\u001b[0m in \u001b[0;36mgenerate_planet_catalog\u001b[0;34m(f, stars)\u001b[0m\n\u001b[1;32m     32\u001b[0m             \u001b[0msynth_p\u001b[0m \u001b[0;34m=\u001b[0m \u001b[0mnp\u001b[0m\u001b[0;34m.\u001b[0m\u001b[0mexp\u001b[0m\u001b[0;34m(\u001b[0m\u001b[0mnp\u001b[0m\u001b[0;34m.\u001b[0m\u001b[0mrandom\u001b[0m\u001b[0;34m.\u001b[0m\u001b[0muniform\u001b[0m\u001b[0;34m(\u001b[0m\u001b[0mlog_p\u001b[0m\u001b[0;34m[\u001b[0m\u001b[0mi\u001b[0m\u001b[0;34m]\u001b[0m\u001b[0;34m,\u001b[0m \u001b[0mlog_p\u001b[0m\u001b[0;34m[\u001b[0m\u001b[0mi\u001b[0m\u001b[0;34m+\u001b[0m\u001b[0;36m1\u001b[0m\u001b[0;34m]\u001b[0m\u001b[0;34m)\u001b[0m\u001b[0;34m)\u001b[0m\u001b[0;34m\u001b[0m\u001b[0;34m\u001b[0m\u001b[0m\n\u001b[1;32m     33\u001b[0m             \u001b[0msynth_r\u001b[0m \u001b[0;34m=\u001b[0m \u001b[0mnp\u001b[0m\u001b[0;34m.\u001b[0m\u001b[0mexp\u001b[0m\u001b[0;34m(\u001b[0m\u001b[0mnp\u001b[0m\u001b[0;34m.\u001b[0m\u001b[0mrandom\u001b[0m\u001b[0;34m.\u001b[0m\u001b[0muniform\u001b[0m\u001b[0;34m(\u001b[0m\u001b[0mlog_r\u001b[0m\u001b[0;34m[\u001b[0m\u001b[0mj\u001b[0m\u001b[0;34m]\u001b[0m\u001b[0;34m,\u001b[0m \u001b[0mlog_r\u001b[0m\u001b[0;34m[\u001b[0m\u001b[0mj\u001b[0m\u001b[0;34m+\u001b[0m\u001b[0;36m1\u001b[0m\u001b[0;34m]\u001b[0m\u001b[0;34m)\u001b[0m\u001b[0;34m)\u001b[0m\u001b[0;34m\u001b[0m\u001b[0;34m\u001b[0m\u001b[0m\n\u001b[0;32m---> 34\u001b[0;31m             \u001b[0mecc\u001b[0m \u001b[0;34m=\u001b[0m \u001b[0mstats\u001b[0m\u001b[0;34m.\u001b[0m\u001b[0mrayleigh\u001b[0m\u001b[0;34m(\u001b[0m\u001b[0mscale\u001b[0m\u001b[0;34m=\u001b[0m\u001b[0;36m0.03\u001b[0m\u001b[0;34m)\u001b[0m\u001b[0;34m.\u001b[0m\u001b[0mrvs\u001b[0m\u001b[0;34m(\u001b[0m\u001b[0;34m)\u001b[0m\u001b[0;34m\u001b[0m\u001b[0;34m\u001b[0m\u001b[0m\n\u001b[0m\u001b[1;32m     35\u001b[0m             \u001b[0mcosincl\u001b[0m \u001b[0;34m=\u001b[0m \u001b[0mnp\u001b[0m\u001b[0;34m.\u001b[0m\u001b[0mrandom\u001b[0m\u001b[0;34m.\u001b[0m\u001b[0muniform\u001b[0m\u001b[0;34m(\u001b[0m\u001b[0;36m0\u001b[0m\u001b[0;34m,\u001b[0m \u001b[0;36m1\u001b[0m\u001b[0;34m)\u001b[0m\u001b[0;34m\u001b[0m\u001b[0;34m\u001b[0m\u001b[0m\n\u001b[1;32m     36\u001b[0m             \u001b[0mr\u001b[0m \u001b[0;34m=\u001b[0m \u001b[0msynth_r\u001b[0m \u001b[0;34m/\u001b[0m \u001b[0mstar\u001b[0m\u001b[0;34m.\u001b[0m\u001b[0mradius\u001b[0m \u001b[0;34m*\u001b[0m \u001b[0;36m0.009158\u001b[0m \u001b[0;31m# conversion from R_earth to R_sun\u001b[0m\u001b[0;34m\u001b[0m\u001b[0;34m\u001b[0m\u001b[0m\n",
      "\u001b[0;32m/usr/local/lib/python3.7/site-packages/scipy/stats/_distn_infrastructure.py\u001b[0m in \u001b[0;36m__call__\u001b[0;34m(self, *args, **kwds)\u001b[0m\n\u001b[1;32m    769\u001b[0m \u001b[0;34m\u001b[0m\u001b[0m\n\u001b[1;32m    770\u001b[0m     \u001b[0;32mdef\u001b[0m \u001b[0m__call__\u001b[0m\u001b[0;34m(\u001b[0m\u001b[0mself\u001b[0m\u001b[0;34m,\u001b[0m \u001b[0;34m*\u001b[0m\u001b[0margs\u001b[0m\u001b[0;34m,\u001b[0m \u001b[0;34m**\u001b[0m\u001b[0mkwds\u001b[0m\u001b[0;34m)\u001b[0m\u001b[0;34m:\u001b[0m\u001b[0;34m\u001b[0m\u001b[0;34m\u001b[0m\u001b[0m\n\u001b[0;32m--> 771\u001b[0;31m         \u001b[0;32mreturn\u001b[0m \u001b[0mself\u001b[0m\u001b[0;34m.\u001b[0m\u001b[0mfreeze\u001b[0m\u001b[0;34m(\u001b[0m\u001b[0;34m*\u001b[0m\u001b[0margs\u001b[0m\u001b[0;34m,\u001b[0m \u001b[0;34m**\u001b[0m\u001b[0mkwds\u001b[0m\u001b[0;34m)\u001b[0m\u001b[0;34m\u001b[0m\u001b[0;34m\u001b[0m\u001b[0m\n\u001b[0m\u001b[1;32m    772\u001b[0m     \u001b[0m__call__\u001b[0m\u001b[0;34m.\u001b[0m\u001b[0m__doc__\u001b[0m \u001b[0;34m=\u001b[0m \u001b[0mfreeze\u001b[0m\u001b[0;34m.\u001b[0m\u001b[0m__doc__\u001b[0m\u001b[0;34m\u001b[0m\u001b[0;34m\u001b[0m\u001b[0m\n\u001b[1;32m    773\u001b[0m \u001b[0;34m\u001b[0m\u001b[0m\n",
      "\u001b[0;32m/usr/local/lib/python3.7/site-packages/scipy/stats/_distn_infrastructure.py\u001b[0m in \u001b[0;36mfreeze\u001b[0;34m(self, *args, **kwds)\u001b[0m\n\u001b[1;32m    766\u001b[0m \u001b[0;34m\u001b[0m\u001b[0m\n\u001b[1;32m    767\u001b[0m         \"\"\"\n\u001b[0;32m--> 768\u001b[0;31m         \u001b[0;32mreturn\u001b[0m \u001b[0mrv_frozen\u001b[0m\u001b[0;34m(\u001b[0m\u001b[0mself\u001b[0m\u001b[0;34m,\u001b[0m \u001b[0;34m*\u001b[0m\u001b[0margs\u001b[0m\u001b[0;34m,\u001b[0m \u001b[0;34m**\u001b[0m\u001b[0mkwds\u001b[0m\u001b[0;34m)\u001b[0m\u001b[0;34m\u001b[0m\u001b[0;34m\u001b[0m\u001b[0m\n\u001b[0m\u001b[1;32m    769\u001b[0m \u001b[0;34m\u001b[0m\u001b[0m\n\u001b[1;32m    770\u001b[0m     \u001b[0;32mdef\u001b[0m \u001b[0m__call__\u001b[0m\u001b[0;34m(\u001b[0m\u001b[0mself\u001b[0m\u001b[0;34m,\u001b[0m \u001b[0;34m*\u001b[0m\u001b[0margs\u001b[0m\u001b[0;34m,\u001b[0m \u001b[0;34m**\u001b[0m\u001b[0mkwds\u001b[0m\u001b[0;34m)\u001b[0m\u001b[0;34m:\u001b[0m\u001b[0;34m\u001b[0m\u001b[0;34m\u001b[0m\u001b[0m\n",
      "\u001b[0;32m/usr/local/lib/python3.7/site-packages/scipy/stats/_distn_infrastructure.py\u001b[0m in \u001b[0;36m__init__\u001b[0;34m(self, dist, *args, **kwds)\u001b[0m\n\u001b[1;32m    426\u001b[0m \u001b[0;34m\u001b[0m\u001b[0m\n\u001b[1;32m    427\u001b[0m         \u001b[0;31m# create a new instance\u001b[0m\u001b[0;34m\u001b[0m\u001b[0;34m\u001b[0m\u001b[0;34m\u001b[0m\u001b[0m\n\u001b[0;32m--> 428\u001b[0;31m         \u001b[0mself\u001b[0m\u001b[0;34m.\u001b[0m\u001b[0mdist\u001b[0m \u001b[0;34m=\u001b[0m \u001b[0mdist\u001b[0m\u001b[0;34m.\u001b[0m\u001b[0m__class__\u001b[0m\u001b[0;34m(\u001b[0m\u001b[0;34m**\u001b[0m\u001b[0mdist\u001b[0m\u001b[0;34m.\u001b[0m\u001b[0m_updated_ctor_param\u001b[0m\u001b[0;34m(\u001b[0m\u001b[0;34m)\u001b[0m\u001b[0;34m)\u001b[0m\u001b[0;34m\u001b[0m\u001b[0;34m\u001b[0m\u001b[0m\n\u001b[0m\u001b[1;32m    429\u001b[0m \u001b[0;34m\u001b[0m\u001b[0m\n\u001b[1;32m    430\u001b[0m         \u001b[0mshapes\u001b[0m\u001b[0;34m,\u001b[0m \u001b[0m_\u001b[0m\u001b[0;34m,\u001b[0m \u001b[0m_\u001b[0m \u001b[0;34m=\u001b[0m \u001b[0mself\u001b[0m\u001b[0;34m.\u001b[0m\u001b[0mdist\u001b[0m\u001b[0;34m.\u001b[0m\u001b[0m_parse_args\u001b[0m\u001b[0;34m(\u001b[0m\u001b[0;34m*\u001b[0m\u001b[0margs\u001b[0m\u001b[0;34m,\u001b[0m \u001b[0;34m**\u001b[0m\u001b[0mkwds\u001b[0m\u001b[0;34m)\u001b[0m\u001b[0;34m\u001b[0m\u001b[0;34m\u001b[0m\u001b[0m\n",
      "\u001b[0;32m/usr/local/lib/python3.7/site-packages/scipy/stats/_distn_infrastructure.py\u001b[0m in \u001b[0;36m__init__\u001b[0;34m(self, momtype, a, b, xtol, badvalue, name, longname, shapes, extradoc, seed)\u001b[0m\n\u001b[1;32m   1633\u001b[0m             \u001b[0;32melse\u001b[0m\u001b[0;34m:\u001b[0m\u001b[0;34m\u001b[0m\u001b[0;34m\u001b[0m\u001b[0m\n\u001b[1;32m   1634\u001b[0m                 \u001b[0mdct\u001b[0m \u001b[0;34m=\u001b[0m \u001b[0mdict\u001b[0m\u001b[0;34m(\u001b[0m\u001b[0mdistcont\u001b[0m\u001b[0;34m)\u001b[0m\u001b[0;34m\u001b[0m\u001b[0;34m\u001b[0m\u001b[0m\n\u001b[0;32m-> 1635\u001b[0;31m                 \u001b[0mself\u001b[0m\u001b[0;34m.\u001b[0m\u001b[0m_construct_doc\u001b[0m\u001b[0;34m(\u001b[0m\u001b[0mdocdict\u001b[0m\u001b[0;34m,\u001b[0m \u001b[0mdct\u001b[0m\u001b[0;34m.\u001b[0m\u001b[0mget\u001b[0m\u001b[0;34m(\u001b[0m\u001b[0mself\u001b[0m\u001b[0;34m.\u001b[0m\u001b[0mname\u001b[0m\u001b[0;34m)\u001b[0m\u001b[0;34m)\u001b[0m\u001b[0;34m\u001b[0m\u001b[0;34m\u001b[0m\u001b[0m\n\u001b[0m\u001b[1;32m   1636\u001b[0m \u001b[0;34m\u001b[0m\u001b[0m\n\u001b[1;32m   1637\u001b[0m     \u001b[0;32mdef\u001b[0m \u001b[0m_updated_ctor_param\u001b[0m\u001b[0;34m(\u001b[0m\u001b[0mself\u001b[0m\u001b[0;34m)\u001b[0m\u001b[0;34m:\u001b[0m\u001b[0;34m\u001b[0m\u001b[0;34m\u001b[0m\u001b[0m\n",
      "\u001b[0;32m/usr/local/lib/python3.7/site-packages/scipy/stats/_distn_infrastructure.py\u001b[0m in \u001b[0;36m_construct_doc\u001b[0;34m(self, docdict, shapes_vals)\u001b[0m\n\u001b[1;32m    730\u001b[0m                 \u001b[0mself\u001b[0m\u001b[0;34m.\u001b[0m\u001b[0m__doc__\u001b[0m \u001b[0;34m=\u001b[0m \u001b[0mself\u001b[0m\u001b[0;34m.\u001b[0m\u001b[0m__doc__\u001b[0m\u001b[0;34m.\u001b[0m\u001b[0mreplace\u001b[0m\u001b[0;34m(\u001b[0m\u001b[0;34m\"%(shapes)s, \"\u001b[0m\u001b[0;34m,\u001b[0m \u001b[0;34m\"\"\u001b[0m\u001b[0;34m)\u001b[0m\u001b[0;34m\u001b[0m\u001b[0;34m\u001b[0m\u001b[0m\n\u001b[1;32m    731\u001b[0m             \u001b[0;32mtry\u001b[0m\u001b[0;34m:\u001b[0m\u001b[0;34m\u001b[0m\u001b[0;34m\u001b[0m\u001b[0m\n\u001b[0;32m--> 732\u001b[0;31m                 \u001b[0mself\u001b[0m\u001b[0;34m.\u001b[0m\u001b[0m__doc__\u001b[0m \u001b[0;34m=\u001b[0m \u001b[0mdoccer\u001b[0m\u001b[0;34m.\u001b[0m\u001b[0mdocformat\u001b[0m\u001b[0;34m(\u001b[0m\u001b[0mself\u001b[0m\u001b[0;34m.\u001b[0m\u001b[0m__doc__\u001b[0m\u001b[0;34m,\u001b[0m \u001b[0mtempdict\u001b[0m\u001b[0;34m)\u001b[0m\u001b[0;34m\u001b[0m\u001b[0;34m\u001b[0m\u001b[0m\n\u001b[0m\u001b[1;32m    733\u001b[0m             \u001b[0;32mexcept\u001b[0m \u001b[0mTypeError\u001b[0m \u001b[0;32mas\u001b[0m \u001b[0me\u001b[0m\u001b[0;34m:\u001b[0m\u001b[0;34m\u001b[0m\u001b[0;34m\u001b[0m\u001b[0m\n\u001b[1;32m    734\u001b[0m                 \u001b[0;32mraise\u001b[0m \u001b[0mException\u001b[0m\u001b[0;34m(\u001b[0m\u001b[0;34m\"Unable to construct docstring for distribution \\\"%s\\\": %s\"\u001b[0m \u001b[0;34m%\u001b[0m \u001b[0;34m(\u001b[0m\u001b[0mself\u001b[0m\u001b[0;34m.\u001b[0m\u001b[0mname\u001b[0m\u001b[0;34m,\u001b[0m \u001b[0mrepr\u001b[0m\u001b[0;34m(\u001b[0m\u001b[0me\u001b[0m\u001b[0;34m)\u001b[0m\u001b[0;34m)\u001b[0m\u001b[0;34m)\u001b[0m\u001b[0;34m\u001b[0m\u001b[0;34m\u001b[0m\u001b[0m\n",
      "\u001b[0;32m/usr/local/lib/python3.7/site-packages/scipy/_lib/doccer.py\u001b[0m in \u001b[0;36mdocformat\u001b[0;34m(docstring, docdict)\u001b[0m\n\u001b[1;32m     58\u001b[0m     \u001b[0mindented\u001b[0m \u001b[0;34m=\u001b[0m \u001b[0;34m{\u001b[0m\u001b[0;34m}\u001b[0m\u001b[0;34m\u001b[0m\u001b[0;34m\u001b[0m\u001b[0m\n\u001b[1;32m     59\u001b[0m     \u001b[0;32mfor\u001b[0m \u001b[0mname\u001b[0m\u001b[0;34m,\u001b[0m \u001b[0mdstr\u001b[0m \u001b[0;32min\u001b[0m \u001b[0mdocdict\u001b[0m\u001b[0;34m.\u001b[0m\u001b[0mitems\u001b[0m\u001b[0;34m(\u001b[0m\u001b[0;34m)\u001b[0m\u001b[0;34m:\u001b[0m\u001b[0;34m\u001b[0m\u001b[0;34m\u001b[0m\u001b[0m\n\u001b[0;32m---> 60\u001b[0;31m         \u001b[0mlines\u001b[0m \u001b[0;34m=\u001b[0m \u001b[0mdstr\u001b[0m\u001b[0;34m.\u001b[0m\u001b[0mexpandtabs\u001b[0m\u001b[0;34m(\u001b[0m\u001b[0;34m)\u001b[0m\u001b[0;34m.\u001b[0m\u001b[0msplitlines\u001b[0m\u001b[0;34m(\u001b[0m\u001b[0;34m)\u001b[0m\u001b[0;34m\u001b[0m\u001b[0;34m\u001b[0m\u001b[0m\n\u001b[0m\u001b[1;32m     61\u001b[0m         \u001b[0;32mtry\u001b[0m\u001b[0;34m:\u001b[0m\u001b[0;34m\u001b[0m\u001b[0;34m\u001b[0m\u001b[0m\n\u001b[1;32m     62\u001b[0m             \u001b[0mnewlines\u001b[0m \u001b[0;34m=\u001b[0m \u001b[0;34m[\u001b[0m\u001b[0mlines\u001b[0m\u001b[0;34m[\u001b[0m\u001b[0;36m0\u001b[0m\u001b[0;34m]\u001b[0m\u001b[0;34m]\u001b[0m\u001b[0;34m\u001b[0m\u001b[0;34m\u001b[0m\u001b[0m\n",
      "\u001b[0;31mKeyboardInterrupt\u001b[0m: "
     ]
    }
   ],
   "source": [
    "stellar_sample_size = len(stellar)\n",
    "stellar_sample = [row for row in stellar.sample(n=stellar_sample_size).itertuples()]\n",
    "OccurrenceABCSampler = ABCSampler(OccurrencePrior(), occurrence_candidate_getter, occurrence_distance, occurrence_statistic)\n",
    "abc_f_full = OccurrenceABCSampler.sample(kois_abc, threshold=1e-5)"
   ]
  },
  {
   "cell_type": "markdown",
   "metadata": {},
   "source": [
    "impact parameter > 1: either a FP, or on the edge of the star. The transiting object has to be big, and often that's actually a star."
   ]
  },
  {
   "cell_type": "code",
   "execution_count": 587,
   "metadata": {},
   "outputs": [
    {
     "data": {
      "application/vnd.jupyter.widget-view+json": {
       "model_id": "7c84bd18aa45474abb6b8e8b2234683b",
       "version_major": 2,
       "version_minor": 0
      },
      "text/plain": [
       "HBox(children=(FloatProgress(value=1.0, bar_style='info', max=1.0), HTML(value='')))"
      ]
     },
     "metadata": {},
     "output_type": "display_data"
    },
    {
     "name": "stdout",
     "output_type": "stream",
     "text": [
      "\n"
     ]
    },
    {
     "ename": "ValueError",
     "evalue": "m has more than 2 dimensions",
     "output_type": "error",
     "traceback": [
      "\u001b[0;31m---------------------------------------------------------------------------\u001b[0m",
      "\u001b[0;31mValueError\u001b[0m                                Traceback (most recent call last)",
      "\u001b[0;32m<ipython-input-587-65c2584356df>\u001b[0m in \u001b[0;36m<module>\u001b[0;34m\u001b[0m\n\u001b[0;32m----> 1\u001b[0;31m \u001b[0mabc_pmc_f\u001b[0m \u001b[0;34m=\u001b[0m \u001b[0mOccurrenceABCSampler\u001b[0m\u001b[0;34m.\u001b[0m\u001b[0msample_pmc\u001b[0m\u001b[0;34m(\u001b[0m\u001b[0mkois_abc\u001b[0m\u001b[0;34m,\u001b[0m \u001b[0;34m[\u001b[0m\u001b[0;36m1e-2\u001b[0m\u001b[0;34m,\u001b[0m \u001b[0;36m1e-3\u001b[0m\u001b[0;34m,\u001b[0m \u001b[0;36m1e-4\u001b[0m\u001b[0;34m,\u001b[0m \u001b[0;36m1e-5\u001b[0m\u001b[0;34m,\u001b[0m \u001b[0;36m1e-6\u001b[0m\u001b[0;34m]\u001b[0m\u001b[0;34m,\u001b[0m \u001b[0;36m1\u001b[0m\u001b[0;34m)\u001b[0m\u001b[0;34m\u001b[0m\u001b[0;34m\u001b[0m\u001b[0m\n\u001b[0m",
      "\u001b[0;32m~/projects/pals/occurrence-rates/dev/utils/abc.py\u001b[0m in \u001b[0;36msample_pmc\u001b[0;34m(self, data, thresholds, num_walkers)\u001b[0m\n\u001b[1;32m     59\u001b[0m         \u001b[0mparams_matrix\u001b[0m \u001b[0;34m=\u001b[0m \u001b[0mnp\u001b[0m\u001b[0;34m.\u001b[0m\u001b[0marray\u001b[0m\u001b[0;34m(\u001b[0m\u001b[0;34m[\u001b[0m\u001b[0msampler\u001b[0m\u001b[0;34m(\u001b[0m\u001b[0mthreshold\u001b[0m\u001b[0;34m=\u001b[0m\u001b[0mthresholds\u001b[0m\u001b[0;34m[\u001b[0m\u001b[0;36m0\u001b[0m\u001b[0;34m]\u001b[0m\u001b[0;34m)\u001b[0m \u001b[0;32mfor\u001b[0m \u001b[0m_\u001b[0m \u001b[0;32min\u001b[0m \u001b[0mrange\u001b[0m\u001b[0;34m(\u001b[0m\u001b[0mnum_walkers\u001b[0m\u001b[0;34m)\u001b[0m\u001b[0;34m]\u001b[0m\u001b[0;34m)\u001b[0m\u001b[0;34m\u001b[0m\u001b[0;34m\u001b[0m\u001b[0m\n\u001b[1;32m     60\u001b[0m         \u001b[0mweights\u001b[0m \u001b[0;34m=\u001b[0m \u001b[0mnp\u001b[0m\u001b[0;34m.\u001b[0m\u001b[0mones\u001b[0m\u001b[0;34m(\u001b[0m\u001b[0;34m(\u001b[0m\u001b[0mnum_walkers\u001b[0m\u001b[0;34m,\u001b[0m\u001b[0;34m)\u001b[0m\u001b[0;34m)\u001b[0m \u001b[0;34m/\u001b[0m \u001b[0mnum_walkers\u001b[0m\u001b[0;34m\u001b[0m\u001b[0;34m\u001b[0m\u001b[0m\n\u001b[0;32m---> 61\u001b[0;31m         \u001b[0mtau\u001b[0m \u001b[0;34m=\u001b[0m \u001b[0;36m2\u001b[0m \u001b[0;34m*\u001b[0m \u001b[0mnp\u001b[0m\u001b[0;34m.\u001b[0m\u001b[0mcov\u001b[0m\u001b[0;34m(\u001b[0m\u001b[0mparams_matrix\u001b[0m\u001b[0;34m.\u001b[0m\u001b[0mT\u001b[0m\u001b[0;34m)\u001b[0m\u001b[0;34m\u001b[0m\u001b[0;34m\u001b[0m\u001b[0m\n\u001b[0m\u001b[1;32m     62\u001b[0m         \u001b[0;32mfor\u001b[0m \u001b[0mthresh\u001b[0m \u001b[0;32min\u001b[0m \u001b[0mthresholds\u001b[0m\u001b[0;34m[\u001b[0m\u001b[0;36m1\u001b[0m\u001b[0;34m:\u001b[0m\u001b[0;34m]\u001b[0m\u001b[0;34m:\u001b[0m\u001b[0;34m\u001b[0m\u001b[0;34m\u001b[0m\u001b[0m\n\u001b[1;32m     63\u001b[0m             \u001b[0mnew_params_matrix\u001b[0m \u001b[0;34m=\u001b[0m \u001b[0mnp\u001b[0m\u001b[0;34m.\u001b[0m\u001b[0mempty_like\u001b[0m\u001b[0;34m(\u001b[0m\u001b[0mparams_matrix\u001b[0m\u001b[0;34m)\u001b[0m\u001b[0;34m\u001b[0m\u001b[0;34m\u001b[0m\u001b[0m\n",
      "\u001b[0;32m/usr/local/lib/python3.7/site-packages/numpy/lib/function_base.py\u001b[0m in \u001b[0;36mcov\u001b[0;34m(m, y, rowvar, bias, ddof, fweights, aweights)\u001b[0m\n\u001b[1;32m   2365\u001b[0m     \u001b[0mm\u001b[0m \u001b[0;34m=\u001b[0m \u001b[0mnp\u001b[0m\u001b[0;34m.\u001b[0m\u001b[0masarray\u001b[0m\u001b[0;34m(\u001b[0m\u001b[0mm\u001b[0m\u001b[0;34m)\u001b[0m\u001b[0;34m\u001b[0m\u001b[0;34m\u001b[0m\u001b[0m\n\u001b[1;32m   2366\u001b[0m     \u001b[0;32mif\u001b[0m \u001b[0mm\u001b[0m\u001b[0;34m.\u001b[0m\u001b[0mndim\u001b[0m \u001b[0;34m>\u001b[0m \u001b[0;36m2\u001b[0m\u001b[0;34m:\u001b[0m\u001b[0;34m\u001b[0m\u001b[0;34m\u001b[0m\u001b[0m\n\u001b[0;32m-> 2367\u001b[0;31m         \u001b[0;32mraise\u001b[0m \u001b[0mValueError\u001b[0m\u001b[0;34m(\u001b[0m\u001b[0;34m\"m has more than 2 dimensions\"\u001b[0m\u001b[0;34m)\u001b[0m\u001b[0;34m\u001b[0m\u001b[0;34m\u001b[0m\u001b[0m\n\u001b[0m\u001b[1;32m   2368\u001b[0m \u001b[0;34m\u001b[0m\u001b[0m\n\u001b[1;32m   2369\u001b[0m     \u001b[0;32mif\u001b[0m \u001b[0my\u001b[0m \u001b[0;32mis\u001b[0m \u001b[0;32mNone\u001b[0m\u001b[0;34m:\u001b[0m\u001b[0;34m\u001b[0m\u001b[0;34m\u001b[0m\u001b[0m\n",
      "\u001b[0;31mValueError\u001b[0m: m has more than 2 dimensions"
     ]
    }
   ],
   "source": [
    "abc_pmc_f = OccurrenceABCSampler.sample_pmc(kois_abc, [1e-2, 1e-3, 1e-4, 1e-5, 1e-6], 1)"
   ]
  },
  {
   "cell_type": "code",
   "execution_count": 605,
   "metadata": {},
   "outputs": [
    {
     "name": "stdout",
     "output_type": "stream",
     "text": [
      "3.345100551155165e-09\n"
     ]
    }
   ],
   "source": [
    "eps = -1e-8\n",
    "i = 10\n",
    "p = combined['koi_period'][i]\n",
    "r = combined['koi_prad'][i]\n",
    "rstar = combined['radius'][i]\n",
    "ror = r / rstar * 0.009158\n",
    "d = ror ** 2\n",
    "b = combined['koi_impact'][i]\n",
    "cosincl = np.cos(combined['koi_incl'][i] * np.pi / 180)\n",
    "ecc = stats.rayleigh(scale=0.03).rvs() * 0\n",
    "aor = get_a(p, combined['mass'][i]) / rstar\n",
    "tau0 = p * b / (2 * np.pi * cosincl * np.sqrt(1 - ecc ** 2)) * 1 / (aor ** 2)\n",
    "T = 2 * tau0 * np.sqrt(1 - b ** 2)\n",
    "D = (p / np.pi) * np.arcsin(np.sqrt((1 + p / rstar) ** 2 - b ** 2) / aor)\n",
    "tau0 = p * b / (2 * np.pi * cosincl * np.sqrt(1 - ecc ** 2)) * 1 / (aor ** 2)\n",
    "T = 2 * tau0 * np.sqrt(1 - b ** 2)\n",
    "tau = 2 * tau0 * r / np.sqrt(1 - b ** 2)\n",
    "f0 = 1\n",
    "texp = 1765.5 / 60 / 60 / 24 # s to days\n",
    "gamma = 1 / eps # inverse s to inverse days\n",
    "sigma = 1 # 'model uncertainty'\n",
    "price_uncertainty_params = [d, T, tau, f0, texp, p, gamma, sigma]\n",
    "print(price_rogers_2014_binned.prVarDelta(*price_uncertainty_params))"
   ]
  },
  {
   "cell_type": "code",
   "execution_count": 601,
   "metadata": {},
   "outputs": [
    {
     "name": "stdout",
     "output_type": "stream",
     "text": [
      "47.9035211 2.56 1.3319999999999999 0.1875 0.0008726645152351565 0.0\n"
     ]
    }
   ],
   "source": [
    "print(p, r, rstar, b, cosincl, ecc)"
   ]
  },
  {
   "cell_type": "code",
   "execution_count": 357,
   "metadata": {},
   "outputs": [
    {
     "data": {
      "text/plain": [
       "178"
      ]
     },
     "execution_count": 357,
     "metadata": {},
     "output_type": "execute_result"
    }
   ],
   "source": [
    "bad_kepids = np.load('./bad_kepids.npy')\n",
    "len(set(bad_kepids) & set(kois.kepid))"
   ]
  }
 ],
 "metadata": {
  "kernelspec": {
   "display_name": "Python 3",
   "language": "python",
   "name": "python3"
  },
  "language_info": {
   "codemirror_mode": {
    "name": "ipython",
    "version": 3
   },
   "file_extension": ".py",
   "mimetype": "text/x-python",
   "name": "python",
   "nbconvert_exporter": "python",
   "pygments_lexer": "ipython3",
   "version": "3.7.7"
  }
 },
 "nbformat": 4,
 "nbformat_minor": 2
}
